{
 "cells": [
  {
   "cell_type": "code",
   "execution_count": 101,
   "id": "c2fc8474-c6e0-49ab-8975-12e087ce7928",
   "metadata": {},
   "outputs": [],
   "source": [
    "import tifffile\n",
    "import numpy as np\n",
    "import matplotlib.pyplot as plt\n",
    "from glob import glob\n",
    "from PIL import Image\n",
    "from natsort import natsorted\n",
    "from skimage.transform import resize\n",
    "from tqdm.auto import tqdm\n",
    "from skimage.measure import label\n",
    "import tifffile"
   ]
  },
  {
   "cell_type": "code",
   "execution_count": 182,
   "id": "be1245d0-7977-425f-a2c8-30889fcd4dac",
   "metadata": {},
   "outputs": [],
   "source": [
    "mask_dirs = natsorted(glob(\"masks/*\"))[:1000]\n",
    "image_dirs = natsorted(glob(\"convolutions/*\"))[:1000]"
   ]
  },
  {
   "cell_type": "code",
   "execution_count": 191,
   "id": "68a8e2a5-fcc8-495c-928e-b5120a5cc04f",
   "metadata": {},
   "outputs": [],
   "source": [
    "n_in_tile = 25\n",
    "tile_width = int(np.sqrt(n_in_tile))\n",
    "grid_shape = (tile_width, tile_width)"
   ]
  },
  {
   "cell_type": "code",
   "execution_count": 192,
   "id": "a745ed9e-3827-4380-b9c0-0eed6e4d71a4",
   "metadata": {},
   "outputs": [],
   "source": [
    "mask_tuples = [tuple(mask_dirs[i:i+n_in_tile]) for i in range(0, len(mask_dirs), n_in_tile)]\n",
    "img_tuples = [tuple(image_dirs[i:i+n_in_tile]) for i in range(0, len(image_dirs), n_in_tile)]"
   ]
  },
  {
   "cell_type": "code",
   "execution_count": 193,
   "id": "de4f7b1b-a8ac-469c-8ce8-5164140b2445",
   "metadata": {
    "scrolled": true
   },
   "outputs": [],
   "source": [
    "mask_tuple = mask_tuples[0]\n",
    "masks = [np.array(Image.open(dir_)) for dir_ in mask_tuple]"
   ]
  },
  {
   "cell_type": "code",
   "execution_count": 194,
   "id": "c39b00b9-ee06-47e2-97f3-7d1a68530ec0",
   "metadata": {},
   "outputs": [],
   "source": [
    "arrays = [np.array(Image.open(dir_)) for dir_ in mask_tuple]\n",
    "array_grid = np.array(arrays).reshape(grid_shape + arrays[0].shape)\n",
    "result = np.block([[array_grid[i, j] for j in range(grid_shape[1])] for i in range(grid_shape[0])])"
   ]
  },
  {
   "cell_type": "code",
   "execution_count": 195,
   "id": "3693f4f8-8ba6-40b2-a3be-1e95df2fe866",
   "metadata": {},
   "outputs": [
    {
     "data": {
      "application/vnd.jupyter.widget-view+json": {
       "model_id": "ac3c979875db436e9dd049408a7367db",
       "version_major": 2,
       "version_minor": 0
      },
      "text/plain": [
       "  0%|          | 0/40 [00:00<?, ?it/s]"
      ]
     },
     "metadata": {},
     "output_type": "display_data"
    }
   ],
   "source": [
    "for i, (mask_tuple, img_tuple) in enumerate(zip(tqdm(mask_tuples), img_tuples)):\n",
    "\n",
    "    arrays = [np.array(Image.open(dir_)) for dir_ in mask_tuple]\n",
    "    array_grid = np.array(arrays).reshape(grid_shape + arrays[0].shape)\n",
    "    result = np.block([[array_grid[i, j] for j in range(grid_shape[1])] for i in range(grid_shape[0])])\n",
    "    result = label(result).astype(np.uint16)\n",
    "    Image.fromarray(result).save(f\"omnipose_td/{str(i).zfill(4)}_masks.png\")\n",
    "    Image.fromarray(result).save(f\"omnipose_td_pretrained/{str(i).zfill(4)}_masks.png\")\n",
    "\n",
    "    arrays = [np.array(Image.open(dir_)) for dir_ in img_tuple]\n",
    "    array_grid = np.array(arrays).reshape(grid_shape + arrays[0].shape)\n",
    "    result = np.block([[array_grid[i, j] for j in range(grid_shape[1])] for i in range(grid_shape[0])])\n",
    "    Image.fromarray(result).save(f\"omnipose_td/{str(i).zfill(4)}.png\")\n",
    "    Image.fromarray(result).save(f\"omnipose_td_pretrained/{str(i).zfill(4)}.png\")"
   ]
  }
 ],
 "metadata": {
  "kernelspec": {
   "display_name": "Python [conda env:symbac]",
   "language": "python",
   "name": "conda-env-symbac-py"
  },
  "language_info": {
   "codemirror_mode": {
    "name": "ipython",
    "version": 3
   },
   "file_extension": ".py",
   "mimetype": "text/x-python",
   "name": "python",
   "nbconvert_exporter": "python",
   "pygments_lexer": "ipython3",
   "version": "3.10.9"
  }
 },
 "nbformat": 4,
 "nbformat_minor": 5
}
