{
 "cells": [
  {
   "cell_type": "code",
   "execution_count": 1,
   "id": "b061a395-6612-441e-88d6-f46fae95e8a0",
   "metadata": {},
   "outputs": [
    {
     "name": "stdout",
     "output_type": "stream",
     "text": [
      "2024-04-29 12:04:52,913 [INFO] ** TORCH GPU version installed and working. **\n",
      ">>> GPU activated? True\n"
     ]
    },
    {
     "name": "stderr",
     "output_type": "stream",
     "text": [
      "/home/gh464/miniconda3/envs/omnipose_2024/lib/python3.10/site-packages/tqdm/auto.py:21: TqdmWarning: IProgress not found. Please update jupyter and ipywidgets. See https://ipywidgets.readthedocs.io/en/stable/user_install.html\n",
      "  from .autonotebook import tqdm as notebook_tqdm\n"
     ]
    }
   ],
   "source": [
    "import os\n",
    "os.environ[\"CUDA_VISIBLE_DEVICES\"] = \"1\"\n",
    "# Import dependencies\n",
    "import numpy as np\n",
    "from cellpose_omni import models, core\n",
    "\n",
    "# This checks to see if you have set up your GPU properly.\n",
    "# CPU performance is a lot slower, but not a problem if you \n",
    "# are only processing a few images.\n",
    "use_GPU = core.use_gpu()\n",
    "print('>>> GPU activated? {}'.format(use_GPU))\n",
    "\n",
    "# for plotting\n",
    "import matplotlib as mpl\n",
    "import matplotlib.pyplot as plt\n",
    "#mpl.rcParams['figure.dpi'] = 300\n",
    "#plt.style.use('dark_background')\n",
    "%matplotlib inline"
   ]
  },
  {
   "cell_type": "code",
   "execution_count": 2,
   "id": "8e75ea51-2773-48e0-aead-f8cd12471809",
   "metadata": {},
   "outputs": [],
   "source": [
    "import tifffile"
   ]
  },
  {
   "cell_type": "code",
   "execution_count": 3,
   "id": "d3e63006-adaa-485e-85f9-48cbca524a90",
   "metadata": {},
   "outputs": [],
   "source": [
    "to_segment = tifffile.imread(\"to_segment/FL-3.tif\")"
   ]
  },
  {
   "cell_type": "code",
   "execution_count": 4,
   "id": "5f55c29e-84f6-4459-ab2a-ffc6e869aed2",
   "metadata": {
    "scrolled": true
   },
   "outputs": [],
   "source": [
    "from cellpose_omni import io, transforms\n",
    "from omnipose.utils import normalize99\n",
    "imgs = [fov for fov in to_segment]\n",
    "\n",
    "\n",
    "nimg = len(imgs)\n",
    "\n",
    "for k in range(len(imgs)):\n",
    "    img = transforms.move_min_dim(imgs[k]) # move the channel dimension last\n",
    "    if len(img.shape)>2:\n",
    "        # imgs[k] = img[:,:,1] # could pick out a specific channel\n",
    "        imgs[k] = np.mean(img,axis=-1) # or just turn into grayscale \n",
    "        \n",
    "    imgs[k] = normalize99(imgs[k])\n",
    "    # imgs[k] = np.pad(imgs[k],10,'edge')\n"
   ]
  },
  {
   "cell_type": "code",
   "execution_count": 5,
   "id": "065cc082-e24a-4c7b-9586-452716e29cc6",
   "metadata": {},
   "outputs": [
    {
     "data": {
      "text/plain": [
       "['bact_phase_omni',\n",
       " 'bact_fluor_omni',\n",
       " 'worm_omni',\n",
       " 'worm_bact_omni',\n",
       " 'worm_high_res_omni',\n",
       " 'cyto2_omni',\n",
       " 'plant_omni',\n",
       " 'bact_phase_cp',\n",
       " 'bact_fluor_cp',\n",
       " 'plant_cp',\n",
       " 'worm_cp',\n",
       " 'cyto',\n",
       " 'nuclei',\n",
       " 'cyto2']"
      ]
     },
     "execution_count": 5,
     "metadata": {},
     "output_type": "execute_result"
    }
   ],
   "source": [
    "import cellpose_omni\n",
    "from cellpose_omni import models\n",
    "from cellpose_omni.models import MODEL_NAMES\n",
    "\n",
    "MODEL_NAMES"
   ]
  },
  {
   "cell_type": "code",
   "execution_count": 6,
   "id": "6340be43-263b-4052-8d77-1541adc2036f",
   "metadata": {},
   "outputs": [
    {
     "name": "stdout",
     "output_type": "stream",
     "text": [
      "2024-04-29 12:04:53,066 [INFO] >>bact_fluor_omni<< model set to be used\n",
      "2024-04-29 12:04:53,066 [INFO] ** TORCH GPU version installed and working. **\n",
      "2024-04-29 12:04:53,066 [INFO] >>>> using GPU\n"
     ]
    }
   ],
   "source": [
    "model_name = 'bact_fluor_omni'\n",
    "model = models.CellposeModel(gpu=use_GPU, model_type=model_name)"
   ]
  },
  {
   "cell_type": "code",
   "execution_count": 7,
   "id": "749104d9-5131-48cb-9d72-55644f4283a6",
   "metadata": {},
   "outputs": [
    {
     "name": "stdout",
     "output_type": "stream",
     "text": [
      "2024-04-29 12:04:53,181 [INFO] 0%|          | 0/12 [00:00<?, ?it/s]\n",
      "2024-04-29 12:04:53,916 [INFO] 8%|8         | 1/12 [00:00<00:08,  1.36it/s]\n",
      "2024-04-29 12:04:54,811 [INFO] 17%|#6        | 2/12 [00:01<00:08,  1.21it/s]\n",
      "2024-04-29 12:04:55,499 [INFO] 25%|##5       | 3/12 [00:02<00:06,  1.31it/s]\n",
      "2024-04-29 12:04:56,104 [INFO] 33%|###3      | 4/12 [00:02<00:05,  1.43it/s]\n",
      "2024-04-29 12:04:56,779 [INFO] 42%|####1     | 5/12 [00:03<00:04,  1.45it/s]\n",
      "2024-04-29 12:04:57,610 [INFO] 50%|#####     | 6/12 [00:04<00:04,  1.35it/s]\n",
      "2024-04-29 12:04:58,456 [INFO] 58%|#####8    | 7/12 [00:05<00:03,  1.29it/s]\n",
      "2024-04-29 12:04:59,220 [INFO] 67%|######6   | 8/12 [00:06<00:03,  1.30it/s]\n",
      "2024-04-29 12:04:59,854 [INFO] 75%|#######5  | 9/12 [00:06<00:02,  1.37it/s]\n",
      "2024-04-29 12:05:00,669 [INFO] 83%|########3 | 10/12 [00:07<00:01,  1.32it/s]\n",
      "2024-04-29 12:05:01,382 [INFO] 92%|#########1| 11/12 [00:08<00:00,  1.35it/s]\n",
      "2024-04-29 12:05:01,922 [INFO] 100%|##########| 12/12 [00:08<00:00,  1.47it/s]\n",
      "2024-04-29 12:05:01,923 [INFO] 100%|##########| 12/12 [00:08<00:00,  1.37it/s]\n",
      "total segmentation time: 8.743128538131714s\n"
     ]
    }
   ],
   "source": [
    "import time\n",
    "chans = [0,0] #this means segment based on first channel, no second channel \n",
    "\n",
    "n = [-1] # make a list of integers to select which images you want to segment\n",
    "n = range(nimg) # or just segment them all \n",
    "\n",
    "# define parameters\n",
    "params = {'channels':chans, # always define this with the model\n",
    "          'rescale': None, # upscale or downscale your images, None = no rescaling \n",
    "          'mask_threshold': -1, # erode or dilate masks with higher or lower values \n",
    "          'flow_threshold': 0, # default is .4, but only needed if there are spurious masks to clean up; slows down output\n",
    "          'transparency': True, # transparency in flow output\n",
    "          'omni': True, # we can turn off Omnipose mask reconstruction, not advised \n",
    "          'cluster': True, # use DBSCAN clustering\n",
    "          'resample': True, # whether or not to run dynamics on rescaled grid or original grid \n",
    "          'verbose': False, # turn on if you want to see more output \n",
    "          'tile': False, # average the outputs from flipped (augmented) images; slower, usually not needed \n",
    "          'niter': 7, # None lets Omnipose calculate # of Euler iterations (usually <20) but you can tune it for over/under segmentation \n",
    "          'augment': False, # Can optionally rotate the image and average outputs, usually not needed \n",
    "          'affinity_seg': False, # new feature, stay tuned...\n",
    "         }\n",
    "\n",
    "tic = time.time() \n",
    "masks, flows, styles = model.eval([imgs[i] for i in n],**params)\n",
    "\n",
    "net_time = time.time() - tic\n",
    "\n",
    "print('total segmentation time: {}s'.format(net_time))"
   ]
  },
  {
   "cell_type": "code",
   "execution_count": 8,
   "id": "14c3d2e4-b95f-4dd5-9af3-200db3872fdf",
   "metadata": {},
   "outputs": [],
   "source": [
    "tifffile.imwrite(\"segmented/bact_fluor_omni.tif\", np.array(masks))"
   ]
  },
  {
   "cell_type": "code",
   "execution_count": 9,
   "id": "39e87673-1c9c-4fed-addb-1f32cea4582a",
   "metadata": {},
   "outputs": [],
   "source": [
    "from skimage.morphology import binary_dilation\n",
    "from tqdm.auto import tqdm\n",
    "from skimage.measure import regionprops_table\n",
    "from skimage.transform import rotate\n",
    "from skimage.measure import label\n",
    "from joblib import Parallel, delayed\n",
    "from skimage.segmentation import clear_border \n",
    "\n",
    "def crop_single_cell(single_cell):\n",
    "    true_y, true_x = np.where(single_cell)\n",
    "    \n",
    "    # Determine the bounding box coordinates\n",
    "    min_x, max_x = true_x.min(), true_x.max()\n",
    "    min_y, max_y = true_y.min(), true_y.max()\n",
    "    \n",
    "    # Crop the array to the bounding box around the mask\n",
    "    cropped_single_cell = single_cell[min_y:max_y+1, min_x:max_x+1]\n",
    "    return np.pad(cropped_single_cell, 1)"
   ]
  },
  {
   "cell_type": "code",
   "execution_count": 10,
   "id": "def0139e-3e1d-48ca-a68c-26402008b9ae",
   "metadata": {},
   "outputs": [],
   "source": [
    "def get_single_cell_labels(mask):\n",
    "    single_cell_labels = []\n",
    "    mask = clear_border(mask)\n",
    "    mask_labels = np.unique(mask)[1:]\n",
    "    for mask_label in (mask_labels):\n",
    "        dilated_mask = binary_dilation(mask == mask_label)\n",
    "        if len(np.unique(dilated_mask * mask)) == 2:\n",
    "            single_cell_labels.append(mask_label)\n",
    "        else:\n",
    "            #group_cell_sizes.append(\n",
    "            #    np.sum(mask == mask_label)\n",
    "            #)\n",
    "            pass\n",
    "    return single_cell_labels\n",
    "    \n"
   ]
  },
  {
   "cell_type": "code",
   "execution_count": 11,
   "id": "01af838b-3a55-43ca-becd-babc59e91167",
   "metadata": {},
   "outputs": [],
   "source": [
    "def get_single_cell_widths(mask):\n",
    "    single_cell_labels = get_single_cell_labels(mask)\n",
    "\n",
    "    widths = []\n",
    "    for mask_label in single_cell_labels:\n",
    "        cropped_single_cell = crop_single_cell(mask ==  mask_label) #* 1\n",
    "        if cropped_single_cell.sum() > 25:\n",
    "            cell_angle = regionprops_table(label(cropped_single_cell), properties = [\"orientation\"])[\"orientation\"][0]\n",
    "            rotation_widths = []\n",
    "            for rotation_angle in range(361):\n",
    "                rotated_cell = rotate(cropped_single_cell, rotation_angle, resize=True, order = 0)\n",
    "                width = rotated_cell[rotated_cell.shape[0]//2-3:rotated_cell.shape[0]//2+3].mean(axis=0).sum()\n",
    "                rotation_widths.append(width)\n",
    "            widths.append(np.min(rotation_widths))\n",
    "    return widths"
   ]
  },
  {
   "cell_type": "code",
   "execution_count": 31,
   "id": "e4e792ac-179b-433e-ac7d-4fb37a435380",
   "metadata": {},
   "outputs": [
    {
     "ename": "AttributeError",
     "evalue": "'list' object has no attribute 'shape'",
     "output_type": "error",
     "traceback": [
      "\u001b[0;31m---------------------------------------------------------------------------\u001b[0m",
      "\u001b[0;31mAttributeError\u001b[0m                            Traceback (most recent call last)",
      "Cell \u001b[0;32mIn[31], line 1\u001b[0m\n\u001b[0;32m----> 1\u001b[0m \u001b[43mmasks\u001b[49m\u001b[38;5;241;43m.\u001b[39;49m\u001b[43mshape\u001b[49m\n",
      "\u001b[0;31mAttributeError\u001b[0m: 'list' object has no attribute 'shape'"
     ]
    }
   ],
   "source": [
    "masks"
   ]
  },
  {
   "cell_type": "code",
   "execution_count": 12,
   "id": "2d1f217c-e8a6-42bc-a3fe-9f1ae1ea2232",
   "metadata": {},
   "outputs": [
    {
     "name": "stderr",
     "output_type": "stream",
     "text": [
      "100%|████████████████████████████████████████████████████████████████████████████████████████████████████████████████████████████████████████████████████████| 12/12 [00:00<00:00, 753.96it/s]\n"
     ]
    }
   ],
   "source": [
    "\n",
    "widths = Parallel(n_jobs=-1)(delayed(get_single_cell_widths)(mask) for mask in tqdm(masks))"
   ]
  },
  {
   "cell_type": "code",
   "execution_count": 13,
   "id": "4d2cf670-0419-45b4-832b-83af62675cab",
   "metadata": {},
   "outputs": [],
   "source": [
    "widths = [x for width in widths for x in width]"
   ]
  },
  {
   "cell_type": "code",
   "execution_count": 19,
   "id": "8862e128-51ef-4522-b398-099c9ad5d3f5",
   "metadata": {},
   "outputs": [],
   "source": [
    "widths = np.array(widths)*0.11"
   ]
  },
  {
   "cell_type": "code",
   "execution_count": 25,
   "id": "33077b2a-a6b5-4b5b-8518-638c08284704",
   "metadata": {
    "scrolled": true
   },
   "outputs": [],
   "source": [
    "widths_cropped= widths[np.argwhere(widths < 1.7)]"
   ]
  },
  {
   "cell_type": "code",
   "execution_count": 26,
   "id": "58979576-daaa-497a-a864-9387e911f29c",
   "metadata": {},
   "outputs": [
    {
     "data": {
      "text/plain": [
       "0.12000726251171448"
      ]
     },
     "execution_count": 26,
     "metadata": {},
     "output_type": "execute_result"
    }
   ],
   "source": [
    "np.std(widths_cropped)"
   ]
  },
  {
   "cell_type": "code",
   "execution_count": 27,
   "id": "6dea7421-c3a9-41be-97e7-48cbe181be43",
   "metadata": {},
   "outputs": [
    {
     "data": {
      "image/png": "[encoded data removed]",
      "text/plain": [
       "<Figure size 640x480 with 1 Axes>"
      ]
     },
     "metadata": {},
     "output_type": "display_data"
    }
   ],
   "source": [
    "plt.hist(widths_cropped, bins = 20)\n",
    "plt.show()"
   ]
  },
  {
   "cell_type": "code",
   "execution_count": 28,
   "id": "f22e56a6-466b-4a93-b88c-65a7413c5121",
   "metadata": {},
   "outputs": [
    {
     "data": {
      "text/plain": [
       "1.2335481481481483"
      ]
     },
     "execution_count": 28,
     "metadata": {},
     "output_type": "execute_result"
    }
   ],
   "source": [
    "np.mean(widths)"
   ]
  },
  {
   "cell_type": "code",
   "execution_count": 29,
   "id": "62ad6f30-949c-42a6-81fb-a4a54e7df50e",
   "metadata": {},
   "outputs": [
    {
     "data": {
      "text/plain": [
       "Text(0.5, 1.0, 'Default Omnipose')"
      ]
     },
     "execution_count": 29,
     "metadata": {},
     "output_type": "execute_result"
    },
    {
     "data": {
      "image/png": "[encoded data removed]",
      "text/plain": [
       "<Figure size 1000x1000 with 1 Axes>"
      ]
     },
     "metadata": {},
     "output_type": "display_data"
    }
   ],
   "source": [
    "from rand_cmap import rand_cmap\n",
    "plt.figure(figsize=(10,10))\n",
    "label_cmap = rand_cmap(100, type='bright', first_color_black=True, last_color_black=False, verbose=False)\n",
    "plt.imshow(masks[0], cmap = label_cmap, interpolation=\"nearest\")\n",
    "plt.title(\"Default Omnipose\")"
   ]
  },
  {
   "cell_type": "code",
   "execution_count": null,
   "id": "b30b4c88-8e67-4e3d-82eb-50217e2c83e1",
   "metadata": {},
   "outputs": [],
   "source": []
  },
  {
   "cell_type": "code",
   "execution_count": null,
   "id": "016d94e1-a7c8-4344-a0df-8e822db8ff94",
   "metadata": {},
   "outputs": [],
   "source": []
  }
 ],
 "metadata": {
  "kernelspec": {
   "display_name": "Python [conda env:omnipose_2024]",
   "language": "python",
   "name": "conda-env-omnipose_2024-py"
  },
  "language_info": {
   "codemirror_mode": {
    "name": "ipython",
    "version": 3
   },
   "file_extension": ".py",
   "mimetype": "text/x-python",
   "name": "python",
   "nbconvert_exporter": "python",
   "pygments_lexer": "ipython3",
   "version": "3.10.12"
  }
 },
 "nbformat": 4,
 "nbformat_minor": 5
}
