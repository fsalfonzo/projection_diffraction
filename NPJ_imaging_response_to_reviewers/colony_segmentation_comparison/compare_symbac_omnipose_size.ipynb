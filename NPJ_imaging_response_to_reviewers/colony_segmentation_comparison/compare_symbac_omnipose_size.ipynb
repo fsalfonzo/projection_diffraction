{
 "cells": [
  {
   "cell_type": "code",
   "execution_count": 2,
   "id": "75e9a698-61ba-4342-8704-fbd90ccfa85b",
   "metadata": {},
   "outputs": [],
   "source": [
    "from skimage.morphology import binary_dilation\n",
    "from tqdm.auto import tqdm\n",
    "from skimage.measure import regionprops_table\n",
    "from skimage.transform import rotate\n",
    "from skimage.measure import label\n",
    "from joblib import Parallel, delayed\n",
    "from skimage.segmentation import clear_border \n",
    "import tifffile\n",
    "import numpy as np\n",
    "import matplotlib.pyplot as plt\n",
    "\n",
    "def crop_single_cell(single_cell, img_to_crop):\n",
    "    true_y, true_x = np.where(single_cell)\n",
    "    \n",
    "    # Determine the bounding box coordinates\n",
    "    min_x, max_x = true_x.min(), true_x.max()\n",
    "    min_y, max_y = true_y.min(), true_y.max()\n",
    "    \n",
    "    # Crop the array to the bounding box around the mask\n",
    "    cropped_single_cell = img_to_crop[min_y:max_y+1, min_x:max_x+1]\n",
    "    return np.pad(cropped_single_cell, 1)"
   ]
  },
  {
   "cell_type": "code",
   "execution_count": 3,
   "id": "6c484e72-b702-4ba6-9041-1535caba0bae",
   "metadata": {},
   "outputs": [],
   "source": [
    "def get_single_cell_labels(mask):\n",
    "    single_cell_labels = []\n",
    "    mask = clear_border(mask)\n",
    "    mask_labels = np.unique(mask)[1:]\n",
    "    for mask_label in (mask_labels):\n",
    "        dilated_mask = binary_dilation(mask == mask_label)\n",
    "        if len(np.unique(dilated_mask * mask)) == 2:\n",
    "            single_cell_labels.append(mask_label)\n",
    "        else:\n",
    "            #group_cell_sizes.append(\n",
    "            #    np.sum(mask == mask_label)\n",
    "            #)\n",
    "            pass\n",
    "    return single_cell_labels\n",
    "    \n"
   ]
  },
  {
   "cell_type": "code",
   "execution_count": 46,
   "id": "be3564d8-84f7-49f0-8871-692ea2f435e7",
   "metadata": {},
   "outputs": [],
   "source": [
    "def get_single_cell_widths(mask):\n",
    "    single_cell_labels = get_single_cell_labels(mask)\n",
    "\n",
    "    widths = []\n",
    "    for mask_label in (single_cell_labels):\n",
    "        cropped_single_cell = crop_single_cell(mask ==  mask_label, mask ==  mask_label) > 0\n",
    "        if cropped_single_cell.sum() > 25:\n",
    "            regionprops = regionprops_table(label(cropped_single_cell), properties = [\"orientation\"])\n",
    "            cell_angle = regionprops[\"orientation\"][0]\n",
    "            rotation_widths = []\n",
    "            for rotation_angle in range(361):\n",
    "                rotated_cell = rotate(cropped_single_cell, rotation_angle, resize=True, order = 0)\n",
    "                width = rotated_cell[rotated_cell.shape[0]//2-3:rotated_cell.shape[0]//2+3].mean(axis=0).sum()\n",
    "                rotation_widths.append(width)\n",
    "            widths.append(np.min(rotation_widths))\n",
    "    return widths"
   ]
  },
  {
   "cell_type": "code",
   "execution_count": 35,
   "id": "d8d774eb-e918-4142-8f3b-cb823f39d380",
   "metadata": {},
   "outputs": [],
   "source": [
    "def get_all_cell_widths(mask):\n",
    "    cell_labels = np.unique(mask)[1:]\n",
    "\n",
    "    cell_data = []\n",
    "    \n",
    "    for mask_label in (cell_labels):\n",
    "        cropped_single_cell = crop_single_cell(mask ==  mask_label, mask ==  mask_label) > 0\n",
    "        if cropped_single_cell.sum() > 25:\n",
    "            regionprops = regionprops_table(label(cropped_single_cell), properties = [\"orientation\"])\n",
    "            cell_angle = regionprops[\"orientation\"][0]\n",
    "            rotation_widths = []\n",
    "            for rotation_angle in range(361):\n",
    "                rotated_cell = rotate(cropped_single_cell, rotation_angle, resize=True, order = 0)\n",
    "                width = rotated_cell[rotated_cell.shape[0]//2-3:rotated_cell.shape[0]//2+3].mean(axis=0).sum()\n",
    "                rotation_widths.append(width)\n",
    "            width = np.min(rotation_widths)\n",
    "            cell_data.append([width, mask_label])\n",
    "        \n",
    "    return cell_data"
   ]
  },
  {
   "cell_type": "code",
   "execution_count": 36,
   "id": "ebb2414d-31ed-4f9d-9b33-969eb20ad94d",
   "metadata": {},
   "outputs": [],
   "source": [
    "pix_mic_conv = 0.11"
   ]
  },
  {
   "cell_type": "code",
   "execution_count": 49,
   "id": "f08839f6-f7e8-4638-bf6f-fb1e6e87a20d",
   "metadata": {},
   "outputs": [],
   "source": [
    "def get_single_cell_widths_mask_stack(masks):\n",
    "    widths = zip(*Parallel(n_jobs=-1)(delayed(get_single_cell_widths)(mask) for mask in masks))\n",
    "    widths = [x for width in widths for x in width]\n",
    "    widths = np.array(widths)*pix_mic_conv\n",
    "    return widths\n",
    "#widths_symbac = widths_symbac[np.argwhere((widths_symbac < 1.7) & (widths_symbac > 0.7))]"
   ]
  },
  {
   "cell_type": "code",
   "execution_count": 38,
   "id": "dbea71da-822e-403a-b66c-a33432dfa8c9",
   "metadata": {},
   "outputs": [],
   "source": [
    "def get_all_cell_widths_mask_stack(masks):\n",
    "    cell_data = Parallel(n_jobs=-1)(delayed(get_all_cell_widths)(mask) for mask in masks)\n",
    "    return cell_data\n"
   ]
  },
  {
   "cell_type": "code",
   "execution_count": 39,
   "id": "6450cbc5-c792-4c29-8205-d1187942e8ea",
   "metadata": {},
   "outputs": [],
   "source": [
    "FL_image = tifffile.imread(\"to_segment/FL-3.tif\")"
   ]
  },
  {
   "cell_type": "code",
   "execution_count": 40,
   "id": "8b2eadcc-c77e-4537-b954-46ca14afd7cd",
   "metadata": {},
   "outputs": [],
   "source": [
    "masks_symbac = tifffile.imread(\"segmented/symbac_seg.tif\")\n",
    "masks_omnipose = tifffile.imread(\"segmented/bact_fluor_omni.tif\")\n"
   ]
  },
  {
   "cell_type": "code",
   "execution_count": 41,
   "id": "36bb2992-b6c3-476e-8002-4886546076cc",
   "metadata": {
    "scrolled": true
   },
   "outputs": [],
   "source": [
    "cell_data_symbac = get_all_cell_widths_mask_stack(masks_symbac)\n",
    "cell_data_omnipose = get_all_cell_widths_mask_stack(masks_omnipose)"
   ]
  },
  {
   "cell_type": "code",
   "execution_count": 43,
   "id": "0a16fbc0-39a8-4fdf-9a57-21dfaaebb73e",
   "metadata": {},
   "outputs": [],
   "source": [
    "import pandas as pd"
   ]
  },
  {
   "cell_type": "code",
   "execution_count": 80,
   "id": "0d5c3629-194f-4c00-b1d5-9678afa89ab0",
   "metadata": {
    "scrolled": true
   },
   "outputs": [],
   "source": [
    "all_widths_omni = list(pd.concat([pd.DataFrame(x)[0]*0.11 for x in cell_data_omnipose]))\n",
    "all_widths_symbac = list(pd.concat([pd.DataFrame(x)[0]*0.11 for x in cell_data_symbac]))"
   ]
  },
  {
   "cell_type": "code",
   "execution_count": 50,
   "id": "6d814fe2-eff5-49f9-a232-a2cf716888c8",
   "metadata": {},
   "outputs": [],
   "source": [
    "widths_symbac = get_single_cell_widths_mask_stack(masks_symbac)\n",
    "widths_omnipose = get_single_cell_widths_mask_stack(masks_omnipose)\n"
   ]
  },
  {
   "cell_type": "code",
   "execution_count": 51,
   "id": "1a1c169b-319d-401f-a72e-251627dd43ef",
   "metadata": {},
   "outputs": [],
   "source": [
    "widths_symbac_cropped = widths_symbac[np.argwhere((widths_symbac < 1.7) & (widths_symbac > 0.7))]\n",
    "widths_omnipose_cropped = widths_omnipose[np.argwhere((widths_omnipose < 1.7) & (widths_omnipose > 0.8))]\n"
   ]
  },
  {
   "cell_type": "code",
   "execution_count": 52,
   "id": "b747162f-4287-4bd1-bb82-a9792f41d088",
   "metadata": {},
   "outputs": [],
   "source": [
    "widths_symbac_cropped_df = pd.DataFrame(widths_symbac_cropped)\n",
    "widths_symbac_cropped_df.columns = [\"Width\"]\n",
    "widths_symbac_cropped_df[\"Cell type\"] = \"Alone Cell\"\n",
    "widths_symbac_cropped_df[\"Model\"] = \"SyMBac trained\"\n",
    "\n",
    "widths_omnipose_cropped_df = pd.DataFrame(widths_omnipose_cropped)\n",
    "widths_omnipose_cropped_df.columns = [\"Width\"]\n",
    "widths_omnipose_cropped_df[\"Cell type\"] = \"Alone Cell\"\n",
    "widths_omnipose_cropped_df[\"Model\"] = \"Pretrained\"\n",
    "\n",
    "all_widths_symbac_df = pd.DataFrame(all_widths_symbac)\n",
    "all_widths_symbac_df.columns = [\"Width\"]\n",
    "all_widths_symbac_df[\"Cell type\"] = \"Colony Cell\"\n",
    "all_widths_symbac_df[\"Model\"] = \"SyMBac trained\"\n",
    "\n",
    "all_widths_omni_df = pd.DataFrame(all_widths_omni)\n",
    "all_widths_omni_df.columns = [\"Width\"]\n",
    "all_widths_omni_df[\"Cell type\"] = \"Colony Cell\"\n",
    "all_widths_omni_df[\"Model\"] = \"Pretrained\"\n",
    "\n",
    "all_data_omni_symbac_df = pd.concat([widths_symbac_cropped_df, widths_omnipose_cropped_df, all_widths_symbac_df, all_widths_omni_df])\n",
    "all_data_omni_symbac_df.to_pickle(\"all_data_omni_symbac_df.pickle\")"
   ]
  },
  {
   "cell_type": "code",
   "execution_count": 98,
   "id": "dfc3c974-609e-489b-ac36-38d8f93e86ae",
   "metadata": {},
   "outputs": [
    {
     "data": {
      "text/plain": [
       "0.06505030780492813"
      ]
     },
     "execution_count": 98,
     "metadata": {},
     "output_type": "execute_result"
    }
   ],
   "source": [
    "np.std(widths_symbac_cropped) / np.mean(widths_symbac_cropped)"
   ]
  },
  {
   "cell_type": "code",
   "execution_count": 100,
   "id": "dcd57bf3-2f16-41a1-8056-0794dc2577f7",
   "metadata": {},
   "outputs": [
    {
     "data": {
      "text/html": [
       "<div>\n",
       "<style scoped>\n",
       "    .dataframe tbody tr th:only-of-type {\n",
       "        vertical-align: middle;\n",
       "    }\n",
       "\n",
       "    .dataframe tbody tr th {\n",
       "        vertical-align: top;\n",
       "    }\n",
       "\n",
       "    .dataframe thead th {\n",
       "        text-align: right;\n",
       "    }\n",
       "</style>\n",
       "<table border=\"1\" class=\"dataframe\">\n",
       "  <thead>\n",
       "    <tr style=\"text-align: right;\">\n",
       "      <th></th>\n",
       "      <th></th>\n",
       "      <th>Width</th>\n",
       "    </tr>\n",
       "    <tr>\n",
       "      <th>Cell type</th>\n",
       "      <th>Model</th>\n",
       "      <th></th>\n",
       "    </tr>\n",
       "  </thead>\n",
       "  <tbody>\n",
       "    <tr>\n",
       "      <th rowspan=\"2\" valign=\"top\">Alone Cell</th>\n",
       "      <th>Pretrained</th>\n",
       "      <td>1.213929</td>\n",
       "    </tr>\n",
       "    <tr>\n",
       "      <th>SyMBac trained</th>\n",
       "      <td>0.940596</td>\n",
       "    </tr>\n",
       "    <tr>\n",
       "      <th rowspan=\"2\" valign=\"top\">Colony Cell</th>\n",
       "      <th>Pretrained</th>\n",
       "      <td>1.003883</td>\n",
       "    </tr>\n",
       "    <tr>\n",
       "      <th>SyMBac trained</th>\n",
       "      <td>0.889085</td>\n",
       "    </tr>\n",
       "  </tbody>\n",
       "</table>\n",
       "</div>"
      ],
      "text/plain": [
       "                               Width\n",
       "Cell type   Model                   \n",
       "Alone Cell  Pretrained      1.213929\n",
       "            SyMBac trained  0.940596\n",
       "Colony Cell Pretrained      1.003883\n",
       "            SyMBac trained  0.889085"
      ]
     },
     "execution_count": 100,
     "metadata": {},
     "output_type": "execute_result"
    }
   ],
   "source": [
    "all_data_omni_symbac_df.groupby([\"Cell type\", \"Model\"]).mean()"
   ]
  },
  {
   "cell_type": "code",
   "execution_count": 53,
   "id": "d5425a6b-d066-491b-8307-a1c7594202f3",
   "metadata": {},
   "outputs": [
    {
     "data": {
      "image/png": "[encoded data removed]",
      "text/plain": [
       "<Figure size 640x480 with 1 Axes>"
      ]
     },
     "metadata": {},
     "output_type": "display_data"
    }
   ],
   "source": [
    "plt.hist(widths_symbac_cropped, bins = 20, density = True)\n",
    "plt.hist(widths_omnipose_cropped, bins = 20, alpha = 0.85, density = True)\n",
    "\n",
    "plt.show()"
   ]
  },
  {
   "cell_type": "code",
   "execution_count": 54,
   "id": "de7d52fe-5590-49df-aedc-6d2d7f89c510",
   "metadata": {},
   "outputs": [
    {
     "data": {
      "image/png": "[encoded data removed]",
      "text/plain": [
       "<Figure size 640x480 with 1 Axes>"
      ]
     },
     "metadata": {},
     "output_type": "display_data"
    }
   ],
   "source": [
    "plt.hist(all_widths_symbac, bins = 100, alpha = 0.85, density = True)\n",
    "plt.hist(all_widths_omni, bins = 200, alpha = 0.85, density = True)\n",
    "plt.xlim(0.5,1.5)\n",
    "\n",
    "plt.show()"
   ]
  },
  {
   "cell_type": "code",
   "execution_count": 55,
   "id": "32a81420-5af0-4b12-8c56-b0ddbbb1fc80",
   "metadata": {},
   "outputs": [
    {
     "data": {
      "image/png": "[encoded data removed]",
      "text/plain": [
       "<Figure size 640x480 with 1 Axes>"
      ]
     },
     "metadata": {},
     "output_type": "display_data"
    }
   ],
   "source": [
    "plt.hist(all_widths_symbac, bins = 100, alpha = 0.85, density = True)\n",
    "plt.hist(widths_symbac_cropped, bins = 20, density = True)\n",
    "plt.xlim(0.5,1.5)\n",
    "plt.show()"
   ]
  },
  {
   "cell_type": "code",
   "execution_count": 56,
   "id": "c7cd2f7c-c60b-4cdc-ad18-5fee107d6231",
   "metadata": {},
   "outputs": [
    {
     "data": {
      "image/png": "[encoded data removed]",
      "text/plain": [
       "<Figure size 640x480 with 1 Axes>"
      ]
     },
     "metadata": {},
     "output_type": "display_data"
    }
   ],
   "source": [
    "plt.hist(all_widths_omni, bins = 100, alpha = 0.85, density = True)\n",
    "plt.hist(widths_omnipose_cropped, bins = 20, density = True)\n",
    "plt.xlim(0.7,1.7)\n",
    "plt.show()"
   ]
  },
  {
   "cell_type": "code",
   "execution_count": 57,
   "id": "66969c14-c52c-4cc5-9a90-ba09a4a0055b",
   "metadata": {},
   "outputs": [],
   "source": [
    "import pandas as pd"
   ]
  },
  {
   "cell_type": "code",
   "execution_count": 65,
   "id": "c2416f04-5fee-45d4-b9a5-db6214da4b13",
   "metadata": {},
   "outputs": [],
   "source": [
    "def get_width_mask_image(mask, cell_data):\n",
    "    size_masks = np.zeros_like(mask).astype(float)\n",
    "    for width, mask_label in cell_data:\n",
    "        bin_mask = (mask == mask_label)\n",
    "        size_masks += (bin_mask*width)\n",
    "    return size_masks"
   ]
  },
  {
   "cell_type": "code",
   "execution_count": 91,
   "id": "fef003e1-b3fb-4f46-9124-a3b6b177b274",
   "metadata": {},
   "outputs": [],
   "source": [
    "symbac_mask_width_data = pd.DataFrame()\n",
    "for i, stack in enumerate(cell_data_symbac):\n",
    "    _ = pd.DataFrame(stack)\n",
    "    _.columns = [\"Width\", \"label\"]\n",
    "    _[\"stack\"] = i\n",
    "    \n",
    "    symbac_mask_width_data = pd.concat([symbac_mask_width_data, _])\n",
    "symbac_mask_width_data.reset_index(inplace=True, drop=True)\n",
    "symbac_mask_width_data.to_pickle(\"symbac_mask_width_data.pickle\")"
   ]
  },
  {
   "cell_type": "code",
   "execution_count": 89,
   "id": "f64f1e7e-3a07-4b3c-bc94-a810c49eb6c4",
   "metadata": {},
   "outputs": [],
   "source": [
    "ommnipose_mask_width_data = pd.DataFrame()\n",
    "for i, stack in enumerate(cell_data_omnipose):\n",
    "    _ = pd.DataFrame(stack)\n",
    "    _.columns = [\"Width\", \"label\"]\n",
    "    _[\"stack\"] = i\n",
    "    \n",
    "    ommnipose_mask_width_data = pd.concat([ommnipose_mask_width_data, _])\n",
    "ommnipose_mask_width_data.reset_index(inplace=True, drop=True)\n",
    "ommnipose_mask_width_data.to_pickle(\"ommnipose_mask_width_data.pickle\")"
   ]
  },
  {
   "cell_type": "code",
   "execution_count": null,
   "id": "2e7ff58b-add3-4627-9bb2-7fcec032106b",
   "metadata": {},
   "outputs": [],
   "source": [
    "size_masks_omni = get_width_mask_image(masks_omnipose[0], cell_data_omnipose[0])\n",
    "plt.figure(figsize=(10,10))\n",
    "plt.imshow(size_masks_omni[300:900,300:900] * 0.11, vmin = 5.426 * 0.11, vmax = 11.66 * 0.11, cmap = \"turbo\", interpolation=\"none\")\n",
    "clb = plt.colorbar()\n",
    "clb.ax.set_title('Width ($\\mu m$)')\n",
    "plt.axis(\"off\")\n",
    "plt.title(\"Pretrained segmentation\")"
   ]
  },
  {
   "cell_type": "code",
   "execution_count": 69,
   "id": "a04f5965-7db9-4a10-afbf-7da09e45479d",
   "metadata": {},
   "outputs": [
    {
     "data": {
      "text/plain": [
       "Text(0.5, 1.0, 'Pretrained segmentation')"
      ]
     },
     "execution_count": 69,
     "metadata": {},
     "output_type": "execute_result"
    },
    {
     "data": {
      "image/png": "[encoded data removed]",
      "text/plain": [
       "<Figure size 1000x1000 with 2 Axes>"
      ]
     },
     "metadata": {},
     "output_type": "display_data"
    }
   ],
   "source": [
    "size_masks_omni = get_width_mask_image(masks_omnipose[0], cell_data_omnipose[0])\n",
    "plt.figure(figsize=(10,10))\n",
    "plt.imshow(size_masks_omni[300:900,300:900] * 0.11, vmin = 5.426 * 0.11, vmax = 11.66 * 0.11, cmap = \"turbo\", interpolation=\"none\")\n",
    "clb = plt.colorbar()\n",
    "clb.ax.set_title('Width ($\\mu m$)')\n",
    "plt.axis(\"off\")\n",
    "plt.title(\"Pretrained segmentation\")"
   ]
  },
  {
   "cell_type": "code",
   "execution_count": 70,
   "id": "e70d5840-96d8-4b49-9e77-e918f17c35e4",
   "metadata": {},
   "outputs": [
    {
     "data": {
      "text/plain": [
       "Text(0.5, 1.0, 'SyMBac trained segmentation')"
      ]
     },
     "execution_count": 70,
     "metadata": {},
     "output_type": "execute_result"
    },
    {
     "data": {
      "image/png": "[encoded data removed]",
      "text/plain": [
       "<Figure size 1000x1000 with 2 Axes>"
      ]
     },
     "metadata": {},
     "output_type": "display_data"
    }
   ],
   "source": [
    "size_masks_symbac = get_width_mask_image(masks_symbac[0], cell_data_symbac[0])\n",
    "plt.figure(figsize=(10,10))\n",
    "plt.imshow(size_masks_symbac[300:900,300:900] * 0.11, vmin = 5.426 * 0.11, vmax = 11.66 * 0.11, cmap = \"turbo\", interpolation=\"none\")\n",
    "clb = plt.colorbar()\n",
    "clb.ax.set_title('Width ($\\mu m$)')\n",
    "plt.axis(\"off\")\n",
    "plt.title(\"SyMBac trained segmentation\")"
   ]
  },
  {
   "cell_type": "code",
   "execution_count": 272,
   "id": "68b685ec-8567-4d33-9639-29a2a1b4e161",
   "metadata": {},
   "outputs": [],
   "source": [
    "ss_labels = get_single_cell_labels(masks_symbac[0])\n",
    "\n",
    "neighbour_threshold = 5\n",
    "high_neighbour_cell_labels = []\n",
    "mask = masks_symbac[0]\n",
    "mask = clear_border(mask)\n",
    "mask_labels = np.unique(mask)[1:]\n",
    "for mask_label in (mask_labels):\n",
    "    single_cell_mask = (mask == mask_label)\n",
    "    if np.sum(single_cell_mask) > 25:\n",
    "        dilated_mask = binary_dilation(single_cell_mask)\n",
    "        if len(np.unique(dilated_mask * mask)) >= neighbour_threshold:\n",
    "            high_neighbour_cell_labels.append(mask_label)\n",
    "        else:\n",
    "            pass"
   ]
  },
  {
   "cell_type": "code",
   "execution_count": 273,
   "id": "a8d2d1f6-e9bb-42c0-a941-90206f3d03e6",
   "metadata": {},
   "outputs": [],
   "source": [
    "cell_labels = np.unique(masks_symbac[0])[1:]"
   ]
  },
  {
   "cell_type": "code",
   "execution_count": 274,
   "id": "67487efe-f2d1-4453-ba2b-c0899e56a3c0",
   "metadata": {
    "scrolled": true
   },
   "outputs": [],
   "source": [
    "ss_widths = []\n",
    "other_widths = []\n",
    "high_neighbour_widths = []\n",
    "for cell_label in cell_labels:\n",
    "    width = ((masks_symbac[0] == cell_label) * size_masks_symbac).max()\n",
    "    if cell_label in ss_labels:\n",
    "        ss_widths.append(width)\n",
    "    elif cell_label in high_neighbour_cell_labels:\n",
    "        high_neighbour_widths.append(width)\n",
    "    else:\n",
    "        other_widths.append(width)\n",
    "other_widths = np.array(other_widths)"
   ]
  },
  {
   "cell_type": "code",
   "execution_count": 275,
   "id": "a21455a5-3426-4183-a361-b1b82636fedd",
   "metadata": {},
   "outputs": [
    {
     "data": {
      "text/plain": [
       "0.9469871794871796"
      ]
     },
     "execution_count": 275,
     "metadata": {},
     "output_type": "execute_result"
    }
   ],
   "source": [
    "np.mean(ss_widths) * 0.11"
   ]
  },
  {
   "cell_type": "code",
   "execution_count": 277,
   "id": "ddc4d8ff-a94c-4a36-b071-dd655e5cb4a1",
   "metadata": {},
   "outputs": [
    {
     "data": {
      "text/plain": [
       "0.896371237458194"
      ]
     },
     "execution_count": 277,
     "metadata": {},
     "output_type": "execute_result"
    }
   ],
   "source": [
    "np.mean(high_neighbour_widths) * 0.11"
   ]
  },
  {
   "cell_type": "code",
   "execution_count": 222,
   "id": "52aa4188-30ce-4898-8ea1-7591c77f75bc",
   "metadata": {},
   "outputs": [
    {
     "data": {
      "image/png": "[encoded data removed]",
      "text/plain": [
       "<Figure size 640x480 with 1 Axes>"
      ]
     },
     "metadata": {},
     "output_type": "display_data"
    }
   ],
   "source": [
    "plt.hist(other_widths, bins = 200)\n",
    "plt.hist(ss_widths)\n",
    "plt.show()"
   ]
  },
  {
   "cell_type": "code",
   "execution_count": null,
   "id": "cc298c19-c502-41ae-b53c-3aa66e0ceb34",
   "metadata": {},
   "outputs": [],
   "source": []
  },
  {
   "cell_type": "code",
   "execution_count": 251,
   "id": "aced1f5e-5bab-40bd-a822-1fe5b042272d",
   "metadata": {},
   "outputs": [],
   "source": [
    "ss_labels = get_single_cell_labels(masks_omnipose[0])\n",
    "\n",
    "neighbour_threshold = 5\n",
    "high_neighbour_cell_labels = []\n",
    "mask = masks_omnipose[0]\n",
    "mask = clear_border(mask)\n",
    "mask_labels = np.unique(mask)[1:]\n",
    "for mask_label in (mask_labels):\n",
    "    single_cell_mask = (mask == mask_label)\n",
    "    if np.sum(single_cell_mask) > 25:\n",
    "        dilated_mask = binary_dilation(single_cell_mask)\n",
    "        if len(np.unique(dilated_mask * mask)) >= neighbour_threshold:\n",
    "            high_neighbour_cell_labels.append(mask_label)\n",
    "        else:\n",
    "            pass"
   ]
  },
  {
   "cell_type": "code",
   "execution_count": 252,
   "id": "686db0c3-08c3-45e4-8e27-ec980f835cdc",
   "metadata": {},
   "outputs": [],
   "source": [
    "cell_labels = np.unique(masks_omnipose[0])[1:]"
   ]
  },
  {
   "cell_type": "code",
   "execution_count": 253,
   "id": "661ab553-3f75-4dac-b681-64a2cd10e4f5",
   "metadata": {
    "scrolled": true
   },
   "outputs": [],
   "source": [
    "ss_widths = []\n",
    "other_widths = []\n",
    "high_neighbour_widths = []\n",
    "for cell_label in cell_labels:\n",
    "    width = ((masks_omnipose[0] == cell_label) * size_masks_omni).max()\n",
    "    if cell_label in ss_labels:\n",
    "        ss_widths.append(width)\n",
    "    elif cell_label in high_neighbour_cell_labels:\n",
    "        high_neighbour_widths.append(width)\n",
    "    else:\n",
    "        other_widths.append(width)\n",
    "other_widths = np.array(other_widths)"
   ]
  },
  {
   "cell_type": "code",
   "execution_count": 254,
   "id": "eefb6a1a-c251-4d44-a448-ca43fd78847a",
   "metadata": {},
   "outputs": [
    {
     "data": {
      "text/plain": [
       "0.9313333333333333"
      ]
     },
     "execution_count": 254,
     "metadata": {},
     "output_type": "execute_result"
    }
   ],
   "source": [
    "np.mean(ss_widths) * 0.11"
   ]
  },
  {
   "cell_type": "code",
   "execution_count": 257,
   "id": "af01ecbe-95ba-4d8a-a77a-d3bef2e1ff27",
   "metadata": {},
   "outputs": [
    {
     "data": {
      "text/plain": [
       "0.9219901234567901"
      ]
     },
     "execution_count": 257,
     "metadata": {},
     "output_type": "execute_result"
    }
   ],
   "source": [
    "np.mean(high_neighbour_widths) * 0.11"
   ]
  },
  {
   "cell_type": "code",
   "execution_count": 258,
   "id": "de02dfcc-4b11-4f64-899d-2d89d533227b",
   "metadata": {},
   "outputs": [
    {
     "data": {
      "image/png": "[encoded data removed]",
      "text/plain": [
       "<Figure size 640x480 with 1 Axes>"
      ]
     },
     "metadata": {},
     "output_type": "display_data"
    }
   ],
   "source": [
    "plt.hist(high_neighbour_widths, bins = 200)\n",
    "plt.hist(ss_widths)\n",
    "plt.show()"
   ]
  },
  {
   "cell_type": "code",
   "execution_count": 244,
   "id": "a1d43c79-22d3-4844-a294-1a5300f70fcd",
   "metadata": {},
   "outputs": [],
   "source": []
  },
  {
   "cell_type": "code",
   "execution_count": 245,
   "id": "20f492dc-ac93-457f-8a95-2c122bb4f0b3",
   "metadata": {
    "scrolled": true
   },
   "outputs": [
    {
     "data": {
      "text/plain": [
       "[20,\n",
       " 22,\n",
       " 24,\n",
       " 25,\n",
       " 27,\n",
       " 31,\n",
       " 32,\n",
       " 33,\n",
       " 35,\n",
       " 36,\n",
       " 37,\n",
       " 38,\n",
       " 40,\n",
       " 41,\n",
       " 42,\n",
       " 43,\n",
       " 44,\n",
       " 45,\n",
       " 46,\n",
       " 48,\n",
       " 49,\n",
       " 50,\n",
       " 52,\n",
       " 53,\n",
       " 54,\n",
       " 55,\n",
       " 56,\n",
       " 58,\n",
       " 59,\n",
       " 60,\n",
       " 61,\n",
       " 62,\n",
       " 63,\n",
       " 64,\n",
       " 65,\n",
       " 66,\n",
       " 67,\n",
       " 68,\n",
       " 70,\n",
       " 72,\n",
       " 73,\n",
       " 74,\n",
       " 75,\n",
       " 76,\n",
       " 77,\n",
       " 78,\n",
       " 80,\n",
       " 81,\n",
       " 82,\n",
       " 83,\n",
       " 84,\n",
       " 85,\n",
       " 86,\n",
       " 87,\n",
       " 88,\n",
       " 89,\n",
       " 90,\n",
       " 91,\n",
       " 92,\n",
       " 93,\n",
       " 94,\n",
       " 95,\n",
       " 96,\n",
       " 97,\n",
       " 98,\n",
       " 101,\n",
       " 102,\n",
       " 103,\n",
       " 104,\n",
       " 105,\n",
       " 106,\n",
       " 109,\n",
       " 111,\n",
       " 112,\n",
       " 113,\n",
       " 114,\n",
       " 115,\n",
       " 116,\n",
       " 117,\n",
       " 118,\n",
       " 119,\n",
       " 120,\n",
       " 121,\n",
       " 122,\n",
       " 123,\n",
       " 136,\n",
       " 137,\n",
       " 138,\n",
       " 139,\n",
       " 140,\n",
       " 141,\n",
       " 142,\n",
       " 143,\n",
       " 144,\n",
       " 145,\n",
       " 147,\n",
       " 149,\n",
       " 151,\n",
       " 152,\n",
       " 153,\n",
       " 154,\n",
       " 155,\n",
       " 157,\n",
       " 158,\n",
       " 159,\n",
       " 160,\n",
       " 161,\n",
       " 162,\n",
       " 164,\n",
       " 166,\n",
       " 167,\n",
       " 168,\n",
       " 169,\n",
       " 170,\n",
       " 171,\n",
       " 172,\n",
       " 173,\n",
       " 174,\n",
       " 175,\n",
       " 176,\n",
       " 177,\n",
       " 178,\n",
       " 180,\n",
       " 181,\n",
       " 182,\n",
       " 183,\n",
       " 184,\n",
       " 186,\n",
       " 187,\n",
       " 188,\n",
       " 189,\n",
       " 190,\n",
       " 191,\n",
       " 192,\n",
       " 193,\n",
       " 194,\n",
       " 195,\n",
       " 196,\n",
       " 197,\n",
       " 198,\n",
       " 199,\n",
       " 201,\n",
       " 202,\n",
       " 203,\n",
       " 204,\n",
       " 205,\n",
       " 206,\n",
       " 207,\n",
       " 208,\n",
       " 209,\n",
       " 210,\n",
       " 211,\n",
       " 212,\n",
       " 213,\n",
       " 214,\n",
       " 215,\n",
       " 216,\n",
       " 217,\n",
       " 218,\n",
       " 219,\n",
       " 220,\n",
       " 221,\n",
       " 223,\n",
       " 224,\n",
       " 225,\n",
       " 226,\n",
       " 227,\n",
       " 228,\n",
       " 229,\n",
       " 230,\n",
       " 231,\n",
       " 233,\n",
       " 234,\n",
       " 235,\n",
       " 239,\n",
       " 240,\n",
       " 241,\n",
       " 242,\n",
       " 243,\n",
       " 245,\n",
       " 246,\n",
       " 248,\n",
       " 249,\n",
       " 250,\n",
       " 251,\n",
       " 253,\n",
       " 255,\n",
       " 256,\n",
       " 257,\n",
       " 258,\n",
       " 259,\n",
       " 261,\n",
       " 262,\n",
       " 263,\n",
       " 264,\n",
       " 266,\n",
       " 267,\n",
       " 268,\n",
       " 269,\n",
       " 270,\n",
       " 271,\n",
       " 272,\n",
       " 273,\n",
       " 274,\n",
       " 275,\n",
       " 276,\n",
       " 277,\n",
       " 278,\n",
       " 279,\n",
       " 280,\n",
       " 281,\n",
       " 282,\n",
       " 283,\n",
       " 284,\n",
       " 285,\n",
       " 286,\n",
       " 287,\n",
       " 288,\n",
       " 289,\n",
       " 290,\n",
       " 291,\n",
       " 292,\n",
       " 293,\n",
       " 294,\n",
       " 295,\n",
       " 296,\n",
       " 297,\n",
       " 298,\n",
       " 299,\n",
       " 301,\n",
       " 302,\n",
       " 303,\n",
       " 304,\n",
       " 305,\n",
       " 306,\n",
       " 307,\n",
       " 308,\n",
       " 309,\n",
       " 310,\n",
       " 311,\n",
       " 312,\n",
       " 313,\n",
       " 314,\n",
       " 315,\n",
       " 316,\n",
       " 317,\n",
       " 318,\n",
       " 320,\n",
       " 322,\n",
       " 323,\n",
       " 324,\n",
       " 325,\n",
       " 326,\n",
       " 327,\n",
       " 328,\n",
       " 329,\n",
       " 330,\n",
       " 332,\n",
       " 333,\n",
       " 334,\n",
       " 335,\n",
       " 336,\n",
       " 338,\n",
       " 339,\n",
       " 341,\n",
       " 342,\n",
       " 344,\n",
       " 346,\n",
       " 347,\n",
       " 348,\n",
       " 351,\n",
       " 352,\n",
       " 353,\n",
       " 354,\n",
       " 355,\n",
       " 356,\n",
       " 357,\n",
       " 359,\n",
       " 365,\n",
       " 377,\n",
       " 378,\n",
       " 379,\n",
       " 380,\n",
       " 381,\n",
       " 382,\n",
       " 383,\n",
       " 384,\n",
       " 385,\n",
       " 386,\n",
       " 387,\n",
       " 388,\n",
       " 389,\n",
       " 390,\n",
       " 391,\n",
       " 393,\n",
       " 394,\n",
       " 396,\n",
       " 397,\n",
       " 398,\n",
       " 399,\n",
       " 400,\n",
       " 401,\n",
       " 402,\n",
       " 403,\n",
       " 404,\n",
       " 405,\n",
       " 406,\n",
       " 407,\n",
       " 408,\n",
       " 409,\n",
       " 410,\n",
       " 411,\n",
       " 412,\n",
       " 414,\n",
       " 416,\n",
       " 417,\n",
       " 418,\n",
       " 419,\n",
       " 420,\n",
       " 421,\n",
       " 422,\n",
       " 424,\n",
       " 425,\n",
       " 426,\n",
       " 427,\n",
       " 428,\n",
       " 429,\n",
       " 431,\n",
       " 433,\n",
       " 434,\n",
       " 435,\n",
       " 436,\n",
       " 437,\n",
       " 438,\n",
       " 439,\n",
       " 440,\n",
       " 441,\n",
       " 442,\n",
       " 443,\n",
       " 444,\n",
       " 445,\n",
       " 446,\n",
       " 447,\n",
       " 448,\n",
       " 449,\n",
       " 450,\n",
       " 452,\n",
       " 453,\n",
       " 454,\n",
       " 455,\n",
       " 456,\n",
       " 457,\n",
       " 458,\n",
       " 459,\n",
       " 460,\n",
       " 461,\n",
       " 462,\n",
       " 463,\n",
       " 464,\n",
       " 466,\n",
       " 467,\n",
       " 468,\n",
       " 469,\n",
       " 471,\n",
       " 472,\n",
       " 473,\n",
       " 474,\n",
       " 477,\n",
       " 478,\n",
       " 479,\n",
       " 481,\n",
       " 482,\n",
       " 483,\n",
       " 484,\n",
       " 485,\n",
       " 486,\n",
       " 488,\n",
       " 489,\n",
       " 490,\n",
       " 492,\n",
       " 493,\n",
       " 494,\n",
       " 495,\n",
       " 497,\n",
       " 498,\n",
       " 499,\n",
       " 500,\n",
       " 502,\n",
       " 505,\n",
       " 508,\n",
       " 510,\n",
       " 513,\n",
       " 514,\n",
       " 515,\n",
       " 518,\n",
       " 520,\n",
       " 523,\n",
       " 524,\n",
       " 527,\n",
       " 528,\n",
       " 530,\n",
       " 531,\n",
       " 533,\n",
       " 534,\n",
       " 535,\n",
       " 536,\n",
       " 537,\n",
       " 538,\n",
       " 539,\n",
       " 541,\n",
       " 542,\n",
       " 543,\n",
       " 544,\n",
       " 545,\n",
       " 547,\n",
       " 548,\n",
       " 549,\n",
       " 550,\n",
       " 551,\n",
       " 552,\n",
       " 553,\n",
       " 554,\n",
       " 555,\n",
       " 556,\n",
       " 557,\n",
       " 558,\n",
       " 559,\n",
       " 560,\n",
       " 561,\n",
       " 562,\n",
       " 563,\n",
       " 565,\n",
       " 566,\n",
       " 567,\n",
       " 568,\n",
       " 572,\n",
       " 573,\n",
       " 574,\n",
       " 575,\n",
       " 576,\n",
       " 577,\n",
       " 578,\n",
       " 579,\n",
       " 580,\n",
       " 582,\n",
       " 583,\n",
       " 584,\n",
       " 585,\n",
       " 586,\n",
       " 587,\n",
       " 588,\n",
       " 589,\n",
       " 590,\n",
       " 591,\n",
       " 593,\n",
       " 594,\n",
       " 595,\n",
       " 596,\n",
       " 597,\n",
       " 598,\n",
       " 599,\n",
       " 600,\n",
       " 601,\n",
       " 602,\n",
       " 605,\n",
       " 606,\n",
       " 608,\n",
       " 609,\n",
       " 610,\n",
       " 611,\n",
       " 612,\n",
       " 613,\n",
       " 614,\n",
       " 615,\n",
       " 616,\n",
       " 617,\n",
       " 620,\n",
       " 621,\n",
       " 622,\n",
       " 623,\n",
       " 624,\n",
       " 625,\n",
       " 626,\n",
       " 627,\n",
       " 628,\n",
       " 629,\n",
       " 630,\n",
       " 631,\n",
       " 632,\n",
       " 633,\n",
       " 634,\n",
       " 635,\n",
       " 636,\n",
       " 637,\n",
       " 638,\n",
       " 639,\n",
       " 640,\n",
       " 641,\n",
       " 642,\n",
       " 643,\n",
       " 644,\n",
       " 645,\n",
       " 646,\n",
       " 647,\n",
       " 648,\n",
       " 649,\n",
       " 650,\n",
       " 651,\n",
       " 652,\n",
       " 653,\n",
       " 654,\n",
       " 655,\n",
       " 656,\n",
       " 657,\n",
       " 659,\n",
       " 660,\n",
       " 661,\n",
       " 662,\n",
       " 663,\n",
       " 664,\n",
       " 665,\n",
       " 666,\n",
       " 667,\n",
       " 668,\n",
       " 669,\n",
       " 670,\n",
       " 671,\n",
       " 672,\n",
       " 673,\n",
       " 674,\n",
       " 675,\n",
       " 677,\n",
       " 678,\n",
       " 679,\n",
       " 680,\n",
       " 681,\n",
       " 682,\n",
       " 683,\n",
       " 684,\n",
       " 685,\n",
       " 686,\n",
       " 687,\n",
       " 688,\n",
       " 690,\n",
       " 691,\n",
       " 692,\n",
       " 693,\n",
       " 694,\n",
       " 695,\n",
       " 696,\n",
       " 697,\n",
       " 698,\n",
       " 699,\n",
       " 700,\n",
       " 701,\n",
       " 702,\n",
       " 703,\n",
       " 704,\n",
       " 706,\n",
       " 707,\n",
       " 709,\n",
       " 710,\n",
       " 711,\n",
       " 712,\n",
       " 713,\n",
       " 714,\n",
       " 715,\n",
       " 717,\n",
       " 718,\n",
       " 719,\n",
       " 720,\n",
       " 721,\n",
       " 722,\n",
       " 723,\n",
       " 724,\n",
       " 726,\n",
       " 728,\n",
       " 729,\n",
       " 730,\n",
       " 732,\n",
       " 733,\n",
       " 734,\n",
       " 736,\n",
       " 737,\n",
       " 738,\n",
       " 739,\n",
       " 740,\n",
       " 741,\n",
       " 743,\n",
       " 744,\n",
       " 745,\n",
       " 746,\n",
       " 747,\n",
       " 748,\n",
       " 749,\n",
       " 750,\n",
       " 751,\n",
       " 752,\n",
       " 753,\n",
       " 754,\n",
       " 755,\n",
       " 756,\n",
       " 757,\n",
       " 758,\n",
       " 759,\n",
       " 760,\n",
       " 761,\n",
       " 762,\n",
       " 764,\n",
       " 765,\n",
       " 766,\n",
       " 767,\n",
       " 768,\n",
       " 769,\n",
       " 770,\n",
       " 771,\n",
       " 772,\n",
       " 773,\n",
       " 774,\n",
       " 775,\n",
       " 777,\n",
       " 778,\n",
       " 779,\n",
       " 780,\n",
       " 781,\n",
       " 782,\n",
       " 783,\n",
       " 784,\n",
       " 785,\n",
       " 786,\n",
       " 787,\n",
       " 788,\n",
       " 789,\n",
       " 790,\n",
       " 791,\n",
       " 792,\n",
       " 793,\n",
       " 794,\n",
       " 795,\n",
       " 796,\n",
       " 798,\n",
       " 799,\n",
       " 800,\n",
       " 802,\n",
       " 803,\n",
       " 804,\n",
       " 805,\n",
       " 806,\n",
       " 807,\n",
       " 808,\n",
       " 810,\n",
       " 812,\n",
       " 813,\n",
       " 815,\n",
       " 817,\n",
       " 818,\n",
       " 819,\n",
       " 821,\n",
       " 822,\n",
       " 823,\n",
       " 824,\n",
       " 825,\n",
       " 826,\n",
       " 827,\n",
       " 828,\n",
       " 830,\n",
       " 832,\n",
       " 833,\n",
       " 836,\n",
       " 837,\n",
       " 840,\n",
       " 841,\n",
       " 844,\n",
       " 847,\n",
       " 848]"
      ]
     },
     "execution_count": 245,
     "metadata": {},
     "output_type": "execute_result"
    }
   ],
   "source": []
  },
  {
   "cell_type": "code",
   "execution_count": null,
   "id": "fa6d3c7d-2fb1-4f1e-8413-7011349872c7",
   "metadata": {},
   "outputs": [],
   "source": []
  }
 ],
 "metadata": {
  "kernelspec": {
   "display_name": "Python [conda env:symbac]",
   "language": "python",
   "name": "conda-env-symbac-py"
  },
  "language_info": {
   "codemirror_mode": {
    "name": "ipython",
    "version": 3
   },
   "file_extension": ".py",
   "mimetype": "text/x-python",
   "name": "python",
   "nbconvert_exporter": "python",
   "pygments_lexer": "ipython3",
   "version": "3.10.9"
  }
 },
 "nbformat": 4,
 "nbformat_minor": 5
}
