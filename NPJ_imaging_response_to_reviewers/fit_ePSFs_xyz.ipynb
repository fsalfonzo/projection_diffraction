{
 "cells": [
  {
   "cell_type": "code",
   "execution_count": 1,
   "id": "52250396-ace5-406f-832d-8cfc62991f31",
   "metadata": {},
   "outputs": [],
   "source": [
    "import psfmodels as psfm\n",
    "import matplotlib.pyplot as plt\n",
    "from matplotlib.colors import PowerNorm\n",
    "import numpy as np\n",
    "import tifffile\n",
    "import pyclesperanto_prototype as cle\n",
    "from pyclesperanto_prototype import imshow\n",
    "import pandas as pd\n",
    "from skimage.transform import rescale, resize, downscale_local_mean, rotate\n",
    "from scipy.optimize import minimize, LinearConstraint, Bounds, differential_evolution, basinhopping, shgo, dual_annealing, direct\n",
    "from skimage.filters import gaussian\n",
    "from scipy.optimize import LinearConstraint\n",
    "import numpy as np\n",
    "from copy import deepcopy\n",
    "from tqdm.auto import tqdm\n",
    "def get_midline(arr):\n",
    "    mid_x = arr.shape[1]//2\n",
    "    return arr[mid_x]\n",
    "\n",
    "def get_midline_rotate_method(arr):\n",
    "    mid_x = arr.shape[1]//2\n",
    "    midline = np.array([rotate(arr, angle, resize = False, clip = True, preserve_range = True)[mid_x] for angle in range(366)]).mean(axis=0)\n",
    "    return midline\n",
    "\n",
    "def MSLE(arr1, arr2): # MEAN SQUARE LOG ERROR\n",
    "    return np.nanmean((np.log(arr1 + 1) - np.log(arr2 + 1))**2)\n",
    "\n",
    "def MSE(arr1, arr2):\n",
    "    return np.nanmean((arr1 - arr2)**2)\n",
    "\n",
    "def MLSE(arr1, arr2): # MEAN LOG SQUARE ERROR\n",
    "    return np.nanmean(np.log((arr1 - arr2)**2 + 1))\n",
    "\n",
    "def RMLSE(arr1, arr2):\n",
    "    return np.sqrt(MLSE(arr1,arr2))\n",
    "\n",
    "def RMSLE(arr1, arr2):\n",
    "    return np.sqrt(MSLE(arr1, arr2))\n",
    "\n",
    "loss_fns = [MSLE, MSE, MLSE, RMLSE, RMSLE]\n",
    "\n",
    "def lorentzian_2d_DoG(amplitude, xo, yo, gamma_x, gamma_y, sigma1, sigma2, offset, amplitude_gauss1, amplitude_gauss2, xdata_tuple):\n",
    "    (x, y) = xdata_tuple\n",
    "    lorentz =  amplitude / (1 + ((x - xo) / gamma_x)**2 + ((y - yo) / gamma_y)**2) + offset\n",
    "    gaussian_term_1 = amplitude_gauss1 * np.exp(-((x - xo)**2 + (y - yo)**2) / (2 * sigma1**2)) + offset * 10\n",
    "    gaussian_term_2 = amplitude_gauss2 * np.exp(-((x - xo)**2 + (y - yo)**2) / (2 * sigma2**2))\n",
    "    DoG = (gaussian_term_1 - gaussian_term_2)\n",
    "    DoG = DoG - min(0, DoG.min())\n",
    "    DoG = DoG\n",
    "    return lorentz * DoG \n",
    "\n",
    "def symmetric_moffat_DoG(amplitude, xo, yo, alpha_x, alpha_y, beta, offset, sigma1, sigma2, amplitude_gauss1, amplitude_gauss2, xdata_tuple):\n",
    "    (x, y) = xdata_tuple\n",
    "    moffat_term = amplitude * (1 + ((x - xo)**2 / alpha_x**2) + ((y - yo)**2 / alpha_x**2)) ** (-beta)# + offset\n",
    "    gaussian_term_1 = amplitude_gauss1 * np.exp(-((x - xo)**2 + (y - yo)**2) / (2 * sigma1**2)) + offset\n",
    "    gaussian_term_2 = amplitude_gauss2 * np.exp(-((x - xo)**2 + (y - yo)**2) / (2 * sigma2**2))\n",
    "    DoG = (gaussian_term_1 - gaussian_term_2)\n",
    "    DoG = DoG - min(0, DoG.min())\n",
    "    \n",
    "    return moffat_term * DoG\n",
    "\n",
    "def check_zero_cost(intermediate_result):\n",
    "    if intermediate_result.fun == 0:\n",
    "        print(f\"Cost is zero for parameters: {intermediate_result.x}\")\n",
    "    return False  # return True if you want to stop the optimization here\n",
    "\n",
    "def perc_err(act,exp):\n",
    "    return abs((act - exp)/exp) * 100\n",
    "\n",
    "def get_midline_rotate_method(arr):\n",
    "    mid_x = arr.shape[1]//2\n",
    "    midline = np.array([rotate(arr, angle, resize = False, clip = True, preserve_range = True)[mid_x] for angle in range(366)]).mean(axis=0)\n",
    "    return midline"
   ]
  },
  {
   "cell_type": "code",
   "execution_count": 2,
   "id": "a0c5e9fd-9f6c-43e5-be6b-855d5d1bae93",
   "metadata": {},
   "outputs": [],
   "source": [
    "def fit_moffat(real_PSF, error_function, xdata_tuple):\n",
    "    param_bounds = {\n",
    "        'amplitude': (0, 5),\n",
    "        'xo': (0, real_PSF.shape[1]),\n",
    "        'yo': (0, real_PSF.shape[0]),\n",
    "        'alpha_x': (0.001, 50),\n",
    "        'alpha_y': (0.001, 50),\n",
    "        'beta': (0.01, 20,),\n",
    "        'offset': (0, 3),\n",
    "        'sigma1': (1, 50),\n",
    "        'sigma2': (1, 50),\n",
    "        'amplitude_gauss1': (0, 10),\n",
    "        'amplitude_gauss2': (0, 10),\n",
    "    }\n",
    "    \n",
    "    # Create bounds for optimization\n",
    "    lower_bounds = [param_bounds[name][0] for name in param_bounds]\n",
    "    upper_bounds = [param_bounds[name][1] for name in param_bounds]\n",
    "    bounds = Bounds(lower_bounds, upper_bounds)\n",
    "    \n",
    "    \n",
    "    \n",
    "    # Define the constraint matrix\n",
    "    A = np.array([\n",
    "        [0, 0, 0, 0, 0, 0, 0, 0, 0, -1, 1],  # amplitude_gauss2 - amplitude_gauss1  > 0\n",
    "        [0, 0, 0, 0, 0, 0, 0, -1, 1, 0, 0]   # sigma2 - sigma1 > 0 (equivalent to sigma1 < sigma2)\n",
    "    ])\n",
    "    \n",
    "    # Define the lower and upper bounds for the inequalities\n",
    "    lb = [np.finfo(float).eps, np.finfo(float).eps]  # Lower bounds slightly above 0\n",
    "    ub = [np.inf, np.inf]                            # Upper bounds are infinity\n",
    "    \n",
    "    # Create the LinearConstraint object\n",
    "    constraints = LinearConstraint(A, lb, ub)\n",
    "\n",
    "\n",
    "    result = differential_evolution(error_function, bounds, workers = 24, disp = False, callback = check_zero_cost, args = (xdata_tuple, real_PSF))\n",
    "    return result\n"
   ]
  },
  {
   "cell_type": "code",
   "execution_count": 3,
   "id": "05f48de1-7069-4c04-8206-512760dac63e",
   "metadata": {},
   "outputs": [],
   "source": [
    "def get_real_PSF(PSF_size_xyz, z_slice):\n",
    "    pix_mic_conv = 0.05\n",
    "    real_PSF = tifffile.imread(\"../PSF_comparison/average_100x_PSF_postmag_green.tif\").astype(np.float32)\n",
    "    real_PSF = rescale(real_PSF, (0.05/pix_mic_conv, (0.0655/1.5) / pix_mic_conv, (0.0655/1.5) / pix_mic_conv) , anti_aliasing=True)\n",
    "    #real_PSF = gaussian(real_PSF, sigma = 0.75)\n",
    "    midpoint_xy = real_PSF.shape[1]//2\n",
    "    midpoint_z = real_PSF.shape[0]//2\n",
    "    \n",
    "    original_z = real_PSF.shape[0]\n",
    "    original_xy = real_PSF.shape[1]\n",
    "    \n",
    "    max_intensities = real_PSF.max(axis=(1,2))\n",
    "    peak_intensity_z =  np.argwhere(max_intensities == np.max(max_intensities))[0][0]\n",
    "    \n",
    "    \n",
    "    real_PSF = real_PSF[\n",
    "        midpoint_z - PSF_size_xyz//2:midpoint_z + PSF_size_xyz//2+1,\n",
    "        midpoint_xy - PSF_size_xyz//2:midpoint_xy + PSF_size_xyz//2+1,\n",
    "        midpoint_xy - PSF_size_xyz//2:midpoint_xy + PSF_size_xyz//2+1\n",
    "    ]\n",
    "    \n",
    "    \n",
    "    real_PSF -= np.round(np.sort(real_PSF.flatten())[0:int(len(real_PSF.flatten())*.05)].mean()).astype(np.uint)\n",
    "    real_PSF = np.clip(real_PSF, 0, np.inf)\n",
    "    real_PSF = real_PSF / real_PSF.max()\n",
    "    real_PSF = real_PSF[z_slice]\n",
    "    return real_PSF"
   ]
  },
  {
   "cell_type": "code",
   "execution_count": 4,
   "id": "621fcf35-928f-4e34-bebd-8b428d09db8a",
   "metadata": {},
   "outputs": [
    {
     "data": {
      "text/plain": [
       "<matplotlib.image.AxesImage at 0x7a7200f8d300>"
      ]
     },
     "execution_count": 4,
     "metadata": {},
     "output_type": "execute_result"
    },
    {
     "data": {
      "image/png": "[encoded data removed]",
      "text/plain": [
       "<Figure size 640x480 with 1 Axes>"
      ]
     },
     "metadata": {},
     "output_type": "display_data"
    }
   ],
   "source": [
    "real_PSF = tifffile.imread(\"../PSF_comparison/average_100x_PSF_postmag_green.tif\").astype(np.float32)\n",
    "plt.imshow(real_PSF[100])"
   ]
  },
  {
   "cell_type": "code",
   "execution_count": 5,
   "id": "36eeaeac-2228-4598-9759-73599e3a9f38",
   "metadata": {},
   "outputs": [],
   "source": [
    "def fit_lorentz(real_PSF, error_function, xdata_tuple):\n",
    "    param_bounds = {\n",
    "        'amplitude': (0, 5),\n",
    "        'xo': (0, real_PSF.shape[1]),\n",
    "        'yo': (0, real_PSF.shape[0]),\n",
    "        'gamma_x': (0.001, 70),\n",
    "        'gamma_y': (0.001, 70),\n",
    "        'sigma1': (1, 30),\n",
    "        'sigma2': (1, 30),\n",
    "        'offset': (0, 1),\n",
    "        'amplitude_gauss1': (0, 40),\n",
    "        'amplitude_gauss2': (0, 40),\n",
    "    }\n",
    "    \n",
    "    # Create bounds for optimization\n",
    "    lower_bounds = [param_bounds[name][0] for name in param_bounds]\n",
    "    upper_bounds = [param_bounds[name][1] for name in param_bounds]\n",
    "    bounds = Bounds(lower_bounds, upper_bounds)\n",
    "    \n",
    "    \n",
    "    \n",
    "    # Define the constraint matrix\n",
    "    A = np.array([\n",
    "        [0, 0, 0, 0, 0, 0, 0, 0, 1, -1],  # amplitude_gauss2 - amplitude_gauss1  > 0\n",
    "        [0, 0, 0, 0, 0, 1, -1, 0, 0, 0]   # sigma2 - sigma1 > 0 (equivalent to sigma1 < sigma2)\n",
    "    ])\n",
    "    \n",
    "    # Define the lower and upper bounds for the inequalities\n",
    "    lb = [np.finfo(float).eps, np.finfo(float).eps]  # Lower bounds slightly above 0\n",
    "    ub = [np.inf, np.inf]                            # Upper bounds are infinity\n",
    "\n",
    "    # Define the constraint matrix\n",
    "    A = np.array([\n",
    "        [0, 0, 0, 0, 0, 1, -1, 0, 0, 0]   # sigma2 - sigma1 > 0 (equivalent to sigma1 < sigma2)\n",
    "    ])\n",
    "    \n",
    "    # Define the lower and upper bounds for the inequalities\n",
    "    lb = [np.finfo(float).eps]  # Lower bounds slightly above 0\n",
    "    ub = [np.inf]    \n",
    "    \n",
    "    # Create the LinearConstraint object\n",
    "    constraints = LinearConstraint(A, lb, ub)\n",
    "\n",
    "\n",
    "    result = differential_evolution(error_function, bounds, workers = 1, disp = False, callback = check_zero_cost, args = (xdata_tuple, real_PSF), updating='immediate')\n",
    "    return result\n"
   ]
  },
  {
   "cell_type": "code",
   "execution_count": 6,
   "id": "58c9b48b-37aa-430d-abdb-d9500c0b3d64",
   "metadata": {},
   "outputs": [],
   "source": [
    "def fit_to_PSF(PSF_size_xyz, parameterised_function, fit_function, error_function, z):\n",
    "\n",
    "    real_PSF = get_real_PSF(PSF_size_xyz, z)\n",
    "    x = np.linspace(0, real_PSF.shape[1]-1, real_PSF.shape[1])\n",
    "    y = np.linspace(0, real_PSF.shape[0]-1, real_PSF.shape[0])\n",
    "    x, y = xdata_tuple = np.meshgrid(x, y)\n",
    "\n",
    "\n",
    "\n",
    "    result = fit_function(real_PSF, error_function, xdata_tuple)\n",
    "\n",
    "    #print(result)\n",
    "    best_fit = parameterised_function(*result.x, (x,y))\n",
    "    \n",
    "    MSE_loss = MSLE(best_fit, real_PSF)\n",
    "\n",
    "    #plt.plot(best_fit[best_fit.shape[0]//2])\n",
    "    #plt.plot(get_midline_rotate_method(real_PSF), label = \"real\")\n",
    "\n",
    "    #plt.yscale(\"log\")\n",
    "    #plt.title(\"Fit\")\n",
    "    #plt.show()\n",
    "    \n",
    "    return result, MSE_loss, get_midline_rotate_method(best_fit)\n",
    "\n",
    "def get_extrapolated_fit(result, original_fit_xy, parameterised_function, error_function):\n",
    "    real_PSF = get_real_PSF(201)\n",
    "    x = np.linspace(0, real_PSF.shape[1]-1, real_PSF.shape[1])\n",
    "    y = np.linspace(0, real_PSF.shape[0]-1, real_PSF.shape[0])\n",
    "    x, y = xdata_tuple = np.meshgrid(x, y)\n",
    "    best_fit_result = deepcopy(result.x)\n",
    "    #best_fit_result[1] = best_fit_result[2] = real_PSF.shape[1]/2\n",
    "    best_fit_result[2] = best_fit_result[2] + real_PSF.shape[1]/2 - original_fit_xy/2\n",
    "    best_fit_result[1] = best_fit_result[1] + real_PSF.shape[1]/2 - original_fit_xy/2\n",
    "    best_fit = parameterised_function(*best_fit_result, (x,y))\n",
    "\n",
    "    #plt.plot(best_fit[best_fit.shape[0]//2])\n",
    "    #plt.plot(get_midline_rotate_method(real_PSF), label = \"real\")\n",
    "    #plt.plot(real_PSF[real_PSF.shape[0]//2], label = \"real\")\n",
    "\n",
    "    #plt.yscale(\"log\")\n",
    "    #plt.title(\"Extrapolation\")\n",
    "    #plt.show()\n",
    "    MSE_loss = MSLE(best_fit, real_PSF)\n",
    "    return error_function(best_fit_result, xdata_tuple, real_PSF), MSE_loss, get_midline_rotate_method(best_fit), get_midline_rotate_method(real_PSF)"
   ]
  },
  {
   "cell_type": "code",
   "execution_count": 7,
   "id": "cf8401b0-6c02-4c30-add3-3a50b9313268",
   "metadata": {},
   "outputs": [],
   "source": [
    "from joblib import Parallel, delayed\n"
   ]
  },
  {
   "cell_type": "code",
   "execution_count": 8,
   "id": "7296e563-ad01-4172-bf06-f790eee6da81",
   "metadata": {},
   "outputs": [],
   "source": [
    "small_fit_size = 41\n",
    "real_PSF = get_real_PSF(small_fit_size, 5)\n",
    "x = np.linspace(0, real_PSF.shape[1]-1, real_PSF.shape[1])\n",
    "y = np.linspace(0, real_PSF.shape[0]-1, real_PSF.shape[0])\n",
    "x, y = xdata_tuple = np.meshgrid(x, y)"
   ]
  },
  {
   "cell_type": "code",
   "execution_count": 9,
   "id": "1c1031ef-a82a-4ebc-a509-ae17550799ae",
   "metadata": {},
   "outputs": [
    {
     "data": {
      "text/plain": [
       "<function tifffile.tifffile.imwrite(file: 'str | os.PathLike | FileHandle | BinaryIO', /, data: 'ArrayLike | Iterator[numpy.ndarray | None] | Iterator[bytes] | None' = None, *, bigtiff: 'bool | None' = None, byteorder: 'ByteOrder | None' = None, imagej: 'bool' = False, ome: 'bool | None' = None, shaped: 'bool | None' = None, append: 'bool' = False, shape: 'Sequence[int] | None' = None, dtype: 'numpy.dtype | str | None' = None, photometric: 'PHOTOMETRIC | int | str | None' = None, planarconfig: 'PLANARCONFIG | int | str | None' = None, extrasamples: 'Sequence[EXTRASAMPLE | int | str] | None' = None, volumetric: 'bool' = False, tile: 'Sequence[int] | None' = None, rowsperstrip: 'int | None' = None, bitspersample: 'int | None' = None, compression: 'COMPRESSION | int | str | None' = None, compressionargs: 'dict[str, Any] | None' = None, predictor: 'PREDICTOR | int | str | bool | None' = None, subsampling: 'tuple[int, int] | None' = None, jpegtables: 'bytes | None' = None, colormap: 'ArrayLike | None' = None, description: 'str | bytes | None' = None, datetime: 'str | bool | None' = None, resolution: 'tuple[float | tuple[int, int], float | tuple[int, int]] | None' = None, resolutionunit: 'RESUNIT | int | str | None' = None, subfiletype: 'FILETYPE | int | None' = None, software: 'str | bytes | bool | None' = None, metadata: 'dict[str, Any] | None' = {}, extratags: 'Sequence[TagTuple] | None' = None, contiguous: 'bool' = False, truncate: 'bool' = False, align: 'int | None' = None, maxworkers: 'int | None' = None, returnoffset: 'bool' = False) -> 'tuple[int, int] | None'>"
      ]
     },
     "execution_count": 9,
     "metadata": {},
     "output_type": "execute_result"
    }
   ],
   "source": [
    "tifffile.imwrite"
   ]
  },
  {
   "cell_type": "code",
   "execution_count": null,
   "id": "75fa2c24-a4dd-4c57-9ce7-30686777baf9",
   "metadata": {},
   "outputs": [
    {
     "data": {
      "application/vnd.jupyter.widget-view+json": {
       "model_id": "b8ba9ff881d34e959dd95fb7883726ee",
       "version_major": 2,
       "version_minor": 0
      },
      "text/plain": [
       "  0%|          | 0/41 [00:00<?, ?it/s]"
      ]
     },
     "metadata": {},
     "output_type": "display_data"
    },
    {
     "name": "stdout",
     "output_type": "stream",
     "text": [
      "<function MSLE at 0x7a716ae44550>\n"
     ]
    },
    {
     "data": {
      "application/vnd.jupyter.widget-view+json": {
       "model_id": "a31464adb66d469cac50bc29ea83a26d",
       "version_major": 2,
       "version_minor": 0
      },
      "text/plain": [
       "  0%|          | 0/41 [00:00<?, ?it/s]"
      ]
     },
     "metadata": {},
     "output_type": "display_data"
    },
    {
     "name": "stdout",
     "output_type": "stream",
     "text": [
      "<function MSE at 0x7a716ae445e0>\n"
     ]
    },
    {
     "data": {
      "application/vnd.jupyter.widget-view+json": {
       "model_id": "d38b08fda9164fb98f2fbdaf5c3e91ac",
       "version_major": 2,
       "version_minor": 0
      },
      "text/plain": [
       "  0%|          | 0/41 [00:00<?, ?it/s]"
      ]
     },
     "metadata": {},
     "output_type": "display_data"
    },
    {
     "name": "stdout",
     "output_type": "stream",
     "text": [
      "<function MLSE at 0x7a716ae44670>\n"
     ]
    },
    {
     "data": {
      "application/vnd.jupyter.widget-view+json": {
       "model_id": "2fcc80372980458b9734477ca90467b9",
       "version_major": 2,
       "version_minor": 0
      },
      "text/plain": [
       "  0%|          | 0/41 [00:00<?, ?it/s]"
      ]
     },
     "metadata": {},
     "output_type": "display_data"
    },
    {
     "name": "stdout",
     "output_type": "stream",
     "text": [
      "<function RMLSE at 0x7a716ae44700>\n"
     ]
    },
    {
     "data": {
      "application/vnd.jupyter.widget-view+json": {
       "model_id": "6194a777a3424ce8b152e00212240229",
       "version_major": 2,
       "version_minor": 0
      },
      "text/plain": [
       "  0%|          | 0/41 [00:00<?, ?it/s]"
      ]
     },
     "metadata": {},
     "output_type": "display_data"
    },
    {
     "name": "stdout",
     "output_type": "stream",
     "text": [
      "<function RMSLE at 0x7a716ae44790>\n"
     ]
    },
    {
     "data": {
      "application/vnd.jupyter.widget-view+json": {
       "model_id": "792ded91df0d4582a2a242facfa91192",
       "version_major": 2,
       "version_minor": 0
      },
      "text/plain": [
       "  0%|          | 0/41 [00:00<?, ?it/s]"
      ]
     },
     "metadata": {},
     "output_type": "display_data"
    },
    {
     "name": "stdout",
     "output_type": "stream",
     "text": [
      "<function MSLE at 0x7a716ae44550>\n"
     ]
    },
    {
     "data": {
      "application/vnd.jupyter.widget-view+json": {
       "model_id": "7dc389294dd648b9b328d5cca8c14400",
       "version_major": 2,
       "version_minor": 0
      },
      "text/plain": [
       "  0%|          | 0/41 [00:00<?, ?it/s]"
      ]
     },
     "metadata": {},
     "output_type": "display_data"
    },
    {
     "name": "stdout",
     "output_type": "stream",
     "text": [
      "<function MSE at 0x7a716ae445e0>\n"
     ]
    },
    {
     "data": {
      "application/vnd.jupyter.widget-view+json": {
       "model_id": "3ffd12306df249b99d28ac0e7e7d87fb",
       "version_major": 2,
       "version_minor": 0
      },
      "text/plain": [
       "  0%|          | 0/41 [00:00<?, ?it/s]"
      ]
     },
     "metadata": {},
     "output_type": "display_data"
    },
    {
     "name": "stdout",
     "output_type": "stream",
     "text": [
      "<function MLSE at 0x7a716ae44670>\n"
     ]
    },
    {
     "data": {
      "application/vnd.jupyter.widget-view+json": {
       "model_id": "ecdc5185ff744ca7897eef206702e072",
       "version_major": 2,
       "version_minor": 0
      },
      "text/plain": [
       "  0%|          | 0/41 [00:00<?, ?it/s]"
      ]
     },
     "metadata": {},
     "output_type": "display_data"
    },
    {
     "name": "stdout",
     "output_type": "stream",
     "text": [
      "<function RMLSE at 0x7a716ae44700>\n"
     ]
    },
    {
     "data": {
      "application/vnd.jupyter.widget-view+json": {
       "model_id": "482158a0cdaf4a0498eebfcdc49ced6d",
       "version_major": 2,
       "version_minor": 0
      },
      "text/plain": [
       "  0%|          | 0/41 [00:00<?, ?it/s]"
      ]
     },
     "metadata": {},
     "output_type": "display_data"
    },
    {
     "name": "stdout",
     "output_type": "stream",
     "text": [
      "<function RMSLE at 0x7a716ae44790>\n"
     ]
    },
    {
     "data": {
      "application/vnd.jupyter.widget-view+json": {
       "model_id": "0bb1350ff5c44e9b836577fc5284324d",
       "version_major": 2,
       "version_minor": 0
      },
      "text/plain": [
       "  0%|          | 0/41 [00:00<?, ?it/s]"
      ]
     },
     "metadata": {},
     "output_type": "display_data"
    },
    {
     "name": "stdout",
     "output_type": "stream",
     "text": [
      "<function MSLE at 0x7a716ae44550>\n"
     ]
    },
    {
     "data": {
      "application/vnd.jupyter.widget-view+json": {
       "model_id": "8271bc841ac443919415829c9a02d814",
       "version_major": 2,
       "version_minor": 0
      },
      "text/plain": [
       "  0%|          | 0/41 [00:00<?, ?it/s]"
      ]
     },
     "metadata": {},
     "output_type": "display_data"
    },
    {
     "name": "stdout",
     "output_type": "stream",
     "text": [
      "<function MSE at 0x7a716ae445e0>\n"
     ]
    },
    {
     "data": {
      "application/vnd.jupyter.widget-view+json": {
       "model_id": "624450bed352492b8698087b77c64955",
       "version_major": 2,
       "version_minor": 0
      },
      "text/plain": [
       "  0%|          | 0/41 [00:00<?, ?it/s]"
      ]
     },
     "metadata": {},
     "output_type": "display_data"
    },
    {
     "name": "stdout",
     "output_type": "stream",
     "text": [
      "<function MLSE at 0x7a716ae44670>\n"
     ]
    },
    {
     "data": {
      "application/vnd.jupyter.widget-view+json": {
       "model_id": "937263c883b340c4854f35004a32ae17",
       "version_major": 2,
       "version_minor": 0
      },
      "text/plain": [
       "  0%|          | 0/41 [00:00<?, ?it/s]"
      ]
     },
     "metadata": {},
     "output_type": "display_data"
    },
    {
     "name": "stdout",
     "output_type": "stream",
     "text": [
      "<function RMLSE at 0x7a716ae44700>\n"
     ]
    },
    {
     "data": {
      "application/vnd.jupyter.widget-view+json": {
       "model_id": "a1fcd95a6871455c910ee8102b9d1c14",
       "version_major": 2,
       "version_minor": 0
      },
      "text/plain": [
       "  0%|          | 0/41 [00:00<?, ?it/s]"
      ]
     },
     "metadata": {},
     "output_type": "display_data"
    },
    {
     "name": "stdout",
     "output_type": "stream",
     "text": [
      "<function RMSLE at 0x7a716ae44790>\n"
     ]
    },
    {
     "data": {
      "application/vnd.jupyter.widget-view+json": {
       "model_id": "25185dd2216d437ea76d24df7b1d9f31",
       "version_major": 2,
       "version_minor": 0
      },
      "text/plain": [
       "  0%|          | 0/41 [00:00<?, ?it/s]"
      ]
     },
     "metadata": {},
     "output_type": "display_data"
    },
    {
     "name": "stdout",
     "output_type": "stream",
     "text": [
      "<function MSLE at 0x7a716ae44550>\n"
     ]
    },
    {
     "data": {
      "application/vnd.jupyter.widget-view+json": {
       "model_id": "587423f9c1534dcd96a6e5e2c5c39121",
       "version_major": 2,
       "version_minor": 0
      },
      "text/plain": [
       "  0%|          | 0/41 [00:00<?, ?it/s]"
      ]
     },
     "metadata": {},
     "output_type": "display_data"
    },
    {
     "name": "stdout",
     "output_type": "stream",
     "text": [
      "<function MSE at 0x7a716ae445e0>\n"
     ]
    },
    {
     "data": {
      "application/vnd.jupyter.widget-view+json": {
       "model_id": "6e4af80ce65a42b68f5e389e3f509f49",
       "version_major": 2,
       "version_minor": 0
      },
      "text/plain": [
       "  0%|          | 0/41 [00:00<?, ?it/s]"
      ]
     },
     "metadata": {},
     "output_type": "display_data"
    },
    {
     "name": "stdout",
     "output_type": "stream",
     "text": [
      "<function MLSE at 0x7a716ae44670>\n"
     ]
    },
    {
     "data": {
      "application/vnd.jupyter.widget-view+json": {
       "model_id": "aff7ed833d69402b9658f41f5e5fbf51",
       "version_major": 2,
       "version_minor": 0
      },
      "text/plain": [
       "  0%|          | 0/41 [00:00<?, ?it/s]"
      ]
     },
     "metadata": {},
     "output_type": "display_data"
    },
    {
     "name": "stdout",
     "output_type": "stream",
     "text": [
      "<function RMLSE at 0x7a716ae44700>\n"
     ]
    },
    {
     "data": {
      "application/vnd.jupyter.widget-view+json": {
       "model_id": "dcde9eb2a3864140a0d0cb7180840cd4",
       "version_major": 2,
       "version_minor": 0
      },
      "text/plain": [
       "  0%|          | 0/41 [00:00<?, ?it/s]"
      ]
     },
     "metadata": {},
     "output_type": "display_data"
    },
    {
     "name": "stdout",
     "output_type": "stream",
     "text": [
      "<function RMSLE at 0x7a716ae44790>\n"
     ]
    },
    {
     "data": {
      "application/vnd.jupyter.widget-view+json": {
       "model_id": "4d279cddcb8b41c2aa1c3a2ad21ab918",
       "version_major": 2,
       "version_minor": 0
      },
      "text/plain": [
       "  0%|          | 0/41 [00:00<?, ?it/s]"
      ]
     },
     "metadata": {},
     "output_type": "display_data"
    },
    {
     "name": "stdout",
     "output_type": "stream",
     "text": [
      "<function MSLE at 0x7a716ae44550>\n"
     ]
    },
    {
     "data": {
      "application/vnd.jupyter.widget-view+json": {
       "model_id": "2626e61987c54560a3c3e8fdfa06af89",
       "version_major": 2,
       "version_minor": 0
      },
      "text/plain": [
       "  0%|          | 0/41 [00:00<?, ?it/s]"
      ]
     },
     "metadata": {},
     "output_type": "display_data"
    },
    {
     "name": "stdout",
     "output_type": "stream",
     "text": [
      "<function MSE at 0x7a716ae445e0>\n"
     ]
    },
    {
     "data": {
      "application/vnd.jupyter.widget-view+json": {
       "model_id": "e7a516d6f0a74f6fae3e6021bb4d42b2",
       "version_major": 2,
       "version_minor": 0
      },
      "text/plain": [
       "  0%|          | 0/41 [00:00<?, ?it/s]"
      ]
     },
     "metadata": {},
     "output_type": "display_data"
    },
    {
     "name": "stdout",
     "output_type": "stream",
     "text": [
      "<function MLSE at 0x7a716ae44670>\n"
     ]
    },
    {
     "data": {
      "application/vnd.jupyter.widget-view+json": {
       "model_id": "3f45a7ba3f2d410598b56fc8ccc166d5",
       "version_major": 2,
       "version_minor": 0
      },
      "text/plain": [
       "  0%|          | 0/41 [00:00<?, ?it/s]"
      ]
     },
     "metadata": {},
     "output_type": "display_data"
    },
    {
     "name": "stdout",
     "output_type": "stream",
     "text": [
      "<function RMLSE at 0x7a716ae44700>\n"
     ]
    },
    {
     "data": {
      "application/vnd.jupyter.widget-view+json": {
       "model_id": "423c7edc8b2346319ead6d9d1714f09d",
       "version_major": 2,
       "version_minor": 0
      },
      "text/plain": [
       "  0%|          | 0/41 [00:00<?, ?it/s]"
      ]
     },
     "metadata": {},
     "output_type": "display_data"
    },
    {
     "name": "stdout",
     "output_type": "stream",
     "text": [
      "<function RMSLE at 0x7a716ae44790>\n"
     ]
    },
    {
     "data": {
      "application/vnd.jupyter.widget-view+json": {
       "model_id": "ecf51877a3d64955a663dbe2a7651611",
       "version_major": 2,
       "version_minor": 0
      },
      "text/plain": [
       "  0%|          | 0/41 [00:00<?, ?it/s]"
      ]
     },
     "metadata": {},
     "output_type": "display_data"
    },
    {
     "name": "stdout",
     "output_type": "stream",
     "text": [
      "<function MSLE at 0x7a716ae44550>\n"
     ]
    },
    {
     "data": {
      "application/vnd.jupyter.widget-view+json": {
       "model_id": "810d6d808edd4f79b0e0f2e0f779d043",
       "version_major": 2,
       "version_minor": 0
      },
      "text/plain": [
       "  0%|          | 0/41 [00:00<?, ?it/s]"
      ]
     },
     "metadata": {},
     "output_type": "display_data"
    },
    {
     "name": "stdout",
     "output_type": "stream",
     "text": [
      "<function MSE at 0x7a716ae445e0>\n"
     ]
    },
    {
     "data": {
      "application/vnd.jupyter.widget-view+json": {
       "model_id": "64c697de5be4491a845c6840a5025319",
       "version_major": 2,
       "version_minor": 0
      },
      "text/plain": [
       "  0%|          | 0/41 [00:00<?, ?it/s]"
      ]
     },
     "metadata": {},
     "output_type": "display_data"
    },
    {
     "name": "stdout",
     "output_type": "stream",
     "text": [
      "<function MLSE at 0x7a716ae44670>\n"
     ]
    },
    {
     "data": {
      "application/vnd.jupyter.widget-view+json": {
       "model_id": "058fe50a0872411e844d896f1bd5cfbc",
       "version_major": 2,
       "version_minor": 0
      },
      "text/plain": [
       "  0%|          | 0/41 [00:00<?, ?it/s]"
      ]
     },
     "metadata": {},
     "output_type": "display_data"
    },
    {
     "name": "stdout",
     "output_type": "stream",
     "text": [
      "<function RMLSE at 0x7a716ae44700>\n"
     ]
    },
    {
     "data": {
      "application/vnd.jupyter.widget-view+json": {
       "model_id": "f7bc511d9ac14144b23d1712f5024024",
       "version_major": 2,
       "version_minor": 0
      },
      "text/plain": [
       "  0%|          | 0/41 [00:00<?, ?it/s]"
      ]
     },
     "metadata": {},
     "output_type": "display_data"
    },
    {
     "name": "stdout",
     "output_type": "stream",
     "text": [
      "<function RMSLE at 0x7a716ae44790>\n"
     ]
    },
    {
     "data": {
      "application/vnd.jupyter.widget-view+json": {
       "model_id": "65e6cedc65234ccfa825d1c14611cbae",
       "version_major": 2,
       "version_minor": 0
      },
      "text/plain": [
       "  0%|          | 0/41 [00:00<?, ?it/s]"
      ]
     },
     "metadata": {},
     "output_type": "display_data"
    },
    {
     "name": "stdout",
     "output_type": "stream",
     "text": [
      "<function MSLE at 0x7a716ae44550>\n"
     ]
    },
    {
     "data": {
      "application/vnd.jupyter.widget-view+json": {
       "model_id": "37b4e18b821e4ac1a17b2bf1b1001e5c",
       "version_major": 2,
       "version_minor": 0
      },
      "text/plain": [
       "  0%|          | 0/41 [00:00<?, ?it/s]"
      ]
     },
     "metadata": {},
     "output_type": "display_data"
    },
    {
     "name": "stdout",
     "output_type": "stream",
     "text": [
      "<function MSE at 0x7a716ae445e0>\n"
     ]
    },
    {
     "data": {
      "application/vnd.jupyter.widget-view+json": {
       "model_id": "700d2db4dd1746cdb91d31178df51cce",
       "version_major": 2,
       "version_minor": 0
      },
      "text/plain": [
       "  0%|          | 0/41 [00:00<?, ?it/s]"
      ]
     },
     "metadata": {},
     "output_type": "display_data"
    },
    {
     "name": "stdout",
     "output_type": "stream",
     "text": [
      "<function MLSE at 0x7a716ae44670>\n"
     ]
    },
    {
     "data": {
      "application/vnd.jupyter.widget-view+json": {
       "model_id": "6b9930be43c747f784ea89a0d63df30a",
       "version_major": 2,
       "version_minor": 0
      },
      "text/plain": [
       "  0%|          | 0/41 [00:00<?, ?it/s]"
      ]
     },
     "metadata": {},
     "output_type": "display_data"
    },
    {
     "name": "stdout",
     "output_type": "stream",
     "text": [
      "<function RMLSE at 0x7a716ae44700>\n"
     ]
    },
    {
     "data": {
      "application/vnd.jupyter.widget-view+json": {
       "model_id": "51a43e3e1fa844788dbd4550c8f3242b",
       "version_major": 2,
       "version_minor": 0
      },
      "text/plain": [
       "  0%|          | 0/41 [00:00<?, ?it/s]"
      ]
     },
     "metadata": {},
     "output_type": "display_data"
    },
    {
     "name": "stdout",
     "output_type": "stream",
     "text": [
      "<function RMSLE at 0x7a716ae44790>\n"
     ]
    },
    {
     "data": {
      "application/vnd.jupyter.widget-view+json": {
       "model_id": "dc92082152084b3896ba9953739fa1af",
       "version_major": 2,
       "version_minor": 0
      },
      "text/plain": [
       "  0%|          | 0/41 [00:00<?, ?it/s]"
      ]
     },
     "metadata": {},
     "output_type": "display_data"
    },
    {
     "name": "stdout",
     "output_type": "stream",
     "text": [
      "<function MSLE at 0x7a716ae44550>\n"
     ]
    },
    {
     "data": {
      "application/vnd.jupyter.widget-view+json": {
       "model_id": "508f3760f95c4466806642e9861dbc63",
       "version_major": 2,
       "version_minor": 0
      },
      "text/plain": [
       "  0%|          | 0/41 [00:00<?, ?it/s]"
      ]
     },
     "metadata": {},
     "output_type": "display_data"
    },
    {
     "name": "stdout",
     "output_type": "stream",
     "text": [
      "<function MSE at 0x7a716ae445e0>\n"
     ]
    },
    {
     "data": {
      "application/vnd.jupyter.widget-view+json": {
       "model_id": "7e956933063c4214ac12e346f3ee7510",
       "version_major": 2,
       "version_minor": 0
      },
      "text/plain": [
       "  0%|          | 0/41 [00:00<?, ?it/s]"
      ]
     },
     "metadata": {},
     "output_type": "display_data"
    },
    {
     "name": "stdout",
     "output_type": "stream",
     "text": [
      "<function MLSE at 0x7a716ae44670>\n"
     ]
    },
    {
     "data": {
      "application/vnd.jupyter.widget-view+json": {
       "model_id": "2f93adabf65d40d78b24619fb6f69f2e",
       "version_major": 2,
       "version_minor": 0
      },
      "text/plain": [
       "  0%|          | 0/41 [00:00<?, ?it/s]"
      ]
     },
     "metadata": {},
     "output_type": "display_data"
    },
    {
     "name": "stdout",
     "output_type": "stream",
     "text": [
      "<function RMLSE at 0x7a716ae44700>\n"
     ]
    },
    {
     "data": {
      "application/vnd.jupyter.widget-view+json": {
       "model_id": "bbe29724062b484e92fef6911180d38d",
       "version_major": 2,
       "version_minor": 0
      },
      "text/plain": [
       "  0%|          | 0/41 [00:00<?, ?it/s]"
      ]
     },
     "metadata": {},
     "output_type": "display_data"
    },
    {
     "name": "stdout",
     "output_type": "stream",
     "text": [
      "<function RMSLE at 0x7a716ae44790>\n"
     ]
    },
    {
     "data": {
      "application/vnd.jupyter.widget-view+json": {
       "model_id": "6142982b55bb457f9b4bccf61cbeea00",
       "version_major": 2,
       "version_minor": 0
      },
      "text/plain": [
       "  0%|          | 0/41 [00:00<?, ?it/s]"
      ]
     },
     "metadata": {},
     "output_type": "display_data"
    },
    {
     "name": "stdout",
     "output_type": "stream",
     "text": [
      "<function MSLE at 0x7a716ae44550>\n"
     ]
    },
    {
     "data": {
      "application/vnd.jupyter.widget-view+json": {
       "model_id": "c8102a80f3fb4faf9ac184b239ffe446",
       "version_major": 2,
       "version_minor": 0
      },
      "text/plain": [
       "  0%|          | 0/41 [00:00<?, ?it/s]"
      ]
     },
     "metadata": {},
     "output_type": "display_data"
    },
    {
     "name": "stdout",
     "output_type": "stream",
     "text": [
      "<function MSE at 0x7a716ae445e0>\n"
     ]
    },
    {
     "data": {
      "application/vnd.jupyter.widget-view+json": {
       "model_id": "9877de938a6f44e69a189f01f76cd715",
       "version_major": 2,
       "version_minor": 0
      },
      "text/plain": [
       "  0%|          | 0/41 [00:00<?, ?it/s]"
      ]
     },
     "metadata": {},
     "output_type": "display_data"
    },
    {
     "name": "stdout",
     "output_type": "stream",
     "text": [
      "<function MLSE at 0x7a716ae44670>\n"
     ]
    },
    {
     "data": {
      "application/vnd.jupyter.widget-view+json": {
       "model_id": "0f6d750ef0b1403d8784cfa0ffd25f2c",
       "version_major": 2,
       "version_minor": 0
      },
      "text/plain": [
       "  0%|          | 0/41 [00:00<?, ?it/s]"
      ]
     },
     "metadata": {},
     "output_type": "display_data"
    },
    {
     "name": "stdout",
     "output_type": "stream",
     "text": [
      "<function RMLSE at 0x7a716ae44700>\n"
     ]
    },
    {
     "data": {
      "application/vnd.jupyter.widget-view+json": {
       "model_id": "da2de73d67c04dda8ced159fb3c7c1af",
       "version_major": 2,
       "version_minor": 0
      },
      "text/plain": [
       "  0%|          | 0/41 [00:00<?, ?it/s]"
      ]
     },
     "metadata": {},
     "output_type": "display_data"
    },
    {
     "name": "stdout",
     "output_type": "stream",
     "text": [
      "<function RMSLE at 0x7a716ae44790>\n"
     ]
    },
    {
     "data": {
      "application/vnd.jupyter.widget-view+json": {
       "model_id": "41aeea187d7a4415834b793dfb8db07c",
       "version_major": 2,
       "version_minor": 0
      },
      "text/plain": [
       "  0%|          | 0/41 [00:00<?, ?it/s]"
      ]
     },
     "metadata": {},
     "output_type": "display_data"
    },
    {
     "name": "stdout",
     "output_type": "stream",
     "text": [
      "<function MSLE at 0x7a716ae44550>\n"
     ]
    },
    {
     "data": {
      "application/vnd.jupyter.widget-view+json": {
       "model_id": "817cd891994246818ba0d868bb545df4",
       "version_major": 2,
       "version_minor": 0
      },
      "text/plain": [
       "  0%|          | 0/41 [00:00<?, ?it/s]"
      ]
     },
     "metadata": {},
     "output_type": "display_data"
    },
    {
     "name": "stdout",
     "output_type": "stream",
     "text": [
      "<function MSE at 0x7a716ae445e0>\n"
     ]
    },
    {
     "data": {
      "application/vnd.jupyter.widget-view+json": {
       "model_id": "63e8ebf57d0a46d5b6731dd0904a35e7",
       "version_major": 2,
       "version_minor": 0
      },
      "text/plain": [
       "  0%|          | 0/41 [00:00<?, ?it/s]"
      ]
     },
     "metadata": {},
     "output_type": "display_data"
    },
    {
     "name": "stdout",
     "output_type": "stream",
     "text": [
      "<function MLSE at 0x7a716ae44670>\n"
     ]
    },
    {
     "data": {
      "application/vnd.jupyter.widget-view+json": {
       "model_id": "0c4e78b0dfc1492ea1adc03d0f57daca",
       "version_major": 2,
       "version_minor": 0
      },
      "text/plain": [
       "  0%|          | 0/41 [00:00<?, ?it/s]"
      ]
     },
     "metadata": {},
     "output_type": "display_data"
    },
    {
     "name": "stdout",
     "output_type": "stream",
     "text": [
      "<function RMLSE at 0x7a716ae44700>\n"
     ]
    },
    {
     "data": {
      "application/vnd.jupyter.widget-view+json": {
       "model_id": "51c97246d40045e7b0286c5366796ab5",
       "version_major": 2,
       "version_minor": 0
      },
      "text/plain": [
       "  0%|          | 0/41 [00:00<?, ?it/s]"
      ]
     },
     "metadata": {},
     "output_type": "display_data"
    },
    {
     "name": "stdout",
     "output_type": "stream",
     "text": [
      "<function RMSLE at 0x7a716ae44790>\n"
     ]
    },
    {
     "data": {
      "application/vnd.jupyter.widget-view+json": {
       "model_id": "04e14816e46044468d0452a501c8ca9c",
       "version_major": 2,
       "version_minor": 0
      },
      "text/plain": [
       "  0%|          | 0/41 [00:00<?, ?it/s]"
      ]
     },
     "metadata": {},
     "output_type": "display_data"
    }
   ],
   "source": [
    "fits = []\n",
    "a = 0\n",
    "for _ in range(20):\n",
    "    for loss_fn in loss_fns:\n",
    "        def error_function(params, *args):\n",
    "            synthetic = lorentzian_2d_DoG(*params, args[0])\n",
    "            return loss_fn(synthetic, args[1])\n",
    "    \n",
    "        def fit_z(z):    \n",
    "        \n",
    "            \n",
    "            #print(loss_fn)\n",
    "            \n",
    "            result, MSE_loss_50px, fit_midline = fit_to_PSF(small_fit_size, lorentzian_2d_DoG, fit_lorentz, error_function, z)\n",
    "            #results.append(result)\n",
    "        \n",
    "        \n",
    "            #fit_x = np.arange(-len(fit_midline)/2, len(fit_midline)/2)\n",
    "        \n",
    "            return result.x\n",
    "        \n",
    "        results = Parallel(n_jobs=-1)(delayed(fit_z)(z) for z in tqdm(range(41)))\n",
    "        fit = np.array([lorentzian_2d_DoG(*results[z], xdata_tuple) for z in range(41)])\n",
    "        tifffile.imwrite(f\"lorentz_xyz_fits/{a}.tif\", fit)\n",
    "        fits.append(fit)\n",
    "        a+=1\n",
    "        print(loss_fn)\n",
    "        #plt.imshow(fit.sum(axis=2), cmap=\"Greys_r\")\n",
    "        #plt.show()"
   ]
  },
  {
   "cell_type": "code",
   "execution_count": 11,
   "id": "1c683078-ae01-42ae-9486-427666bcd50a",
   "metadata": {},
   "outputs": [
    {
     "data": {
      "text/plain": [
       "<matplotlib.image.AxesImage at 0x7a716426e860>"
      ]
     },
     "execution_count": 11,
     "metadata": {},
     "output_type": "execute_result"
    },
    {
     "data": {
      "image/png": "[encoded data removed]",
      "text/plain": [
       "<Figure size 640x480 with 1 Axes>"
      ]
     },
     "metadata": {},
     "output_type": "display_data"
    }
   ],
   "source": [
    "plt.imshow(np.array(fits).sum(axis=0).sum(axis=2), cmap = \"Greys_r\")"
   ]
  },
  {
   "cell_type": "code",
   "execution_count": 14,
   "id": "fde5c887-6ca3-483a-a767-c733ebfa031f",
   "metadata": {},
   "outputs": [],
   "source": [
    "tifffile.imwrite(\"ePSF_fitted_50nm_pix_xyz.tif\", np.array(fits))"
   ]
  },
  {
   "cell_type": "code",
   "execution_count": null,
   "id": "b4cfccc5-707a-419a-9657-2ef7b6b630f2",
   "metadata": {},
   "outputs": [],
   "source": []
  }
 ],
 "metadata": {
  "kernelspec": {
   "display_name": "Python [conda env:symbac]",
   "language": "python",
   "name": "conda-env-symbac-py"
  },
  "language_info": {
   "codemirror_mode": {
    "name": "ipython",
    "version": 3
   },
   "file_extension": ".py",
   "mimetype": "text/x-python",
   "name": "python",
   "nbconvert_exporter": "python",
   "pygments_lexer": "ipython3",
   "version": "3.10.9"
  }
 },
 "nbformat": 4,
 "nbformat_minor": 5
}
