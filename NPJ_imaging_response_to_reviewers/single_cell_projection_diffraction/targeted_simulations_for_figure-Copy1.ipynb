{
 "cells": [
  {
   "cell_type": "code",
   "execution_count": 1,
   "id": "7dc6e7c4-d15b-41f8-97d9-119466bf58e7",
   "metadata": {},
   "outputs": [],
   "source": [
    "import os\n",
    "os.environ['MALLOC_TRIM_THRESHOLD_'] = '0'\n",
    "\n",
    "%matplotlib inline\n",
    "%config InlineBackend.print_figure_kwargs = {'bbox_inches':None}\n",
    "import sys\n",
    "sys.path.insert(1, '../../SyMBac/') # Not needed if you installed SyMBac using pip\n",
    "\n",
    "import ray\n",
    "from SyMBac.drawing import  OPL_to_FL\n",
    "from SyMBac.PSF import PSF_generator\n",
    "from SyMBac.renderer import convolve_rescale\n",
    "import matplotlib.pyplot as plt\n",
    "import numpy as np\n",
    "from tqdm.auto import tqdm\n",
    "from PIL import Image\n",
    "from skimage.util import img_as_uint\n",
    "from joblib import Parallel, delayed\n",
    "from glob import glob\n",
    "from SyMBac.colony_renderer import ColonyRenderer\n",
    "import noise\n",
    "from skimage.filters import threshold_otsu\n",
    "from skimage.transform import rescale, resize, downscale_local_mean\n",
    "from scipy.signal import find_peaks\n",
    "import pandas as pd\n",
    "from numba import njit\n",
    "import tifffile\n",
    "\n",
    "import ctypes\n",
    "\n",
    "def call_malloc_trim():\n",
    "    libc = ctypes.CDLL(\"libc.so.6\")\n",
    "    # The argument 0 means to trim as much memory as possible\n",
    "    libc.malloc_trim(0)"
   ]
  },
  {
   "cell_type": "code",
   "execution_count": 2,
   "id": "5c81bd9d-ab29-437d-8b58-bfb875b69189",
   "metadata": {},
   "outputs": [],
   "source": [
    "def raster_cell(length, width, separation = 0, additional_width = 0, pinching=True):\n",
    "    \"\"\"\n",
    "    Produces a rasterised image of a cell with the intensiity of each pixel corresponding to the optical path length\n",
    "    (thickness) of the cell at that point.\n",
    "\n",
    "    :param int length: Cell length in pixels\n",
    "    :param int width: Cell width in pixels\n",
    "    :param int separation: An int between (0, `width`) controlling how much pinching is happening.\n",
    "    :param bool pinching: Controls whether pinching is happening\n",
    "\n",
    "    Returns\n",
    "    -------\n",
    "\n",
    "    cell : np.array\n",
    "       A numpy array which contains an OPL image of the cell. Can be converted to a mask by just taking ``cell > 0``.\n",
    "\n",
    "    \"\"\"\n",
    "\n",
    "    L = int(np.rint(length))\n",
    "    W = int(np.rint(width))\n",
    "    new_cell = np.zeros((L, W))\n",
    "    R = (W - 1) / 2\n",
    "\n",
    "    x_cyl = np.arange(0, 2 * R + 1, 1)\n",
    "    I_cyl = np.sqrt(R ** 2 - (x_cyl - R) ** 2)\n",
    "    L_cyl = L - W\n",
    "    new_cell[int(W / 2):-int(W / 2), :] = I_cyl\n",
    "\n",
    "    x_sphere = np.arange(0, int(W / 2), 1)\n",
    "    sphere_Rs = np.sqrt((R) ** 2 - (x_sphere - R) ** 2)\n",
    "    sphere_Rs = np.rint(sphere_Rs).astype(int)\n",
    "\n",
    "    for c in range(len(sphere_Rs)):\n",
    "        R_ = sphere_Rs[c]\n",
    "        x_cyl = np.arange(0, R_, 1)\n",
    "        I_cyl = np.sqrt(R_ ** 2 - (x_cyl - R_) ** 2)\n",
    "        new_cell[c, int(W / 2) - sphere_Rs[c]:int(W / 2) + sphere_Rs[c]] = np.concatenate((I_cyl, I_cyl[::-1]))\n",
    "        new_cell[L - c - 1, int(W / 2) - sphere_Rs[c]:int(W / 2) + sphere_Rs[c]] = np.concatenate((I_cyl, I_cyl[::-1]))\n",
    "\n",
    "    if separation > 2 and pinching:\n",
    "        S = int(np.rint(separation))\n",
    "        new_cell[int((L - S) / 2) + 1:-int((L - S) / 2) - 1, :] = 0\n",
    "        for c in range(int((S+1) / 2)):\n",
    "            R__ = sphere_Rs[-c - 1]\n",
    "            x_cyl_ = np.arange(0, R__, 1)\n",
    "            I_cyl_ = np.sqrt(R__ ** 2 - (x_cyl_ - R__) ** 2)\n",
    "            new_cell[int((L-S) / 2) + c + 1, int(W / 2) - R__:int(W / 2) + R__] = np.concatenate((I_cyl_, I_cyl_[::-1]))\n",
    "            new_cell[-int((L-S) / 2) - c - 1, int(W / 2) - R__:int(W / 2) + R__] = np.concatenate((I_cyl_, I_cyl_[::-1]))\n",
    "    new_cell = new_cell.astype(int)\n",
    "            \n",
    "    \n",
    "    if additional_width>=1:\n",
    "        additional_width = int(additional_width)\n",
    "        wide_cell = np.zeros((new_cell.shape[0], int(new_cell.shape[1] + additional_width)))\n",
    "        wide_cell[:,:new_cell.shape[1]//2] = new_cell[:,:new_cell.shape[1]//2]\n",
    "        wide_cell[:,new_cell.shape[1]//2 + additional_width:] = new_cell[:,new_cell.shape[1]//2:]\n",
    "        wide_cell[:,new_cell.shape[1]//2:new_cell.shape[1]//2 + additional_width] = np.repeat(new_cell[:,new_cell.shape[1]//2].reshape(-1,1), additional_width, axis=1)\n",
    "        return wide_cell\n",
    "    \n",
    "    if additional_width<=1:\n",
    "        new_cell[np.where(new_cell)] += int(abs(additional_width))\n",
    "    \n",
    "    return new_cell\n",
    "\n",
    "@njit\n",
    "def generate_deviation_from_CL(centreline, thickness):\n",
    "    return np.arange(thickness) + centreline - int(np.ceil(thickness ))\n",
    "\n",
    "@njit\n",
    "def gen_3D_coords_from_2D(test_cells, centreline, thickness):\n",
    "    return np.where(test_cells == thickness) + (generate_deviation_from_CL(centreline, thickness),)\n",
    "\n",
    "@njit\n",
    "def convert_to_3D_numba(cell):\n",
    "    expanded_scene = cell\n",
    "    volume_shape = expanded_scene.shape[0:] + (int(expanded_scene.max()*2),)\n",
    "    test_cells = rounder(expanded_scene)\n",
    "    centreline = int(expanded_scene.max() )\n",
    "    cells_3D = np.zeros(volume_shape,dtype = np.ubyte)\n",
    "    for t in range(int(expanded_scene.max() *2 )):\n",
    "        test_coords = gen_3D_coords_from_2D(test_cells, centreline, t)\n",
    "        for x, y in zip(test_coords[0], (test_coords[1])):\n",
    "            for z in test_coords[2]:\n",
    "                cells_3D[x, y, z] = 1\n",
    "    return cells_3D\n",
    "\n",
    "def convert_to_3D(cell):\n",
    "    cells_3D = convert_to_3D_numba(cell)\n",
    "    cells_3D = np.moveaxis(cells_3D, -1, 0)\n",
    "    cells_3D[cells_3D.shape[0]//2:,:, :] = cells_3D[:cells_3D.shape[0]//2,:, :][::-1]\n",
    "    return cells_3D\n",
    "    #cells_3D = np.pad(cells_3D, ((100,100), (50,50), (50,50)))\n",
    "#cells_3D.shape\n",
    "\n",
    "@njit\n",
    "def rounder(x):\n",
    "    out = np.empty_like(x)\n",
    "    np.round(x, 0, out)\n",
    "    return out\n",
    "\n",
    "def raster_membrane_cell_3d(raster_cell_length, raster_cell_width, raster_slice_amount):\n",
    "\n",
    "\n",
    "    membrane_thickness = 0.05 #micron\n",
    "    raster_membrane_thickness = membrane_thickness/pix_mic_conv * resize_amount\n",
    "    cell_1 = raster_cell(length=round(raster_cell_length/2)*2, width=round(raster_cell_width/2)*2, additional_width=raster_additional_width)\n",
    "    cell_2 = raster_cell(length=round((raster_cell_length - raster_membrane_thickness)/2)*2, width=round((raster_cell_width - raster_membrane_thickness)/2)*2, additional_width=raster_additional_width)\n",
    "\n",
    "    cell_1_3d = convert_to_3D(cell_1)\n",
    "    cell_2_3d = convert_to_3D(cell_2)\n",
    "\n",
    "    \n",
    "    pad_1 = int((cell_1_3d.shape[0] - cell_2_3d.shape[0])/2)\n",
    "    pad_2 = int((cell_1_3d.shape[1] - cell_2_3d.shape[1])/2)\n",
    "    pad_3 = int((cell_1_3d.shape[2] - cell_2_3d.shape[2])/2)\n",
    "\n",
    "    cell_2_3d = np.pad(cell_2_3d, ((pad_1,pad_1), (pad_2, pad_2), (pad_3, pad_3)))\n",
    "    \n",
    "    cell_3d = cell_1_3d - cell_2_3d\n",
    "    \n",
    "    if raster_slice_amount:\n",
    "        \n",
    "        cell_3d = cell_3d[int(raster_slice_amount//2):-int(raster_slice_amount//2),:,:]\n",
    "    \n",
    "    return cell_3d\n",
    "\n",
    "def raster_cell_3d(raster_cell_length, raster_cell_width, raster_slice_amount):\n",
    "\n",
    "    cell_1 = raster_cell(length=round(raster_cell_length/2)*2, width=round(raster_cell_width/2)*2, additional_width=raster_additional_width)\n",
    "\n",
    "    cell_1_3d = convert_to_3D(cell_1)\n",
    "    \n",
    "    cell_3d = cell_1_3d \n",
    "    \n",
    "    if raster_slice_amount:\n",
    "        \n",
    "        cell_3d = cell_3d[int(raster_slice_amount//2):-int(raster_slice_amount//2),:,:]\n",
    "    \n",
    "    return cell_3d\n",
    "\n",
    "additional_width = 0\n",
    "raster_additional_width = 0"
   ]
  },
  {
   "cell_type": "code",
   "execution_count": 3,
   "id": "a44018d2-b21e-40b5-bdf7-b9f8be2c6322",
   "metadata": {},
   "outputs": [],
   "source": [
    "zero_wavelength_PSF = np.array([[0,0,0],[0,1,0],[0,0,0]])\n",
    "pad_amount = 100\n",
    "\n",
    "radius = 175\n",
    "wavelength = 0.65\n",
    "NA = 1.45\n",
    "n = 1.518\n",
    "resize_amount = 1\n",
    "pix_mic_conv = 0.065 / 7 #15\n",
    "apo_sigma = 10\n"
   ]
  },
  {
   "cell_type": "code",
   "execution_count": 4,
   "id": "c0dc34db-cec1-4ba4-9fbb-dc2451d62392",
   "metadata": {},
   "outputs": [],
   "source": [
    "PSF_darkred = tifffile.imread(\"../../PSF_comparison/average_100x_PSF_postmag_darkred.tif\")[70:-70,80:-80,80:-80]\n",
    "PSF_green = tifffile.imread(\"../../PSF_comparison/average_100x_PSF_postmag_green.tif\")[70:-70,80:-80,80:-80]\n",
    "PSF_orange = tifffile.imread(\"../../PSF_comparison/average_100x_PSF_postmag_orange.tif\")[70:-70,80:-80,80:-80]"
   ]
  },
  {
   "cell_type": "code",
   "execution_count": 5,
   "id": "4eebb606-5f82-4cc8-8f82-cb85301abb1b",
   "metadata": {},
   "outputs": [],
   "source": [
    "def prepare_ePSF(ePSF, pix_size_original_z, pix_size_original_xy, pix_size_new):\n",
    "    \n",
    "    ePSF = rescale(ePSF, (pix_size_original_z/pix_size_new, pix_size_original_xy / pix_size_new, pix_size_original_xy / pix_size_new), anti_aliasing=True)\n",
    "    ePSF = ePSF - ePSF.min(axis=(1, 2))[:, np.newaxis, np.newaxis]\n",
    "    return ePSF\n",
    "\n",
    "real_PSFs = {\n",
    "    \"ePSF_darkred\" : prepare_ePSF(PSF_darkred, pix_size_original_z=0.05, pix_size_original_xy=(0.065/1.5), pix_size_new=pix_mic_conv),\n",
    "    \"ePSF_green\" : prepare_ePSF(PSF_green, pix_size_original_z=0.05, pix_size_original_xy=(0.065/1.5), pix_size_new=pix_mic_conv)\n",
    "}"
   ]
  },
  {
   "cell_type": "code",
   "execution_count": 6,
   "id": "1c2846ca-8fa7-44ef-8830-9402f525b33a",
   "metadata": {},
   "outputs": [
    {
     "data": {
      "text/plain": [
       "<matplotlib.image.AxesImage at 0x7d2330de6bf0>"
      ]
     },
     "execution_count": 6,
     "metadata": {},
     "output_type": "execute_result"
    },
    {
     "data": {
      "image/png": "[encoded data removed]",
      "text/plain": [
       "<Figure size 640x480 with 1 Axes>"
      ]
     },
     "metadata": {},
     "output_type": "display_data"
    }
   ],
   "source": [
    "plt.imshow(real_PSFs[\"ePSF_darkred\"][100].astype(np.float16))"
   ]
  },
  {
   "cell_type": "code",
   "execution_count": 7,
   "id": "4f2c233c-9e06-4fad-8c02-3b32ddb2a53c",
   "metadata": {},
   "outputs": [
    {
     "name": "stdout",
     "output_type": "stream",
     "text": [
      "[263 343 431 484 537]\n"
     ]
    },
    {
     "name": "stderr",
     "output_type": "stream",
     "text": [
      "/tmp/ipykernel_79805/2891138087.py:4: RuntimeWarning: invalid value encountered in divide\n",
      "  profile = profile/profile.max()\n"
     ]
    },
    {
     "data": {
      "text/plain": [
       "<matplotlib.image.AxesImage at 0x7d2330507430>"
      ]
     },
     "execution_count": 7,
     "metadata": {},
     "output_type": "execute_result"
    },
    {
     "data": {
      "image/png": "[encoded data removed]",
      "text/plain": [
       "<Figure size 640x480 with 1 Axes>"
      ]
     },
     "metadata": {},
     "output_type": "display_data"
    }
   ],
   "source": [
    "profile_integral = []\n",
    "for layer in real_PSFs[\"ePSF_green\"]:\n",
    "    profile = layer[:,real_PSFs[\"ePSF_green\"].shape[1]//2]\n",
    "    profile = profile/profile.max()\n",
    "    profile_integral.append(-np.cumsum(profile)[-1])\n",
    "profile_integral = np.array(profile_integral)\n",
    "\n",
    "plt.plot(profile_integral)\n",
    "peaks = find_peaks(profile_integral, height = -100, prominence=10)[0]\n",
    "plt.scatter(peaks, profile_integral[peaks])\n",
    "print(peaks)\n",
    "PSF_green_centre_z =  peaks[0] #- 10 * 2\n",
    "plt.imshow(real_PSFs[\"ePSF_green\"][PSF_green_centre_z])"
   ]
  },
  {
   "cell_type": "code",
   "execution_count": 8,
   "id": "8e2e387a-9160-46d8-b6d6-cf0d170ec808",
   "metadata": {},
   "outputs": [
    {
     "name": "stderr",
     "output_type": "stream",
     "text": [
      "/tmp/ipykernel_79805/2905982503.py:4: RuntimeWarning: invalid value encountered in divide\n",
      "  profile = profile/profile.max()\n"
     ]
    },
    {
     "data": {
      "text/plain": [
       "<matplotlib.image.AxesImage at 0x7d23305c3490>"
      ]
     },
     "execution_count": 8,
     "metadata": {},
     "output_type": "execute_result"
    },
    {
     "data": {
      "image/png": "[encoded data removed]",
      "text/plain": [
       "<Figure size 640x480 with 1 Axes>"
      ]
     },
     "metadata": {},
     "output_type": "display_data"
    }
   ],
   "source": [
    "profile_integral = []\n",
    "for layer in real_PSFs[\"ePSF_darkred\"]:\n",
    "    profile = layer[:,real_PSFs[\"ePSF_darkred\"].shape[1]//2]\n",
    "    profile = profile/profile.max()\n",
    "    profile_integral.append(-np.cumsum(profile)[-1])\n",
    "profile_integral = np.array(profile_integral)\n",
    "\n",
    "plt.plot(profile_integral)\n",
    "peaks = find_peaks(profile_integral, height = -110, prominence=10)[0]\n",
    "plt.scatter(peaks, profile_integral[peaks])\n",
    "PSF_darkred_centre_z = peaks[0] - 17*3 # Check how the peaks line up with the tails\n",
    "plt.imshow(real_PSFs[\"ePSF_darkred\"][PSF_darkred_centre_z])"
   ]
  },
  {
   "cell_type": "code",
   "execution_count": 9,
   "id": "13d7ed45-0468-44a7-909d-d7058eb7a674",
   "metadata": {},
   "outputs": [],
   "source": [
    "import pickle\n",
    "import gc"
   ]
  },
  {
   "cell_type": "code",
   "execution_count": 16,
   "id": "73064bf6-3114-47de-8338-1a99e45d2c39",
   "metadata": {},
   "outputs": [],
   "source": [
    "cell_length = 3.02\n",
    "grid_size = 30\n",
    "max_width = 3\n",
    "cell_widths = np.arange(0.1, max_width, 0.1)+0.02\n",
    "cell_types = [\"membrane\"]\n",
    "PSF_names = list(real_PSFs.keys())\n",
    "PSF_centres = [PSF_darkred_centre_z, PSF_green_centre_z]"
   ]
  },
  {
   "cell_type": "code",
   "execution_count": 17,
   "id": "ee175afa-b201-4573-915b-a2ca1aa7ee97",
   "metadata": {
    "scrolled": true
   },
   "outputs": [
    {
     "data": {
      "text/plain": [
       "array([0.12, 0.22, 0.32, 0.42, 0.52, 0.62, 0.72, 0.82, 0.92, 1.02, 1.12,\n",
       "       1.22, 1.32, 1.42, 1.52, 1.62, 1.72, 1.82, 1.92, 2.02, 2.12, 2.22,\n",
       "       2.32, 2.42, 2.52, 2.62, 2.72, 2.82, 2.92])"
      ]
     },
     "execution_count": 17,
     "metadata": {},
     "output_type": "execute_result"
    }
   ],
   "source": [
    "cell_widths"
   ]
  },
  {
   "cell_type": "code",
   "execution_count": 12,
   "id": "0ecaa4e3-0947-40d4-9ea1-c9ebf5508ef0",
   "metadata": {},
   "outputs": [],
   "source": [
    "from itertools import product"
   ]
  },
  {
   "cell_type": "code",
   "execution_count": 13,
   "id": "8cecd4ad-0382-4ae5-9f6c-07cd204ef188",
   "metadata": {},
   "outputs": [
    {
     "data": {
      "text/plain": [
       "(322, 424, 426)"
      ]
     },
     "execution_count": 13,
     "metadata": {},
     "output_type": "execute_result"
    }
   ],
   "source": [
    "a_cell = np.pad(raster_membrane_cell_3d(3/pix_mic_conv, 3.02/pix_mic_conv, 0), ((0,0), (50, 50), (50,50)))\n",
    "a_cell.shape"
   ]
  },
  {
   "cell_type": "code",
   "execution_count": 14,
   "id": "fc47a681-dc55-4fa3-bb66-dc8849c7073d",
   "metadata": {},
   "outputs": [
    {
     "name": "stdout",
     "output_type": "stream",
     "text": [
      "CPU times: user 352 ms, sys: 345 ms, total: 697 ms\n",
      "Wall time: 691 ms\n"
     ]
    }
   ],
   "source": [
    "%%time\n",
    "a = convolve_rescale(a_cell[a_cell.shape[0]//2].astype(float), real_PSFs['ePSF_darkred'][333], 1, False)"
   ]
  },
  {
   "cell_type": "code",
   "execution_count": 25,
   "id": "e8e6168d-9b33-426e-976c-d858f302d39e",
   "metadata": {
    "scrolled": true
   },
   "outputs": [
    {
     "data": {
      "application/vnd.jupyter.widget-view+json": {
       "model_id": "ed362056ffe04e18841c442ffd3adf7a",
       "version_major": 2,
       "version_minor": 0
      },
      "text/plain": [
       "  0%|          | 0/30 [00:00<?, ?it/s]"
      ]
     },
     "metadata": {},
     "output_type": "display_data"
    },
    {
     "data": {
      "application/vnd.jupyter.widget-view+json": {
       "model_id": "9c7e0a8e33b4467084acf3c1223b7ebd",
       "version_major": 2,
       "version_minor": 0
      },
      "text/plain": [
       "  0%|          | 0/4 [00:00<?, ?it/s]"
      ]
     },
     "metadata": {},
     "output_type": "display_data"
    },
    {
     "name": "stdout",
     "output_type": "stream",
     "text": [
      "targeted_simulation_output/0.12000000000000001_tPSF_0.4.tiff\n"
     ]
    },
    {
     "data": {
      "application/vnd.jupyter.widget-view+json": {
       "model_id": "ce590ed4558e42bbb4251b970cb4534b",
       "version_major": 2,
       "version_minor": 0
      },
      "text/plain": [
       "  0%|          | 0/26 [00:00<?, ?it/s]"
      ]
     },
     "metadata": {},
     "output_type": "display_data"
    },
    {
     "name": "stdout",
     "output_type": "stream",
     "text": [
      "targeted_simulation_output/0.12000000000000001_tPSF_0.5.tiff\n"
     ]
    },
    {
     "data": {
      "application/vnd.jupyter.widget-view+json": {
       "model_id": "7e52f4fc14b748a7b29078111609e3e7",
       "version_major": 2,
       "version_minor": 0
      },
      "text/plain": [
       "  0%|          | 0/26 [00:00<?, ?it/s]"
      ]
     },
     "metadata": {},
     "output_type": "display_data"
    },
    {
     "name": "stdout",
     "output_type": "stream",
     "text": [
      "targeted_simulation_output/0.12000000000000001_tPSF_0.6.tiff\n"
     ]
    },
    {
     "data": {
      "application/vnd.jupyter.widget-view+json": {
       "model_id": "55e0f9f7b7ac4aac9b310d1ee7de65f6",
       "version_major": 2,
       "version_minor": 0
      },
      "text/plain": [
       "  0%|          | 0/26 [00:00<?, ?it/s]"
      ]
     },
     "metadata": {},
     "output_type": "display_data"
    },
    {
     "name": "stdout",
     "output_type": "stream",
     "text": [
      "targeted_simulation_output/0.12000000000000001_tPSF_0.7.tiff\n"
     ]
    },
    {
     "data": {
      "application/vnd.jupyter.widget-view+json": {
       "model_id": "2ac78adcd346476cb83b7683b684ca3b",
       "version_major": 2,
       "version_minor": 0
      },
      "text/plain": [
       "  0%|          | 0/26 [00:00<?, ?it/s]"
      ]
     },
     "metadata": {},
     "output_type": "display_data"
    },
    {
     "data": {
      "application/vnd.jupyter.widget-view+json": {
       "model_id": "96116c6021b146abbce7afec402d2ca2",
       "version_major": 2,
       "version_minor": 0
      },
      "text/plain": [
       "  0%|          | 0/4 [00:00<?, ?it/s]"
      ]
     },
     "metadata": {},
     "output_type": "display_data"
    },
    {
     "name": "stdout",
     "output_type": "stream",
     "text": [
      "targeted_simulation_output/0.22_tPSF_0.4.tiff\n"
     ]
    },
    {
     "data": {
      "application/vnd.jupyter.widget-view+json": {
       "model_id": "8a065100de1b4dffa710afaa5dbd4845",
       "version_major": 2,
       "version_minor": 0
      },
      "text/plain": [
       "  0%|          | 0/48 [00:00<?, ?it/s]"
      ]
     },
     "metadata": {},
     "output_type": "display_data"
    },
    {
     "name": "stderr",
     "output_type": "stream",
     "text": [
      "\n",
      "KeyboardInterrupt\n",
      "\n",
      "Process Dask Worker process (from Nanny):\n",
      "Process Dask Worker process (from Nanny):\n",
      "2024-04-25 11:14:53,392 - distributed.nanny - ERROR - Worker process died unexpectedly\n",
      "2024-04-25 11:14:53,392 - distributed.nanny - ERROR - Worker process died unexpectedly\n",
      "Traceback (most recent call last):\n",
      "Traceback (most recent call last):\n",
      "  File \"/home/gh464/miniconda3/envs/symbac/lib/python3.10/site-packages/distributed/nanny.py\", line 1007, in _run\n",
      "    asyncio_run(run(), loop_factory=get_loop_factory())\n",
      "  File \"/home/gh464/miniconda3/envs/symbac/lib/python3.10/site-packages/distributed/compatibility.py\", line 236, in asyncio_run\n",
      "    return loop.run_until_complete(main)\n",
      "  File \"/home/gh464/miniconda3/envs/symbac/lib/python3.10/asyncio/base_events.py\", line 636, in run_until_complete\n",
      "    self.run_forever()\n",
      "  File \"/home/gh464/miniconda3/envs/symbac/lib/python3.10/asyncio/base_events.py\", line 603, in run_forever\n",
      "    self._run_once()\n",
      "  File \"/home/gh464/miniconda3/envs/symbac/lib/python3.10/asyncio/base_events.py\", line 1868, in _run_once\n",
      "    event_list = self._selector.select(timeout)\n",
      "  File \"/home/gh464/miniconda3/envs/symbac/lib/python3.10/selectors.py\", line 469, in select\n",
      "    fd_event_list = self._selector.poll(timeout, max_ev)\n",
      "  File \"/home/gh464/miniconda3/envs/symbac/lib/python3.10/site-packages/distributed/nanny.py\", line 1007, in _run\n",
      "    asyncio_run(run(), loop_factory=get_loop_factory())\n",
      "  File \"/home/gh464/miniconda3/envs/symbac/lib/python3.10/site-packages/distributed/compatibility.py\", line 236, in asyncio_run\n",
      "    return loop.run_until_complete(main)\n",
      "  File \"/home/gh464/miniconda3/envs/symbac/lib/python3.10/asyncio/base_events.py\", line 636, in run_until_complete\n",
      "    self.run_forever()\n",
      "  File \"/home/gh464/miniconda3/envs/symbac/lib/python3.10/asyncio/base_events.py\", line 603, in run_forever\n",
      "    self._run_once()\n",
      "  File \"/home/gh464/miniconda3/envs/symbac/lib/python3.10/asyncio/base_events.py\", line 1868, in _run_once\n",
      "    event_list = self._selector.select(timeout)\n",
      "  File \"/home/gh464/miniconda3/envs/symbac/lib/python3.10/selectors.py\", line 469, in select\n",
      "    fd_event_list = self._selector.poll(timeout, max_ev)\n",
      "KeyboardInterrupt\n",
      "\n",
      "During handling of the above exception, another exception occurred:\n",
      "\n",
      "Traceback (most recent call last):\n",
      "KeyboardInterrupt\n",
      "\n",
      "During handling of the above exception, another exception occurred:\n",
      "\n",
      "Traceback (most recent call last):\n",
      "  File \"/home/gh464/miniconda3/envs/symbac/lib/python3.10/multiprocessing/process.py\", line 314, in _bootstrap\n",
      "    self.run()\n",
      "  File \"/home/gh464/miniconda3/envs/symbac/lib/python3.10/multiprocessing/process.py\", line 108, in run\n",
      "    self._target(*self._args, **self._kwargs)\n",
      "  File \"/home/gh464/miniconda3/envs/symbac/lib/python3.10/multiprocessing/process.py\", line 314, in _bootstrap\n",
      "    self.run()\n",
      "  File \"/home/gh464/miniconda3/envs/symbac/lib/python3.10/multiprocessing/process.py\", line 108, in run\n",
      "    self._target(*self._args, **self._kwargs)\n",
      "  File \"/home/gh464/miniconda3/envs/symbac/lib/python3.10/site-packages/distributed/process.py\", line 202, in _run\n",
      "    target(*args, **kwargs)\n",
      "  File \"/home/gh464/miniconda3/envs/symbac/lib/python3.10/site-packages/distributed/nanny.py\", line 981, in _run\n",
      "    with contextlib.ExitStack() as stack:\n",
      "  File \"/home/gh464/miniconda3/envs/symbac/lib/python3.10/site-packages/distributed/process.py\", line 202, in _run\n",
      "    target(*args, **kwargs)\n",
      "  File \"/home/gh464/miniconda3/envs/symbac/lib/python3.10/contextlib.py\", line 576, in __exit__\n",
      "    raise exc_details[1]\n",
      "  File \"/home/gh464/miniconda3/envs/symbac/lib/python3.10/site-packages/distributed/nanny.py\", line 981, in _run\n",
      "    with contextlib.ExitStack() as stack:\n",
      "  File \"/home/gh464/miniconda3/envs/symbac/lib/python3.10/contextlib.py\", line 561, in __exit__\n",
      "    if cb(*exc_details):\n",
      "  File \"/home/gh464/miniconda3/envs/symbac/lib/python3.10/contextlib.py\", line 576, in __exit__\n",
      "    raise exc_details[1]\n",
      "  File \"/home/gh464/miniconda3/envs/symbac/lib/python3.10/contextlib.py\", line 449, in _exit_wrapper\n",
      "    callback(*args, **kwds)\n",
      "  File \"/home/gh464/miniconda3/envs/symbac/lib/python3.10/contextlib.py\", line 561, in __exit__\n",
      "    if cb(*exc_details):\n",
      "  File \"/home/gh464/miniconda3/envs/symbac/lib/python3.10/threading.py\", line 1100, in join\n",
      "    self._wait_for_tstate_lock(timeout=max(timeout, 0))\n",
      "  File \"/home/gh464/miniconda3/envs/symbac/lib/python3.10/contextlib.py\", line 449, in _exit_wrapper\n",
      "    callback(*args, **kwds)\n",
      "  File \"/home/gh464/miniconda3/envs/symbac/lib/python3.10/threading.py\", line 1116, in _wait_for_tstate_lock\n",
      "    if lock.acquire(block, timeout):\n",
      "  File \"/home/gh464/miniconda3/envs/symbac/lib/python3.10/threading.py\", line 1100, in join\n",
      "    self._wait_for_tstate_lock(timeout=max(timeout, 0))\n",
      "  File \"/home/gh464/miniconda3/envs/symbac/lib/python3.10/threading.py\", line 1116, in _wait_for_tstate_lock\n",
      "    if lock.acquire(block, timeout):\n",
      "KeyboardInterrupt\n",
      "KeyboardInterrupt\n"
     ]
    }
   ],
   "source": [
    "for cell_width in tqdm(cell_widths):\n",
    "    a_cell = np.pad(raster_membrane_cell_3d(3/pix_mic_conv, cell_width/pix_mic_conv, 0), ((0,0), (150, 150), (150,150)))\n",
    "    cell_centre = a_cell.shape[0]//2\n",
    "    for PSF_name in (tqdm(tPSF_names)):\n",
    "        file_name = f\"targeted_simulation_output/{cell_width}_tPSF_{PSF_name}.tiff\"\n",
    "        print(file_name)\n",
    "        PSF = tPSFs[PSF_name]\n",
    "        cell_conv_idxs = np.arange(a_cell.shape[0])\n",
    "        PSF_centre = PSF.shape[0]//2\n",
    "    \n",
    "        cell_conv_idxs = np.arange(a_cell.shape[0])\n",
    "        PSF_conv_idxs = np.arange(PSF_centre-cell_centre,PSF_centre+cell_centre)\n",
    "\n",
    "\n",
    "        convolved_projection = np.array(\n",
    "            [convolve_rescale(a_cell[cell_conv_idx].astype(np.float32), PSF[PSF_conv_idx], 1, False) for cell_conv_idx, PSF_conv_idx in zip(cell_conv_idxs, tqdm(PSF_conv_idxs))]\n",
    "        )\n",
    "\n",
    "        tifffile.imwrite(file_name, convolved_projection)"
   ]
  },
  {
   "cell_type": "code",
   "execution_count": 17,
   "id": "b8db3a2c-dc71-4482-9d97-0772f3fcb7bc",
   "metadata": {
    "scrolled": true
   },
   "outputs": [
    {
     "data": {
      "application/vnd.jupyter.widget-view+json": {
       "model_id": "16219ae56d5348dfa7beb103b24b0f7c",
       "version_major": 2,
       "version_minor": 0
      },
      "text/plain": [
       "  0%|          | 0/26 [00:00<?, ?it/s]"
      ]
     },
     "metadata": {},
     "output_type": "display_data"
    },
    {
     "data": {
      "application/vnd.jupyter.widget-view+json": {
       "model_id": "f6323498970043048fada8c5efae9413",
       "version_major": 2,
       "version_minor": 0
      },
      "text/plain": [
       "  0%|          | 0/2 [00:00<?, ?it/s]"
      ]
     },
     "metadata": {},
     "output_type": "display_data"
    },
    {
     "name": "stdout",
     "output_type": "stream",
     "text": [
      "targeted_simulation_output_cyto/0.52_iPSF_ePSF_darkred.tiff\n"
     ]
    },
    {
     "data": {
      "application/vnd.jupyter.widget-view+json": {
       "model_id": "479a49d09c8c4b3cbe3d84f3cdcad94b",
       "version_major": 2,
       "version_minor": 0
      },
      "text/plain": [
       "  0%|          | 0/118 [00:00<?, ?it/s]"
      ]
     },
     "metadata": {},
     "output_type": "display_data"
    },
    {
     "name": "stdout",
     "output_type": "stream",
     "text": [
      "targeted_simulation_output_cyto/0.52_iPSF_ePSF_green.tiff\n"
     ]
    },
    {
     "data": {
      "application/vnd.jupyter.widget-view+json": {
       "model_id": "e021941c14714e46ad7281a6d1c1c72d",
       "version_major": 2,
       "version_minor": 0
      },
      "text/plain": [
       "  0%|          | 0/118 [00:00<?, ?it/s]"
      ]
     },
     "metadata": {},
     "output_type": "display_data"
    },
    {
     "data": {
      "application/vnd.jupyter.widget-view+json": {
       "model_id": "b7246e2d1b72454180d37ed389a9f959",
       "version_major": 2,
       "version_minor": 0
      },
      "text/plain": [
       "  0%|          | 0/2 [00:00<?, ?it/s]"
      ]
     },
     "metadata": {},
     "output_type": "display_data"
    },
    {
     "name": "stdout",
     "output_type": "stream",
     "text": [
      "targeted_simulation_output_cyto/0.62_iPSF_ePSF_darkred.tiff\n"
     ]
    },
    {
     "data": {
      "application/vnd.jupyter.widget-view+json": {
       "model_id": "413f92b5a3a142409f81cf824caf0da6",
       "version_major": 2,
       "version_minor": 0
      },
      "text/plain": [
       "  0%|          | 0/142 [00:00<?, ?it/s]"
      ]
     },
     "metadata": {},
     "output_type": "display_data"
    },
    {
     "name": "stdout",
     "output_type": "stream",
     "text": [
      "targeted_simulation_output_cyto/0.62_iPSF_ePSF_green.tiff\n"
     ]
    },
    {
     "data": {
      "application/vnd.jupyter.widget-view+json": {
       "model_id": "84548134f633449b94fc8268a5c5f7e6",
       "version_major": 2,
       "version_minor": 0
      },
      "text/plain": [
       "  0%|          | 0/142 [00:00<?, ?it/s]"
      ]
     },
     "metadata": {},
     "output_type": "display_data"
    },
    {
     "data": {
      "application/vnd.jupyter.widget-view+json": {
       "model_id": "1df5f21bcd094a57a4f19d95225dc843",
       "version_major": 2,
       "version_minor": 0
      },
      "text/plain": [
       "  0%|          | 0/2 [00:00<?, ?it/s]"
      ]
     },
     "metadata": {},
     "output_type": "display_data"
    },
    {
     "name": "stdout",
     "output_type": "stream",
     "text": [
      "targeted_simulation_output_cyto/0.72_iPSF_ePSF_darkred.tiff\n"
     ]
    },
    {
     "data": {
      "application/vnd.jupyter.widget-view+json": {
       "model_id": "2004e036a85f48ddad7442672f5be578",
       "version_major": 2,
       "version_minor": 0
      },
      "text/plain": [
       "  0%|          | 0/164 [00:00<?, ?it/s]"
      ]
     },
     "metadata": {},
     "output_type": "display_data"
    },
    {
     "name": "stdout",
     "output_type": "stream",
     "text": [
      "targeted_simulation_output_cyto/0.72_iPSF_ePSF_green.tiff\n"
     ]
    },
    {
     "data": {
      "application/vnd.jupyter.widget-view+json": {
       "model_id": "8e409e21bfcd432d8399d036637ba244",
       "version_major": 2,
       "version_minor": 0
      },
      "text/plain": [
       "  0%|          | 0/164 [00:00<?, ?it/s]"
      ]
     },
     "metadata": {},
     "output_type": "display_data"
    },
    {
     "data": {
      "application/vnd.jupyter.widget-view+json": {
       "model_id": "bab8cc96498643799429fbcf09a22c85",
       "version_major": 2,
       "version_minor": 0
      },
      "text/plain": [
       "  0%|          | 0/2 [00:00<?, ?it/s]"
      ]
     },
     "metadata": {},
     "output_type": "display_data"
    },
    {
     "name": "stdout",
     "output_type": "stream",
     "text": [
      "targeted_simulation_output_cyto/0.82_iPSF_ePSF_darkred.tiff\n"
     ]
    },
    {
     "data": {
      "application/vnd.jupyter.widget-view+json": {
       "model_id": "361bb8d3a83946d6bba27a261fe81a35",
       "version_major": 2,
       "version_minor": 0
      },
      "text/plain": [
       "  0%|          | 0/188 [00:00<?, ?it/s]"
      ]
     },
     "metadata": {},
     "output_type": "display_data"
    },
    {
     "name": "stdout",
     "output_type": "stream",
     "text": [
      "targeted_simulation_output_cyto/0.82_iPSF_ePSF_green.tiff\n"
     ]
    },
    {
     "data": {
      "application/vnd.jupyter.widget-view+json": {
       "model_id": "7f4098bce3a947349a72bb4ac7535846",
       "version_major": 2,
       "version_minor": 0
      },
      "text/plain": [
       "  0%|          | 0/188 [00:00<?, ?it/s]"
      ]
     },
     "metadata": {},
     "output_type": "display_data"
    },
    {
     "data": {
      "application/vnd.jupyter.widget-view+json": {
       "model_id": "3a3c4ba063bb4bb38270338be398acb9",
       "version_major": 2,
       "version_minor": 0
      },
      "text/plain": [
       "  0%|          | 0/2 [00:00<?, ?it/s]"
      ]
     },
     "metadata": {},
     "output_type": "display_data"
    },
    {
     "name": "stdout",
     "output_type": "stream",
     "text": [
      "targeted_simulation_output_cyto/0.9199999999999999_iPSF_ePSF_darkred.tiff\n"
     ]
    },
    {
     "data": {
      "application/vnd.jupyter.widget-view+json": {
       "model_id": "2987c3c400594344a0947e85e66ea3db",
       "version_major": 2,
       "version_minor": 0
      },
      "text/plain": [
       "  0%|          | 0/210 [00:00<?, ?it/s]"
      ]
     },
     "metadata": {},
     "output_type": "display_data"
    },
    {
     "name": "stdout",
     "output_type": "stream",
     "text": [
      "targeted_simulation_output_cyto/0.9199999999999999_iPSF_ePSF_green.tiff\n"
     ]
    },
    {
     "data": {
      "application/vnd.jupyter.widget-view+json": {
       "model_id": "bb05f8ba71094a6b9c8a0e48337f3df7",
       "version_major": 2,
       "version_minor": 0
      },
      "text/plain": [
       "  0%|          | 0/210 [00:00<?, ?it/s]"
      ]
     },
     "metadata": {},
     "output_type": "display_data"
    },
    {
     "data": {
      "application/vnd.jupyter.widget-view+json": {
       "model_id": "9b1ef6f25056488f88736fe33a096389",
       "version_major": 2,
       "version_minor": 0
      },
      "text/plain": [
       "  0%|          | 0/2 [00:00<?, ?it/s]"
      ]
     },
     "metadata": {},
     "output_type": "display_data"
    },
    {
     "name": "stdout",
     "output_type": "stream",
     "text": [
      "targeted_simulation_output_cyto/1.0199999999999998_iPSF_ePSF_darkred.tiff\n"
     ]
    },
    {
     "data": {
      "application/vnd.jupyter.widget-view+json": {
       "model_id": "fb2cdf69522a478cb2bd45fbd214ef38",
       "version_major": 2,
       "version_minor": 0
      },
      "text/plain": [
       "  0%|          | 0/234 [00:00<?, ?it/s]"
      ]
     },
     "metadata": {},
     "output_type": "display_data"
    },
    {
     "name": "stdout",
     "output_type": "stream",
     "text": [
      "targeted_simulation_output_cyto/1.0199999999999998_iPSF_ePSF_green.tiff\n"
     ]
    },
    {
     "data": {
      "application/vnd.jupyter.widget-view+json": {
       "model_id": "1306fb65bcbb4e4da1d588aa565bb596",
       "version_major": 2,
       "version_minor": 0
      },
      "text/plain": [
       "  0%|          | 0/234 [00:00<?, ?it/s]"
      ]
     },
     "metadata": {},
     "output_type": "display_data"
    },
    {
     "data": {
      "application/vnd.jupyter.widget-view+json": {
       "model_id": "a1430263736f40b89fe6dd850dec68d2",
       "version_major": 2,
       "version_minor": 0
      },
      "text/plain": [
       "  0%|          | 0/2 [00:00<?, ?it/s]"
      ]
     },
     "metadata": {},
     "output_type": "display_data"
    },
    {
     "name": "stdout",
     "output_type": "stream",
     "text": [
      "targeted_simulation_output_cyto/1.1199999999999999_iPSF_ePSF_darkred.tiff\n"
     ]
    },
    {
     "data": {
      "application/vnd.jupyter.widget-view+json": {
       "model_id": "25786a2120f34bdd86f186a1f9b4a178",
       "version_major": 2,
       "version_minor": 0
      },
      "text/plain": [
       "  0%|          | 0/256 [00:00<?, ?it/s]"
      ]
     },
     "metadata": {},
     "output_type": "display_data"
    },
    {
     "name": "stdout",
     "output_type": "stream",
     "text": [
      "targeted_simulation_output_cyto/1.1199999999999999_iPSF_ePSF_green.tiff\n"
     ]
    },
    {
     "data": {
      "application/vnd.jupyter.widget-view+json": {
       "model_id": "1654c7d04b28444f8f2c114c33f8fa70",
       "version_major": 2,
       "version_minor": 0
      },
      "text/plain": [
       "  0%|          | 0/256 [00:00<?, ?it/s]"
      ]
     },
     "metadata": {},
     "output_type": "display_data"
    },
    {
     "data": {
      "application/vnd.jupyter.widget-view+json": {
       "model_id": "28215ba3ff1d4da8935611d24b001c77",
       "version_major": 2,
       "version_minor": 0
      },
      "text/plain": [
       "  0%|          | 0/2 [00:00<?, ?it/s]"
      ]
     },
     "metadata": {},
     "output_type": "display_data"
    },
    {
     "name": "stdout",
     "output_type": "stream",
     "text": [
      "targeted_simulation_output_cyto/1.2199999999999998_iPSF_ePSF_darkred.tiff\n"
     ]
    },
    {
     "data": {
      "application/vnd.jupyter.widget-view+json": {
       "model_id": "387a88abd6dc4e5e86753678933ae361",
       "version_major": 2,
       "version_minor": 0
      },
      "text/plain": [
       "  0%|          | 0/280 [00:00<?, ?it/s]"
      ]
     },
     "metadata": {},
     "output_type": "display_data"
    },
    {
     "name": "stdout",
     "output_type": "stream",
     "text": [
      "targeted_simulation_output_cyto/1.2199999999999998_iPSF_ePSF_green.tiff\n"
     ]
    },
    {
     "data": {
      "application/vnd.jupyter.widget-view+json": {
       "model_id": "acf32327e8c4453e8ebd066af2ba690f",
       "version_major": 2,
       "version_minor": 0
      },
      "text/plain": [
       "  0%|          | 0/280 [00:00<?, ?it/s]"
      ]
     },
     "metadata": {},
     "output_type": "display_data"
    },
    {
     "data": {
      "application/vnd.jupyter.widget-view+json": {
       "model_id": "68535e417993437d8d59099b32fdd7a6",
       "version_major": 2,
       "version_minor": 0
      },
      "text/plain": [
       "  0%|          | 0/2 [00:00<?, ?it/s]"
      ]
     },
     "metadata": {},
     "output_type": "display_data"
    },
    {
     "name": "stdout",
     "output_type": "stream",
     "text": [
      "targeted_simulation_output_cyto/1.3199999999999998_iPSF_ePSF_darkred.tiff\n"
     ]
    },
    {
     "data": {
      "application/vnd.jupyter.widget-view+json": {
       "model_id": "fa193f297db14f75b8f4557ea182d08b",
       "version_major": 2,
       "version_minor": 0
      },
      "text/plain": [
       "  0%|          | 0/302 [00:00<?, ?it/s]"
      ]
     },
     "metadata": {},
     "output_type": "display_data"
    },
    {
     "name": "stdout",
     "output_type": "stream",
     "text": [
      "targeted_simulation_output_cyto/1.3199999999999998_iPSF_ePSF_green.tiff\n"
     ]
    },
    {
     "data": {
      "application/vnd.jupyter.widget-view+json": {
       "model_id": "c5ef2f36148b4c04b0c0bf64cfa7486c",
       "version_major": 2,
       "version_minor": 0
      },
      "text/plain": [
       "  0%|          | 0/302 [00:00<?, ?it/s]"
      ]
     },
     "metadata": {},
     "output_type": "display_data"
    },
    {
     "data": {
      "application/vnd.jupyter.widget-view+json": {
       "model_id": "e8df942b9551490da361846141452b5c",
       "version_major": 2,
       "version_minor": 0
      },
      "text/plain": [
       "  0%|          | 0/2 [00:00<?, ?it/s]"
      ]
     },
     "metadata": {},
     "output_type": "display_data"
    },
    {
     "name": "stdout",
     "output_type": "stream",
     "text": [
      "targeted_simulation_output_cyto/1.42_iPSF_ePSF_darkred.tiff\n"
     ]
    },
    {
     "data": {
      "application/vnd.jupyter.widget-view+json": {
       "model_id": "9632f3d581364c4a9447fc3e45246ba2",
       "version_major": 2,
       "version_minor": 0
      },
      "text/plain": [
       "  0%|          | 0/326 [00:00<?, ?it/s]"
      ]
     },
     "metadata": {},
     "output_type": "display_data"
    },
    {
     "name": "stdout",
     "output_type": "stream",
     "text": [
      "targeted_simulation_output_cyto/1.42_iPSF_ePSF_green.tiff\n"
     ]
    },
    {
     "data": {
      "application/vnd.jupyter.widget-view+json": {
       "model_id": "2b3a500bb3d040faa896f104057febaf",
       "version_major": 2,
       "version_minor": 0
      },
      "text/plain": [
       "  0%|          | 0/326 [00:00<?, ?it/s]"
      ]
     },
     "metadata": {},
     "output_type": "display_data"
    },
    {
     "data": {
      "application/vnd.jupyter.widget-view+json": {
       "model_id": "b5b78c0ebe914adbaf9e7099b35dc0d5",
       "version_major": 2,
       "version_minor": 0
      },
      "text/plain": [
       "  0%|          | 0/2 [00:00<?, ?it/s]"
      ]
     },
     "metadata": {},
     "output_type": "display_data"
    },
    {
     "name": "stdout",
     "output_type": "stream",
     "text": [
      "targeted_simulation_output_cyto/1.5199999999999998_iPSF_ePSF_darkred.tiff\n"
     ]
    },
    {
     "data": {
      "application/vnd.jupyter.widget-view+json": {
       "model_id": "50f58632ac514e0ea57178d41a439faa",
       "version_major": 2,
       "version_minor": 0
      },
      "text/plain": [
       "  0%|          | 0/348 [00:00<?, ?it/s]"
      ]
     },
     "metadata": {},
     "output_type": "display_data"
    },
    {
     "name": "stdout",
     "output_type": "stream",
     "text": [
      "targeted_simulation_output_cyto/1.5199999999999998_iPSF_ePSF_green.tiff\n"
     ]
    },
    {
     "data": {
      "application/vnd.jupyter.widget-view+json": {
       "model_id": "67440b4489b24fba97d0f0ca6ab82c37",
       "version_major": 2,
       "version_minor": 0
      },
      "text/plain": [
       "  0%|          | 0/348 [00:00<?, ?it/s]"
      ]
     },
     "metadata": {},
     "output_type": "display_data"
    },
    {
     "data": {
      "application/vnd.jupyter.widget-view+json": {
       "model_id": "a02e00c7050f455d88df8c0d1a10139e",
       "version_major": 2,
       "version_minor": 0
      },
      "text/plain": [
       "  0%|          | 0/2 [00:00<?, ?it/s]"
      ]
     },
     "metadata": {},
     "output_type": "display_data"
    },
    {
     "name": "stdout",
     "output_type": "stream",
     "text": [
      "targeted_simulation_output_cyto/1.6199999999999997_iPSF_ePSF_darkred.tiff\n"
     ]
    },
    {
     "data": {
      "application/vnd.jupyter.widget-view+json": {
       "model_id": "6c78d7288f7b42cc9feb066a3ae0040d",
       "version_major": 2,
       "version_minor": 0
      },
      "text/plain": [
       "  0%|          | 0/372 [00:00<?, ?it/s]"
      ]
     },
     "metadata": {},
     "output_type": "display_data"
    },
    {
     "name": "stdout",
     "output_type": "stream",
     "text": [
      "targeted_simulation_output_cyto/1.6199999999999997_iPSF_ePSF_green.tiff\n"
     ]
    },
    {
     "data": {
      "application/vnd.jupyter.widget-view+json": {
       "model_id": "084adea3e5d94e21a5c7ec4aaea36a59",
       "version_major": 2,
       "version_minor": 0
      },
      "text/plain": [
       "  0%|          | 0/372 [00:00<?, ?it/s]"
      ]
     },
     "metadata": {},
     "output_type": "display_data"
    },
    {
     "data": {
      "application/vnd.jupyter.widget-view+json": {
       "model_id": "2a89797461a945c8ae7ca964bbb8d0f3",
       "version_major": 2,
       "version_minor": 0
      },
      "text/plain": [
       "  0%|          | 0/2 [00:00<?, ?it/s]"
      ]
     },
     "metadata": {},
     "output_type": "display_data"
    },
    {
     "name": "stdout",
     "output_type": "stream",
     "text": [
      "targeted_simulation_output_cyto/1.7199999999999998_iPSF_ePSF_darkred.tiff\n"
     ]
    },
    {
     "data": {
      "application/vnd.jupyter.widget-view+json": {
       "model_id": "6c6fdb617e074635ba18782ffea662dd",
       "version_major": 2,
       "version_minor": 0
      },
      "text/plain": [
       "  0%|          | 0/394 [00:00<?, ?it/s]"
      ]
     },
     "metadata": {},
     "output_type": "display_data"
    },
    {
     "name": "stdout",
     "output_type": "stream",
     "text": [
      "targeted_simulation_output_cyto/1.7199999999999998_iPSF_ePSF_green.tiff\n"
     ]
    },
    {
     "data": {
      "application/vnd.jupyter.widget-view+json": {
       "model_id": "f34dfcea351d40588a0d53b1bfc2a876",
       "version_major": 2,
       "version_minor": 0
      },
      "text/plain": [
       "  0%|          | 0/394 [00:00<?, ?it/s]"
      ]
     },
     "metadata": {},
     "output_type": "display_data"
    },
    {
     "data": {
      "application/vnd.jupyter.widget-view+json": {
       "model_id": "7b9a7a2e95214510bc3c00c8122ab668",
       "version_major": 2,
       "version_minor": 0
      },
      "text/plain": [
       "  0%|          | 0/2 [00:00<?, ?it/s]"
      ]
     },
     "metadata": {},
     "output_type": "display_data"
    },
    {
     "name": "stdout",
     "output_type": "stream",
     "text": [
      "targeted_simulation_output_cyto/1.8199999999999998_iPSF_ePSF_darkred.tiff\n"
     ]
    },
    {
     "data": {
      "application/vnd.jupyter.widget-view+json": {
       "model_id": "c38697829a6f4075bdc34d7050bbfa55",
       "version_major": 2,
       "version_minor": 0
      },
      "text/plain": [
       "  0%|          | 0/418 [00:00<?, ?it/s]"
      ]
     },
     "metadata": {},
     "output_type": "display_data"
    },
    {
     "name": "stdout",
     "output_type": "stream",
     "text": [
      "targeted_simulation_output_cyto/1.8199999999999998_iPSF_ePSF_green.tiff\n"
     ]
    },
    {
     "data": {
      "application/vnd.jupyter.widget-view+json": {
       "model_id": "da49b89d7d33476b9a05f67b5fa79928",
       "version_major": 2,
       "version_minor": 0
      },
      "text/plain": [
       "  0%|          | 0/418 [00:00<?, ?it/s]"
      ]
     },
     "metadata": {},
     "output_type": "display_data"
    },
    {
     "data": {
      "application/vnd.jupyter.widget-view+json": {
       "model_id": "c2c0533c7a5646a78d4d24333d4619fe",
       "version_major": 2,
       "version_minor": 0
      },
      "text/plain": [
       "  0%|          | 0/2 [00:00<?, ?it/s]"
      ]
     },
     "metadata": {},
     "output_type": "display_data"
    },
    {
     "name": "stdout",
     "output_type": "stream",
     "text": [
      "targeted_simulation_output_cyto/1.9199999999999997_iPSF_ePSF_darkred.tiff\n"
     ]
    },
    {
     "data": {
      "application/vnd.jupyter.widget-view+json": {
       "model_id": "2038cb5b4a9a4cc5a60f698dcd93fecd",
       "version_major": 2,
       "version_minor": 0
      },
      "text/plain": [
       "  0%|          | 0/442 [00:00<?, ?it/s]"
      ]
     },
     "metadata": {},
     "output_type": "display_data"
    },
    {
     "name": "stdout",
     "output_type": "stream",
     "text": [
      "targeted_simulation_output_cyto/1.9199999999999997_iPSF_ePSF_green.tiff\n"
     ]
    },
    {
     "data": {
      "application/vnd.jupyter.widget-view+json": {
       "model_id": "27dca82822ad4d379e5ad7aa0b2af139",
       "version_major": 2,
       "version_minor": 0
      },
      "text/plain": [
       "  0%|          | 0/442 [00:00<?, ?it/s]"
      ]
     },
     "metadata": {},
     "output_type": "display_data"
    },
    {
     "data": {
      "application/vnd.jupyter.widget-view+json": {
       "model_id": "f3f7f4ee412f46b6b50d572d1f3b5073",
       "version_major": 2,
       "version_minor": 0
      },
      "text/plain": [
       "  0%|          | 0/2 [00:00<?, ?it/s]"
      ]
     },
     "metadata": {},
     "output_type": "display_data"
    },
    {
     "name": "stdout",
     "output_type": "stream",
     "text": [
      "targeted_simulation_output_cyto/2.0199999999999996_iPSF_ePSF_darkred.tiff\n"
     ]
    },
    {
     "data": {
      "application/vnd.jupyter.widget-view+json": {
       "model_id": "b1710d4c5d694d7da83d5739a2f3549d",
       "version_major": 2,
       "version_minor": 0
      },
      "text/plain": [
       "  0%|          | 0/464 [00:00<?, ?it/s]"
      ]
     },
     "metadata": {},
     "output_type": "display_data"
    },
    {
     "name": "stdout",
     "output_type": "stream",
     "text": [
      "targeted_simulation_output_cyto/2.0199999999999996_iPSF_ePSF_green.tiff\n"
     ]
    },
    {
     "data": {
      "application/vnd.jupyter.widget-view+json": {
       "model_id": "964e54a3520d447fa701e5ada7f59812",
       "version_major": 2,
       "version_minor": 0
      },
      "text/plain": [
       "  0%|          | 0/464 [00:00<?, ?it/s]"
      ]
     },
     "metadata": {},
     "output_type": "display_data"
    },
    {
     "data": {
      "application/vnd.jupyter.widget-view+json": {
       "model_id": "acdfd837d46349ffb3b3ce2f212c8d6c",
       "version_major": 2,
       "version_minor": 0
      },
      "text/plain": [
       "  0%|          | 0/2 [00:00<?, ?it/s]"
      ]
     },
     "metadata": {},
     "output_type": "display_data"
    },
    {
     "name": "stdout",
     "output_type": "stream",
     "text": [
      "targeted_simulation_output_cyto/2.1199999999999997_iPSF_ePSF_darkred.tiff\n"
     ]
    },
    {
     "data": {
      "application/vnd.jupyter.widget-view+json": {
       "model_id": "595df36a7b7d4804b0579309d3f4de37",
       "version_major": 2,
       "version_minor": 0
      },
      "text/plain": [
       "  0%|          | 0/488 [00:00<?, ?it/s]"
      ]
     },
     "metadata": {},
     "output_type": "display_data"
    },
    {
     "name": "stdout",
     "output_type": "stream",
     "text": [
      "targeted_simulation_output_cyto/2.1199999999999997_iPSF_ePSF_green.tiff\n"
     ]
    },
    {
     "data": {
      "application/vnd.jupyter.widget-view+json": {
       "model_id": "3ae7bbeb0b384ae7ac752aeb412f4614",
       "version_major": 2,
       "version_minor": 0
      },
      "text/plain": [
       "  0%|          | 0/488 [00:00<?, ?it/s]"
      ]
     },
     "metadata": {},
     "output_type": "display_data"
    },
    {
     "data": {
      "application/vnd.jupyter.widget-view+json": {
       "model_id": "949e91e68dce4fe5b0b320313f7b757a",
       "version_major": 2,
       "version_minor": 0
      },
      "text/plain": [
       "  0%|          | 0/2 [00:00<?, ?it/s]"
      ]
     },
     "metadata": {},
     "output_type": "display_data"
    },
    {
     "name": "stdout",
     "output_type": "stream",
     "text": [
      "targeted_simulation_output_cyto/2.2199999999999998_iPSF_ePSF_darkred.tiff\n"
     ]
    },
    {
     "data": {
      "application/vnd.jupyter.widget-view+json": {
       "model_id": "73f87bdc1aed4d44a9fd5fb3f2585da7",
       "version_major": 2,
       "version_minor": 0
      },
      "text/plain": [
       "  0%|          | 0/510 [00:00<?, ?it/s]"
      ]
     },
     "metadata": {},
     "output_type": "display_data"
    },
    {
     "name": "stdout",
     "output_type": "stream",
     "text": [
      "targeted_simulation_output_cyto/2.2199999999999998_iPSF_ePSF_green.tiff\n"
     ]
    },
    {
     "data": {
      "application/vnd.jupyter.widget-view+json": {
       "model_id": "40e53baea2154d6a80a1972ab54213c9",
       "version_major": 2,
       "version_minor": 0
      },
      "text/plain": [
       "  0%|          | 0/510 [00:00<?, ?it/s]"
      ]
     },
     "metadata": {},
     "output_type": "display_data"
    },
    {
     "data": {
      "application/vnd.jupyter.widget-view+json": {
       "model_id": "21152b1a52b74d06a5953dfaedf9dcb4",
       "version_major": 2,
       "version_minor": 0
      },
      "text/plain": [
       "  0%|          | 0/2 [00:00<?, ?it/s]"
      ]
     },
     "metadata": {},
     "output_type": "display_data"
    },
    {
     "name": "stdout",
     "output_type": "stream",
     "text": [
      "targeted_simulation_output_cyto/2.32_iPSF_ePSF_darkred.tiff\n"
     ]
    },
    {
     "data": {
      "application/vnd.jupyter.widget-view+json": {
       "model_id": "888822b76ee9442d924486412876be54",
       "version_major": 2,
       "version_minor": 0
      },
      "text/plain": [
       "  0%|          | 0/534 [00:00<?, ?it/s]"
      ]
     },
     "metadata": {},
     "output_type": "display_data"
    },
    {
     "name": "stdout",
     "output_type": "stream",
     "text": [
      "targeted_simulation_output_cyto/2.32_iPSF_ePSF_green.tiff\n"
     ]
    },
    {
     "data": {
      "application/vnd.jupyter.widget-view+json": {
       "model_id": "b3f2a30e821246589b07e8d08e854948",
       "version_major": 2,
       "version_minor": 0
      },
      "text/plain": [
       "  0%|          | 0/534 [00:00<?, ?it/s]"
      ]
     },
     "metadata": {},
     "output_type": "display_data"
    },
    {
     "data": {
      "application/vnd.jupyter.widget-view+json": {
       "model_id": "d59046881cd04dc9a9ec9b66c60673de",
       "version_major": 2,
       "version_minor": 0
      },
      "text/plain": [
       "  0%|          | 0/2 [00:00<?, ?it/s]"
      ]
     },
     "metadata": {},
     "output_type": "display_data"
    },
    {
     "name": "stdout",
     "output_type": "stream",
     "text": [
      "targeted_simulation_output_cyto/2.4199999999999995_iPSF_ePSF_darkred.tiff\n"
     ]
    },
    {
     "data": {
      "application/vnd.jupyter.widget-view+json": {
       "model_id": "bc3cca2fde2040ce87587a5e91c3434d",
       "version_major": 2,
       "version_minor": 0
      },
      "text/plain": [
       "  0%|          | 0/556 [00:00<?, ?it/s]"
      ]
     },
     "metadata": {},
     "output_type": "display_data"
    },
    {
     "name": "stdout",
     "output_type": "stream",
     "text": [
      "targeted_simulation_output_cyto/2.4199999999999995_iPSF_ePSF_green.tiff\n"
     ]
    },
    {
     "data": {
      "application/vnd.jupyter.widget-view+json": {
       "model_id": "3e0afe79e9ad4580acaf5edadd3c273c",
       "version_major": 2,
       "version_minor": 0
      },
      "text/plain": [
       "  0%|          | 0/556 [00:00<?, ?it/s]"
      ]
     },
     "metadata": {},
     "output_type": "display_data"
    },
    {
     "data": {
      "application/vnd.jupyter.widget-view+json": {
       "model_id": "1eb2fe9eed1b4fd9aa7c50403d88bf8b",
       "version_major": 2,
       "version_minor": 0
      },
      "text/plain": [
       "  0%|          | 0/2 [00:00<?, ?it/s]"
      ]
     },
     "metadata": {},
     "output_type": "display_data"
    },
    {
     "name": "stdout",
     "output_type": "stream",
     "text": [
      "targeted_simulation_output_cyto/2.5199999999999996_iPSF_ePSF_darkred.tiff\n"
     ]
    },
    {
     "data": {
      "application/vnd.jupyter.widget-view+json": {
       "model_id": "872479be3fc343f09526e0de9db2aaf4",
       "version_major": 2,
       "version_minor": 0
      },
      "text/plain": [
       "  0%|          | 0/580 [00:00<?, ?it/s]"
      ]
     },
     "metadata": {},
     "output_type": "display_data"
    },
    {
     "name": "stdout",
     "output_type": "stream",
     "text": [
      "targeted_simulation_output_cyto/2.5199999999999996_iPSF_ePSF_green.tiff\n"
     ]
    },
    {
     "data": {
      "application/vnd.jupyter.widget-view+json": {
       "model_id": "fcc974c90a9740589b070a48c86ff489",
       "version_major": 2,
       "version_minor": 0
      },
      "text/plain": [
       "  0%|          | 0/580 [00:00<?, ?it/s]"
      ]
     },
     "metadata": {},
     "output_type": "display_data"
    },
    {
     "data": {
      "application/vnd.jupyter.widget-view+json": {
       "model_id": "3b923fe331e04c2facd6f943e6cc253e",
       "version_major": 2,
       "version_minor": 0
      },
      "text/plain": [
       "  0%|          | 0/2 [00:00<?, ?it/s]"
      ]
     },
     "metadata": {},
     "output_type": "display_data"
    },
    {
     "name": "stdout",
     "output_type": "stream",
     "text": [
      "targeted_simulation_output_cyto/2.6199999999999997_iPSF_ePSF_darkred.tiff\n"
     ]
    },
    {
     "data": {
      "application/vnd.jupyter.widget-view+json": {
       "model_id": "e82a3282a97d429c83bc806790852296",
       "version_major": 2,
       "version_minor": 0
      },
      "text/plain": [
       "  0%|          | 0/602 [00:00<?, ?it/s]"
      ]
     },
     "metadata": {},
     "output_type": "display_data"
    },
    {
     "name": "stdout",
     "output_type": "stream",
     "text": [
      "targeted_simulation_output_cyto/2.6199999999999997_iPSF_ePSF_green.tiff\n"
     ]
    },
    {
     "data": {
      "application/vnd.jupyter.widget-view+json": {
       "model_id": "b3760af6cfca4cb1b691758706321572",
       "version_major": 2,
       "version_minor": 0
      },
      "text/plain": [
       "  0%|          | 0/602 [00:00<?, ?it/s]"
      ]
     },
     "metadata": {},
     "output_type": "display_data"
    },
    {
     "data": {
      "application/vnd.jupyter.widget-view+json": {
       "model_id": "ec3e83846f704082b1ddcbe4b844ec2d",
       "version_major": 2,
       "version_minor": 0
      },
      "text/plain": [
       "  0%|          | 0/2 [00:00<?, ?it/s]"
      ]
     },
     "metadata": {},
     "output_type": "display_data"
    },
    {
     "name": "stdout",
     "output_type": "stream",
     "text": [
      "targeted_simulation_output_cyto/2.7199999999999993_iPSF_ePSF_darkred.tiff\n"
     ]
    },
    {
     "data": {
      "application/vnd.jupyter.widget-view+json": {
       "model_id": "17512823e9ec4d9a97572dfecfb4ca20",
       "version_major": 2,
       "version_minor": 0
      },
      "text/plain": [
       "  0%|          | 0/626 [00:00<?, ?it/s]"
      ]
     },
     "metadata": {},
     "output_type": "display_data"
    },
    {
     "name": "stdout",
     "output_type": "stream",
     "text": [
      "targeted_simulation_output_cyto/2.7199999999999993_iPSF_ePSF_green.tiff\n"
     ]
    },
    {
     "data": {
      "application/vnd.jupyter.widget-view+json": {
       "model_id": "fc0b6404d41f43ecb5f86f7eb5dd4fe6",
       "version_major": 2,
       "version_minor": 0
      },
      "text/plain": [
       "  0%|          | 0/626 [00:00<?, ?it/s]"
      ]
     },
     "metadata": {},
     "output_type": "display_data"
    },
    {
     "data": {
      "application/vnd.jupyter.widget-view+json": {
       "model_id": "6bf69353b4ce44a1b894116cf0884a28",
       "version_major": 2,
       "version_minor": 0
      },
      "text/plain": [
       "  0%|          | 0/2 [00:00<?, ?it/s]"
      ]
     },
     "metadata": {},
     "output_type": "display_data"
    },
    {
     "name": "stdout",
     "output_type": "stream",
     "text": [
      "targeted_simulation_output_cyto/2.8199999999999994_iPSF_ePSF_darkred.tiff\n"
     ]
    },
    {
     "data": {
      "application/vnd.jupyter.widget-view+json": {
       "model_id": "ee9030e661d24cbd966599780d73cf43",
       "version_major": 2,
       "version_minor": 0
      },
      "text/plain": [
       "  0%|          | 0/648 [00:00<?, ?it/s]"
      ]
     },
     "metadata": {},
     "output_type": "display_data"
    },
    {
     "name": "stdout",
     "output_type": "stream",
     "text": [
      "targeted_simulation_output_cyto/2.8199999999999994_iPSF_ePSF_green.tiff\n"
     ]
    },
    {
     "data": {
      "application/vnd.jupyter.widget-view+json": {
       "model_id": "f8cf4879024147efa0d9d4526e7e8f7a",
       "version_major": 2,
       "version_minor": 0
      },
      "text/plain": [
       "  0%|          | 0/648 [00:00<?, ?it/s]"
      ]
     },
     "metadata": {},
     "output_type": "display_data"
    },
    {
     "data": {
      "application/vnd.jupyter.widget-view+json": {
       "model_id": "50a0b11ccc4342d7ab7021c9cd25f3e2",
       "version_major": 2,
       "version_minor": 0
      },
      "text/plain": [
       "  0%|          | 0/2 [00:00<?, ?it/s]"
      ]
     },
     "metadata": {},
     "output_type": "display_data"
    },
    {
     "name": "stdout",
     "output_type": "stream",
     "text": [
      "targeted_simulation_output_cyto/2.9199999999999995_iPSF_ePSF_darkred.tiff\n"
     ]
    },
    {
     "data": {
      "application/vnd.jupyter.widget-view+json": {
       "model_id": "a43a8d7a5f044a29bc72512f05cd2ccc",
       "version_major": 2,
       "version_minor": 0
      },
      "text/plain": [
       "  0%|          | 0/672 [00:00<?, ?it/s]"
      ]
     },
     "metadata": {},
     "output_type": "display_data"
    },
    {
     "name": "stdout",
     "output_type": "stream",
     "text": [
      "targeted_simulation_output_cyto/2.9199999999999995_iPSF_ePSF_green.tiff\n"
     ]
    },
    {
     "data": {
      "application/vnd.jupyter.widget-view+json": {
       "model_id": "edf0e8cefaae4c1baa559ce762b6b994",
       "version_major": 2,
       "version_minor": 0
      },
      "text/plain": [
       "  0%|          | 0/672 [00:00<?, ?it/s]"
      ]
     },
     "metadata": {},
     "output_type": "display_data"
    },
    {
     "data": {
      "application/vnd.jupyter.widget-view+json": {
       "model_id": "359813c270654b9899da0796a7f91ea3",
       "version_major": 2,
       "version_minor": 0
      },
      "text/plain": [
       "  0%|          | 0/2 [00:00<?, ?it/s]"
      ]
     },
     "metadata": {},
     "output_type": "display_data"
    },
    {
     "name": "stdout",
     "output_type": "stream",
     "text": [
      "targeted_simulation_output_cyto/3.0199999999999996_iPSF_ePSF_darkred.tiff\n"
     ]
    },
    {
     "data": {
      "application/vnd.jupyter.widget-view+json": {
       "model_id": "2f66c29372aa4a5b856c6779e4f44aae",
       "version_major": 2,
       "version_minor": 0
      },
      "text/plain": [
       "  0%|          | 0/692 [00:00<?, ?it/s]"
      ]
     },
     "metadata": {},
     "output_type": "display_data"
    },
    {
     "name": "stdout",
     "output_type": "stream",
     "text": [
      "targeted_simulation_output_cyto/3.0199999999999996_iPSF_ePSF_green.tiff\n"
     ]
    },
    {
     "data": {
      "application/vnd.jupyter.widget-view+json": {
       "model_id": "1725d7ff2c90494ab7f5fa85353c562a",
       "version_major": 2,
       "version_minor": 0
      },
      "text/plain": [
       "  0%|          | 0/692 [00:00<?, ?it/s]"
      ]
     },
     "metadata": {},
     "output_type": "display_data"
    }
   ],
   "source": [
    "for cell_width in tqdm(cell_widths):\n",
    "    a_cell = np.pad(raster_cell_3d(3/pix_mic_conv, cell_width/pix_mic_conv, 0), ((0,0), (50, 50), (50,50)))\n",
    "    cell_centre = a_cell.shape[0]//2\n",
    "    for PSF_name, PSF_centre in zip(tqdm(PSF_names), PSF_centres):\n",
    "        file_name = f\"targeted_simulation_output_cyto/{cell_width}_iPSF_{PSF_name}.tiff\"\n",
    "        if not glob(file_name):\n",
    "            PSF = real_PSFs[PSF_name]\n",
    "            cell_conv_idxs = np.arange(a_cell.shape[0])\n",
    "            PSF_conv_idxs = np.arange(PSF_centre-cell_centre,PSF_centre+cell_centre)\n",
    "            print(file_name)\n",
    "            convolved_projection = np.array(\n",
    "                [convolve_rescale(a_cell[cell_conv_idx].astype(float), PSF[PSF_conv_idx], 1, False) for cell_conv_idx, PSF_conv_idx in zip(cell_conv_idxs, tqdm(PSF_conv_idxs))]\n",
    "            )\n",
    "            tifffile.imwrite(file_name, convolved_projection)"
   ]
  },
  {
   "cell_type": "code",
   "execution_count": 18,
   "id": "4394b359-ec9e-443a-9373-253445a03cf1",
   "metadata": {
    "scrolled": true
   },
   "outputs": [
    {
     "data": {
      "application/vnd.jupyter.widget-view+json": {
       "model_id": "eccf855ad29c4356bf57b4eb35fe27ae",
       "version_major": 2,
       "version_minor": 0
      },
      "text/plain": [
       "  0%|          | 0/26 [00:00<?, ?it/s]"
      ]
     },
     "metadata": {},
     "output_type": "display_data"
    },
    {
     "data": {
      "application/vnd.jupyter.widget-view+json": {
       "model_id": "6dbcf14c30e340eb8772391c15488568",
       "version_major": 2,
       "version_minor": 0
      },
      "text/plain": [
       "  0%|          | 0/4 [00:00<?, ?it/s]"
      ]
     },
     "metadata": {},
     "output_type": "display_data"
    },
    {
     "name": "stdout",
     "output_type": "stream",
     "text": [
      "targeted_simulation_output_cyto/0.52_tPSF_0.4.tiff\n"
     ]
    },
    {
     "data": {
      "application/vnd.jupyter.widget-view+json": {
       "model_id": "a0a147e116b448a0b2fedf6b8d51a6c4",
       "version_major": 2,
       "version_minor": 0
      },
      "text/plain": [
       "  0%|          | 0/118 [00:00<?, ?it/s]"
      ]
     },
     "metadata": {},
     "output_type": "display_data"
    },
    {
     "name": "stdout",
     "output_type": "stream",
     "text": [
      "targeted_simulation_output_cyto/0.52_tPSF_0.5.tiff\n"
     ]
    },
    {
     "data": {
      "application/vnd.jupyter.widget-view+json": {
       "model_id": "cf01d5106e9644d79ae30ac310fbf8da",
       "version_major": 2,
       "version_minor": 0
      },
      "text/plain": [
       "  0%|          | 0/118 [00:00<?, ?it/s]"
      ]
     },
     "metadata": {},
     "output_type": "display_data"
    },
    {
     "name": "stdout",
     "output_type": "stream",
     "text": [
      "targeted_simulation_output_cyto/0.52_tPSF_0.6.tiff\n"
     ]
    },
    {
     "data": {
      "application/vnd.jupyter.widget-view+json": {
       "model_id": "44b3f3708f2b403bbfcf3203e75e9eb9",
       "version_major": 2,
       "version_minor": 0
      },
      "text/plain": [
       "  0%|          | 0/118 [00:00<?, ?it/s]"
      ]
     },
     "metadata": {},
     "output_type": "display_data"
    },
    {
     "name": "stdout",
     "output_type": "stream",
     "text": [
      "targeted_simulation_output_cyto/0.52_tPSF_0.7.tiff\n"
     ]
    },
    {
     "data": {
      "application/vnd.jupyter.widget-view+json": {
       "model_id": "4315e9a3395944088a1027d8e27e1b81",
       "version_major": 2,
       "version_minor": 0
      },
      "text/plain": [
       "  0%|          | 0/118 [00:00<?, ?it/s]"
      ]
     },
     "metadata": {},
     "output_type": "display_data"
    },
    {
     "data": {
      "application/vnd.jupyter.widget-view+json": {
       "model_id": "ad4c24134c774bd693a79b5c163940d0",
       "version_major": 2,
       "version_minor": 0
      },
      "text/plain": [
       "  0%|          | 0/4 [00:00<?, ?it/s]"
      ]
     },
     "metadata": {},
     "output_type": "display_data"
    },
    {
     "name": "stdout",
     "output_type": "stream",
     "text": [
      "targeted_simulation_output_cyto/0.62_tPSF_0.4.tiff\n"
     ]
    },
    {
     "data": {
      "application/vnd.jupyter.widget-view+json": {
       "model_id": "88075fc4709347858a6f368ba38861d0",
       "version_major": 2,
       "version_minor": 0
      },
      "text/plain": [
       "  0%|          | 0/142 [00:00<?, ?it/s]"
      ]
     },
     "metadata": {},
     "output_type": "display_data"
    },
    {
     "name": "stdout",
     "output_type": "stream",
     "text": [
      "targeted_simulation_output_cyto/0.62_tPSF_0.5.tiff\n"
     ]
    },
    {
     "data": {
      "application/vnd.jupyter.widget-view+json": {
       "model_id": "f69fb8a408864c89a0f7c404abd2e2fe",
       "version_major": 2,
       "version_minor": 0
      },
      "text/plain": [
       "  0%|          | 0/142 [00:00<?, ?it/s]"
      ]
     },
     "metadata": {},
     "output_type": "display_data"
    },
    {
     "name": "stdout",
     "output_type": "stream",
     "text": [
      "targeted_simulation_output_cyto/0.62_tPSF_0.6.tiff\n"
     ]
    },
    {
     "data": {
      "application/vnd.jupyter.widget-view+json": {
       "model_id": "7534b215daab4beb9075d9a1dc5d38a9",
       "version_major": 2,
       "version_minor": 0
      },
      "text/plain": [
       "  0%|          | 0/142 [00:00<?, ?it/s]"
      ]
     },
     "metadata": {},
     "output_type": "display_data"
    },
    {
     "name": "stdout",
     "output_type": "stream",
     "text": [
      "targeted_simulation_output_cyto/0.62_tPSF_0.7.tiff\n"
     ]
    },
    {
     "data": {
      "application/vnd.jupyter.widget-view+json": {
       "model_id": "ab1a21fbf4ad4b148fa5f45ad8be8d7a",
       "version_major": 2,
       "version_minor": 0
      },
      "text/plain": [
       "  0%|          | 0/142 [00:00<?, ?it/s]"
      ]
     },
     "metadata": {},
     "output_type": "display_data"
    },
    {
     "data": {
      "application/vnd.jupyter.widget-view+json": {
       "model_id": "7435c1afe6c14231ae7283a805e122a5",
       "version_major": 2,
       "version_minor": 0
      },
      "text/plain": [
       "  0%|          | 0/4 [00:00<?, ?it/s]"
      ]
     },
     "metadata": {},
     "output_type": "display_data"
    },
    {
     "name": "stdout",
     "output_type": "stream",
     "text": [
      "targeted_simulation_output_cyto/0.72_tPSF_0.4.tiff\n"
     ]
    },
    {
     "data": {
      "application/vnd.jupyter.widget-view+json": {
       "model_id": "061b33a1043e4409857b461fd6044db0",
       "version_major": 2,
       "version_minor": 0
      },
      "text/plain": [
       "  0%|          | 0/164 [00:00<?, ?it/s]"
      ]
     },
     "metadata": {},
     "output_type": "display_data"
    },
    {
     "name": "stdout",
     "output_type": "stream",
     "text": [
      "targeted_simulation_output_cyto/0.72_tPSF_0.5.tiff\n"
     ]
    },
    {
     "data": {
      "application/vnd.jupyter.widget-view+json": {
       "model_id": "7e179c8c52e949ee88cdd0a0a788e98a",
       "version_major": 2,
       "version_minor": 0
      },
      "text/plain": [
       "  0%|          | 0/164 [00:00<?, ?it/s]"
      ]
     },
     "metadata": {},
     "output_type": "display_data"
    },
    {
     "name": "stdout",
     "output_type": "stream",
     "text": [
      "targeted_simulation_output_cyto/0.72_tPSF_0.6.tiff\n"
     ]
    },
    {
     "data": {
      "application/vnd.jupyter.widget-view+json": {
       "model_id": "92a26cdf4f404739a7ac3476b9b4d5f8",
       "version_major": 2,
       "version_minor": 0
      },
      "text/plain": [
       "  0%|          | 0/164 [00:00<?, ?it/s]"
      ]
     },
     "metadata": {},
     "output_type": "display_data"
    },
    {
     "name": "stdout",
     "output_type": "stream",
     "text": [
      "targeted_simulation_output_cyto/0.72_tPSF_0.7.tiff\n"
     ]
    },
    {
     "data": {
      "application/vnd.jupyter.widget-view+json": {
       "model_id": "f5efa83b1b3946d9a4db4ed15a1b4271",
       "version_major": 2,
       "version_minor": 0
      },
      "text/plain": [
       "  0%|          | 0/164 [00:00<?, ?it/s]"
      ]
     },
     "metadata": {},
     "output_type": "display_data"
    },
    {
     "data": {
      "application/vnd.jupyter.widget-view+json": {
       "model_id": "b4b7e82203c24f75aa32a0c8a49d9c5f",
       "version_major": 2,
       "version_minor": 0
      },
      "text/plain": [
       "  0%|          | 0/4 [00:00<?, ?it/s]"
      ]
     },
     "metadata": {},
     "output_type": "display_data"
    },
    {
     "name": "stdout",
     "output_type": "stream",
     "text": [
      "targeted_simulation_output_cyto/0.82_tPSF_0.4.tiff\n"
     ]
    },
    {
     "data": {
      "application/vnd.jupyter.widget-view+json": {
       "model_id": "32d191d7a9ef4a249a4c62a2eeab478e",
       "version_major": 2,
       "version_minor": 0
      },
      "text/plain": [
       "  0%|          | 0/188 [00:00<?, ?it/s]"
      ]
     },
     "metadata": {},
     "output_type": "display_data"
    },
    {
     "name": "stdout",
     "output_type": "stream",
     "text": [
      "targeted_simulation_output_cyto/0.82_tPSF_0.5.tiff\n"
     ]
    },
    {
     "data": {
      "application/vnd.jupyter.widget-view+json": {
       "model_id": "ddc7782f13e845978b2efea1345679a3",
       "version_major": 2,
       "version_minor": 0
      },
      "text/plain": [
       "  0%|          | 0/188 [00:00<?, ?it/s]"
      ]
     },
     "metadata": {},
     "output_type": "display_data"
    },
    {
     "name": "stdout",
     "output_type": "stream",
     "text": [
      "targeted_simulation_output_cyto/0.82_tPSF_0.6.tiff\n"
     ]
    },
    {
     "data": {
      "application/vnd.jupyter.widget-view+json": {
       "model_id": "e78c57c1e43d49aea3005229f3e9b04a",
       "version_major": 2,
       "version_minor": 0
      },
      "text/plain": [
       "  0%|          | 0/188 [00:00<?, ?it/s]"
      ]
     },
     "metadata": {},
     "output_type": "display_data"
    },
    {
     "name": "stdout",
     "output_type": "stream",
     "text": [
      "targeted_simulation_output_cyto/0.82_tPSF_0.7.tiff\n"
     ]
    },
    {
     "data": {
      "application/vnd.jupyter.widget-view+json": {
       "model_id": "dd46af8817d449e8903a52348a017d89",
       "version_major": 2,
       "version_minor": 0
      },
      "text/plain": [
       "  0%|          | 0/188 [00:00<?, ?it/s]"
      ]
     },
     "metadata": {},
     "output_type": "display_data"
    },
    {
     "data": {
      "application/vnd.jupyter.widget-view+json": {
       "model_id": "241626458b2b45a0a77078f3712d0f24",
       "version_major": 2,
       "version_minor": 0
      },
      "text/plain": [
       "  0%|          | 0/4 [00:00<?, ?it/s]"
      ]
     },
     "metadata": {},
     "output_type": "display_data"
    },
    {
     "name": "stdout",
     "output_type": "stream",
     "text": [
      "targeted_simulation_output_cyto/0.9199999999999999_tPSF_0.4.tiff\n"
     ]
    },
    {
     "data": {
      "application/vnd.jupyter.widget-view+json": {
       "model_id": "66aff46aeedb469dbddda0abf3fe495d",
       "version_major": 2,
       "version_minor": 0
      },
      "text/plain": [
       "  0%|          | 0/210 [00:00<?, ?it/s]"
      ]
     },
     "metadata": {},
     "output_type": "display_data"
    },
    {
     "name": "stdout",
     "output_type": "stream",
     "text": [
      "targeted_simulation_output_cyto/0.9199999999999999_tPSF_0.5.tiff\n"
     ]
    },
    {
     "data": {
      "application/vnd.jupyter.widget-view+json": {
       "model_id": "84a81691cd5347df8a3b415a2ee5775f",
       "version_major": 2,
       "version_minor": 0
      },
      "text/plain": [
       "  0%|          | 0/210 [00:00<?, ?it/s]"
      ]
     },
     "metadata": {},
     "output_type": "display_data"
    },
    {
     "name": "stdout",
     "output_type": "stream",
     "text": [
      "targeted_simulation_output_cyto/0.9199999999999999_tPSF_0.6.tiff\n"
     ]
    },
    {
     "data": {
      "application/vnd.jupyter.widget-view+json": {
       "model_id": "f6d4dbc057d5415795449a16f970b999",
       "version_major": 2,
       "version_minor": 0
      },
      "text/plain": [
       "  0%|          | 0/210 [00:00<?, ?it/s]"
      ]
     },
     "metadata": {},
     "output_type": "display_data"
    },
    {
     "name": "stdout",
     "output_type": "stream",
     "text": [
      "targeted_simulation_output_cyto/0.9199999999999999_tPSF_0.7.tiff\n"
     ]
    },
    {
     "data": {
      "application/vnd.jupyter.widget-view+json": {
       "model_id": "fc3581d6831e4070973770b9b07dde80",
       "version_major": 2,
       "version_minor": 0
      },
      "text/plain": [
       "  0%|          | 0/210 [00:00<?, ?it/s]"
      ]
     },
     "metadata": {},
     "output_type": "display_data"
    },
    {
     "data": {
      "application/vnd.jupyter.widget-view+json": {
       "model_id": "b10e7175e5eb4d9ab6c9de2050c8a1f3",
       "version_major": 2,
       "version_minor": 0
      },
      "text/plain": [
       "  0%|          | 0/4 [00:00<?, ?it/s]"
      ]
     },
     "metadata": {},
     "output_type": "display_data"
    },
    {
     "name": "stdout",
     "output_type": "stream",
     "text": [
      "targeted_simulation_output_cyto/1.0199999999999998_tPSF_0.4.tiff\n"
     ]
    },
    {
     "data": {
      "application/vnd.jupyter.widget-view+json": {
       "model_id": "c987ce7cbe304ef8805e2bbae4b691b2",
       "version_major": 2,
       "version_minor": 0
      },
      "text/plain": [
       "  0%|          | 0/234 [00:00<?, ?it/s]"
      ]
     },
     "metadata": {},
     "output_type": "display_data"
    },
    {
     "name": "stdout",
     "output_type": "stream",
     "text": [
      "targeted_simulation_output_cyto/1.0199999999999998_tPSF_0.5.tiff\n"
     ]
    },
    {
     "data": {
      "application/vnd.jupyter.widget-view+json": {
       "model_id": "8aed0d95f2434fae9b35cc4ce9b5e403",
       "version_major": 2,
       "version_minor": 0
      },
      "text/plain": [
       "  0%|          | 0/234 [00:00<?, ?it/s]"
      ]
     },
     "metadata": {},
     "output_type": "display_data"
    },
    {
     "name": "stdout",
     "output_type": "stream",
     "text": [
      "targeted_simulation_output_cyto/1.0199999999999998_tPSF_0.6.tiff\n"
     ]
    },
    {
     "data": {
      "application/vnd.jupyter.widget-view+json": {
       "model_id": "68628888a0b246dcb4d78a00acb1ebc6",
       "version_major": 2,
       "version_minor": 0
      },
      "text/plain": [
       "  0%|          | 0/234 [00:00<?, ?it/s]"
      ]
     },
     "metadata": {},
     "output_type": "display_data"
    },
    {
     "name": "stdout",
     "output_type": "stream",
     "text": [
      "targeted_simulation_output_cyto/1.0199999999999998_tPSF_0.7.tiff\n"
     ]
    },
    {
     "data": {
      "application/vnd.jupyter.widget-view+json": {
       "model_id": "c11bfefbc4d541ff8bf93ce83777675a",
       "version_major": 2,
       "version_minor": 0
      },
      "text/plain": [
       "  0%|          | 0/234 [00:00<?, ?it/s]"
      ]
     },
     "metadata": {},
     "output_type": "display_data"
    },
    {
     "data": {
      "application/vnd.jupyter.widget-view+json": {
       "model_id": "6e7b22ca21a94763a3751a9a3f6cba84",
       "version_major": 2,
       "version_minor": 0
      },
      "text/plain": [
       "  0%|          | 0/4 [00:00<?, ?it/s]"
      ]
     },
     "metadata": {},
     "output_type": "display_data"
    },
    {
     "name": "stdout",
     "output_type": "stream",
     "text": [
      "targeted_simulation_output_cyto/1.1199999999999999_tPSF_0.4.tiff\n"
     ]
    },
    {
     "data": {
      "application/vnd.jupyter.widget-view+json": {
       "model_id": "2ca357062d3142439bdf38cb34bdc3cf",
       "version_major": 2,
       "version_minor": 0
      },
      "text/plain": [
       "  0%|          | 0/256 [00:00<?, ?it/s]"
      ]
     },
     "metadata": {},
     "output_type": "display_data"
    },
    {
     "name": "stdout",
     "output_type": "stream",
     "text": [
      "targeted_simulation_output_cyto/1.1199999999999999_tPSF_0.5.tiff\n"
     ]
    },
    {
     "data": {
      "application/vnd.jupyter.widget-view+json": {
       "model_id": "f5f7dff93b0c47f086c2588938a24746",
       "version_major": 2,
       "version_minor": 0
      },
      "text/plain": [
       "  0%|          | 0/256 [00:00<?, ?it/s]"
      ]
     },
     "metadata": {},
     "output_type": "display_data"
    },
    {
     "name": "stdout",
     "output_type": "stream",
     "text": [
      "targeted_simulation_output_cyto/1.1199999999999999_tPSF_0.6.tiff\n"
     ]
    },
    {
     "data": {
      "application/vnd.jupyter.widget-view+json": {
       "model_id": "38d6cb93bd5b4712a4266579ff7bbe9e",
       "version_major": 2,
       "version_minor": 0
      },
      "text/plain": [
       "  0%|          | 0/256 [00:00<?, ?it/s]"
      ]
     },
     "metadata": {},
     "output_type": "display_data"
    },
    {
     "name": "stdout",
     "output_type": "stream",
     "text": [
      "targeted_simulation_output_cyto/1.1199999999999999_tPSF_0.7.tiff\n"
     ]
    },
    {
     "data": {
      "application/vnd.jupyter.widget-view+json": {
       "model_id": "e6e6b00e4a594b75ab398f6841c45113",
       "version_major": 2,
       "version_minor": 0
      },
      "text/plain": [
       "  0%|          | 0/256 [00:00<?, ?it/s]"
      ]
     },
     "metadata": {},
     "output_type": "display_data"
    },
    {
     "data": {
      "application/vnd.jupyter.widget-view+json": {
       "model_id": "4dc77328ae884bf5a69633fc68210aaf",
       "version_major": 2,
       "version_minor": 0
      },
      "text/plain": [
       "  0%|          | 0/4 [00:00<?, ?it/s]"
      ]
     },
     "metadata": {},
     "output_type": "display_data"
    },
    {
     "name": "stdout",
     "output_type": "stream",
     "text": [
      "targeted_simulation_output_cyto/1.2199999999999998_tPSF_0.4.tiff\n"
     ]
    },
    {
     "data": {
      "application/vnd.jupyter.widget-view+json": {
       "model_id": "bb252cca431445f6a7692e7ea19a02e2",
       "version_major": 2,
       "version_minor": 0
      },
      "text/plain": [
       "  0%|          | 0/280 [00:00<?, ?it/s]"
      ]
     },
     "metadata": {},
     "output_type": "display_data"
    },
    {
     "name": "stdout",
     "output_type": "stream",
     "text": [
      "targeted_simulation_output_cyto/1.2199999999999998_tPSF_0.5.tiff\n"
     ]
    },
    {
     "data": {
      "application/vnd.jupyter.widget-view+json": {
       "model_id": "15117dcbed674e8bbffc73d47decf2a2",
       "version_major": 2,
       "version_minor": 0
      },
      "text/plain": [
       "  0%|          | 0/280 [00:00<?, ?it/s]"
      ]
     },
     "metadata": {},
     "output_type": "display_data"
    },
    {
     "name": "stdout",
     "output_type": "stream",
     "text": [
      "targeted_simulation_output_cyto/1.2199999999999998_tPSF_0.6.tiff\n"
     ]
    },
    {
     "data": {
      "application/vnd.jupyter.widget-view+json": {
       "model_id": "afdf18097f824ed3ba4dfbfee1481d0d",
       "version_major": 2,
       "version_minor": 0
      },
      "text/plain": [
       "  0%|          | 0/280 [00:00<?, ?it/s]"
      ]
     },
     "metadata": {},
     "output_type": "display_data"
    },
    {
     "name": "stdout",
     "output_type": "stream",
     "text": [
      "targeted_simulation_output_cyto/1.2199999999999998_tPSF_0.7.tiff\n"
     ]
    },
    {
     "data": {
      "application/vnd.jupyter.widget-view+json": {
       "model_id": "0b2712c359914a57b5909bc1cb6cea8e",
       "version_major": 2,
       "version_minor": 0
      },
      "text/plain": [
       "  0%|          | 0/280 [00:00<?, ?it/s]"
      ]
     },
     "metadata": {},
     "output_type": "display_data"
    },
    {
     "data": {
      "application/vnd.jupyter.widget-view+json": {
       "model_id": "491b89764c464eeb9bb9bd5c59c1b5e4",
       "version_major": 2,
       "version_minor": 0
      },
      "text/plain": [
       "  0%|          | 0/4 [00:00<?, ?it/s]"
      ]
     },
     "metadata": {},
     "output_type": "display_data"
    },
    {
     "name": "stdout",
     "output_type": "stream",
     "text": [
      "targeted_simulation_output_cyto/1.3199999999999998_tPSF_0.4.tiff\n"
     ]
    },
    {
     "data": {
      "application/vnd.jupyter.widget-view+json": {
       "model_id": "075eff96aa104117b00b33af2b0a521f",
       "version_major": 2,
       "version_minor": 0
      },
      "text/plain": [
       "  0%|          | 0/302 [00:00<?, ?it/s]"
      ]
     },
     "metadata": {},
     "output_type": "display_data"
    },
    {
     "name": "stdout",
     "output_type": "stream",
     "text": [
      "targeted_simulation_output_cyto/1.3199999999999998_tPSF_0.5.tiff\n"
     ]
    },
    {
     "data": {
      "application/vnd.jupyter.widget-view+json": {
       "model_id": "eb7a705b65034bca890b6fdef69689b5",
       "version_major": 2,
       "version_minor": 0
      },
      "text/plain": [
       "  0%|          | 0/302 [00:00<?, ?it/s]"
      ]
     },
     "metadata": {},
     "output_type": "display_data"
    },
    {
     "name": "stdout",
     "output_type": "stream",
     "text": [
      "targeted_simulation_output_cyto/1.3199999999999998_tPSF_0.6.tiff\n"
     ]
    },
    {
     "data": {
      "application/vnd.jupyter.widget-view+json": {
       "model_id": "b5cad2f0fe0549c5b75c79775ea79feb",
       "version_major": 2,
       "version_minor": 0
      },
      "text/plain": [
       "  0%|          | 0/302 [00:00<?, ?it/s]"
      ]
     },
     "metadata": {},
     "output_type": "display_data"
    },
    {
     "name": "stdout",
     "output_type": "stream",
     "text": [
      "targeted_simulation_output_cyto/1.3199999999999998_tPSF_0.7.tiff\n"
     ]
    },
    {
     "data": {
      "application/vnd.jupyter.widget-view+json": {
       "model_id": "c210318b196649b9bf196dd59b38e87a",
       "version_major": 2,
       "version_minor": 0
      },
      "text/plain": [
       "  0%|          | 0/302 [00:00<?, ?it/s]"
      ]
     },
     "metadata": {},
     "output_type": "display_data"
    },
    {
     "data": {
      "application/vnd.jupyter.widget-view+json": {
       "model_id": "d29d643d85fa4164bc6427c004a86d5f",
       "version_major": 2,
       "version_minor": 0
      },
      "text/plain": [
       "  0%|          | 0/4 [00:00<?, ?it/s]"
      ]
     },
     "metadata": {},
     "output_type": "display_data"
    },
    {
     "name": "stdout",
     "output_type": "stream",
     "text": [
      "targeted_simulation_output_cyto/1.42_tPSF_0.4.tiff\n"
     ]
    },
    {
     "data": {
      "application/vnd.jupyter.widget-view+json": {
       "model_id": "015d63f6ef1a4a60a6972c36665da0b2",
       "version_major": 2,
       "version_minor": 0
      },
      "text/plain": [
       "  0%|          | 0/326 [00:00<?, ?it/s]"
      ]
     },
     "metadata": {},
     "output_type": "display_data"
    },
    {
     "name": "stdout",
     "output_type": "stream",
     "text": [
      "targeted_simulation_output_cyto/1.42_tPSF_0.5.tiff\n"
     ]
    },
    {
     "data": {
      "application/vnd.jupyter.widget-view+json": {
       "model_id": "b87fab05f56f45c08fe043ad4c598e29",
       "version_major": 2,
       "version_minor": 0
      },
      "text/plain": [
       "  0%|          | 0/326 [00:00<?, ?it/s]"
      ]
     },
     "metadata": {},
     "output_type": "display_data"
    },
    {
     "name": "stdout",
     "output_type": "stream",
     "text": [
      "targeted_simulation_output_cyto/1.42_tPSF_0.6.tiff\n"
     ]
    },
    {
     "data": {
      "application/vnd.jupyter.widget-view+json": {
       "model_id": "56ee0d90fffc4ebda197195d34aba157",
       "version_major": 2,
       "version_minor": 0
      },
      "text/plain": [
       "  0%|          | 0/326 [00:00<?, ?it/s]"
      ]
     },
     "metadata": {},
     "output_type": "display_data"
    },
    {
     "name": "stdout",
     "output_type": "stream",
     "text": [
      "targeted_simulation_output_cyto/1.42_tPSF_0.7.tiff\n"
     ]
    },
    {
     "data": {
      "application/vnd.jupyter.widget-view+json": {
       "model_id": "8baf14cbe5df4853a26d776dcbcf0e09",
       "version_major": 2,
       "version_minor": 0
      },
      "text/plain": [
       "  0%|          | 0/326 [00:00<?, ?it/s]"
      ]
     },
     "metadata": {},
     "output_type": "display_data"
    },
    {
     "data": {
      "application/vnd.jupyter.widget-view+json": {
       "model_id": "e7313112e30d43a5ba8364ec5ba76a9b",
       "version_major": 2,
       "version_minor": 0
      },
      "text/plain": [
       "  0%|          | 0/4 [00:00<?, ?it/s]"
      ]
     },
     "metadata": {},
     "output_type": "display_data"
    },
    {
     "name": "stdout",
     "output_type": "stream",
     "text": [
      "targeted_simulation_output_cyto/1.5199999999999998_tPSF_0.4.tiff\n"
     ]
    },
    {
     "data": {
      "application/vnd.jupyter.widget-view+json": {
       "model_id": "7a12661e7c72439997a0d659d9d0e816",
       "version_major": 2,
       "version_minor": 0
      },
      "text/plain": [
       "  0%|          | 0/348 [00:00<?, ?it/s]"
      ]
     },
     "metadata": {},
     "output_type": "display_data"
    },
    {
     "name": "stdout",
     "output_type": "stream",
     "text": [
      "targeted_simulation_output_cyto/1.5199999999999998_tPSF_0.5.tiff\n"
     ]
    },
    {
     "data": {
      "application/vnd.jupyter.widget-view+json": {
       "model_id": "6ea73cd7022d42eab3cb594fe3e9ce69",
       "version_major": 2,
       "version_minor": 0
      },
      "text/plain": [
       "  0%|          | 0/348 [00:00<?, ?it/s]"
      ]
     },
     "metadata": {},
     "output_type": "display_data"
    },
    {
     "name": "stdout",
     "output_type": "stream",
     "text": [
      "targeted_simulation_output_cyto/1.5199999999999998_tPSF_0.6.tiff\n"
     ]
    },
    {
     "data": {
      "application/vnd.jupyter.widget-view+json": {
       "model_id": "e61676b8bcde4eaf84689b06ec483938",
       "version_major": 2,
       "version_minor": 0
      },
      "text/plain": [
       "  0%|          | 0/348 [00:00<?, ?it/s]"
      ]
     },
     "metadata": {},
     "output_type": "display_data"
    },
    {
     "name": "stdout",
     "output_type": "stream",
     "text": [
      "targeted_simulation_output_cyto/1.5199999999999998_tPSF_0.7.tiff\n"
     ]
    },
    {
     "data": {
      "application/vnd.jupyter.widget-view+json": {
       "model_id": "1bf99f00857f41c182d87cb2ba14f700",
       "version_major": 2,
       "version_minor": 0
      },
      "text/plain": [
       "  0%|          | 0/348 [00:00<?, ?it/s]"
      ]
     },
     "metadata": {},
     "output_type": "display_data"
    },
    {
     "data": {
      "application/vnd.jupyter.widget-view+json": {
       "model_id": "1530201c7bb746fa9ef15f04c6a6002f",
       "version_major": 2,
       "version_minor": 0
      },
      "text/plain": [
       "  0%|          | 0/4 [00:00<?, ?it/s]"
      ]
     },
     "metadata": {},
     "output_type": "display_data"
    },
    {
     "name": "stdout",
     "output_type": "stream",
     "text": [
      "targeted_simulation_output_cyto/1.6199999999999997_tPSF_0.4.tiff\n"
     ]
    },
    {
     "data": {
      "application/vnd.jupyter.widget-view+json": {
       "model_id": "bae5b1c40c574190aadf1d34a0f57d71",
       "version_major": 2,
       "version_minor": 0
      },
      "text/plain": [
       "  0%|          | 0/372 [00:00<?, ?it/s]"
      ]
     },
     "metadata": {},
     "output_type": "display_data"
    },
    {
     "name": "stdout",
     "output_type": "stream",
     "text": [
      "targeted_simulation_output_cyto/1.6199999999999997_tPSF_0.5.tiff\n"
     ]
    },
    {
     "data": {
      "application/vnd.jupyter.widget-view+json": {
       "model_id": "6f62cd00b0b94da392aa35b70e5547f8",
       "version_major": 2,
       "version_minor": 0
      },
      "text/plain": [
       "  0%|          | 0/372 [00:00<?, ?it/s]"
      ]
     },
     "metadata": {},
     "output_type": "display_data"
    },
    {
     "name": "stdout",
     "output_type": "stream",
     "text": [
      "targeted_simulation_output_cyto/1.6199999999999997_tPSF_0.6.tiff\n"
     ]
    },
    {
     "data": {
      "application/vnd.jupyter.widget-view+json": {
       "model_id": "b950e4380df8430088d4422b8530f882",
       "version_major": 2,
       "version_minor": 0
      },
      "text/plain": [
       "  0%|          | 0/372 [00:00<?, ?it/s]"
      ]
     },
     "metadata": {},
     "output_type": "display_data"
    },
    {
     "name": "stdout",
     "output_type": "stream",
     "text": [
      "targeted_simulation_output_cyto/1.6199999999999997_tPSF_0.7.tiff\n"
     ]
    },
    {
     "data": {
      "application/vnd.jupyter.widget-view+json": {
       "model_id": "6a23b33b17054f63ad1664de72335231",
       "version_major": 2,
       "version_minor": 0
      },
      "text/plain": [
       "  0%|          | 0/372 [00:00<?, ?it/s]"
      ]
     },
     "metadata": {},
     "output_type": "display_data"
    },
    {
     "data": {
      "application/vnd.jupyter.widget-view+json": {
       "model_id": "78113dc07bad493db2101eb392c45227",
       "version_major": 2,
       "version_minor": 0
      },
      "text/plain": [
       "  0%|          | 0/4 [00:00<?, ?it/s]"
      ]
     },
     "metadata": {},
     "output_type": "display_data"
    },
    {
     "name": "stdout",
     "output_type": "stream",
     "text": [
      "targeted_simulation_output_cyto/1.7199999999999998_tPSF_0.4.tiff\n"
     ]
    },
    {
     "data": {
      "application/vnd.jupyter.widget-view+json": {
       "model_id": "3b7a81ff0296421083b71953fb58ac7f",
       "version_major": 2,
       "version_minor": 0
      },
      "text/plain": [
       "  0%|          | 0/394 [00:00<?, ?it/s]"
      ]
     },
     "metadata": {},
     "output_type": "display_data"
    },
    {
     "name": "stdout",
     "output_type": "stream",
     "text": [
      "targeted_simulation_output_cyto/1.7199999999999998_tPSF_0.5.tiff\n"
     ]
    },
    {
     "data": {
      "application/vnd.jupyter.widget-view+json": {
       "model_id": "323869a31e0149dd930d4cf62f1ab873",
       "version_major": 2,
       "version_minor": 0
      },
      "text/plain": [
       "  0%|          | 0/394 [00:00<?, ?it/s]"
      ]
     },
     "metadata": {},
     "output_type": "display_data"
    },
    {
     "name": "stdout",
     "output_type": "stream",
     "text": [
      "targeted_simulation_output_cyto/1.7199999999999998_tPSF_0.6.tiff\n"
     ]
    },
    {
     "data": {
      "application/vnd.jupyter.widget-view+json": {
       "model_id": "d4b7065e39c14fb9a8b967633b09762e",
       "version_major": 2,
       "version_minor": 0
      },
      "text/plain": [
       "  0%|          | 0/394 [00:00<?, ?it/s]"
      ]
     },
     "metadata": {},
     "output_type": "display_data"
    },
    {
     "name": "stdout",
     "output_type": "stream",
     "text": [
      "targeted_simulation_output_cyto/1.7199999999999998_tPSF_0.7.tiff\n"
     ]
    },
    {
     "data": {
      "application/vnd.jupyter.widget-view+json": {
       "model_id": "731df1cab8f944659f148a4d4aca3460",
       "version_major": 2,
       "version_minor": 0
      },
      "text/plain": [
       "  0%|          | 0/394 [00:00<?, ?it/s]"
      ]
     },
     "metadata": {},
     "output_type": "display_data"
    },
    {
     "data": {
      "application/vnd.jupyter.widget-view+json": {
       "model_id": "1ed73112458648aaa69987e0d602b8d3",
       "version_major": 2,
       "version_minor": 0
      },
      "text/plain": [
       "  0%|          | 0/4 [00:00<?, ?it/s]"
      ]
     },
     "metadata": {},
     "output_type": "display_data"
    },
    {
     "name": "stdout",
     "output_type": "stream",
     "text": [
      "targeted_simulation_output_cyto/1.8199999999999998_tPSF_0.4.tiff\n"
     ]
    },
    {
     "data": {
      "application/vnd.jupyter.widget-view+json": {
       "model_id": "65716ca3094a4cbc9e1c3f33c9bed367",
       "version_major": 2,
       "version_minor": 0
      },
      "text/plain": [
       "  0%|          | 0/418 [00:00<?, ?it/s]"
      ]
     },
     "metadata": {},
     "output_type": "display_data"
    },
    {
     "name": "stdout",
     "output_type": "stream",
     "text": [
      "targeted_simulation_output_cyto/1.8199999999999998_tPSF_0.5.tiff\n"
     ]
    },
    {
     "data": {
      "application/vnd.jupyter.widget-view+json": {
       "model_id": "c603db63b672498bb9cfefb5809a44d7",
       "version_major": 2,
       "version_minor": 0
      },
      "text/plain": [
       "  0%|          | 0/418 [00:00<?, ?it/s]"
      ]
     },
     "metadata": {},
     "output_type": "display_data"
    },
    {
     "name": "stdout",
     "output_type": "stream",
     "text": [
      "targeted_simulation_output_cyto/1.8199999999999998_tPSF_0.6.tiff\n"
     ]
    },
    {
     "data": {
      "application/vnd.jupyter.widget-view+json": {
       "model_id": "5302cd65d63849828c858f05bed3134f",
       "version_major": 2,
       "version_minor": 0
      },
      "text/plain": [
       "  0%|          | 0/418 [00:00<?, ?it/s]"
      ]
     },
     "metadata": {},
     "output_type": "display_data"
    },
    {
     "name": "stdout",
     "output_type": "stream",
     "text": [
      "targeted_simulation_output_cyto/1.8199999999999998_tPSF_0.7.tiff\n"
     ]
    },
    {
     "data": {
      "application/vnd.jupyter.widget-view+json": {
       "model_id": "27a4431d9ec94ba7bd05ea81d7b06e04",
       "version_major": 2,
       "version_minor": 0
      },
      "text/plain": [
       "  0%|          | 0/418 [00:00<?, ?it/s]"
      ]
     },
     "metadata": {},
     "output_type": "display_data"
    },
    {
     "data": {
      "application/vnd.jupyter.widget-view+json": {
       "model_id": "41257195c7cc4aadbcc595b4cb63750f",
       "version_major": 2,
       "version_minor": 0
      },
      "text/plain": [
       "  0%|          | 0/4 [00:00<?, ?it/s]"
      ]
     },
     "metadata": {},
     "output_type": "display_data"
    },
    {
     "name": "stdout",
     "output_type": "stream",
     "text": [
      "targeted_simulation_output_cyto/1.9199999999999997_tPSF_0.4.tiff\n"
     ]
    },
    {
     "data": {
      "application/vnd.jupyter.widget-view+json": {
       "model_id": "25407d28574c48d8b09b9e37bc8c1f80",
       "version_major": 2,
       "version_minor": 0
      },
      "text/plain": [
       "  0%|          | 0/442 [00:00<?, ?it/s]"
      ]
     },
     "metadata": {},
     "output_type": "display_data"
    },
    {
     "name": "stdout",
     "output_type": "stream",
     "text": [
      "targeted_simulation_output_cyto/1.9199999999999997_tPSF_0.5.tiff\n"
     ]
    },
    {
     "data": {
      "application/vnd.jupyter.widget-view+json": {
       "model_id": "a7662e65e23c48679fb54513ad5f093c",
       "version_major": 2,
       "version_minor": 0
      },
      "text/plain": [
       "  0%|          | 0/442 [00:00<?, ?it/s]"
      ]
     },
     "metadata": {},
     "output_type": "display_data"
    },
    {
     "name": "stdout",
     "output_type": "stream",
     "text": [
      "targeted_simulation_output_cyto/1.9199999999999997_tPSF_0.6.tiff\n"
     ]
    },
    {
     "data": {
      "application/vnd.jupyter.widget-view+json": {
       "model_id": "470f1945d1404b6ab63576ba24a58dbc",
       "version_major": 2,
       "version_minor": 0
      },
      "text/plain": [
       "  0%|          | 0/442 [00:00<?, ?it/s]"
      ]
     },
     "metadata": {},
     "output_type": "display_data"
    },
    {
     "name": "stdout",
     "output_type": "stream",
     "text": [
      "targeted_simulation_output_cyto/1.9199999999999997_tPSF_0.7.tiff\n"
     ]
    },
    {
     "data": {
      "application/vnd.jupyter.widget-view+json": {
       "model_id": "cccad7307bbc4507b80980d83d3248e8",
       "version_major": 2,
       "version_minor": 0
      },
      "text/plain": [
       "  0%|          | 0/442 [00:00<?, ?it/s]"
      ]
     },
     "metadata": {},
     "output_type": "display_data"
    },
    {
     "data": {
      "application/vnd.jupyter.widget-view+json": {
       "model_id": "d8df8fe95c6b4419b0d8870631c220dd",
       "version_major": 2,
       "version_minor": 0
      },
      "text/plain": [
       "  0%|          | 0/4 [00:00<?, ?it/s]"
      ]
     },
     "metadata": {},
     "output_type": "display_data"
    },
    {
     "name": "stdout",
     "output_type": "stream",
     "text": [
      "targeted_simulation_output_cyto/2.0199999999999996_tPSF_0.4.tiff\n"
     ]
    },
    {
     "data": {
      "application/vnd.jupyter.widget-view+json": {
       "model_id": "d80116cf232d4815aa7a1ecb9d4dbe74",
       "version_major": 2,
       "version_minor": 0
      },
      "text/plain": [
       "  0%|          | 0/464 [00:00<?, ?it/s]"
      ]
     },
     "metadata": {},
     "output_type": "display_data"
    },
    {
     "name": "stdout",
     "output_type": "stream",
     "text": [
      "targeted_simulation_output_cyto/2.0199999999999996_tPSF_0.5.tiff\n"
     ]
    },
    {
     "data": {
      "application/vnd.jupyter.widget-view+json": {
       "model_id": "b5fdc180109e4d1d84da576494219b47",
       "version_major": 2,
       "version_minor": 0
      },
      "text/plain": [
       "  0%|          | 0/464 [00:00<?, ?it/s]"
      ]
     },
     "metadata": {},
     "output_type": "display_data"
    },
    {
     "name": "stdout",
     "output_type": "stream",
     "text": [
      "targeted_simulation_output_cyto/2.0199999999999996_tPSF_0.6.tiff\n"
     ]
    },
    {
     "data": {
      "application/vnd.jupyter.widget-view+json": {
       "model_id": "29a775770fca451da0054c61ddc0c81c",
       "version_major": 2,
       "version_minor": 0
      },
      "text/plain": [
       "  0%|          | 0/464 [00:00<?, ?it/s]"
      ]
     },
     "metadata": {},
     "output_type": "display_data"
    },
    {
     "name": "stdout",
     "output_type": "stream",
     "text": [
      "targeted_simulation_output_cyto/2.0199999999999996_tPSF_0.7.tiff\n"
     ]
    },
    {
     "data": {
      "application/vnd.jupyter.widget-view+json": {
       "model_id": "eb3f9c0b630442518bb9eee3dd182e00",
       "version_major": 2,
       "version_minor": 0
      },
      "text/plain": [
       "  0%|          | 0/464 [00:00<?, ?it/s]"
      ]
     },
     "metadata": {},
     "output_type": "display_data"
    },
    {
     "data": {
      "application/vnd.jupyter.widget-view+json": {
       "model_id": "e2e56f709c1445b6b028056b8a75bf22",
       "version_major": 2,
       "version_minor": 0
      },
      "text/plain": [
       "  0%|          | 0/4 [00:00<?, ?it/s]"
      ]
     },
     "metadata": {},
     "output_type": "display_data"
    },
    {
     "name": "stdout",
     "output_type": "stream",
     "text": [
      "targeted_simulation_output_cyto/2.1199999999999997_tPSF_0.4.tiff\n"
     ]
    },
    {
     "data": {
      "application/vnd.jupyter.widget-view+json": {
       "model_id": "f3c13b118d284e67a68cba6369922b26",
       "version_major": 2,
       "version_minor": 0
      },
      "text/plain": [
       "  0%|          | 0/488 [00:00<?, ?it/s]"
      ]
     },
     "metadata": {},
     "output_type": "display_data"
    },
    {
     "name": "stdout",
     "output_type": "stream",
     "text": [
      "targeted_simulation_output_cyto/2.1199999999999997_tPSF_0.5.tiff\n"
     ]
    },
    {
     "data": {
      "application/vnd.jupyter.widget-view+json": {
       "model_id": "ebe32a1f1b9f444884ae4f60e93fb27a",
       "version_major": 2,
       "version_minor": 0
      },
      "text/plain": [
       "  0%|          | 0/488 [00:00<?, ?it/s]"
      ]
     },
     "metadata": {},
     "output_type": "display_data"
    },
    {
     "name": "stdout",
     "output_type": "stream",
     "text": [
      "targeted_simulation_output_cyto/2.1199999999999997_tPSF_0.6.tiff\n"
     ]
    },
    {
     "data": {
      "application/vnd.jupyter.widget-view+json": {
       "model_id": "c38350ee54f84b4998047a4f48b04097",
       "version_major": 2,
       "version_minor": 0
      },
      "text/plain": [
       "  0%|          | 0/488 [00:00<?, ?it/s]"
      ]
     },
     "metadata": {},
     "output_type": "display_data"
    },
    {
     "name": "stdout",
     "output_type": "stream",
     "text": [
      "targeted_simulation_output_cyto/2.1199999999999997_tPSF_0.7.tiff\n"
     ]
    },
    {
     "data": {
      "application/vnd.jupyter.widget-view+json": {
       "model_id": "d8b1ae2ad37748dbb6e677144d549f9b",
       "version_major": 2,
       "version_minor": 0
      },
      "text/plain": [
       "  0%|          | 0/488 [00:00<?, ?it/s]"
      ]
     },
     "metadata": {},
     "output_type": "display_data"
    },
    {
     "data": {
      "application/vnd.jupyter.widget-view+json": {
       "model_id": "97615b22182c433a96ca81ee7cbc74b2",
       "version_major": 2,
       "version_minor": 0
      },
      "text/plain": [
       "  0%|          | 0/4 [00:00<?, ?it/s]"
      ]
     },
     "metadata": {},
     "output_type": "display_data"
    },
    {
     "name": "stdout",
     "output_type": "stream",
     "text": [
      "targeted_simulation_output_cyto/2.2199999999999998_tPSF_0.4.tiff\n"
     ]
    },
    {
     "data": {
      "application/vnd.jupyter.widget-view+json": {
       "model_id": "a3a12f1b03c949758061449d1fa46d7d",
       "version_major": 2,
       "version_minor": 0
      },
      "text/plain": [
       "  0%|          | 0/510 [00:00<?, ?it/s]"
      ]
     },
     "metadata": {},
     "output_type": "display_data"
    },
    {
     "name": "stdout",
     "output_type": "stream",
     "text": [
      "targeted_simulation_output_cyto/2.2199999999999998_tPSF_0.5.tiff\n"
     ]
    },
    {
     "data": {
      "application/vnd.jupyter.widget-view+json": {
       "model_id": "51c365105c954154aa29076c5268a184",
       "version_major": 2,
       "version_minor": 0
      },
      "text/plain": [
       "  0%|          | 0/510 [00:00<?, ?it/s]"
      ]
     },
     "metadata": {},
     "output_type": "display_data"
    },
    {
     "name": "stdout",
     "output_type": "stream",
     "text": [
      "targeted_simulation_output_cyto/2.2199999999999998_tPSF_0.6.tiff\n"
     ]
    },
    {
     "data": {
      "application/vnd.jupyter.widget-view+json": {
       "model_id": "9caaf00520be434ea0fcbde9be212c21",
       "version_major": 2,
       "version_minor": 0
      },
      "text/plain": [
       "  0%|          | 0/510 [00:00<?, ?it/s]"
      ]
     },
     "metadata": {},
     "output_type": "display_data"
    },
    {
     "name": "stdout",
     "output_type": "stream",
     "text": [
      "targeted_simulation_output_cyto/2.2199999999999998_tPSF_0.7.tiff\n"
     ]
    },
    {
     "data": {
      "application/vnd.jupyter.widget-view+json": {
       "model_id": "16aa4e70203441b492fbcf4e8b57d733",
       "version_major": 2,
       "version_minor": 0
      },
      "text/plain": [
       "  0%|          | 0/510 [00:00<?, ?it/s]"
      ]
     },
     "metadata": {},
     "output_type": "display_data"
    },
    {
     "data": {
      "application/vnd.jupyter.widget-view+json": {
       "model_id": "ad6849c83f854fc5abed7f38d49de402",
       "version_major": 2,
       "version_minor": 0
      },
      "text/plain": [
       "  0%|          | 0/4 [00:00<?, ?it/s]"
      ]
     },
     "metadata": {},
     "output_type": "display_data"
    },
    {
     "name": "stdout",
     "output_type": "stream",
     "text": [
      "targeted_simulation_output_cyto/2.32_tPSF_0.4.tiff\n"
     ]
    },
    {
     "data": {
      "application/vnd.jupyter.widget-view+json": {
       "model_id": "de20d3bb81434adab547ad5d369b0700",
       "version_major": 2,
       "version_minor": 0
      },
      "text/plain": [
       "  0%|          | 0/534 [00:00<?, ?it/s]"
      ]
     },
     "metadata": {},
     "output_type": "display_data"
    },
    {
     "name": "stdout",
     "output_type": "stream",
     "text": [
      "targeted_simulation_output_cyto/2.32_tPSF_0.5.tiff\n"
     ]
    },
    {
     "data": {
      "application/vnd.jupyter.widget-view+json": {
       "model_id": "85e8f59a307343d1ac182e0350665093",
       "version_major": 2,
       "version_minor": 0
      },
      "text/plain": [
       "  0%|          | 0/534 [00:00<?, ?it/s]"
      ]
     },
     "metadata": {},
     "output_type": "display_data"
    },
    {
     "name": "stdout",
     "output_type": "stream",
     "text": [
      "targeted_simulation_output_cyto/2.32_tPSF_0.6.tiff\n"
     ]
    },
    {
     "data": {
      "application/vnd.jupyter.widget-view+json": {
       "model_id": "4d6f0e1968204787b2405dde72ddcd64",
       "version_major": 2,
       "version_minor": 0
      },
      "text/plain": [
       "  0%|          | 0/534 [00:00<?, ?it/s]"
      ]
     },
     "metadata": {},
     "output_type": "display_data"
    },
    {
     "name": "stdout",
     "output_type": "stream",
     "text": [
      "targeted_simulation_output_cyto/2.32_tPSF_0.7.tiff\n"
     ]
    },
    {
     "data": {
      "application/vnd.jupyter.widget-view+json": {
       "model_id": "af6c11d613dd4416a9b98bd135e49748",
       "version_major": 2,
       "version_minor": 0
      },
      "text/plain": [
       "  0%|          | 0/534 [00:00<?, ?it/s]"
      ]
     },
     "metadata": {},
     "output_type": "display_data"
    },
    {
     "data": {
      "application/vnd.jupyter.widget-view+json": {
       "model_id": "e121efa66d2744d68a17c697e1cc60b1",
       "version_major": 2,
       "version_minor": 0
      },
      "text/plain": [
       "  0%|          | 0/4 [00:00<?, ?it/s]"
      ]
     },
     "metadata": {},
     "output_type": "display_data"
    },
    {
     "name": "stdout",
     "output_type": "stream",
     "text": [
      "targeted_simulation_output_cyto/2.4199999999999995_tPSF_0.4.tiff\n"
     ]
    },
    {
     "data": {
      "application/vnd.jupyter.widget-view+json": {
       "model_id": "d755c9356cc3421baa2bc87e51921b18",
       "version_major": 2,
       "version_minor": 0
      },
      "text/plain": [
       "  0%|          | 0/556 [00:00<?, ?it/s]"
      ]
     },
     "metadata": {},
     "output_type": "display_data"
    },
    {
     "name": "stdout",
     "output_type": "stream",
     "text": [
      "targeted_simulation_output_cyto/2.4199999999999995_tPSF_0.5.tiff\n"
     ]
    },
    {
     "data": {
      "application/vnd.jupyter.widget-view+json": {
       "model_id": "771055a390884574bef207e79c4a8bac",
       "version_major": 2,
       "version_minor": 0
      },
      "text/plain": [
       "  0%|          | 0/556 [00:00<?, ?it/s]"
      ]
     },
     "metadata": {},
     "output_type": "display_data"
    },
    {
     "name": "stdout",
     "output_type": "stream",
     "text": [
      "targeted_simulation_output_cyto/2.4199999999999995_tPSF_0.6.tiff\n"
     ]
    },
    {
     "data": {
      "application/vnd.jupyter.widget-view+json": {
       "model_id": "42c45c4be2754ec9957cf3ed8be3488c",
       "version_major": 2,
       "version_minor": 0
      },
      "text/plain": [
       "  0%|          | 0/556 [00:00<?, ?it/s]"
      ]
     },
     "metadata": {},
     "output_type": "display_data"
    },
    {
     "name": "stdout",
     "output_type": "stream",
     "text": [
      "targeted_simulation_output_cyto/2.4199999999999995_tPSF_0.7.tiff\n"
     ]
    },
    {
     "data": {
      "application/vnd.jupyter.widget-view+json": {
       "model_id": "cd886c0ee5fd4e14846ee47804e634a3",
       "version_major": 2,
       "version_minor": 0
      },
      "text/plain": [
       "  0%|          | 0/556 [00:00<?, ?it/s]"
      ]
     },
     "metadata": {},
     "output_type": "display_data"
    },
    {
     "data": {
      "application/vnd.jupyter.widget-view+json": {
       "model_id": "573f01be420d4f9991143a78266b1cef",
       "version_major": 2,
       "version_minor": 0
      },
      "text/plain": [
       "  0%|          | 0/4 [00:00<?, ?it/s]"
      ]
     },
     "metadata": {},
     "output_type": "display_data"
    },
    {
     "name": "stdout",
     "output_type": "stream",
     "text": [
      "targeted_simulation_output_cyto/2.5199999999999996_tPSF_0.4.tiff\n"
     ]
    },
    {
     "data": {
      "application/vnd.jupyter.widget-view+json": {
       "model_id": "8168aea3c9ef4c9bba45ff7dd522a5e4",
       "version_major": 2,
       "version_minor": 0
      },
      "text/plain": [
       "  0%|          | 0/580 [00:00<?, ?it/s]"
      ]
     },
     "metadata": {},
     "output_type": "display_data"
    },
    {
     "name": "stdout",
     "output_type": "stream",
     "text": [
      "targeted_simulation_output_cyto/2.5199999999999996_tPSF_0.5.tiff\n"
     ]
    },
    {
     "data": {
      "application/vnd.jupyter.widget-view+json": {
       "model_id": "4417d433b8ff4548bd47ad6b612fc7f3",
       "version_major": 2,
       "version_minor": 0
      },
      "text/plain": [
       "  0%|          | 0/580 [00:00<?, ?it/s]"
      ]
     },
     "metadata": {},
     "output_type": "display_data"
    },
    {
     "name": "stdout",
     "output_type": "stream",
     "text": [
      "targeted_simulation_output_cyto/2.5199999999999996_tPSF_0.6.tiff\n"
     ]
    },
    {
     "data": {
      "application/vnd.jupyter.widget-view+json": {
       "model_id": "5ef7504fd8a744e39860494defe7ec1a",
       "version_major": 2,
       "version_minor": 0
      },
      "text/plain": [
       "  0%|          | 0/580 [00:00<?, ?it/s]"
      ]
     },
     "metadata": {},
     "output_type": "display_data"
    },
    {
     "name": "stdout",
     "output_type": "stream",
     "text": [
      "targeted_simulation_output_cyto/2.5199999999999996_tPSF_0.7.tiff\n"
     ]
    },
    {
     "data": {
      "application/vnd.jupyter.widget-view+json": {
       "model_id": "d406dc7415874c6f99d9b6c73f3ac286",
       "version_major": 2,
       "version_minor": 0
      },
      "text/plain": [
       "  0%|          | 0/580 [00:00<?, ?it/s]"
      ]
     },
     "metadata": {},
     "output_type": "display_data"
    },
    {
     "data": {
      "application/vnd.jupyter.widget-view+json": {
       "model_id": "b035053c702341f89ae8c16dd74ecf8c",
       "version_major": 2,
       "version_minor": 0
      },
      "text/plain": [
       "  0%|          | 0/4 [00:00<?, ?it/s]"
      ]
     },
     "metadata": {},
     "output_type": "display_data"
    },
    {
     "name": "stdout",
     "output_type": "stream",
     "text": [
      "targeted_simulation_output_cyto/2.6199999999999997_tPSF_0.4.tiff\n"
     ]
    },
    {
     "data": {
      "application/vnd.jupyter.widget-view+json": {
       "model_id": "b018dbb7d7ff4274aec6c1d8636c8765",
       "version_major": 2,
       "version_minor": 0
      },
      "text/plain": [
       "  0%|          | 0/602 [00:00<?, ?it/s]"
      ]
     },
     "metadata": {},
     "output_type": "display_data"
    },
    {
     "name": "stdout",
     "output_type": "stream",
     "text": [
      "targeted_simulation_output_cyto/2.6199999999999997_tPSF_0.5.tiff\n"
     ]
    },
    {
     "data": {
      "application/vnd.jupyter.widget-view+json": {
       "model_id": "2f49d2b067064574b4eec1d7d9006354",
       "version_major": 2,
       "version_minor": 0
      },
      "text/plain": [
       "  0%|          | 0/602 [00:00<?, ?it/s]"
      ]
     },
     "metadata": {},
     "output_type": "display_data"
    },
    {
     "name": "stdout",
     "output_type": "stream",
     "text": [
      "targeted_simulation_output_cyto/2.6199999999999997_tPSF_0.6.tiff\n"
     ]
    },
    {
     "data": {
      "application/vnd.jupyter.widget-view+json": {
       "model_id": "17153315a7004b84a7f9bbc809505c0f",
       "version_major": 2,
       "version_minor": 0
      },
      "text/plain": [
       "  0%|          | 0/602 [00:00<?, ?it/s]"
      ]
     },
     "metadata": {},
     "output_type": "display_data"
    },
    {
     "name": "stdout",
     "output_type": "stream",
     "text": [
      "targeted_simulation_output_cyto/2.6199999999999997_tPSF_0.7.tiff\n"
     ]
    },
    {
     "data": {
      "application/vnd.jupyter.widget-view+json": {
       "model_id": "64d29c0132d04f419d5c1f868648593c",
       "version_major": 2,
       "version_minor": 0
      },
      "text/plain": [
       "  0%|          | 0/602 [00:00<?, ?it/s]"
      ]
     },
     "metadata": {},
     "output_type": "display_data"
    },
    {
     "data": {
      "application/vnd.jupyter.widget-view+json": {
       "model_id": "1ed9fb93dee34bbd8f878888c369c786",
       "version_major": 2,
       "version_minor": 0
      },
      "text/plain": [
       "  0%|          | 0/4 [00:00<?, ?it/s]"
      ]
     },
     "metadata": {},
     "output_type": "display_data"
    },
    {
     "name": "stdout",
     "output_type": "stream",
     "text": [
      "targeted_simulation_output_cyto/2.7199999999999993_tPSF_0.4.tiff\n"
     ]
    },
    {
     "data": {
      "application/vnd.jupyter.widget-view+json": {
       "model_id": "d8456f6587a34c1787fc0ff678e81a29",
       "version_major": 2,
       "version_minor": 0
      },
      "text/plain": [
       "  0%|          | 0/626 [00:00<?, ?it/s]"
      ]
     },
     "metadata": {},
     "output_type": "display_data"
    },
    {
     "name": "stdout",
     "output_type": "stream",
     "text": [
      "targeted_simulation_output_cyto/2.7199999999999993_tPSF_0.5.tiff\n"
     ]
    },
    {
     "data": {
      "application/vnd.jupyter.widget-view+json": {
       "model_id": "2908744a488444d0b9757415b655c48c",
       "version_major": 2,
       "version_minor": 0
      },
      "text/plain": [
       "  0%|          | 0/626 [00:00<?, ?it/s]"
      ]
     },
     "metadata": {},
     "output_type": "display_data"
    },
    {
     "name": "stdout",
     "output_type": "stream",
     "text": [
      "targeted_simulation_output_cyto/2.7199999999999993_tPSF_0.6.tiff\n"
     ]
    },
    {
     "data": {
      "application/vnd.jupyter.widget-view+json": {
       "model_id": "760a8bdd343b4768a74818f1785087f4",
       "version_major": 2,
       "version_minor": 0
      },
      "text/plain": [
       "  0%|          | 0/626 [00:00<?, ?it/s]"
      ]
     },
     "metadata": {},
     "output_type": "display_data"
    },
    {
     "name": "stdout",
     "output_type": "stream",
     "text": [
      "targeted_simulation_output_cyto/2.7199999999999993_tPSF_0.7.tiff\n"
     ]
    },
    {
     "data": {
      "application/vnd.jupyter.widget-view+json": {
       "model_id": "61cfaa34bfc4487d8673ea4cc4d8cff6",
       "version_major": 2,
       "version_minor": 0
      },
      "text/plain": [
       "  0%|          | 0/626 [00:00<?, ?it/s]"
      ]
     },
     "metadata": {},
     "output_type": "display_data"
    },
    {
     "data": {
      "application/vnd.jupyter.widget-view+json": {
       "model_id": "b062c93da1654f649b9cea7bff7434ce",
       "version_major": 2,
       "version_minor": 0
      },
      "text/plain": [
       "  0%|          | 0/4 [00:00<?, ?it/s]"
      ]
     },
     "metadata": {},
     "output_type": "display_data"
    },
    {
     "name": "stdout",
     "output_type": "stream",
     "text": [
      "targeted_simulation_output_cyto/2.8199999999999994_tPSF_0.4.tiff\n"
     ]
    },
    {
     "data": {
      "application/vnd.jupyter.widget-view+json": {
       "model_id": "d22ca383c14148b7b8a43e274c46c844",
       "version_major": 2,
       "version_minor": 0
      },
      "text/plain": [
       "  0%|          | 0/648 [00:00<?, ?it/s]"
      ]
     },
     "metadata": {},
     "output_type": "display_data"
    },
    {
     "name": "stdout",
     "output_type": "stream",
     "text": [
      "targeted_simulation_output_cyto/2.8199999999999994_tPSF_0.5.tiff\n"
     ]
    },
    {
     "data": {
      "application/vnd.jupyter.widget-view+json": {
       "model_id": "da0380e89dc041ed830e5d90ddec80c5",
       "version_major": 2,
       "version_minor": 0
      },
      "text/plain": [
       "  0%|          | 0/648 [00:00<?, ?it/s]"
      ]
     },
     "metadata": {},
     "output_type": "display_data"
    },
    {
     "name": "stdout",
     "output_type": "stream",
     "text": [
      "targeted_simulation_output_cyto/2.8199999999999994_tPSF_0.6.tiff\n"
     ]
    },
    {
     "data": {
      "application/vnd.jupyter.widget-view+json": {
       "model_id": "c37dc2ed103d45b89b89a0ad6a883512",
       "version_major": 2,
       "version_minor": 0
      },
      "text/plain": [
       "  0%|          | 0/648 [00:00<?, ?it/s]"
      ]
     },
     "metadata": {},
     "output_type": "display_data"
    },
    {
     "name": "stdout",
     "output_type": "stream",
     "text": [
      "targeted_simulation_output_cyto/2.8199999999999994_tPSF_0.7.tiff\n"
     ]
    },
    {
     "data": {
      "application/vnd.jupyter.widget-view+json": {
       "model_id": "62c247a6dbe948f6873f5811fb489d1b",
       "version_major": 2,
       "version_minor": 0
      },
      "text/plain": [
       "  0%|          | 0/648 [00:00<?, ?it/s]"
      ]
     },
     "metadata": {},
     "output_type": "display_data"
    },
    {
     "data": {
      "application/vnd.jupyter.widget-view+json": {
       "model_id": "82d2ffd2cf0749a4b4ac5dc8ddb96827",
       "version_major": 2,
       "version_minor": 0
      },
      "text/plain": [
       "  0%|          | 0/4 [00:00<?, ?it/s]"
      ]
     },
     "metadata": {},
     "output_type": "display_data"
    },
    {
     "name": "stdout",
     "output_type": "stream",
     "text": [
      "targeted_simulation_output_cyto/2.9199999999999995_tPSF_0.4.tiff\n"
     ]
    },
    {
     "data": {
      "application/vnd.jupyter.widget-view+json": {
       "model_id": "66668864c607418d845ab6f510c9f79b",
       "version_major": 2,
       "version_minor": 0
      },
      "text/plain": [
       "  0%|          | 0/672 [00:00<?, ?it/s]"
      ]
     },
     "metadata": {},
     "output_type": "display_data"
    },
    {
     "name": "stdout",
     "output_type": "stream",
     "text": [
      "targeted_simulation_output_cyto/2.9199999999999995_tPSF_0.5.tiff\n"
     ]
    },
    {
     "data": {
      "application/vnd.jupyter.widget-view+json": {
       "model_id": "563db5d2cb06454295bcd091ba435619",
       "version_major": 2,
       "version_minor": 0
      },
      "text/plain": [
       "  0%|          | 0/672 [00:00<?, ?it/s]"
      ]
     },
     "metadata": {},
     "output_type": "display_data"
    },
    {
     "name": "stdout",
     "output_type": "stream",
     "text": [
      "targeted_simulation_output_cyto/2.9199999999999995_tPSF_0.6.tiff\n"
     ]
    },
    {
     "data": {
      "application/vnd.jupyter.widget-view+json": {
       "model_id": "6b15dd9592224bb5b296657d5079b831",
       "version_major": 2,
       "version_minor": 0
      },
      "text/plain": [
       "  0%|          | 0/672 [00:00<?, ?it/s]"
      ]
     },
     "metadata": {},
     "output_type": "display_data"
    },
    {
     "name": "stdout",
     "output_type": "stream",
     "text": [
      "targeted_simulation_output_cyto/2.9199999999999995_tPSF_0.7.tiff\n"
     ]
    },
    {
     "data": {
      "application/vnd.jupyter.widget-view+json": {
       "model_id": "4283f12234824d9591f7b91f29481196",
       "version_major": 2,
       "version_minor": 0
      },
      "text/plain": [
       "  0%|          | 0/672 [00:00<?, ?it/s]"
      ]
     },
     "metadata": {},
     "output_type": "display_data"
    },
    {
     "data": {
      "application/vnd.jupyter.widget-view+json": {
       "model_id": "945cffdef3f949c7984ea2f98fc075f5",
       "version_major": 2,
       "version_minor": 0
      },
      "text/plain": [
       "  0%|          | 0/4 [00:00<?, ?it/s]"
      ]
     },
     "metadata": {},
     "output_type": "display_data"
    },
    {
     "name": "stdout",
     "output_type": "stream",
     "text": [
      "targeted_simulation_output_cyto/3.0199999999999996_tPSF_0.4.tiff\n"
     ]
    },
    {
     "data": {
      "application/vnd.jupyter.widget-view+json": {
       "model_id": "6749021fd3c3457aad3e9ac7f8c2a980",
       "version_major": 2,
       "version_minor": 0
      },
      "text/plain": [
       "  0%|          | 0/692 [00:00<?, ?it/s]"
      ]
     },
     "metadata": {},
     "output_type": "display_data"
    },
    {
     "name": "stdout",
     "output_type": "stream",
     "text": [
      "targeted_simulation_output_cyto/3.0199999999999996_tPSF_0.5.tiff\n"
     ]
    },
    {
     "data": {
      "application/vnd.jupyter.widget-view+json": {
       "model_id": "010047f44701432dbeb426024e5fbb6f",
       "version_major": 2,
       "version_minor": 0
      },
      "text/plain": [
       "  0%|          | 0/692 [00:00<?, ?it/s]"
      ]
     },
     "metadata": {},
     "output_type": "display_data"
    },
    {
     "name": "stdout",
     "output_type": "stream",
     "text": [
      "targeted_simulation_output_cyto/3.0199999999999996_tPSF_0.6.tiff\n"
     ]
    },
    {
     "data": {
      "application/vnd.jupyter.widget-view+json": {
       "model_id": "089eb391ef3b4433b6537c1c71e98661",
       "version_major": 2,
       "version_minor": 0
      },
      "text/plain": [
       "  0%|          | 0/692 [00:00<?, ?it/s]"
      ]
     },
     "metadata": {},
     "output_type": "display_data"
    },
    {
     "name": "stdout",
     "output_type": "stream",
     "text": [
      "targeted_simulation_output_cyto/3.0199999999999996_tPSF_0.7.tiff\n"
     ]
    },
    {
     "data": {
      "application/vnd.jupyter.widget-view+json": {
       "model_id": "b6035be660474bcda1eed5d4f357aad7",
       "version_major": 2,
       "version_minor": 0
      },
      "text/plain": [
       "  0%|          | 0/692 [00:00<?, ?it/s]"
      ]
     },
     "metadata": {},
     "output_type": "display_data"
    }
   ],
   "source": [
    "for cell_width in tqdm(cell_widths):\n",
    "    a_cell = np.pad(raster_cell_3d(3/pix_mic_conv, cell_width/pix_mic_conv, 0), ((0,0), (150, 150), (150,150)))\n",
    "    cell_centre = a_cell.shape[0]//2\n",
    "    for PSF_name in (tqdm(tPSF_names)):\n",
    "        file_name = f\"targeted_simulation_output_cyto/{cell_width}_tPSF_{PSF_name}.tiff\"\n",
    "        print(file_name)\n",
    "        PSF = tPSFs[PSF_name]\n",
    "        cell_conv_idxs = np.arange(a_cell.shape[0])\n",
    "        PSF_centre = PSF.shape[0]//2\n",
    "    \n",
    "        cell_conv_idxs = np.arange(a_cell.shape[0])\n",
    "        PSF_conv_idxs = np.arange(PSF_centre-cell_centre,PSF_centre+cell_centre)\n",
    "\n",
    "\n",
    "        convolved_projection = np.array(\n",
    "            [convolve_rescale(a_cell[cell_conv_idx].astype(float), PSF[PSF_conv_idx], 1, False) for cell_conv_idx, PSF_conv_idx in zip(cell_conv_idxs, tqdm(PSF_conv_idxs))]\n",
    "        )\n",
    "\n",
    "        tifffile.imwrite(file_name, convolved_projection)"
   ]
  },
  {
   "cell_type": "code",
   "execution_count": 89,
   "id": "7c8d4b14-1b9e-49f8-a987-5487aeffaf90",
   "metadata": {},
   "outputs": [
    {
     "data": {
      "application/vnd.jupyter.widget-view+json": {
       "model_id": "11902465fac341ea91220aa8bcaaa9ec",
       "version_major": 2,
       "version_minor": 0
      },
      "text/plain": [
       "  0%|          | 0/228 [00:00<?, ?it/s]"
      ]
     },
     "metadata": {},
     "output_type": "display_data"
    }
   ],
   "source": [
    "my_kernel = PSF_generator(\n",
    "    radius = 100, \n",
    "    wavelength = 0.705, \n",
    "    NA=1.49, \n",
    "    n = 1.518, \n",
    "    resize_amount=1, \n",
    "    pix_mic_conv=pix_mic_conv, \n",
    "    apo_sigma = 10, \n",
    "    mode=\"3d fluo\", \n",
    "    condenser=\"Ph3\", \n",
    "    z_height = a_cell.shape[0],\n",
    "    pz = 0.5,\n",
    "    working_distance = 170\n",
    ")\n",
    "my_kernel.calculate_PSF()   \n",
    "#my_kernel.plot_PSF()\n",
    "\n",
    "\n",
    "convolved_projection_red = np.array([convolve_rescale(cell_layer.astype(float), kernel_layer, 1, False) for cell_layer, kernel_layer in zip(\n",
    "    tqdm(a_cell), my_kernel.kernel\n",
    ")])"
   ]
  },
  {
   "cell_type": "code",
   "execution_count": 90,
   "id": "f6bd9d36-867c-4e98-92b9-cf8caad4b833",
   "metadata": {},
   "outputs": [
    {
     "data": {
      "application/vnd.jupyter.widget-view+json": {
       "model_id": "88134cb804a54979a4fb62fa9b95bd42",
       "version_major": 2,
       "version_minor": 0
      },
      "text/plain": [
       "  0%|          | 0/228 [00:00<?, ?it/s]"
      ]
     },
     "metadata": {},
     "output_type": "display_data"
    }
   ],
   "source": [
    "PSF = real_PSFs[\"ePSF_darkred\"]\n",
    "\n",
    "PSF_centre = PSF_darkred_centre_z\n",
    "\n",
    "\n",
    "cell_centre = a_cell.shape[0]//2\n",
    "\n",
    "cell_conv_idxs = np.arange(a_cell.shape[0])\n",
    "PSF_conv_idxs = np.arange(PSF_centre-cell_centre,PSF_centre+cell_centre)\n",
    "\n",
    "\n",
    "convolved_projection_darkred = np.array(\n",
    "    [convolve_rescale(a_cell[cell_conv_idx].astype(float), PSF[PSF_conv_idx], 1, False) for cell_conv_idx, PSF_conv_idx in zip(cell_conv_idxs, tqdm(PSF_conv_idxs))]\n",
    ")"
   ]
  },
  {
   "cell_type": "code",
   "execution_count": null,
   "id": "35361584-2a38-4a9a-bc65-5ab973c5c173",
   "metadata": {},
   "outputs": [],
   "source": [
    "midpoint_y = convolved_projection_red.shape[1]//2"
   ]
  },
  {
   "cell_type": "code",
   "execution_count": 97,
   "id": "1b891271-3493-403f-9e50-d7461474fdc9",
   "metadata": {},
   "outputs": [],
   "source": [
    "profile_green = convolved_projection_green.sum(axis=0)[midpoint_y]/convolved_projection_green.sum(axis=0)[midpoint_y].max()\n",
    "profile_darkred = convolved_projection_darkred.sum(axis=0)[midpoint_y]/convolved_projection_darkred.sum(axis=0)[midpoint_y].max()"
   ]
  },
  {
   "cell_type": "code",
   "execution_count": 98,
   "id": "19528e7b-1e3a-418a-983b-9daa5492e8eb",
   "metadata": {},
   "outputs": [
    {
     "data": {
      "text/plain": [
       "array([0.104])"
      ]
     },
     "execution_count": 98,
     "metadata": {},
     "output_type": "execute_result"
    }
   ],
   "source": [
    "pix_mic_conv * (np.diff(find_peaks(profile_green)[0]) - np.diff(find_peaks(profile_darkred)[0]))"
   ]
  },
  {
   "cell_type": "code",
   "execution_count": 102,
   "id": "85dfae5c-c077-40c0-88eb-ae546ab904dc",
   "metadata": {},
   "outputs": [
    {
     "data": {
      "text/plain": [
       "[<matplotlib.lines.Line2D at 0x7eff00fd8ca0>]"
      ]
     },
     "execution_count": 102,
     "metadata": {},
     "output_type": "execute_result"
    },
    {
     "data": {
      "image/png": "[encoded data removed]",
      "text/plain": [
       "<Figure size 640x480 with 1 Axes>"
      ]
     },
     "metadata": {},
     "output_type": "display_data"
    }
   ],
   "source": [
    "#plt.plot(convolved_projection_red.sum(axis=0)[midpoint_y]/convolved_projection_red.sum(axis=0)[midpoint_y].max(), c = \"red\", linestyle = \":\")\n",
    "plt.plot(convolved_projection_green.sum(axis=0)[midpoint_y]/convolved_projection_green.sum(axis=0)[midpoint_y].max(), c = \"green\", linestyle = \":\")\n",
    "plt.plot(convolved_projection_darkred.sum(axis=0)[midpoint_y]/convolved_projection_darkred.sum(axis=0)[midpoint_y].max(), c = \"red\")\n",
    "plt.plot(a_cell.sum(axis=0)[midpoint_y]/a_cell.sum(axis=0)[midpoint_y].max(), c = \"k\")\n",
    "#plt.xlim(50,125)\n",
    "#plt.ylim(0.4,1)"
   ]
  },
  {
   "cell_type": "code",
   "execution_count": null,
   "id": "fc59cde6-3ecf-4c99-b87f-33399e78cfa3",
   "metadata": {},
   "outputs": [],
   "source": [
    "5"
   ]
  },
  {
   "cell_type": "code",
   "execution_count": null,
   "id": "6448abc7-e589-4e5b-8aa7-398e3d430095",
   "metadata": {},
   "outputs": [],
   "source": []
  }
 ],
 "metadata": {
  "kernelspec": {
   "display_name": "Python [conda env:symbac]",
   "language": "python",
   "name": "conda-env-symbac-py"
  },
  "language_info": {
   "codemirror_mode": {
    "name": "ipython",
    "version": 3
   },
   "file_extension": ".py",
   "mimetype": "text/x-python",
   "name": "python",
   "nbconvert_exporter": "python",
   "pygments_lexer": "ipython3",
   "version": "3.10.9"
  }
 },
 "nbformat": 4,
 "nbformat_minor": 5
}
