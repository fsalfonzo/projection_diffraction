{
 "cells": [
  {
   "cell_type": "code",
   "execution_count": 1,
   "id": "5c107961-df31-4e5a-bbd0-9cf928ad5637",
   "metadata": {},
   "outputs": [],
   "source": [
    "import os\n",
    "os.environ['MALLOC_TRIM_THRESHOLD_'] = '0'\n",
    "\n",
    "%matplotlib inline\n",
    "%config InlineBackend.print_figure_kwargs = {'bbox_inches':None}\n",
    "import sys\n",
    "sys.path.insert(1, '../../SyMBac/') # Not needed if you installed SyMBac using pip\n",
    "\n",
    "import ray\n",
    "from SyMBac.drawing import  OPL_to_FL\n",
    "from SyMBac.PSF import PSF_generator\n",
    "from SyMBac.renderer import convolve_rescale\n",
    "import matplotlib.pyplot as plt\n",
    "import numpy as np\n",
    "from tqdm.auto import tqdm\n",
    "from PIL import Image\n",
    "from skimage.util import img_as_uint\n",
    "from joblib import Parallel, delayed\n",
    "from glob import glob\n",
    "from SyMBac.colony_renderer import ColonyRenderer\n",
    "import noise\n",
    "from skimage.filters import threshold_otsu\n",
    "from skimage.transform import rescale, resize, downscale_local_mean\n",
    "from scipy.signal import find_peaks\n",
    "import pandas as pd\n",
    "from numba import njit\n",
    "import tifffile"
   ]
  },
  {
   "cell_type": "code",
   "execution_count": 55,
   "id": "802d07c3-acd4-4097-a7b3-260a7f0ec295",
   "metadata": {},
   "outputs": [],
   "source": [
    "def raster_cell(length, width, separation = 0, additional_width = 0, pinching=True):\n",
    "    \"\"\"\n",
    "    Produces a rasterised image of a cell with the intensiity of each pixel corresponding to the optical path length\n",
    "    (thickness) of the cell at that point.\n",
    "\n",
    "    :param int length: Cell length in pixels\n",
    "    :param int width: Cell width in pixels\n",
    "    :param int separation: An int between (0, `width`) controlling how much pinching is happening.\n",
    "    :param bool pinching: Controls whether pinching is happening\n",
    "\n",
    "    Returns\n",
    "    -------\n",
    "\n",
    "    cell : np.array\n",
    "       A numpy array which contains an OPL image of the cell. Can be converted to a mask by just taking ``cell > 0``.\n",
    "\n",
    "    \"\"\"\n",
    "\n",
    "    L = int(np.rint(length))\n",
    "    W = int(np.rint(width))\n",
    "    new_cell = np.zeros((L, W))\n",
    "    R = (W - 1) / 2\n",
    "\n",
    "    x_cyl = np.arange(0, 2 * R + 1, 1)\n",
    "    I_cyl = np.sqrt(R ** 2 - (x_cyl - R) ** 2)\n",
    "    L_cyl = L - W\n",
    "    new_cell[int(W / 2):-int(W / 2), :] = I_cyl\n",
    "\n",
    "    x_sphere = np.arange(0, int(W / 2), 1)\n",
    "    sphere_Rs = np.sqrt((R) ** 2 - (x_sphere - R) ** 2)\n",
    "    sphere_Rs = np.rint(sphere_Rs).astype(int)\n",
    "\n",
    "    for c in range(len(sphere_Rs)):\n",
    "        R_ = sphere_Rs[c]\n",
    "        x_cyl = np.arange(0, R_, 1)\n",
    "        I_cyl = np.sqrt(R_ ** 2 - (x_cyl - R_) ** 2)\n",
    "        new_cell[c, int(W / 2) - sphere_Rs[c]:int(W / 2) + sphere_Rs[c]] = np.concatenate((I_cyl, I_cyl[::-1]))\n",
    "        new_cell[L - c - 1, int(W / 2) - sphere_Rs[c]:int(W / 2) + sphere_Rs[c]] = np.concatenate((I_cyl, I_cyl[::-1]))\n",
    "\n",
    "    if separation > 2 and pinching:\n",
    "        S = int(np.rint(separation))\n",
    "        new_cell[int((L - S) / 2) + 1:-int((L - S) / 2) - 1, :] = 0\n",
    "        for c in range(int((S+1) / 2)):\n",
    "            R__ = sphere_Rs[-c - 1]\n",
    "            x_cyl_ = np.arange(0, R__, 1)\n",
    "            I_cyl_ = np.sqrt(R__ ** 2 - (x_cyl_ - R__) ** 2)\n",
    "            new_cell[int((L-S) / 2) + c + 1, int(W / 2) - R__:int(W / 2) + R__] = np.concatenate((I_cyl_, I_cyl_[::-1]))\n",
    "            new_cell[-int((L-S) / 2) - c - 1, int(W / 2) - R__:int(W / 2) + R__] = np.concatenate((I_cyl_, I_cyl_[::-1]))\n",
    "    new_cell = new_cell.astype(int)\n",
    "            \n",
    "    \n",
    "    if additional_width>=1:\n",
    "        additional_width = int(additional_width)\n",
    "        wide_cell = np.zeros((new_cell.shape[0], int(new_cell.shape[1] + additional_width)))\n",
    "        wide_cell[:,:new_cell.shape[1]//2] = new_cell[:,:new_cell.shape[1]//2]\n",
    "        wide_cell[:,new_cell.shape[1]//2 + additional_width:] = new_cell[:,new_cell.shape[1]//2:]\n",
    "        wide_cell[:,new_cell.shape[1]//2:new_cell.shape[1]//2 + additional_width] = np.repeat(new_cell[:,new_cell.shape[1]//2].reshape(-1,1), additional_width, axis=1)\n",
    "        return wide_cell\n",
    "    \n",
    "    if additional_width<=1:\n",
    "        new_cell[np.where(new_cell)] += int(abs(additional_width))\n",
    "    \n",
    "    return new_cell\n",
    "\n",
    "@njit\n",
    "def generate_deviation_from_CL(centreline, thickness):\n",
    "    return np.arange(thickness) + centreline - int(np.ceil(thickness ))\n",
    "\n",
    "@njit\n",
    "def gen_3D_coords_from_2D(test_cells, centreline, thickness):\n",
    "    return np.where(test_cells == thickness) + (generate_deviation_from_CL(centreline, thickness),)\n",
    "\n",
    "@njit\n",
    "def convert_to_3D_numba(cell):\n",
    "    expanded_scene = cell\n",
    "    volume_shape = expanded_scene.shape[0:] + (int(expanded_scene.max()*2),)\n",
    "    test_cells = rounder(expanded_scene)\n",
    "    centreline = int(expanded_scene.max() )\n",
    "    cells_3D = np.zeros(volume_shape,dtype = np.ubyte)\n",
    "    for t in range(int(expanded_scene.max() *2 )):\n",
    "        test_coords = gen_3D_coords_from_2D(test_cells, centreline, t)\n",
    "        for x, y in zip(test_coords[0], (test_coords[1])):\n",
    "            for z in test_coords[2]:\n",
    "                cells_3D[x, y, z] = 1\n",
    "    return cells_3D\n",
    "\n",
    "def convert_to_3D(cell):\n",
    "    cells_3D = convert_to_3D_numba(cell)\n",
    "    cells_3D = np.moveaxis(cells_3D, -1, 0)\n",
    "    cells_3D[cells_3D.shape[0]//2:,:, :] = cells_3D[:cells_3D.shape[0]//2,:, :][::-1]\n",
    "    return cells_3D\n",
    "    #cells_3D = np.pad(cells_3D, ((100,100), (50,50), (50,50)))\n",
    "#cells_3D.shape\n",
    "\n",
    "@njit\n",
    "def rounder(x):\n",
    "    out = np.empty_like(x)\n",
    "    np.round(x, 0, out)\n",
    "    return out\n",
    "\n",
    "def raster_membrane_cell_3d(raster_cell_length, raster_cell_width, raster_slice_amount):\n",
    "\n",
    "\n",
    "    membrane_thickness = 0.05 #micron\n",
    "    raster_membrane_thickness = membrane_thickness/pix_mic_conv * resize_amount\n",
    "    cell_1 = raster_cell(length=round(raster_cell_length/2)*2, width=round(raster_cell_width/2)*2, additional_width=raster_additional_width)\n",
    "    cell_2 = raster_cell(length=round((raster_cell_length - raster_membrane_thickness)/2)*2, width=round((raster_cell_width - raster_membrane_thickness)/2)*2, additional_width=raster_additional_width)\n",
    "\n",
    "    cell_1_3d = convert_to_3D(cell_1)\n",
    "    cell_2_3d = convert_to_3D(cell_2)\n",
    "\n",
    "    \n",
    "    pad_1 = int((cell_1_3d.shape[0] - cell_2_3d.shape[0])/2)\n",
    "    pad_2 = int((cell_1_3d.shape[1] - cell_2_3d.shape[1])/2)\n",
    "    pad_3 = int((cell_1_3d.shape[2] - cell_2_3d.shape[2])/2)\n",
    "\n",
    "    cell_2_3d = np.pad(cell_2_3d, ((pad_1,pad_1), (pad_2, pad_2), (pad_3, pad_3)))\n",
    "    \n",
    "    cell_3d = cell_1_3d - cell_2_3d\n",
    "    \n",
    "    if raster_slice_amount:\n",
    "        \n",
    "        cell_3d = cell_3d[int(raster_slice_amount//2):-int(raster_slice_amount//2),:,:]\n",
    "    \n",
    "    return cell_3d\n",
    "\n",
    "def raster_cell_3d(raster_cell_length, raster_cell_width, raster_slice_amount):\n",
    "\n",
    "    cell_1 = raster_cell(length=round(raster_cell_length/2)*2, width=round(raster_cell_width/2)*2, additional_width=raster_additional_width)\n",
    "\n",
    "    cell_1_3d = convert_to_3D(cell_1)\n",
    "    \n",
    "    cell_3d = cell_1_3d \n",
    "    \n",
    "    if raster_slice_amount:\n",
    "        \n",
    "        cell_3d = cell_3d[int(raster_slice_amount//2):-int(raster_slice_amount//2),:,:]\n",
    "    \n",
    "    return cell_3d\n",
    "\n",
    "additional_width = 0\n",
    "raster_additional_width = 0"
   ]
  },
  {
   "cell_type": "code",
   "execution_count": 32,
   "id": "d003d56a-2327-4c94-baa6-61f63a389bb1",
   "metadata": {},
   "outputs": [],
   "source": [
    "dirs = glob(\"../../single_cell_projection_diffraction/targeted_simulation_output/*iPSF*\")\n",
    "width = float(dirs[0].split(\"_iPSF\")[0].split(\"/\")[-1])\n",
    "colour = dirs[0].split(\"_iPSF\")[-1].split(\"_\")[-1].split(\".tiff\")[0]"
   ]
  },
  {
   "cell_type": "code",
   "execution_count": 34,
   "id": "61b2cfe2-e404-4901-838f-5fbffc844b83",
   "metadata": {},
   "outputs": [
    {
     "data": {
      "application/vnd.jupyter.widget-view+json": {
       "model_id": "128d2ce0ce5a4f648fb479b85d15993b",
       "version_major": 2,
       "version_minor": 0
      },
      "text/plain": [
       "  0%|          | 0/52 [00:00<?, ?it/s]"
      ]
     },
     "metadata": {},
     "output_type": "display_data"
    }
   ],
   "source": [
    "\n",
    "cells = []\n",
    "for dir_ in tqdm(dirs):\n",
    "    cell = {}\n",
    "    a_cell = tifffile.imread(dir_)#\n",
    "    projection = a_cell.sum(axis=0)\n",
    "    width = float(dir_.split(\"_iPSF\")[0].split(\"/\")[-1])\n",
    "    colour = dir_.split(\"_iPSF\")[-1].split(\"_\")[-1].split(\".tiff\")[0]\n",
    "\n",
    "    cell[\"projection\"] = projection\n",
    "    cell[\"width\"] = width\n",
    "    cell[\"colour\"] = colour\n",
    "    cells.append(cell)"
   ]
  },
  {
   "cell_type": "code",
   "execution_count": 37,
   "id": "f253f3b5-e79d-4133-b52a-1f6aafbee867",
   "metadata": {},
   "outputs": [],
   "source": [
    "for cell in cells:\n",
    "    cell[\"projection\"] /= cell[\"projection\"].max()"
   ]
  },
  {
   "cell_type": "code",
   "execution_count": 40,
   "id": "b140513e-d0a7-41c6-9be1-b097ea62ef24",
   "metadata": {},
   "outputs": [],
   "source": [
    "from skimage import util"
   ]
  },
  {
   "cell_type": "code",
   "execution_count": 42,
   "id": "8f8ff603-1e9c-452f-a1b2-8dd44b14e4df",
   "metadata": {},
   "outputs": [],
   "source": [
    "for cell in cells:\n",
    "    cell[\"projection\"] = util.img_as_uint(cell[\"projection\"])\n"
   ]
  },
  {
   "cell_type": "code",
   "execution_count": 44,
   "id": "fa4dbe53-4571-4ee6-a525-17955364e05f",
   "metadata": {},
   "outputs": [],
   "source": [
    "from skimage.transform import rotate"
   ]
  },
  {
   "cell_type": "code",
   "execution_count": 54,
   "id": "c9add4fd-f306-4c7f-8668-eada71b13186",
   "metadata": {
    "scrolled": true
   },
   "outputs": [
    {
     "data": {
      "text/plain": [
       "<matplotlib.image.AxesImage at 0x7a6d79774be0>"
      ]
     },
     "execution_count": 54,
     "metadata": {},
     "output_type": "execute_result"
    },
    {
     "data": {
      "image/png": "[encoded data removed]",
      "text/plain": [
       "<Figure size 640x480 with 1 Axes>"
      ]
     },
     "metadata": {},
     "output_type": "display_data"
    }
   ],
   "source": [
    "plt.imshow(rotate(cells[3][\"projection\"], 45, preserve_range=True, resize=True).astype(np.uint16))"
   ]
  },
  {
   "cell_type": "code",
   "execution_count": 75,
   "id": "f4be8a40-dfd7-46f4-aeaf-d5823fd207b4",
   "metadata": {},
   "outputs": [
    {
     "data": {
      "text/plain": [
       "2.1199999999999997"
      ]
     },
     "execution_count": 75,
     "metadata": {},
     "output_type": "execute_result"
    }
   ],
   "source": [
    "pix_mic_conv = 0.065 / 15\n",
    "resize_amount = 1\n",
    "cell[\"width\"]\n"
   ]
  },
  {
   "cell_type": "code",
   "execution_count": 86,
   "id": "85ad8fda-a05d-4892-a2c8-4d1e44c2b595",
   "metadata": {},
   "outputs": [
    {
     "data": {
      "text/plain": [
       "2.12"
      ]
     },
     "execution_count": 86,
     "metadata": {},
     "output_type": "execute_result"
    }
   ],
   "source": [
    "np.round(cell[\"width\"], 2)"
   ]
  },
  {
   "cell_type": "code",
   "execution_count": 98,
   "id": "20502cb3-a1ea-4f41-9990-707b32055402",
   "metadata": {},
   "outputs": [],
   "source": [
    "max_width = 3.1\n",
    "cell_widths = np.arange(0.5, max_width, 0.1)+0.02"
   ]
  },
  {
   "cell_type": "code",
   "execution_count": 99,
   "id": "3b28c36b-3646-48f2-a6cb-d18bb8dd0ab6",
   "metadata": {},
   "outputs": [],
   "source": [
    "def get_OPL(width):\n",
    "    _ = {}\n",
    "    _[width] = np.pad(raster_membrane_cell_3d(3/pix_mic_conv, width/pix_mic_conv, 0), ((0,0), (50, 50), (50,50)))\n",
    "    return _"
   ]
  },
  {
   "cell_type": "code",
   "execution_count": 100,
   "id": "3ee38f63-3aab-4898-82cd-5c53ce98b3b1",
   "metadata": {},
   "outputs": [
    {
     "data": {
      "application/vnd.jupyter.widget-view+json": {
       "model_id": "9875493fd6ce403a8d2f85a07a0c20a5",
       "version_major": 2,
       "version_minor": 0
      },
      "text/plain": [
       "  0%|          | 0/26 [00:00<?, ?it/s]"
      ]
     },
     "metadata": {},
     "output_type": "display_data"
    }
   ],
   "source": [
    "OPL_cells = Parallel(n_jobs=-1)(delayed(get_OPL)(width) for width in tqdm(cell_widths))"
   ]
  },
  {
   "cell_type": "code",
   "execution_count": 105,
   "id": "768eadd7-2e83-4db4-bda1-3c8c60c5b15a",
   "metadata": {},
   "outputs": [],
   "source": [
    "OPL_cells_dict = {}\n",
    "for d in OPL_cells:\n",
    "    OPL_cells_dict.update(d)"
   ]
  },
  {
   "cell_type": "code",
   "execution_count": 109,
   "id": "74ed8f6e-86dc-4832-9eff-217aa40c2995",
   "metadata": {},
   "outputs": [
    {
     "data": {
      "application/vnd.jupyter.widget-view+json": {
       "model_id": "a7fc261b3c1740a29e946184adb620e1",
       "version_major": 2,
       "version_minor": 0
      },
      "text/plain": [
       "  0%|          | 0/52 [00:00<?, ?it/s]"
      ]
     },
     "metadata": {},
     "output_type": "display_data"
    }
   ],
   "source": [
    "for cell in tqdm(cells):\n",
    "    width = cell[\"width\"]\n",
    "    cell[\"OPL_cell\"] = OPL_cells_dict[width]"
   ]
  },
  {
   "cell_type": "code",
   "execution_count": 133,
   "id": "5b2c79a7-322c-4d6d-86e6-633ca8a296f5",
   "metadata": {},
   "outputs": [],
   "source": [
    "for cell in cells:\n",
    "    assert cell[\"OPL_cell\"].shape[1] == cell[\"projection\"].shape[0]\n",
    "    assert cell[\"OPL_cell\"].shape[2] == cell[\"projection\"].shape[1]"
   ]
  },
  {
   "cell_type": "code",
   "execution_count": 227,
   "id": "be1d9620-e4e1-4be8-9b2e-18ba68d8c45f",
   "metadata": {
    "scrolled": true
   },
   "outputs": [
    {
     "data": {
      "application/vnd.jupyter.widget-view+json": {
       "model_id": "1a0944a1d8e5426090affd9dbd614832",
       "version_major": 2,
       "version_minor": 0
      },
      "text/plain": [
       "  0%|          | 0/52 [00:00<?, ?it/s]"
      ]
     },
     "metadata": {},
     "output_type": "display_data"
    }
   ],
   "source": [
    "for cell in tqdm(cells):\n",
    "    projection = cell[\"projection\"]\n",
    "    resized_projection = resize(projection, output_shape=(int(projection.shape[0]*pix_mic_conv * 15), int(projection.shape[1]*pix_mic_conv * 15)), preserve_range = True)\n",
    "    membrane_mask = cell[\"OPL_cell\"][cell[\"OPL_cell\"].shape[0]//2]\n",
    "    membrane_mask = resize(membrane_mask, output_shape=(int(membrane_mask.shape[0]*pix_mic_conv * 15), int(membrane_mask.shape[1]*pix_mic_conv * 15)), anti_aliasing_sigma=1) > 0\n",
    "    mask = cell[\"OPL_cell\"].sum(axis=0) > 0\n",
    "    mask = resize(mask, output_shape=(int(mask.shape[0]*pix_mic_conv * 15), int(mask.shape[1]*pix_mic_conv * 15)), order = 0) > 0\n",
    "\n",
    "    cell[\"mask\"] = mask\n",
    "    cell[\"membrane_mask\"] = membrane_mask\n",
    "    cell[\"resized_projection\"] = resized_projection.astype(np.uint16)"
   ]
  },
  {
   "cell_type": "code",
   "execution_count": 239,
   "id": "d403aeab-a381-4031-912d-904eaa5919c8",
   "metadata": {
    "scrolled": true
   },
   "outputs": [],
   "source": [
    "for i, cell in enumerate(cells):\n",
    "    if cell[\"colour\"] == \"green\":\n",
    "        img = Image.fromarray(cell[\"resized_projection\"])\n",
    "        img.save(f\"single_projected_cells_for_DL_green_masks/{str(i).zfill(2)}.png\")\n",
    "        img.save(f\"single_projected_cells_for_DL_green_membranemasks/{str(i).zfill(2)}.png\")\n",
    "        mask = Image.fromarray(cell[\"mask\"])\n",
    "        mask.save(f\"single_projected_cells_for_DL_green_masks/{str(i).zfill(2)}_masks.png\")\n",
    "        membrane_mask = Image.fromarray(cell[\"membrane_mask\"])\n",
    "        membrane_mask.save(f\"single_projected_cells_for_DL_green_membranemasks/{str(i).zfill(2)}_masks.png\")\n",
    "    if cell[\"colour\"] == \"darkred\":\n",
    "        img = Image.fromarray(cell[\"resized_projection\"])\n",
    "        img.save(f\"single_projected_cells_for_DL_darkred_masks/{str(i).zfill(2)}.png\")\n",
    "        img.save(f\"single_projected_cells_for_DL_darkred_membranemasks/{str(i).zfill(2)}.png\")\n",
    "        mask = Image.fromarray(cell[\"mask\"])\n",
    "        mask.save(f\"single_projected_cells_for_DL_darkred_masks/{str(i).zfill(2)}_masks.png\")\n",
    "        membrane_mask = Image.fromarray(cell[\"membrane_mask\"])\n",
    "        membrane_mask.save(f\"single_projected_cells_for_DL_darkred_membranemasks/{str(i).zfill(2)}_masks.png\")"
   ]
  },
  {
   "cell_type": "code",
   "execution_count": 240,
   "id": "511b86fe-1095-44ae-91e9-c264edeea4b5",
   "metadata": {},
   "outputs": [],
   "source": [
    "import pickle"
   ]
  },
  {
   "cell_type": "code",
   "execution_count": 241,
   "id": "42487c64-11d7-4561-bc7f-6c022281d4d5",
   "metadata": {},
   "outputs": [],
   "source": [
    "with open('cells_dict.pickle', 'wb') as handle:\n",
    "    pickle.dump(cells, handle, protocol=pickle.HIGHEST_PROTOCOL)"
   ]
  },
  {
   "cell_type": "raw",
   "id": "74288045-33f4-4765-8bb8-1ccc3b3b821d",
   "metadata": {},
   "source": [
    "CUDA_VISIBLE_DEVICES=0 omnipose --train --use_gpu --dir single_projected_cells_for_DL_green_masks/ --mask_filter _masks --n_epochs 4000 --pretrained_model None --learning_rate 0.1 --diameter 0 --batch_size 16  --RAdam --nclasses 2 --nchan 1 --save_every 200 --save_each\n",
    "\n",
    "CUDA_VISIBLE_DEVICES=0 omnipose --train --use_gpu --dir single_projected_cells_for_DL_green_membranemasks/ --mask_filter _masks --n_epochs 4000 --pretrained_model None --learning_rate 0.1 --diameter 0 --batch_size 16  --RAdam --nclasses 2 --nchan 1 --save_every 200 --save_each\n",
    "\n",
    "CUDA_VISIBLE_DEVICES=1 omnipose --train --use_gpu --dir single_projected_cells_for_DL_darkred_masks/ --mask_filter _masks --n_epochs 4000 --pretrained_model None --learning_rate 0.1 --diameter 0 --batch_size 16  --RAdam --nclasses 2 --nchan 1 --save_every 200 --save_each\n",
    "\n",
    "CUDA_VISIBLE_DEVICES=1 omnipose --train --use_gpu --dir single_projected_cells_for_DL_darkred_membranemasks/ --mask_filter _masks --n_epochs 4000 --pretrained_model None --learning_rate 0.1 --diameter 0 --batch_size 16  --RAdam --nclasses 2 --nchan 1 --save_every 200 --save_each"
   ]
  },
  {
   "cell_type": "code",
   "execution_count": null,
   "id": "3070ae44-a0b1-4997-858b-5eeaabe67542",
   "metadata": {},
   "outputs": [],
   "source": []
  }
 ],
 "metadata": {
  "kernelspec": {
   "display_name": "Python [conda env:symbac]",
   "language": "python",
   "name": "conda-env-symbac-py"
  },
  "language_info": {
   "codemirror_mode": {
    "name": "ipython",
    "version": 3
   },
   "file_extension": ".py",
   "mimetype": "text/x-python",
   "name": "python",
   "nbconvert_exporter": "python",
   "pygments_lexer": "ipython3",
   "version": "3.10.9"
  }
 },
 "nbformat": 4,
 "nbformat_minor": 5
}
