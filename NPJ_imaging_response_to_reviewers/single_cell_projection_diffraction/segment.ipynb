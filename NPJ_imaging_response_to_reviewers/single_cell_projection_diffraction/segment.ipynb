{
 "cells": [
  {
   "cell_type": "code",
   "execution_count": 1,
   "id": "f9c64f86-53fa-492a-928d-54f19fb89b8a",
   "metadata": {},
   "outputs": [
    {
     "name": "stdout",
     "output_type": "stream",
     "text": [
      "2024-04-27 19:42:08,749 [INFO] ** TORCH GPU version installed and working. **\n",
      ">>> GPU activated? True\n"
     ]
    },
    {
     "name": "stderr",
     "output_type": "stream",
     "text": [
      "/home/gh464/miniconda3/envs/omnipose_2024/lib/python3.10/site-packages/tqdm/auto.py:21: TqdmWarning: IProgress not found. Please update jupyter and ipywidgets. See https://ipywidgets.readthedocs.io/en/stable/user_install.html\n",
      "  from .autonotebook import tqdm as notebook_tqdm\n"
     ]
    }
   ],
   "source": [
    "import os\n",
    "os.environ[\"CUDA_VISIBLE_DEVICES\"] = \"0\"\n",
    "# Import dependencies\n",
    "import numpy as np\n",
    "from cellpose_omni import models, core\n",
    "\n",
    "# This checks to see if you have set up your GPU properly.\n",
    "# CPU performance is a lot slower, but not a problem if you \n",
    "# are only processing a few images.\n",
    "use_GPU = core.use_gpu()\n",
    "print('>>> GPU activated? {}'.format(use_GPU))\n",
    "\n",
    "# for plotting\n",
    "import matplotlib as mpl\n",
    "import matplotlib.pyplot as plt\n",
    "mpl.rcParams['figure.dpi'] = 300\n",
    "plt.style.use('dark_background')\n",
    "%matplotlib inline\n",
    "from glob import glob"
   ]
  },
  {
   "cell_type": "code",
   "execution_count": 2,
   "id": "f9361dec-be50-481f-8135-52d9b5d98d71",
   "metadata": {},
   "outputs": [],
   "source": [
    "from pathlib import Path\n",
    "import os\n",
    "from cellpose_omni import io\n",
    "import omnipose\n",
    "files = glob(\"single_projected_cells_for_DL_green_masks/*.png\")\n",
    "files = [file for file in files if \"masks.png\" not in file]"
   ]
  },
  {
   "cell_type": "code",
   "execution_count": 38,
   "id": "4280b277-ec52-428a-b306-785e876bd72c",
   "metadata": {},
   "outputs": [
    {
     "name": "stdout",
     "output_type": "stream",
     "text": [
      "2024-04-27 19:47:40,849 [INFO] ** TORCH GPU version installed and working. **\n",
      "2024-04-27 19:47:40,850 [INFO] >>>> using GPU\n"
     ]
    }
   ],
   "source": [
    "model_name = \"single_projected_cells_for_DL_green_masks/models/cellpose_residual_on_style_on_concatenation_off_omni_abstract_nclasses_2_nchan_1_dim_2_single_projected_cells_for_DL_green_masks_2024_04_27_18_44_46.600558_epoch_3999\"\n",
    "model_name = \"single_projected_cells_for_DL_darkred_masks//models/cellpose_residual_on_style_on_concatenation_off_omni_abstract_nclasses_2_nchan_1_dim_2_single_projected_cells_for_DL_darkred_masks_2024_04_27_18_46_00.717534_epoch_3400\"\n",
    "\n",
    "model = models.CellposeModel(gpu=True, pretrained_model=model_name, nchan=1, nclasses=2,dim=2)\n",
    "epoch = model_name.split(\"_\")[-1]\n",
    "\n",
    "chans = None\n",
    "\n",
    "# define parameters\n",
    "mask_threshold = -1\n",
    "verbose = 0 # turn on if you want to see more output\n",
    "use_gpu = use_GPU #defined above\n",
    "transparency = True # transparency in flow output\n",
    "rescale=None # give this a number if you need to upscale or downscale your images\n",
    "omni = True # we can turn off Omnipose mask reconstruction, not advised\n",
    "flow_threshold = 0 # default is .4, but only needed if there are spurious masks to clean up; slows down output\n",
    "resample = True #whether or not to run dynamics on rescaled grid or original grid"
   ]
  },
  {
   "cell_type": "code",
   "execution_count": 39,
   "id": "5aa9afd4-9452-424b-947e-fc7a63819f60",
   "metadata": {},
   "outputs": [],
   "source": [
    "import pickle\n",
    "with open('cells_dict.pickle', 'rb') as handle:\n",
    "    cells = pickle.load(handle)"
   ]
  },
  {
   "cell_type": "code",
   "execution_count": 40,
   "id": "07eb01f3-33f7-4241-91d0-e61d805f4748",
   "metadata": {},
   "outputs": [
    {
     "data": {
      "text/plain": [
       "52"
      ]
     },
     "execution_count": 40,
     "metadata": {},
     "output_type": "execute_result"
    }
   ],
   "source": [
    "len(cells)"
   ]
  },
  {
   "cell_type": "code",
   "execution_count": 46,
   "id": "60ab16a0-1581-42d3-98ae-e99ba691b55a",
   "metadata": {},
   "outputs": [],
   "source": [
    "from cellpose_omni import io, transforms\n",
    "from omnipose.utils import normalize99\n",
    "\n",
    "true_widths = []\n",
    "obs_widths = []\n",
    "\n",
    "for cell in cells:\n",
    "    \n",
    "    imgs = [cell[\"resized_projection\"]]\n",
    "    \n",
    "    \n",
    "    for k in range(len(imgs)):\n",
    "        img = transforms.move_min_dim(imgs[k]) # move the channel dimension last\n",
    "        if len(img.shape)>2:\n",
    "            # imgs[k] = img[:,:,1] # could pick out a specific channel\n",
    "            imgs[k] = np.mean(img,axis=-1) # or just turn into grayscale \n",
    "            \n",
    "        imgs[k] = normalize99(imgs[k])\n",
    "        # imgs[k] = np.pad(imgs[k],10,'edge')\n",
    "    \n",
    "    chans = None\n",
    "    \n",
    "    \n",
    "    \n",
    "    # define parameters\n",
    "    params = {'channels':chans, # always define this with the model\n",
    "              'rescale': None, # upscale or downscale your images, None = no rescaling \n",
    "              'mask_threshold': -1, # erode or dilate masks with higher or lower values \n",
    "              'flow_threshold': 0, # default is .4, but only needed if there are spurious masks to clean up; slows down output\n",
    "              'transparency': True, # transparency in flow output\n",
    "              'omni': True, # we can turn off Omnipose mask reconstruction, not advised \n",
    "              'cluster': True, # use DBSCAN clustering\n",
    "              'resample': True, # whether or not to run dynamics on rescaled grid or original grid \n",
    "              'verbose': False, # turn on if you want to see more output \n",
    "              'tile': False, # average the outputs from flipped (augmented) images; slower, usually not needed \n",
    "              'niter': 7, # None lets Omnipose calculate # of Euler iterations (usually <20) but you can tune it for over/under segmentation \n",
    "              'augment': False, # Can optionally rotate the image and average outputs, usually not needed \n",
    "              'affinity_seg': False, # new feature, stay tuned...\n",
    "             }\n",
    "    \n",
    "    tic = time.time() \n",
    "    masks, flows, styles = model.eval([imgs[i] for i in [0]],**params)\n",
    "    \n",
    "    net_time = time.time() - tic\n",
    "    \n",
    "    mask = masks[0]\n",
    "    \n",
    "    obs_width = (np.sum(mask[mask.shape[0]//2]) * 0.065)\n",
    "    obs_widths.append(obs_width)\n",
    "    true_width = (np.sum(cell[\"mask\"][cell[\"mask\"].shape[0]//2]) * 0.065)\n",
    "    true_widths.append(true_width)"
   ]
  },
  {
   "cell_type": "code",
   "execution_count": 47,
   "id": "28077ecb-e80b-470a-9b34-22e310b67831",
   "metadata": {},
   "outputs": [
    {
     "data": {
      "text/plain": [
       "[<matplotlib.lines.Line2D at 0x7f27d18729b0>]"
      ]
     },
     "execution_count": 47,
     "metadata": {},
     "output_type": "execute_result"
    },
    {
     "data": {
      "image/png": "[encoded data removed]",
      "text/plain": [
       "<Figure size 600x600 with 1 Axes>"
      ]
     },
     "metadata": {},
     "output_type": "display_data"
    }
   ],
   "source": [
    "plt.figure(figsize=(2,2))\n",
    "plt.scatter(true_widths, obs_widths)\n",
    "plt.plot([0,3],[0,3], c = \"blue\")"
   ]
  },
  {
   "cell_type": "code",
   "execution_count": 49,
   "id": "fb60d063-0430-4ea3-8f63-dfa8d0f520c3",
   "metadata": {},
   "outputs": [
    {
     "data": {
      "text/plain": [
       "[0.78,\n",
       " 1.9500000000000002,\n",
       " 1.495,\n",
       " 1.7550000000000001,\n",
       " 2.9250000000000003,\n",
       " 1.365,\n",
       " 0.9750000000000001,\n",
       " 1.885,\n",
       " 0.91,\n",
       " 1.17,\n",
       " 0.91,\n",
       " 2.73,\n",
       " 2.08,\n",
       " 0.7150000000000001,\n",
       " 1.365,\n",
       " 2.47,\n",
       " 1.105,\n",
       " 1.3,\n",
       " 1.495,\n",
       " 2.275,\n",
       " 2.145,\n",
       " 0.78,\n",
       " 2.34,\n",
       " 2.47,\n",
       " 0.9750000000000001,\n",
       " 2.275,\n",
       " 2.8600000000000003,\n",
       " 1.9500000000000002,\n",
       " 1.885,\n",
       " 2.665,\n",
       " 1.69,\n",
       " 0.52,\n",
       " 0.7150000000000001,\n",
       " 1.7550000000000001,\n",
       " 1.3,\n",
       " 1.56,\n",
       " 2.8600000000000003,\n",
       " 2.34,\n",
       " 1.105,\n",
       " 1.69,\n",
       " 2.73,\n",
       " 1.17,\n",
       " 1.56,\n",
       " 0.585,\n",
       " 2.9250000000000003,\n",
       " 2.665,\n",
       " 0.585,\n",
       " 2.535,\n",
       " 0.52,\n",
       " 2.145,\n",
       " 2.535,\n",
       " 2.08]"
      ]
     },
     "execution_count": 49,
     "metadata": {},
     "output_type": "execute_result"
    }
   ],
   "source": [
    "true_widths"
   ]
  }
 ],
 "metadata": {
  "kernelspec": {
   "display_name": "omnipose_2024",
   "language": "python",
   "name": "omnipose_2024"
  },
  "language_info": {
   "codemirror_mode": {
    "name": "ipython",
    "version": 3
   },
   "file_extension": ".py",
   "mimetype": "text/x-python",
   "name": "python",
   "nbconvert_exporter": "python",
   "pygments_lexer": "ipython3",
   "version": "3.10.12"
  }
 },
 "nbformat": 4,
 "nbformat_minor": 5
}
