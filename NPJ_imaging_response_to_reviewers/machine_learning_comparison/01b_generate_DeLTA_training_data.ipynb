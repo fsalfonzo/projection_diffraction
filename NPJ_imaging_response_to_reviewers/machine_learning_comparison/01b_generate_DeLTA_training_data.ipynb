{
 "cells": [
  {
   "cell_type": "code",
   "execution_count": 122,
   "id": "de1fc4ec-da73-485c-88ea-7dc566b951af",
   "metadata": {
    "tags": []
   },
   "outputs": [],
   "source": [
    "\n",
    "from natsort import natsorted\n",
    "from skimage.morphology import binary_erosion"
   ]
  },
  {
   "cell_type": "code",
   "execution_count": 180,
   "id": "c0d8caa0-e3aa-441c-8757-90db3920e3c5",
   "metadata": {
    "tags": []
   },
   "outputs": [],
   "source": [
    "import sys\n",
    "sys.path.insert(1, '../SyMBac/')\n",
    "\n",
    "import numpy as np\n",
    "from scipy.ndimage.morphology import distance_transform_edt\n",
    "from PIL import Image\n",
    "import os\n",
    "from csbdeep.utils import normalize\n",
    "#sys.path.insert(0,'../../../../SyMBac')\n",
    "from skimage.measure import label\n",
    "from tqdm.notebook import tqdm\n",
    "import tifffile\n",
    "from glob import glob\n",
    "from joblib import Parallel, delayed\n",
    "def unet_weight_map(y, wc=None, w0 = 10, sigma = 5):\n",
    "\n",
    "    \"\"\"\n",
    "    Generate weight maps as specified in the U-Net paper\n",
    "    for boolean mask.\n",
    "\n",
    "    \"U-Net: Convolutional Networks for Biomedical Image Segmentation\"\n",
    "    https://arxiv.org/pdf/1505.04597.pdf\n",
    "\n",
    "    Parameters\n",
    "    ----------\n",
    "    mask: Numpy array\n",
    "        2D array of shape (image_height, image_width) representing binary mask\n",
    "        of objects.\n",
    "    wc: dict\n",
    "        Dictionary of weight classes.\n",
    "    w0: int\n",
    "        Border weight parameter.\n",
    "    sigma: int\n",
    "        Border width parameter.\n",
    "\n",
    "    Returns\n",
    "    -------\n",
    "    Numpy array\n",
    "        Training weights. A 2D array of shape (image_height, image_width).\n",
    "    \"\"\"\n",
    "\n",
    "    labels = label(y)\n",
    "    no_labels = labels == 0\n",
    "    label_ids = sorted(np.unique(labels))[1:]\n",
    "\n",
    "    if len(label_ids) > 1:\n",
    "        distances = np.zeros((y.shape[0], y.shape[1], len(label_ids)))\n",
    "\n",
    "        for i, label_id in enumerate(label_ids):\n",
    "            distances[:,:,i] = distance_transform_edt(labels != label_id)\n",
    "\n",
    "        distances = np.sort(distances, axis=2)\n",
    "        d1 = distances[:,:,0]\n",
    "        d2 = distances[:,:,1]\n",
    "        w = w0 * np.exp(-1/2*((d1 + d2) / sigma)**2) * no_labels\n",
    "    else:\n",
    "        w = np.zeros_like(y)\n",
    "    if wc:\n",
    "        class_weights = np.zeros_like(y)\n",
    "        for k, v in wc.items():\n",
    "            class_weights[y == k] = v\n",
    "        w = w + class_weights\n",
    "    return w\n",
    "wc = {\n",
    "    0: 1, # background\n",
    "    1: 5  # objects\n",
    "}\n",
    "\n",
    "\n",
    "def preprocess_convolutions(x, name):\n",
    "    name = name.split(\"/\")[-1].split(\".\")[0]+\".tiff\"\n",
    "    x = normalize(x, 1,99.8, axis=(0,1))\n",
    "    tifffile.imwrite(base_directory + \"CROPPED_FILTERED/\"+name, x)\n",
    "\n",
    "def preprocess_masks(x, name):\n",
    "    name = name.split(\"/\")[-1].split(\".\")[0]+\".tiff\"\n",
    "    x = x.astype(bool)\n",
    "    tifffile.imwrite(base_directory + \"CROPPED_MASKS/\"+name,x)\n",
    "    # .astype(np.uint8)*255\n",
    "\n",
    "def preprocess_weightmaks(x, name):\n",
    "    name = name.split(\"/\")[-1].split(\".\")[0]+\".tiff\"\n",
    "    x = unet_weight_map(x, wc)\n",
    "    image = x.astype(np.uint8)\n",
    "    tifffile.imwrite(base_directory + \"WEIGHTMAPS/\"+name,x)\n",
    "\n",
    "#DelTA does not allow touching cells, therefore erode all cells, and use these new masks for training, segmentation, and quantification of accuracy. \n",
    "def correct_masks_for_DeLTA(masks):\n",
    "    mask_labels = np.unique(masks)[1:]\n",
    "    eroded_masks = np.zeros(masks.shape, dtype=bool)\n",
    "    for mask_label in mask_labels:\n",
    "        eroded_masks += binary_erosion(masks == mask_label).astype(bool)\n",
    "    return eroded_masks"
   ]
  },
  {
   "cell_type": "code",
   "execution_count": 185,
   "id": "80f343c6-b8e3-48c6-8ed8-ce10b2fda5be",
   "metadata": {
    "tags": []
   },
   "outputs": [
    {
     "data": {
      "application/vnd.jupyter.widget-view+json": {
       "model_id": "915b082bb9b143a2bb644e7f5e7c77cd",
       "version_major": 2,
       "version_minor": 0
      },
      "text/plain": [
       "  0%|          | 0/6 [00:00<?, ?it/s]"
      ]
     },
     "metadata": {},
     "output_type": "display_data"
    },
    {
     "name": "stdout",
     "output_type": "stream",
     "text": [
      "data/5_10\n"
     ]
    },
    {
     "data": {
      "application/vnd.jupyter.widget-view+json": {
       "model_id": "18eb9024a56b48b4b0ddc4c211e19401",
       "version_major": 2,
       "version_minor": 0
      },
      "text/plain": [
       "  0%|          | 0/20 [00:00<?, ?it/s]"
      ]
     },
     "metadata": {},
     "output_type": "display_data"
    },
    {
     "data": {
      "application/vnd.jupyter.widget-view+json": {
       "model_id": "7397c15c3e854bada9511fb698a22917",
       "version_major": 2,
       "version_minor": 0
      },
      "text/plain": [
       "  0%|          | 0/20 [00:00<?, ?it/s]"
      ]
     },
     "metadata": {},
     "output_type": "display_data"
    },
    {
     "data": {
      "application/vnd.jupyter.widget-view+json": {
       "model_id": "c8fef7530a404781a809b073e239edd4",
       "version_major": 2,
       "version_minor": 0
      },
      "text/plain": [
       "0it [00:00, ?it/s]"
      ]
     },
     "metadata": {},
     "output_type": "display_data"
    },
    {
     "data": {
      "application/vnd.jupyter.widget-view+json": {
       "model_id": "4721914241fa4a639717479ac1507242",
       "version_major": 2,
       "version_minor": 0
      },
      "text/plain": [
       "0it [00:00, ?it/s]"
      ]
     },
     "metadata": {},
     "output_type": "display_data"
    },
    {
     "data": {
      "application/vnd.jupyter.widget-view+json": {
       "model_id": "2100dda586274e009ec3aa8db839bbb1",
       "version_major": 2,
       "version_minor": 0
      },
      "text/plain": [
       "0it [00:00, ?it/s]"
      ]
     },
     "metadata": {},
     "output_type": "display_data"
    },
    {
     "name": "stdout",
     "output_type": "stream",
     "text": [
      "data/1.5_3\n"
     ]
    },
    {
     "data": {
      "application/vnd.jupyter.widget-view+json": {
       "model_id": "4e6dd0eb854745529b9a48fa4ff6e38c",
       "version_major": 2,
       "version_minor": 0
      },
      "text/plain": [
       "  0%|          | 0/20 [00:00<?, ?it/s]"
      ]
     },
     "metadata": {},
     "output_type": "display_data"
    },
    {
     "data": {
      "application/vnd.jupyter.widget-view+json": {
       "model_id": "b3e2c506855d44a0841539675cde2d62",
       "version_major": 2,
       "version_minor": 0
      },
      "text/plain": [
       "  0%|          | 0/20 [00:00<?, ?it/s]"
      ]
     },
     "metadata": {},
     "output_type": "display_data"
    },
    {
     "data": {
      "application/vnd.jupyter.widget-view+json": {
       "model_id": "03940a60579b41e79ff23f9fbde7aa2f",
       "version_major": 2,
       "version_minor": 0
      },
      "text/plain": [
       "0it [00:00, ?it/s]"
      ]
     },
     "metadata": {},
     "output_type": "display_data"
    },
    {
     "data": {
      "application/vnd.jupyter.widget-view+json": {
       "model_id": "588272145f4343a19571a50ec54e647d",
       "version_major": 2,
       "version_minor": 0
      },
      "text/plain": [
       "0it [00:00, ?it/s]"
      ]
     },
     "metadata": {},
     "output_type": "display_data"
    },
    {
     "data": {
      "application/vnd.jupyter.widget-view+json": {
       "model_id": "01146a3ac8774553a7e6b4d3f2f51a97",
       "version_major": 2,
       "version_minor": 0
      },
      "text/plain": [
       "0it [00:00, ?it/s]"
      ]
     },
     "metadata": {},
     "output_type": "display_data"
    },
    {
     "name": "stdout",
     "output_type": "stream",
     "text": [
      "data/2_4\n"
     ]
    },
    {
     "data": {
      "application/vnd.jupyter.widget-view+json": {
       "model_id": "64bce351759b4fada2adb584d6659025",
       "version_major": 2,
       "version_minor": 0
      },
      "text/plain": [
       "  0%|          | 0/20 [00:00<?, ?it/s]"
      ]
     },
     "metadata": {},
     "output_type": "display_data"
    },
    {
     "data": {
      "application/vnd.jupyter.widget-view+json": {
       "model_id": "cccbcbc2ab86427ba3e751474d0abd69",
       "version_major": 2,
       "version_minor": 0
      },
      "text/plain": [
       "  0%|          | 0/20 [00:00<?, ?it/s]"
      ]
     },
     "metadata": {},
     "output_type": "display_data"
    },
    {
     "data": {
      "application/vnd.jupyter.widget-view+json": {
       "model_id": "f41f991f1de942cfb531091850607da5",
       "version_major": 2,
       "version_minor": 0
      },
      "text/plain": [
       "0it [00:00, ?it/s]"
      ]
     },
     "metadata": {},
     "output_type": "display_data"
    },
    {
     "data": {
      "application/vnd.jupyter.widget-view+json": {
       "model_id": "dd95a6a72a474054af8299de7c93abcc",
       "version_major": 2,
       "version_minor": 0
      },
      "text/plain": [
       "0it [00:00, ?it/s]"
      ]
     },
     "metadata": {},
     "output_type": "display_data"
    },
    {
     "data": {
      "application/vnd.jupyter.widget-view+json": {
       "model_id": "ff70be68ba004a0da64659228392dd45",
       "version_major": 2,
       "version_minor": 0
      },
      "text/plain": [
       "0it [00:00, ?it/s]"
      ]
     },
     "metadata": {},
     "output_type": "display_data"
    },
    {
     "name": "stdout",
     "output_type": "stream",
     "text": [
      "data/4_8\n"
     ]
    },
    {
     "data": {
      "application/vnd.jupyter.widget-view+json": {
       "model_id": "13ca1e5ca414490e82a35fdb773e9ba2",
       "version_major": 2,
       "version_minor": 0
      },
      "text/plain": [
       "  0%|          | 0/20 [00:00<?, ?it/s]"
      ]
     },
     "metadata": {},
     "output_type": "display_data"
    },
    {
     "data": {
      "application/vnd.jupyter.widget-view+json": {
       "model_id": "b5e95a51b288497b877465f912475405",
       "version_major": 2,
       "version_minor": 0
      },
      "text/plain": [
       "  0%|          | 0/20 [00:00<?, ?it/s]"
      ]
     },
     "metadata": {},
     "output_type": "display_data"
    },
    {
     "data": {
      "application/vnd.jupyter.widget-view+json": {
       "model_id": "428aabe429fc4079afe27297a72acbfa",
       "version_major": 2,
       "version_minor": 0
      },
      "text/plain": [
       "0it [00:00, ?it/s]"
      ]
     },
     "metadata": {},
     "output_type": "display_data"
    },
    {
     "data": {
      "application/vnd.jupyter.widget-view+json": {
       "model_id": "a4b4e404ace744afaa8b1d8464c84747",
       "version_major": 2,
       "version_minor": 0
      },
      "text/plain": [
       "0it [00:00, ?it/s]"
      ]
     },
     "metadata": {},
     "output_type": "display_data"
    },
    {
     "data": {
      "application/vnd.jupyter.widget-view+json": {
       "model_id": "d19c7b2ebb6f4b7f8f5dfb6b908aab32",
       "version_major": 2,
       "version_minor": 0
      },
      "text/plain": [
       "0it [00:00, ?it/s]"
      ]
     },
     "metadata": {},
     "output_type": "display_data"
    },
    {
     "name": "stdout",
     "output_type": "stream",
     "text": [
      "data/3_6\n"
     ]
    },
    {
     "data": {
      "application/vnd.jupyter.widget-view+json": {
       "model_id": "f2035e681fac423083c95333aa951f74",
       "version_major": 2,
       "version_minor": 0
      },
      "text/plain": [
       "  0%|          | 0/20 [00:00<?, ?it/s]"
      ]
     },
     "metadata": {},
     "output_type": "display_data"
    },
    {
     "data": {
      "application/vnd.jupyter.widget-view+json": {
       "model_id": "518d237705ec4a74b87539570f3c7744",
       "version_major": 2,
       "version_minor": 0
      },
      "text/plain": [
       "  0%|          | 0/20 [00:00<?, ?it/s]"
      ]
     },
     "metadata": {},
     "output_type": "display_data"
    },
    {
     "data": {
      "application/vnd.jupyter.widget-view+json": {
       "model_id": "44cb123f0ec942ebaa3817d085c42edb",
       "version_major": 2,
       "version_minor": 0
      },
      "text/plain": [
       "0it [00:00, ?it/s]"
      ]
     },
     "metadata": {},
     "output_type": "display_data"
    },
    {
     "data": {
      "application/vnd.jupyter.widget-view+json": {
       "model_id": "d6ecaf242a784ceca926f117357fe5a4",
       "version_major": 2,
       "version_minor": 0
      },
      "text/plain": [
       "0it [00:00, ?it/s]"
      ]
     },
     "metadata": {},
     "output_type": "display_data"
    },
    {
     "data": {
      "application/vnd.jupyter.widget-view+json": {
       "model_id": "dea00916112f4b9f9aafe1d78792da63",
       "version_major": 2,
       "version_minor": 0
      },
      "text/plain": [
       "0it [00:00, ?it/s]"
      ]
     },
     "metadata": {},
     "output_type": "display_data"
    },
    {
     "name": "stdout",
     "output_type": "stream",
     "text": [
      "data/6_12\n"
     ]
    },
    {
     "data": {
      "application/vnd.jupyter.widget-view+json": {
       "model_id": "5e692854bf3a49feb871539d31152506",
       "version_major": 2,
       "version_minor": 0
      },
      "text/plain": [
       "  0%|          | 0/20 [00:00<?, ?it/s]"
      ]
     },
     "metadata": {},
     "output_type": "display_data"
    },
    {
     "data": {
      "application/vnd.jupyter.widget-view+json": {
       "model_id": "1bfedcffbd43416284024d56e0b1aa15",
       "version_major": 2,
       "version_minor": 0
      },
      "text/plain": [
       "  0%|          | 0/20 [00:00<?, ?it/s]"
      ]
     },
     "metadata": {},
     "output_type": "display_data"
    },
    {
     "data": {
      "application/vnd.jupyter.widget-view+json": {
       "model_id": "1250306b086a4631b4631414c29114aa",
       "version_major": 2,
       "version_minor": 0
      },
      "text/plain": [
       "0it [00:00, ?it/s]"
      ]
     },
     "metadata": {},
     "output_type": "display_data"
    },
    {
     "data": {
      "application/vnd.jupyter.widget-view+json": {
       "model_id": "827cbc6e689847c8bc8444bd2eb8706d",
       "version_major": 2,
       "version_minor": 0
      },
      "text/plain": [
       "0it [00:00, ?it/s]"
      ]
     },
     "metadata": {},
     "output_type": "display_data"
    },
    {
     "data": {
      "application/vnd.jupyter.widget-view+json": {
       "model_id": "c7a740d3dfbc41ccb769aac777e56614",
       "version_major": 2,
       "version_minor": 0
      },
      "text/plain": [
       "0it [00:00, ?it/s]"
      ]
     },
     "metadata": {},
     "output_type": "display_data"
    }
   ],
   "source": [
    "for data_dir in tqdm(data_dirs):\n",
    "    print(data_dir)\n",
    "    data_dirs = glob(\"data/*\")\n",
    "    data_type = \"training_data\"\n",
    "    mask_dirs = natsorted(glob(f\"{data_dir}/{data_type}/*masks.png\"))\n",
    "    image_dirs = natsorted(glob(f\"{data_dir}/{data_type}/*[!masks].png\"))\n",
    "\n",
    "\n",
    "    masks = [np.array(Image.open(mask_dir)) for mask_dir in mask_dirs]\n",
    "    corrected_masks = [np.pad(correct_masks_for_DeLTA(mask), 16) for mask in tqdm(masks)] #pad images by 16 on each axis for a final shape of 832 (fits into the U-net)\n",
    "    corrected_images = [np.pad(np.array(Image.open(image_dir)), 16) for image_dir in tqdm(image_dirs)]\n",
    "\n",
    "    try:\n",
    "        os.mkdir(f\"{data_dir}/DeLTA\")\n",
    "    except:\n",
    "        pass\n",
    "    base_directory = f\"{data_dir}/DeLTA/preprocessed/\"\n",
    "    try:\n",
    "        os.mkdir(base_directory)\n",
    "    except:\n",
    "        pass\n",
    "    try: \n",
    "        os.mkdir(base_directory + \"/CROPPED_FILTERED\")\n",
    "        os.mkdir(base_directory + \"/CROPPED_MASKS\")\n",
    "        os.mkdir(base_directory + \"/WEIGHTMAPS\")\n",
    "    except:\n",
    "        pass\n",
    "\n",
    "\n",
    "    _ = Parallel(n_jobs=-1)(delayed(preprocess_convolutions)(x, name) for x, name in tqdm(zip(corrected_images,image_dirs)))\n",
    "\n",
    "    _ = Parallel(n_jobs=-1)(delayed(preprocess_masks)(x, name) for x, name in tqdm(zip(corrected_masks,image_dirs)))\n",
    "\n",
    "    _ = Parallel(n_jobs=-1)(delayed(preprocess_weightmaks)(x, name) for x, name in tqdm(zip(corrected_masks,image_dirs)))"
   ]
  },
  {
   "cell_type": "code",
   "execution_count": 186,
   "id": "c74fc7bb-0bf5-4753-a584-379ee04b624c",
   "metadata": {
    "tags": []
   },
   "outputs": [
    {
     "data": {
      "text/plain": [
       "3"
      ]
     },
     "execution_count": 186,
     "metadata": {},
     "output_type": "execute_result"
    }
   ],
   "source": [
    "3"
   ]
  },
  {
   "cell_type": "code",
   "execution_count": null,
   "id": "4ad646ce-9447-4344-a1c4-761b8636125c",
   "metadata": {},
   "outputs": [],
   "source": []
  }
 ],
 "metadata": {
  "kernelspec": {
   "display_name": "Python 3 (ipykernel)",
   "language": "python",
   "name": "python3"
  },
  "language_info": {
   "codemirror_mode": {
    "name": "ipython",
    "version": 3
   },
   "file_extension": ".py",
   "mimetype": "text/x-python",
   "name": "python",
   "nbconvert_exporter": "python",
   "pygments_lexer": "ipython3",
   "version": "3.8.16"
  }
 },
 "nbformat": 4,
 "nbformat_minor": 5
}
