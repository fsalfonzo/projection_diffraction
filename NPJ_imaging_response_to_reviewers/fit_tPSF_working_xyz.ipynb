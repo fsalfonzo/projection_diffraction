{
 "cells": [
  {
   "cell_type": "code",
   "execution_count": 1,
   "id": "393697f7-ea27-4109-ad28-6851f1d84642",
   "metadata": {},
   "outputs": [],
   "source": [
    "import psfmodels as psfm\n",
    "import matplotlib.pyplot as plt\n",
    "from matplotlib.colors import PowerNorm\n",
    "import numpy as np\n",
    "import tifffile\n",
    "import pyclesperanto_prototype as cle\n",
    "from pyclesperanto_prototype import imshow\n",
    "import pandas as pd\n",
    "from skimage.transform import rescale, resize, downscale_local_mean, rotate\n",
    "from scipy.optimize import minimize, LinearConstraint, Bounds, differential_evolution, basinhopping, shgo, dual_annealing, direct\n",
    "\n",
    "\n",
    "\n",
    "\n",
    "def get_midline(arr):\n",
    "    mid_x = arr.shape[1]//2\n",
    "    return arr[mid_x]\n",
    "\n",
    "def get_midline_rotate_method(arr):\n",
    "    mid_x = arr.shape[1]//2\n",
    "    midline = np.array([rotate(arr, angle, resize = False, clip = True, preserve_range = True)[mid_x] for angle in range(366)]).mean(axis=0)\n",
    "    return midline"
   ]
  },
  {
   "cell_type": "code",
   "execution_count": 23,
   "id": "800e0f45-add2-4b0b-847d-ee2c46d29926",
   "metadata": {},
   "outputs": [
    {
     "data": {
      "text/plain": [
       "(41, 41, 41)"
      ]
     },
     "execution_count": 23,
     "metadata": {},
     "output_type": "execute_result"
    }
   ],
   "source": [
    "real_PSF = tifffile.imread(\"../PSF_comparison/average_100x_PSF_postmag_green.tif\").astype(np.float32)\n",
    "real_PSF = real_PSF[:,100:-100,100:-100]\n",
    "original_z = real_PSF.shape[0]\n",
    "real_PSF = real_PSF[(original_z - 41)//2:-(original_z - 41)//2]\n",
    "#imshow(label_image, labels=True)\n",
    "#stats = cle.statistics_of_labelled_pixels(real_PSF, label_image)\n",
    "\n",
    "#df = pd.DataFrame(stats)\n",
    "#df[[\"mass_center_x\", \"mass_center_y\", \"mass_center_z\"]]\n",
    "#real_PSF = real_PSF[int(df[\"mass_center_z\"])]\n",
    "real_PSF -= np.round(np.sort(real_PSF.flatten())[0:int(len(real_PSF.flatten())*.05)].mean()).astype(np.uint)\n",
    "real_PSF -= real_PSF.min()\n",
    "real_PSF = np.clip(real_PSF, 0, np.inf)\n",
    "real_PSF = real_PSF / real_PSF.max()\n",
    "real_PSF.shape"
   ]
  },
  {
   "cell_type": "code",
   "execution_count": 24,
   "id": "d8bcdf7a-46d6-4cc6-904b-6223f036a725",
   "metadata": {},
   "outputs": [
    {
     "data": {
      "text/plain": [
       "0.0"
      ]
     },
     "execution_count": 24,
     "metadata": {},
     "output_type": "execute_result"
    }
   ],
   "source": [
    "real_PSF.min()"
   ]
  },
  {
   "cell_type": "code",
   "execution_count": 25,
   "id": "a64e72de-b4d4-493a-bd4a-feba0878264b",
   "metadata": {},
   "outputs": [],
   "source": [
    "PSF_depth = real_PSF.shape[0] * 0.05\n",
    "slices = np.linspace(-PSF_depth/2, PSF_depth/2, real_PSF.shape[0])\n",
    "def PSF_function(pz, ti0, ni0, ni, tg0, tg, ng0, ng, ns, NA, offset):\n",
    "    synthetic = psfm.make_psf(\n",
    "        slices,\n",
    "        nx = real_PSF.shape[1],\n",
    "        dxy = 0.065/1.5,\n",
    "        pz = pz,\n",
    "        ti0 = ti0,\n",
    "        ni0 = ni0,\n",
    "        ni = ni, \n",
    "        tg0 = tg0,\n",
    "        ng0 = ng0,\n",
    "        ng = ng,\n",
    "        ns = ns,\n",
    "        wvl = 0.515,\n",
    "        NA = NA,\n",
    "        model = \"vectorial\"\n",
    "        ) + offset\n",
    "    #synthetic -= synthetic.min()\n",
    "    synthetic = synthetic / synthetic.max()\n",
    "    return synthetic\n",
    "\n",
    "def error_function(params):\n",
    "    pz, ti0, ni0, ni, tg0, tg, ng0, ng, ns, NA, offset = params\n",
    "    #if (NA > ni) or (NA > ni0) or (pz < 0):\n",
    "    #    return 1000\n",
    "    synthetic = PSF_function(pz, ti0, ni0, ni, tg0, tg, ng0, ng, ns, NA, offset)\n",
    "    return np.nansum((real_PSF - synthetic) ** 2)"
   ]
  },
  {
   "cell_type": "code",
   "execution_count": 26,
   "id": "25f203ce-d3c6-4f69-90de-4049e6abbc34",
   "metadata": {},
   "outputs": [
    {
     "data": {
      "text/plain": [
       "<matplotlib.image.AxesImage at 0x7203b1f379a0>"
      ]
     },
     "execution_count": 26,
     "metadata": {},
     "output_type": "execute_result"
    },
    {
     "data": {
      "image/png": "[encoded data removed]",
      "text/plain": [
       "<Figure size 640x480 with 1 Axes>"
      ]
     },
     "metadata": {},
     "output_type": "display_data"
    }
   ],
   "source": [
    "plt.imshow(real_PSF[0])"
   ]
  },
  {
   "cell_type": "markdown",
   "id": "ba5ea0a9-aadf-448e-b255-8239313733b7",
   "metadata": {},
   "source": [
    "nx (int):       XY size of output PSF in pixels, must be odd.\n",
    "dxy (float):    pixel size in sample space (microns) [default: 0.05]\n",
    "pz (float):     depth of point source relative to coverslip (in microns) [default: 0]\n",
    "ti0 (float):    working distance of the objective (microns) [default: 150.0]\n",
    "ni0 (float):    immersion medium refractive index, design value [default: 1.515]\n",
    "ni (float):     immersion medium refractive index, experimental value [default: 1.515]\n",
    "tg0 (float):    coverslip thickness, design value (microns) [default: 170.0]\n",
    "tg (float):     coverslip thickness, experimental value (microns) [default: 170.0]\n",
    "ng0 (float):    coverslip refractive index, design value [default: 1.515]\n",
    "ng (float):     coverslip refractive index, experimental value [default: 1.515]\n",
    "ns (float):     sample refractive index [default: 1.47]\n",
    "wvl (float):    emission wavelength (microns) [default: 0.6]\n",
    "NA (float):     numerical aperture [default: 1.4]\n"
   ]
  },
  {
   "cell_type": "code",
   "execution_count": 27,
   "id": "fa46f016-2c80-42a4-aae5-891f616649d6",
   "metadata": {},
   "outputs": [],
   "source": [
    "params = [0, 140, 1.518, 1.518, 170, 170, 1.515, 1.515, 1.47, 1.49, 0]\n",
    "pz, ti0, ni0, ni, tg0, tg, ng0, ng, ns, NA, offset = params"
   ]
  },
  {
   "cell_type": "code",
   "execution_count": 28,
   "id": "97a8c5ea-eccf-44e2-a6ce-620ee81d1048",
   "metadata": {},
   "outputs": [],
   "source": [
    "bounds = Bounds([0, 100, 1.49, 1.49, 100, 100, 1.5, 1.5, 1.3, 1.3, 0], [5, 200, 1.6, 1.6, 200, 200, 2, 2, 2, 1.4899, 1])"
   ]
  },
  {
   "cell_type": "code",
   "execution_count": 29,
   "id": "1fca2e9c-e9ab-4768-bc65-e56d66fc84c7",
   "metadata": {},
   "outputs": [],
   "source": [
    "def check_zero_cost(intermediate_result):\n",
    "    if intermediate_result.fun == 0:\n",
    "        print(f\"Cost is zero for parameters: {intermediate_result.x}\")\n",
    "    return False  # return True if you want to stop the optimization here\n"
   ]
  },
  {
   "cell_type": "code",
   "execution_count": null,
   "id": "0751c813-c5fc-451c-9b54-1731d5389416",
   "metadata": {
    "scrolled": true
   },
   "outputs": [
    {
     "name": "stderr",
     "output_type": "stream",
     "text": [
      "/home/gh464/miniconda3/envs/symbac/lib/python3.10/site-packages/scipy/optimize/_differentialevolution.py:487: UserWarning: differential_evolution: the 'workers' keyword has overridden updating='immediate' to updating='deferred'\n",
      "  with DifferentialEvolutionSolver(func, bounds, args=args,\n"
     ]
    },
    {
     "name": "stdout",
     "output_type": "stream",
     "text": [
      "differential_evolution step 1: f(x)= 197.27317213647422\n",
      "differential_evolution step 2: f(x)= 141.61827336947698\n",
      "differential_evolution step 3: f(x)= 141.61827336947698\n",
      "differential_evolution step 4: f(x)= 55.68693739861241\n",
      "differential_evolution step 5: f(x)= 55.68693739861241\n",
      "differential_evolution step 6: f(x)= 55.68693739861241\n",
      "differential_evolution step 7: f(x)= 55.68693739861241\n",
      "differential_evolution step 8: f(x)= 55.68693739861241\n",
      "differential_evolution step 9: f(x)= 55.68693739861241\n",
      "differential_evolution step 10: f(x)= 43.01402633530746\n",
      "differential_evolution step 11: f(x)= 43.01402633530746\n",
      "differential_evolution step 12: f(x)= 43.01402633530746\n",
      "differential_evolution step 13: f(x)= 43.01402633530746\n",
      "differential_evolution step 14: f(x)= 26.65694337303232\n",
      "differential_evolution step 15: f(x)= 26.65694337303232\n",
      "differential_evolution step 16: f(x)= 26.65694337303232\n",
      "differential_evolution step 17: f(x)= 16.282253021572405\n",
      "differential_evolution step 18: f(x)= 16.282253021572405\n",
      "differential_evolution step 19: f(x)= 16.282253021572405\n",
      "differential_evolution step 20: f(x)= 16.282253021572405\n",
      "differential_evolution step 21: f(x)= 16.282253021572405\n",
      "differential_evolution step 22: f(x)= 16.282253021572405\n",
      "differential_evolution step 23: f(x)= 16.282253021572405\n",
      "differential_evolution step 24: f(x)= 16.282253021572405\n",
      "differential_evolution step 25: f(x)= 16.282253021572405\n",
      "differential_evolution step 26: f(x)= 16.282253021572405\n",
      "differential_evolution step 27: f(x)= 16.282253021572405\n",
      "differential_evolution step 28: f(x)= 16.282253021572405\n",
      "differential_evolution step 29: f(x)= 16.282253021572405\n",
      "differential_evolution step 30: f(x)= 16.282253021572405\n",
      "differential_evolution step 31: f(x)= 16.282253021572405\n",
      "differential_evolution step 32: f(x)= 16.282253021572405\n",
      "differential_evolution step 33: f(x)= 16.282253021572405\n",
      "differential_evolution step 34: f(x)= 16.282253021572405\n",
      "differential_evolution step 35: f(x)= 14.95791073639047\n",
      "differential_evolution step 36: f(x)= 14.95791073639047\n",
      "differential_evolution step 37: f(x)= 14.95791073639047\n",
      "differential_evolution step 38: f(x)= 14.95791073639047\n",
      "differential_evolution step 39: f(x)= 14.233833094214383\n",
      "differential_evolution step 40: f(x)= 14.233833094214383\n",
      "differential_evolution step 41: f(x)= 14.233833094214383\n",
      "differential_evolution step 42: f(x)= 14.233833094214383\n",
      "differential_evolution step 43: f(x)= 14.233833094214383\n",
      "differential_evolution step 44: f(x)= 14.233833094214383\n",
      "differential_evolution step 45: f(x)= 14.233833094214383\n",
      "differential_evolution step 46: f(x)= 14.233833094214383\n",
      "differential_evolution step 47: f(x)= 14.233833094214383\n",
      "differential_evolution step 48: f(x)= 14.233833094214383\n",
      "differential_evolution step 49: f(x)= 14.233833094214383\n",
      "differential_evolution step 50: f(x)= 14.233833094214383\n",
      "differential_evolution step 51: f(x)= 13.99324720220872\n",
      "differential_evolution step 52: f(x)= 13.99324720220872\n",
      "differential_evolution step 53: f(x)= 13.99324720220872\n",
      "differential_evolution step 54: f(x)= 13.358791867568014\n",
      "differential_evolution step 55: f(x)= 13.358791867568014\n",
      "differential_evolution step 56: f(x)= 13.358791867568014\n",
      "differential_evolution step 57: f(x)= 13.358791867568014\n",
      "differential_evolution step 58: f(x)= 13.358791867568014\n",
      "differential_evolution step 59: f(x)= 13.358791867568014\n",
      "differential_evolution step 60: f(x)= 13.358791867568014\n",
      "differential_evolution step 61: f(x)= 13.358791867568014\n",
      "differential_evolution step 62: f(x)= 13.358791867568014\n",
      "differential_evolution step 63: f(x)= 13.358791867568014\n",
      "differential_evolution step 64: f(x)= 13.358791867568014\n",
      "differential_evolution step 65: f(x)= 13.358791867568014\n",
      "differential_evolution step 66: f(x)= 13.358791867568014\n",
      "differential_evolution step 67: f(x)= 13.358791867568014\n",
      "differential_evolution step 68: f(x)= 13.358791867568014\n",
      "differential_evolution step 69: f(x)= 13.358791867568014\n",
      "differential_evolution step 70: f(x)= 13.358791867568014\n",
      "differential_evolution step 71: f(x)= 13.358791867568014\n",
      "differential_evolution step 72: f(x)= 13.358791867568014\n",
      "differential_evolution step 73: f(x)= 13.358791867568014\n",
      "differential_evolution step 74: f(x)= 13.358791867568014\n",
      "differential_evolution step 75: f(x)= 13.358791867568014\n",
      "differential_evolution step 76: f(x)= 13.358791867568014\n",
      "differential_evolution step 77: f(x)= 13.358791867568014\n",
      "differential_evolution step 78: f(x)= 13.358791867568014\n",
      "differential_evolution step 79: f(x)= 12.687389536994022\n",
      "differential_evolution step 80: f(x)= 12.687389536994022\n",
      "differential_evolution step 81: f(x)= 12.687389536994022\n",
      "differential_evolution step 82: f(x)= 12.687389536994022\n",
      "differential_evolution step 83: f(x)= 12.687389536994022\n",
      "differential_evolution step 84: f(x)= 12.687389536994022\n",
      "differential_evolution step 85: f(x)= 12.687389536994022\n",
      "differential_evolution step 86: f(x)= 12.687389536994022\n",
      "differential_evolution step 87: f(x)= 12.687389536994022\n",
      "differential_evolution step 88: f(x)= 12.687389536994022\n",
      "differential_evolution step 89: f(x)= 12.687389536994022\n",
      "differential_evolution step 90: f(x)= 12.687389536994022\n",
      "differential_evolution step 91: f(x)= 12.687389536994022\n",
      "differential_evolution step 92: f(x)= 12.687389536994022\n",
      "differential_evolution step 93: f(x)= 12.687389536994022\n",
      "differential_evolution step 94: f(x)= 12.687389536994022\n",
      "differential_evolution step 95: f(x)= 12.687389536994022\n",
      "differential_evolution step 96: f(x)= 12.687389536994022\n",
      "differential_evolution step 97: f(x)= 12.687389536994022\n",
      "differential_evolution step 98: f(x)= 12.687389536994022\n",
      "differential_evolution step 99: f(x)= 12.687389536994022\n",
      "differential_evolution step 100: f(x)= 12.687389536994022\n",
      "differential_evolution step 101: f(x)= 12.687389536994022\n"
     ]
    }
   ],
   "source": [
    "%%time \n",
    "result = differential_evolution(error_function, bounds, workers = 23, disp = True, callback = check_zero_cost)"
   ]
  },
  {
   "cell_type": "code",
   "execution_count": 31,
   "id": "e72973ca-c908-4d2a-9d7d-fe52030521db",
   "metadata": {},
   "outputs": [
    {
     "data": {
      "text/plain": [
       "<matplotlib.legend.Legend at 0x7203afb88d90>"
      ]
     },
     "execution_count": 31,
     "metadata": {},
     "output_type": "execute_result"
    },
    {
     "data": {
      "image/png": "[encoded data removed]",
      "text/plain": [
       "<Figure size 640x480 with 1 Axes>"
      ]
     },
     "metadata": {},
     "output_type": "display_data"
    }
   ],
   "source": [
    "fitted_PSF = PSF_function(*result.x)\n",
    "mid_z = fitted_PSF.shape[0]//2 \n",
    "plt.plot(get_midline(fitted_PSF[mid_z]), label =\"fit\")\n",
    "plt.plot(get_midline_rotate_method(real_PSF[mid_z]), label = \"real\")\n",
    "plt.yscale(\"log\")\n",
    "plt.legend()"
   ]
  },
  {
   "cell_type": "code",
   "execution_count": null,
   "id": "8b43b7e7-9b8e-4fb8-b320-e8bc9dfbfd1d",
   "metadata": {},
   "outputs": [],
   "source": []
  },
  {
   "cell_type": "code",
   "execution_count": 32,
   "id": "c6dc500a-6565-479c-8ec5-caf59a5b669d",
   "metadata": {},
   "outputs": [
    {
     "data": {
      "text/plain": [
       "<matplotlib.image.AxesImage at 0x720438ea1090>"
      ]
     },
     "execution_count": 32,
     "metadata": {},
     "output_type": "execute_result"
    },
    {
     "data": {
      "image/png": "[encoded data removed]",
      "text/plain": [
       "<Figure size 640x480 with 1 Axes>"
      ]
     },
     "metadata": {},
     "output_type": "display_data"
    }
   ],
   "source": [
    "plt.imshow(real_PSF.sum(axis=1), cmap = \"Greys_r\")"
   ]
  },
  {
   "cell_type": "code",
   "execution_count": 33,
   "id": "89f9b4c1-1dea-492a-a502-e5900cfb3272",
   "metadata": {},
   "outputs": [
    {
     "data": {
      "text/plain": [
       "<matplotlib.image.AxesImage at 0x720438ed1a80>"
      ]
     },
     "execution_count": 33,
     "metadata": {},
     "output_type": "execute_result"
    },
    {
     "data": {
      "image/png": "[encoded data removed]",
      "text/plain": [
       "<Figure size 640x480 with 1 Axes>"
      ]
     },
     "metadata": {},
     "output_type": "display_data"
    }
   ],
   "source": [
    "plt.imshow(fitted_PSF.sum(axis=1), cmap = \"Greys_r\")"
   ]
  },
  {
   "cell_type": "code",
   "execution_count": 37,
   "id": "e5889808-9be4-4850-a0e2-65d857f8f6bf",
   "metadata": {},
   "outputs": [],
   "source": [
    "import pickle\n",
    "with open('PSF_fitted_for_single_molecule_50nm_pix_xyz_params.pkl', 'wb') as file: \n",
    "      \n",
    "    # A new file will be created \n",
    "    pickle.dump(result, file) \n",
    "\n",
    "tifffile.imwrite(\"PSF_fitted_for_single_molecule_50nm_pix_xyz.tif\", fitted_PSF)"
   ]
  },
  {
   "cell_type": "code",
   "execution_count": 36,
   "id": "3e56fdd1-d84a-460a-910b-cf295a8eae75",
   "metadata": {},
   "outputs": [
    {
     "data": {
      "text/plain": [
       "(41, 41, 41)"
      ]
     },
     "execution_count": 36,
     "metadata": {},
     "output_type": "execute_result"
    }
   ],
   "source": [
    "fitted_PSF.shape"
   ]
  }
 ],
 "metadata": {
  "kernelspec": {
   "display_name": "Python [conda env:symbac]",
   "language": "python",
   "name": "conda-env-symbac-py"
  },
  "language_info": {
   "codemirror_mode": {
    "name": "ipython",
    "version": 3
   },
   "file_extension": ".py",
   "mimetype": "text/x-python",
   "name": "python",
   "nbconvert_exporter": "python",
   "pygments_lexer": "ipython3",
   "version": "3.10.9"
  }
 },
 "nbformat": 4,
 "nbformat_minor": 5
}
