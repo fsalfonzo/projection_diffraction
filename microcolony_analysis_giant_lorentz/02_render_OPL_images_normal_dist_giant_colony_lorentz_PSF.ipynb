{
 "cells": [
  {
   "cell_type": "code",
   "execution_count": 1,
   "id": "66c5a9bd-1f0a-4084-a9eb-8f54392126af",
   "metadata": {
    "tags": []
   },
   "outputs": [],
   "source": [
    "%load_ext autoreload\n",
    "%autoreload 2"
   ]
  },
  {
   "cell_type": "code",
   "execution_count": 2,
   "id": "30b40292-8b88-4924-8c5d-b768aa66b356",
   "metadata": {
    "tags": []
   },
   "outputs": [
    {
     "name": "stderr",
     "output_type": "stream",
     "text": [
      "/home/gh464/storage/Dropbox (Cambridge University)/projection_diffraction_frontiers_in_physics/microcolony_analysis_giant_lorentz/../SyMBac/SyMBac/colony_simulation.py:8: TqdmExperimentalWarning: Using `tqdm.autonotebook.tqdm` in notebook mode. Use `tqdm.tqdm` instead to force console mode (e.g. in jupyter console)\n",
      "  from tqdm.autonotebook import tqdm\n"
     ]
    }
   ],
   "source": [
    "import os\n",
    "#os.environ[\"CUDA_VISIBLE_DEVICES\"] = \"0\"\n",
    "import sys\n",
    "#sys.path.insert(1, '/home/georgeos/Documents/GitHub/SyMBac//') # Not needed if you installed SyMBac using pip\n",
    "sys.path.insert(1, '../SyMBac/')\n",
    "\n",
    "from SyMBac.drawing import raster_cell, OPL_to_FL, convert_to_3D\n",
    "from SyMBac.colony_simulation import ColonySimulation\n",
    "import matplotlib.pyplot as plt\n",
    "import numpy as np\n",
    "from tqdm.autonotebook import tqdm\n",
    "from glob import glob\n",
    "import shutil\n",
    "from skimage.transform import rotate\n",
    "import tifffile\n",
    "from skimage.transform import rescale\n",
    "import ray"
   ]
  },
  {
   "cell_type": "code",
   "execution_count": 3,
   "id": "b120ef15-60c8-4b83-8ce1-0d5d3140b6e3",
   "metadata": {
    "tags": []
   },
   "outputs": [],
   "source": [
    "import global_params_giant_colony as global_params"
   ]
  },
  {
   "cell_type": "code",
   "execution_count": 4,
   "id": "c770a123-d23a-4381-9167-926bef4fed56",
   "metadata": {
    "tags": []
   },
   "outputs": [
    {
     "name": "stdout",
     "output_type": "stream",
     "text": [
      "['data/test_giant_colony_lorentz_PSF/1', 'data/test_giant_colony_lorentz_PSF/2', 'data/test_giant_colony_lorentz_PSF/3', 'data/test_giant_colony_lorentz_PSF/4', 'data/test_giant_colony_lorentz_PSF/5', 'data/test_giant_colony_lorentz_PSF/6', 'data/test_giant_colony_lorentz_PSF/7', 'data/test_giant_colony_lorentz_PSF/8', 'data/test_giant_colony_lorentz_PSF/9', 'data/test_giant_colony_lorentz_PSF/10']\n"
     ]
    },
    {
     "data": {
      "text/plain": [
       "<matplotlib.collections.PathCollection at 0x763a5f1d5f00>"
      ]
     },
     "execution_count": 4,
     "metadata": {},
     "output_type": "execute_result"
    },
    {
     "data": {
      "image/png": "[encoded data removed]",
      "text/plain": [
       "<Figure size 640x480 with 1 Axes>"
      ]
     },
     "metadata": {},
     "output_type": "display_data"
    }
   ],
   "source": [
    "colonysim = ColonySimulation(\n",
    "    cellmodeller_model= global_params.cellmodeller_model,\n",
    "    max_cells = global_params.max_cells,\n",
    "    pix_mic_conv = global_params.pix_mic_conv,\n",
    "    resize_amount = global_params.resize_amount,\n",
    "    save_dir = \"test_giant_colony_lorentz_PSF/\"\n",
    ")\n",
    "print(colonysim.get_simulation_dirs())\n",
    "_ = (colonysim.get_simulation_pickles())\n",
    "colonysim.get_max_scene_size()\n",
    "\n",
    "\n",
    "mean_density_modifier = 10\n",
    "\n",
    "n_CVs = 11\n",
    "stds = np.linspace(0,2.5, n_CVs)\n",
    "\n",
    "\n",
    "CVs = stds/mean_density_modifier\n",
    "plt.scatter(range(len(CVs)), CVs)"
   ]
  },
  {
   "cell_type": "code",
   "execution_count": 5,
   "id": "b9fa5206-9044-46be-ba6f-7c629de66495",
   "metadata": {
    "tags": []
   },
   "outputs": [],
   "source": [
    "#for std in tqdm(stds):\n",
    "#    colonysim.draw_simulation_OPL(n_jobs = -1, FL=True, density = 0.1, random_distribution = \"normal\", distribution_args = (mean_density_modifier, std), as_3D = True, crop=True, crop_pad=50)"
   ]
  },
  {
   "cell_type": "code",
   "execution_count": 6,
   "id": "19137070-aef3-4f6a-aa04-8f5ec312ba74",
   "metadata": {
    "tags": []
   },
   "outputs": [],
   "source": [
    "from SyMBac.colony_renderer import ColonyRenderer"
   ]
  },
  {
   "cell_type": "code",
   "execution_count": 7,
   "id": "38b15ff9-7e08-4e8a-9a3e-81973fc4959d",
   "metadata": {
    "tags": []
   },
   "outputs": [],
   "source": [
    "from SyMBac.PSF import PSF_generator\n",
    "from SyMBac.renderer import convolve_rescale\n",
    "from skimage.util import random_noise\n",
    "from scipy.ndimage import gaussian_filter\n",
    "\n",
    "from skimage.exposure import rescale_intensity\n"
   ]
  },
  {
   "cell_type": "code",
   "execution_count": 8,
   "id": "1ae512a4-d068-42ca-867e-4cf885c43248",
   "metadata": {
    "tags": []
   },
   "outputs": [],
   "source": [
    "try:\n",
    "    os.mkdir(\"simulated_colonies_normal_lorentz_PSF\")\n",
    "    real_PSF = tifffile.imread(\"../cell_distance_bleedthrough/lorentzian_PSF_515nm.tiff\")\n",
    "    plt.imshow(real_PSF)\n",
    "    my_kernel = PSF_generator(\n",
    "        radius = 250, \n",
    "        wavelength = 0.515, \n",
    "        NA=1.49, \n",
    "        n = 1.518, \n",
    "        resize_amount=global_params.resize_amount, \n",
    "        pix_mic_conv=global_params.pix_mic_conv, \n",
    "        apo_sigma = 10, \n",
    "        mode=\"3d fluo\", \n",
    "        condenser=\"Ph3\", \n",
    "        z_height = 22,\n",
    "        pz = 0.5,\n",
    "        working_distance = 170\n",
    "    )\n",
    "    my_kernel.kernel = np.array([real_PSF]*22)\n",
    "    my_renderer = ColonyRenderer(colonysim, my_kernel, force_2D = True)\n",
    "    \n",
    "    print(len(my_renderer.OPL_dirs))\n",
    "    my_renderer.generate_random_samples(len(my_renderer.OPL_dirs), 0, f\"simulated_colonies_normal_lorentz_PSF/training_data_100x_0.515_green_1.49_1.518\", GPUs=[0,1], n_jobs = 2, gpu_fraction=0.5, batch_size = 50)\n",
    "except:\n",
    "    pass"
   ]
  },
  {
   "cell_type": "code",
   "execution_count": 9,
   "id": "153b86c0-499f-47b4-9e8d-1332cdc6ff2a",
   "metadata": {},
   "outputs": [],
   "source": [
    "my_kernel = PSF_generator(\n",
    "    radius = 200, \n",
    "    wavelength = 0.515, \n",
    "    NA=1.49, \n",
    "    n = 1.518, \n",
    "    resize_amount=global_params.resize_amount, \n",
    "    pix_mic_conv=global_params.pix_mic_conv, \n",
    "    apo_sigma = 10, \n",
    "    mode=\"3d fluo\", \n",
    "    condenser=\"Ph3\", \n",
    "    z_height = 22,\n",
    "    pz = 0.5,\n",
    "    working_distance = 170\n",
    ")\n",
    "my_kernel.calculate_PSF()\n",
    "\n"
   ]
  },
  {
   "cell_type": "code",
   "execution_count": 10,
   "id": "77103c85-b643-44a1-9eb7-91b143d33b10",
   "metadata": {},
   "outputs": [],
   "source": [
    "import cupy as cp\n",
    "from cupyx.scipy.ndimage import convolve"
   ]
  },
  {
   "cell_type": "code",
   "execution_count": 34,
   "id": "41d3e73a-34b5-43b2-bee6-90dbb6d0b07c",
   "metadata": {},
   "outputs": [],
   "source": [
    "my_renderer = ColonyRenderer(colonysim, my_kernel, force_2D = False)"
   ]
  },
  {
   "cell_type": "code",
   "execution_count": 35,
   "id": "9f6df499-f814-4474-a6bb-0fc104d5852a",
   "metadata": {},
   "outputs": [
    {
     "data": {
      "application/vnd.jupyter.widget-view+json": {
       "model_id": "da3a9b3eb5044b6eabd7eff2444006f1",
       "version_major": 2,
       "version_minor": 0
      },
      "text/plain": [
       "  0%|          | 0/4576 [00:00<?, ?it/s]"
      ]
     },
     "metadata": {},
     "output_type": "display_data"
    },
    {
     "ename": "KeyboardInterrupt",
     "evalue": "",
     "output_type": "error",
     "traceback": [
      "\u001b[0;31m---------------------------------------------------------------------------\u001b[0m",
      "\u001b[0;31mKeyboardInterrupt\u001b[0m                         Traceback (most recent call last)",
      "Cell \u001b[0;32mIn[35], line 1\u001b[0m\n\u001b[0;32m----> 1\u001b[0m \u001b[43mmy_renderer\u001b[49m\u001b[38;5;241;43m.\u001b[39;49m\u001b[43mgenerate_random_samples\u001b[49m\u001b[43m(\u001b[49m\u001b[38;5;28;43mlen\u001b[39;49m\u001b[43m(\u001b[49m\u001b[43mmy_renderer\u001b[49m\u001b[38;5;241;43m.\u001b[39;49m\u001b[43mOPL_dirs\u001b[49m\u001b[43m)\u001b[49m\u001b[43m,\u001b[49m\u001b[43m \u001b[49m\u001b[38;5;241;43m0\u001b[39;49m\u001b[43m,\u001b[49m\u001b[43m \u001b[49m\u001b[38;5;124;43mf\u001b[39;49m\u001b[38;5;124;43m\"\u001b[39;49m\u001b[38;5;124;43msimulated_colonies_normal/training_data_100x_0.515_green_1.49_1.518\u001b[39;49m\u001b[38;5;124;43m\"\u001b[39;49m\u001b[43m,\u001b[49m\u001b[43m \u001b[49m\u001b[43mn_jobs\u001b[49m\u001b[43m \u001b[49m\u001b[38;5;241;43m=\u001b[39;49m\u001b[43m \u001b[49m\u001b[38;5;241;43m1\u001b[39;49m\u001b[43m)\u001b[49m\n",
      "File \u001b[0;32m~/storage/Dropbox (Cambridge University)/projection_diffraction_frontiers_in_physics/microcolony_analysis_giant_lorentz/../SyMBac/SyMBac/colony_renderer.py:138\u001b[0m, in \u001b[0;36mColonyRenderer.generate_random_samples\u001b[0;34m(self, n, roll_prob, savedir, n_jobs)\u001b[0m\n\u001b[1;32m    136\u001b[0m zero_pads \u001b[38;5;241m=\u001b[39m np\u001b[38;5;241m.\u001b[39mceil(np\u001b[38;5;241m.\u001b[39mlog10(n))\u001b[38;5;241m.\u001b[39mastype(\u001b[38;5;28mint\u001b[39m)\n\u001b[1;32m    137\u001b[0m \u001b[38;5;28;01mfor\u001b[39;00m i \u001b[38;5;129;01min\u001b[39;00m tqdm(\u001b[38;5;28mrange\u001b[39m(n)):\n\u001b[0;32m--> 138\u001b[0m     sample \u001b[38;5;241m=\u001b[39m \u001b[38;5;28;43mself\u001b[39;49m\u001b[38;5;241;43m.\u001b[39;49m\u001b[43mrender_scene\u001b[49m\u001b[43m(\u001b[49m\u001b[43mi\u001b[49m\u001b[43m)\u001b[49m\n\u001b[1;32m    139\u001b[0m     mask \u001b[38;5;241m=\u001b[39m \u001b[38;5;28mself\u001b[39m\u001b[38;5;241m.\u001b[39mmask_loader(i)\n\u001b[1;32m    140\u001b[0m     rescaled_mask \u001b[38;5;241m=\u001b[39m  rescale(mask, \u001b[38;5;241m1\u001b[39m \u001b[38;5;241m/\u001b[39m \u001b[38;5;28mself\u001b[39m\u001b[38;5;241m.\u001b[39mresize_amount, anti_aliasing\u001b[38;5;241m=\u001b[39m\u001b[38;5;28;01mFalse\u001b[39;00m, order\u001b[38;5;241m=\u001b[39m\u001b[38;5;241m0\u001b[39m, preserve_range\u001b[38;5;241m=\u001b[39m\u001b[38;5;28;01mTrue\u001b[39;00m)\u001b[38;5;241m.\u001b[39mastype(np\u001b[38;5;241m.\u001b[39muint16)\n",
      "File \u001b[0;32m~/storage/Dropbox (Cambridge University)/projection_diffraction_frontiers_in_physics/microcolony_analysis_giant_lorentz/../SyMBac/SyMBac/colony_renderer.py:102\u001b[0m, in \u001b[0;36mColonyRenderer.render_scene\u001b[0;34m(self, idx)\u001b[0m\n\u001b[1;32m     99\u001b[0m         convolved \u001b[38;5;241m=\u001b[39m convolve_rescale(scene, kernel, \u001b[38;5;241m1\u001b[39m\u001b[38;5;241m/\u001b[39m\u001b[38;5;28mself\u001b[39m\u001b[38;5;241m.\u001b[39mresize_amount, rescale_int\u001b[38;5;241m=\u001b[39m\u001b[38;5;28;01mFalse\u001b[39;00m)\n\u001b[1;32m    100\u001b[0m     \u001b[38;5;28;01melse\u001b[39;00m:\n\u001b[1;32m    101\u001b[0m         convolved \u001b[38;5;241m=\u001b[39m np\u001b[38;5;241m.\u001b[39marray(\n\u001b[0;32m--> 102\u001b[0m             [convolve_rescale(scene_slice, PSF_slice\u001b[38;5;241m/\u001b[39mnp\u001b[38;5;241m.\u001b[39msum(PSF_slice), \u001b[38;5;241m1\u001b[39m\u001b[38;5;241m/\u001b[39m\u001b[38;5;28mself\u001b[39m\u001b[38;5;241m.\u001b[39mresize_amount, rescale_int\u001b[38;5;241m=\u001b[39m\u001b[38;5;28;01mFalse\u001b[39;00m) \u001b[38;5;28;01mfor\u001b[39;00m scene_slice, PSF_slice \u001b[38;5;129;01min\u001b[39;00m \u001b[38;5;28mzip\u001b[39m(scene, kernel)]\n\u001b[1;32m    103\u001b[0m         )\n\u001b[1;32m    104\u001b[0m \u001b[38;5;28;01melse\u001b[39;00m:\n\u001b[1;32m    105\u001b[0m     convolved \u001b[38;5;241m=\u001b[39m convolve_rescale(scene, kernel, \u001b[38;5;241m1\u001b[39m\u001b[38;5;241m/\u001b[39m\u001b[38;5;28mself\u001b[39m\u001b[38;5;241m.\u001b[39mresize_amount, rescale_int\u001b[38;5;241m=\u001b[39m\u001b[38;5;28;01mFalse\u001b[39;00m)\n",
      "File \u001b[0;32m~/storage/Dropbox (Cambridge University)/projection_diffraction_frontiers_in_physics/microcolony_analysis_giant_lorentz/../SyMBac/SyMBac/colony_renderer.py:102\u001b[0m, in \u001b[0;36m<listcomp>\u001b[0;34m(.0)\u001b[0m\n\u001b[1;32m     99\u001b[0m         convolved \u001b[38;5;241m=\u001b[39m convolve_rescale(scene, kernel, \u001b[38;5;241m1\u001b[39m\u001b[38;5;241m/\u001b[39m\u001b[38;5;28mself\u001b[39m\u001b[38;5;241m.\u001b[39mresize_amount, rescale_int\u001b[38;5;241m=\u001b[39m\u001b[38;5;28;01mFalse\u001b[39;00m)\n\u001b[1;32m    100\u001b[0m     \u001b[38;5;28;01melse\u001b[39;00m:\n\u001b[1;32m    101\u001b[0m         convolved \u001b[38;5;241m=\u001b[39m np\u001b[38;5;241m.\u001b[39marray(\n\u001b[0;32m--> 102\u001b[0m             [\u001b[43mconvolve_rescale\u001b[49m\u001b[43m(\u001b[49m\u001b[43mscene_slice\u001b[49m\u001b[43m,\u001b[49m\u001b[43m \u001b[49m\u001b[43mPSF_slice\u001b[49m\u001b[38;5;241;43m/\u001b[39;49m\u001b[43mnp\u001b[49m\u001b[38;5;241;43m.\u001b[39;49m\u001b[43msum\u001b[49m\u001b[43m(\u001b[49m\u001b[43mPSF_slice\u001b[49m\u001b[43m)\u001b[49m\u001b[43m,\u001b[49m\u001b[43m \u001b[49m\u001b[38;5;241;43m1\u001b[39;49m\u001b[38;5;241;43m/\u001b[39;49m\u001b[38;5;28;43mself\u001b[39;49m\u001b[38;5;241;43m.\u001b[39;49m\u001b[43mresize_amount\u001b[49m\u001b[43m,\u001b[49m\u001b[43m \u001b[49m\u001b[43mrescale_int\u001b[49m\u001b[38;5;241;43m=\u001b[39;49m\u001b[38;5;28;43;01mFalse\u001b[39;49;00m\u001b[43m)\u001b[49m \u001b[38;5;28;01mfor\u001b[39;00m scene_slice, PSF_slice \u001b[38;5;129;01min\u001b[39;00m \u001b[38;5;28mzip\u001b[39m(scene, kernel)]\n\u001b[1;32m    103\u001b[0m         )\n\u001b[1;32m    104\u001b[0m \u001b[38;5;28;01melse\u001b[39;00m:\n\u001b[1;32m    105\u001b[0m     convolved \u001b[38;5;241m=\u001b[39m convolve_rescale(scene, kernel, \u001b[38;5;241m1\u001b[39m\u001b[38;5;241m/\u001b[39m\u001b[38;5;28mself\u001b[39m\u001b[38;5;241m.\u001b[39mresize_amount, rescale_int\u001b[38;5;241m=\u001b[39m\u001b[38;5;28;01mFalse\u001b[39;00m)\n",
      "File \u001b[0;32m~/storage/Dropbox (Cambridge University)/projection_diffraction_frontiers_in_physics/microcolony_analysis_giant_lorentz/../SyMBac/SyMBac/renderer.py:93\u001b[0m, in \u001b[0;36mconvolve_rescale\u001b[0;34m(image, kernel, rescale_factor, rescale_int)\u001b[0m\n\u001b[1;32m     72\u001b[0m \u001b[38;5;250m\u001b[39m\u001b[38;5;124;03m\"\"\"\u001b[39;00m\n\u001b[1;32m     73\u001b[0m \u001b[38;5;124;03mConvolves an image with a kernel, and rescales it to the correct size.\u001b[39;00m\n\u001b[1;32m     74\u001b[0m \n\u001b[0;32m   (...)\u001b[0m\n\u001b[1;32m     89\u001b[0m \u001b[38;5;124;03m    The output of the convolution rescale operation\u001b[39;00m\n\u001b[1;32m     90\u001b[0m \u001b[38;5;124;03m\"\"\"\u001b[39;00m\n\u001b[1;32m     92\u001b[0m output \u001b[38;5;241m=\u001b[39m cuconvolve(cp\u001b[38;5;241m.\u001b[39marray(image), cp\u001b[38;5;241m.\u001b[39marray(kernel), mode\u001b[38;5;241m=\u001b[39m\u001b[38;5;124m\"\u001b[39m\u001b[38;5;124mconstant\u001b[39m\u001b[38;5;124m\"\u001b[39m)\n\u001b[0;32m---> 93\u001b[0m output \u001b[38;5;241m=\u001b[39m \u001b[43moutput\u001b[49m\u001b[38;5;241;43m.\u001b[39;49m\u001b[43mget\u001b[49m\u001b[43m(\u001b[49m\u001b[43m)\u001b[49m\n\u001b[1;32m     94\u001b[0m output \u001b[38;5;241m=\u001b[39m rescale(output, rescale_factor, anti_aliasing\u001b[38;5;241m=\u001b[39m\u001b[38;5;28;01mFalse\u001b[39;00m)\n\u001b[1;32m     96\u001b[0m \u001b[38;5;28;01mif\u001b[39;00m rescale_int:\n",
      "\u001b[0;31mKeyboardInterrupt\u001b[0m: "
     ]
    }
   ],
   "source": [
    "my_renderer.generate_random_samples(len(my_renderer.OPL_dirs), 0, f\"simulated_colonies_normal/training_data_100x_0.515_green_1.49_1.518\", n_jobs = 1)"
   ]
  },
  {
   "cell_type": "code",
   "execution_count": null,
   "id": "48f49e3f-a47a-44a5-8304-e806d88e5780",
   "metadata": {},
   "outputs": [],
   "source": []
  },
  {
   "cell_type": "code",
   "execution_count": null,
   "id": "be851203-2a74-47a1-9294-ef6a4a0de640",
   "metadata": {},
   "outputs": [],
   "source": []
  },
  {
   "cell_type": "code",
   "execution_count": null,
   "id": "2d7d6274-df2a-47c4-b576-1acd2a2bcd19",
   "metadata": {},
   "outputs": [],
   "source": []
  },
  {
   "cell_type": "code",
   "execution_count": null,
   "id": "523c8208-1778-4bce-af60-8eb9a4f75584",
   "metadata": {},
   "outputs": [],
   "source": [
    "convolve_rescale(a,b, rescale_factor = 1/2, rescale_int = False)"
   ]
  },
  {
   "cell_type": "code",
   "execution_count": null,
   "id": "42baa680-a29e-4dda-9025-d3e4f3c38900",
   "metadata": {},
   "outputs": [],
   "source": []
  }
 ],
 "metadata": {
  "kernelspec": {
   "display_name": "Python [conda env:symbac]",
   "language": "python",
   "name": "conda-env-symbac-py"
  },
  "language_info": {
   "codemirror_mode": {
    "name": "ipython",
    "version": 3
   },
   "file_extension": ".py",
   "mimetype": "text/x-python",
   "name": "python",
   "nbconvert_exporter": "python",
   "pygments_lexer": "ipython3",
   "version": "3.10.9"
  },
  "widgets": {
   "application/vnd.jupyter.widget-state+json": {
    "state": {},
    "version_major": 2,
    "version_minor": 0
   }
  }
 },
 "nbformat": 4,
 "nbformat_minor": 5
}
