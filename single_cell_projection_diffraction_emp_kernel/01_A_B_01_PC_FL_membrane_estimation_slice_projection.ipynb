{
 "cells": [
  {
   "cell_type": "code",
   "execution_count": 1,
   "id": "5f036cbd-3872-4eaa-8f8a-ab0bc496ba3e",
   "metadata": {
    "tags": []
   },
   "outputs": [],
   "source": [
    "%load_ext autoreload\n",
    "%autoreload 2"
   ]
  },
  {
   "cell_type": "code",
   "execution_count": 2,
   "id": "fae98f5c-72a5-4021-b860-5c45f5259e36",
   "metadata": {
    "tags": []
   },
   "outputs": [],
   "source": [
    "import sys\n",
    "sys.path.insert(1, '../SyMBac/') # Not needed if you installed SyMBac using pip\n",
    "\n",
    "import ray\n",
    "from SyMBac.drawing import OPL_to_FL\n",
    "from SyMBac.PSF import PSF_generator\n",
    "from SyMBac.renderer import convolve_rescale\n",
    "import matplotlib.pyplot as plt\n",
    "import numpy as np\n",
    "from tqdm.auto import tqdm\n",
    "from PIL import Image\n",
    "from skimage.util import img_as_uint\n",
    "import os\n",
    "from joblib import Parallel, delayed\n",
    "from glob import glob\n",
    "from SyMBac.colony_renderer import ColonyRenderer\n",
    "import noise\n",
    "from skimage.filters import threshold_otsu\n",
    "from skimage.transform import rescale, resize, downscale_local_mean\n",
    "from scipy.signal import find_peaks\n",
    "import pandas as pd\n",
    "import tifffile"
   ]
  },
  {
   "cell_type": "code",
   "execution_count": 3,
   "id": "4d0200b4-70b5-4b48-8cc6-963b0b3446c1",
   "metadata": {
    "tags": []
   },
   "outputs": [],
   "source": [
    "from numba import njit"
   ]
  },
  {
   "cell_type": "code",
   "execution_count": 4,
   "id": "d9b56beb-4ed1-461a-87fc-571693b3c80e",
   "metadata": {},
   "outputs": [],
   "source": [
    "pix_mic_conv = 0.065 / 5\n"
   ]
  },
  {
   "cell_type": "code",
   "execution_count": 122,
   "id": "c4ff638a-fb2a-4972-944f-43b5ced4718a",
   "metadata": {},
   "outputs": [
    {
     "name": "stdout",
     "output_type": "stream",
     "text": [
      "done\n",
      "(273, 810, 810)\n",
      "done\n",
      "done\n"
     ]
    }
   ],
   "source": [
    "PSF_475nm = tifffile.imread(\"../PSF_comparison/average_100x_PSF_postmag_475nm.tif\")[85:-85]\n",
    "PSF_515nm = tifffile.imread(\"../PSF_comparison/average_100x_PSF_postmag_515nm.tif\")[85:-85]\n",
    "PSF_595nm = tifffile.imread(\"../PSF_comparison/average_100x_PSF_postmag_595nm.tif\")[85:-85]\n",
    "\n",
    "PSF_475nm = rescale(PSF_475nm, (0.05/pix_mic_conv, (0.0655/1.5) / pix_mic_conv, (0.0655/1.5) / pix_mic_conv), anti_aliasing=True)\n",
    "print(\"done\")\n",
    "print(PSF_475nm.shape)\n",
    "PSF_515nm = rescale(PSF_515nm, (0.05/pix_mic_conv, (0.0655/1.5) / pix_mic_conv, (0.0655/1.5) / pix_mic_conv), anti_aliasing=True)\n",
    "print(\"done\")\n",
    "PSF_595nm = rescale(PSF_595nm, (0.05/pix_mic_conv, (0.0655/1.5) / pix_mic_conv, (0.0655/1.5) / pix_mic_conv), anti_aliasing=True)\n",
    "print(\"done\")"
   ]
  },
  {
   "cell_type": "code",
   "execution_count": 124,
   "id": "e4815707-fe9e-4ec8-96b1-447917e2be96",
   "metadata": {},
   "outputs": [
    {
     "data": {
      "text/plain": [
       "238.46153846153845"
      ]
     },
     "execution_count": 124,
     "metadata": {},
     "output_type": "execute_result"
    }
   ],
   "source": [
    "3.1/pix_mic_conv"
   ]
  },
  {
   "cell_type": "code",
   "execution_count": 195,
   "id": "24261ce5-b439-4ed4-94f8-33a2eb44dc50",
   "metadata": {},
   "outputs": [],
   "source": [
    "def rescale_PSF_intensity(PSF):\n",
    "    post_conv_layer_scaling = PSF.sum(axis=(1,2))\n",
    "    psf_3D_conv_rescaled = []\n",
    "    for i in PSF:\n",
    "#        j = i / i.sum()\n",
    "        j = i - i.min()\n",
    "        j = j / j.sum()\n",
    "        psf_3D_conv_rescaled.append(j)\n",
    "    psf_3D_conv_rescaled = np.array(psf_3D_conv_rescaled)\n",
    "    return psf_3D_conv_rescaled"
   ]
  },
  {
   "cell_type": "code",
   "execution_count": 196,
   "id": "0ad1ab9d-ddb9-4be5-86df-8ab00cb29894",
   "metadata": {},
   "outputs": [],
   "source": [
    "PSFs = {\n",
    "    0.475: rescale_PSF_intensity(PSF_475nm),\n",
    "    0.515: rescale_PSF_intensity(PSF_515nm),\n",
    "    0.595: rescale_PSF_intensity(PSF_595nm),\n",
    "    0: np.array([[0,0,0],[0,1,0],[0,0,0]])\n",
    "       }"
   ]
  },
  {
   "cell_type": "code",
   "execution_count": 198,
   "id": "1ec2be6e-4842-40ee-b34b-237a9cfaf33d",
   "metadata": {},
   "outputs": [
    {
     "data": {
      "text/plain": [
       "<matplotlib.legend.Legend at 0x7fea66921ae0>"
      ]
     },
     "execution_count": 198,
     "metadata": {},
     "output_type": "execute_result"
    },
    {
     "data": {
      "image/png": "[encoded data removed]",
      "text/plain": [
       "<Figure size 640x480 with 1 Axes>"
      ]
     },
     "metadata": {},
     "output_type": "display_data"
    }
   ],
   "source": [
    "idx = 136\n",
    "plt.plot(PSFs[0.475][idx][810//2,]/PSFs[0.475][idx][810//2,].max(), label = 475)\n",
    "#plt.plot(PSFs[0.515][136][810//2,]/PSFs[0.515][136][810//2,].max(), label = 515)\n",
    "plt.plot(PSFs[0.595][136][810//2,]/PSFs[0.595][136][810//2,].max(), label = 595)\n",
    "plt.legend()"
   ]
  },
  {
   "cell_type": "code",
   "execution_count": 199,
   "id": "34b473b2-5486-49ab-92d0-636737f70109",
   "metadata": {},
   "outputs": [
    {
     "ename": "NameError",
     "evalue": "name 'lorentz_psf_3D_conv' is not defined",
     "output_type": "error",
     "traceback": [
      "\u001b[0;31m---------------------------------------------------------------------------\u001b[0m",
      "\u001b[0;31mNameError\u001b[0m                                 Traceback (most recent call last)",
      "Cell \u001b[0;32mIn[199], line 1\u001b[0m\n\u001b[0;32m----> 1\u001b[0m post_conv_layer_scaling \u001b[38;5;241m=\u001b[39m \u001b[43mlorentz_psf_3D_conv\u001b[49m\u001b[38;5;241m.\u001b[39msum(axis\u001b[38;5;241m=\u001b[39m(\u001b[38;5;241m1\u001b[39m,\u001b[38;5;241m2\u001b[39m))\n\u001b[1;32m      2\u001b[0m lorentz_psf_3D_conv_rescaled \u001b[38;5;241m=\u001b[39m []\n\u001b[1;32m      3\u001b[0m \u001b[38;5;28;01mfor\u001b[39;00m i \u001b[38;5;129;01min\u001b[39;00m lorentz_psf_3D_conv:\n",
      "\u001b[0;31mNameError\u001b[0m: name 'lorentz_psf_3D_conv' is not defined"
     ]
    }
   ],
   "source": [
    "post_conv_layer_scaling = lorentz_psf_3D_conv.sum(axis=(1,2))\n",
    "lorentz_psf_3D_conv_rescaled = []\n",
    "for i in lorentz_psf_3D_conv:\n",
    "    j = i - i.min()\n",
    "    j = i / i.sum()\n",
    "    lorentz_psf_3D_conv_rescaled.append(j)\n",
    "lorentz_psf_3D_conv_rescaled = np.array(lorentz_psf_3D_conv_rescaled)"
   ]
  },
  {
   "cell_type": "code",
   "execution_count": 200,
   "id": "6f768335-3697-40d2-ad4c-f642c3ae9949",
   "metadata": {
    "tags": []
   },
   "outputs": [],
   "source": [
    "def raster_cell(length, width, separation = 0, additional_width = 0, pinching=True):\n",
    "    \"\"\"\n",
    "    Produces a rasterised image of a cell with the intensiity of each pixel corresponding to the optical path length\n",
    "    (thickness) of the cell at that point.\n",
    "\n",
    "    :param int length: Cell length in pixels\n",
    "    :param int width: Cell width in pixels\n",
    "    :param int separation: An int between (0, `width`) controlling how much pinching is happening.\n",
    "    :param bool pinching: Controls whether pinching is happening\n",
    "\n",
    "    Returns\n",
    "    -------\n",
    "\n",
    "    cell : np.array\n",
    "       A numpy array which contains an OPL image of the cell. Can be converted to a mask by just taking ``cell > 0``.\n",
    "\n",
    "    \"\"\"\n",
    "\n",
    "    L = int(np.rint(length))\n",
    "    W = int(np.rint(width))\n",
    "    new_cell = np.zeros((L, W))\n",
    "    R = (W - 1) / 2\n",
    "\n",
    "    x_cyl = np.arange(0, 2 * R + 1, 1)\n",
    "    I_cyl = np.sqrt(R ** 2 - (x_cyl - R) ** 2)\n",
    "    L_cyl = L - W\n",
    "    new_cell[int(W / 2):-int(W / 2), :] = I_cyl\n",
    "\n",
    "    x_sphere = np.arange(0, int(W / 2), 1)\n",
    "    sphere_Rs = np.sqrt((R) ** 2 - (x_sphere - R) ** 2)\n",
    "    sphere_Rs = np.rint(sphere_Rs).astype(int)\n",
    "\n",
    "    for c in range(len(sphere_Rs)):\n",
    "        R_ = sphere_Rs[c]\n",
    "        x_cyl = np.arange(0, R_, 1)\n",
    "        I_cyl = np.sqrt(R_ ** 2 - (x_cyl - R_) ** 2)\n",
    "        new_cell[c, int(W / 2) - sphere_Rs[c]:int(W / 2) + sphere_Rs[c]] = np.concatenate((I_cyl, I_cyl[::-1]))\n",
    "        new_cell[L - c - 1, int(W / 2) - sphere_Rs[c]:int(W / 2) + sphere_Rs[c]] = np.concatenate((I_cyl, I_cyl[::-1]))\n",
    "\n",
    "    if separation > 2 and pinching:\n",
    "        S = int(np.rint(separation))\n",
    "        new_cell[int((L - S) / 2) + 1:-int((L - S) / 2) - 1, :] = 0\n",
    "        for c in range(int((S+1) / 2)):\n",
    "            R__ = sphere_Rs[-c - 1]\n",
    "            x_cyl_ = np.arange(0, R__, 1)\n",
    "            I_cyl_ = np.sqrt(R__ ** 2 - (x_cyl_ - R__) ** 2)\n",
    "            new_cell[int((L-S) / 2) + c + 1, int(W / 2) - R__:int(W / 2) + R__] = np.concatenate((I_cyl_, I_cyl_[::-1]))\n",
    "            new_cell[-int((L-S) / 2) - c - 1, int(W / 2) - R__:int(W / 2) + R__] = np.concatenate((I_cyl_, I_cyl_[::-1]))\n",
    "    new_cell = new_cell.astype(int)\n",
    "            \n",
    "    \n",
    "    if additional_width>=1:\n",
    "        additional_width = int(additional_width)\n",
    "        wide_cell = np.zeros((new_cell.shape[0], int(new_cell.shape[1] + additional_width)))\n",
    "        wide_cell[:,:new_cell.shape[1]//2] = new_cell[:,:new_cell.shape[1]//2]\n",
    "        wide_cell[:,new_cell.shape[1]//2 + additional_width:] = new_cell[:,new_cell.shape[1]//2:]\n",
    "        wide_cell[:,new_cell.shape[1]//2:new_cell.shape[1]//2 + additional_width] = np.repeat(new_cell[:,new_cell.shape[1]//2].reshape(-1,1), additional_width, axis=1)\n",
    "        return wide_cell\n",
    "    \n",
    "    if additional_width<=1:\n",
    "        new_cell[np.where(new_cell)] += int(abs(additional_width))\n",
    "    \n",
    "    return new_cell"
   ]
  },
  {
   "cell_type": "code",
   "execution_count": 201,
   "id": "bd534d78-2011-406c-b7ea-8b0e08098eae",
   "metadata": {
    "tags": []
   },
   "outputs": [],
   "source": [
    "@njit\n",
    "def generate_deviation_from_CL(centreline, thickness):\n",
    "    return np.arange(thickness) + centreline - int(np.ceil(thickness ))\n",
    "\n",
    "@njit\n",
    "def gen_3D_coords_from_2D(test_cells, centreline, thickness):\n",
    "    return np.where(test_cells == thickness) + (generate_deviation_from_CL(centreline, thickness),)\n",
    "\n",
    "@njit\n",
    "def convert_to_3D_numba(cell):\n",
    "    expanded_scene = cell\n",
    "    volume_shape = expanded_scene.shape[0:] + (int(expanded_scene.max()*2),)\n",
    "    test_cells = rounder(expanded_scene)\n",
    "    centreline = int(expanded_scene.max() )\n",
    "    cells_3D = np.zeros(volume_shape,dtype = np.ubyte)\n",
    "    for t in range(int(expanded_scene.max() *2 )):\n",
    "        test_coords = gen_3D_coords_from_2D(test_cells, centreline, t)\n",
    "        for x, y in zip(test_coords[0], (test_coords[1])):\n",
    "            for z in test_coords[2]:\n",
    "                cells_3D[x, y, z] = 1\n",
    "    return cells_3D\n",
    "\n",
    "def convert_to_3D(cell):\n",
    "    cells_3D = convert_to_3D_numba(cell)\n",
    "    cells_3D = np.moveaxis(cells_3D, -1, 0)\n",
    "    cells_3D[cells_3D.shape[0]//2:,:, :] = cells_3D[:cells_3D.shape[0]//2,:, :][::-1]\n",
    "    return cells_3D\n",
    "    #cells_3D = np.pad(cells_3D, ((100,100), (50,50), (50,50)))\n",
    "#cells_3D.shape"
   ]
  },
  {
   "cell_type": "code",
   "execution_count": 202,
   "id": "620bdd67-e39b-4a6a-8fb2-4ad5a0c5d33f",
   "metadata": {
    "tags": []
   },
   "outputs": [],
   "source": [
    "@njit\n",
    "def rounder(x):\n",
    "    out = np.empty_like(x)\n",
    "    np.round(x, 0, out)\n",
    "    return out"
   ]
  },
  {
   "cell_type": "code",
   "execution_count": 203,
   "id": "f5620a83-0cd5-4556-b3d0-e301ec991bc8",
   "metadata": {
    "tags": []
   },
   "outputs": [],
   "source": [
    "additional_width = 0\n",
    "raster_additional_width = 0"
   ]
  },
  {
   "cell_type": "code",
   "execution_count": 204,
   "id": "a1adfe0c-a998-48a1-b711-88be9231c55a",
   "metadata": {
    "tags": []
   },
   "outputs": [],
   "source": [
    "def raster_membrane_cell_3d(raster_cell_length, raster_cell_width, raster_slice_amount = False):\n",
    "\n",
    "\n",
    "    membrane_thickness = 0.075 #micron\n",
    "    raster_membrane_thickness = membrane_thickness/pix_mic_conv * resize_amount\n",
    "    cell_1 = raster_cell(length=round(raster_cell_length/2)*2, width=round(raster_cell_width/2)*2, separation=0)\n",
    "    cell_2 = raster_cell(length=round((raster_cell_length - raster_membrane_thickness)/2)*2, width=round((raster_cell_width - raster_membrane_thickness)/2)*2, separation=0)\n",
    "\n",
    "    cell_1_3d = convert_to_3D(cell_1)\n",
    "    cell_2_3d = convert_to_3D(cell_2)\n",
    "\n",
    "    \n",
    "    pad_1 = int((cell_1_3d.shape[0] - cell_2_3d.shape[0])/2)\n",
    "    pad_2 = int((cell_1_3d.shape[1] - cell_2_3d.shape[1])/2)\n",
    "    pad_3 = int((cell_1_3d.shape[2] - cell_2_3d.shape[2])/2)\n",
    "\n",
    "    cell_2_3d = np.pad(cell_2_3d, ((pad_1,pad_1), (pad_2, pad_2), (pad_3, pad_3)))\n",
    "    \n",
    "    cell_3d = cell_1_3d - cell_2_3d\n",
    "    \n",
    "    if raster_slice_amount:\n",
    "        \n",
    "        cell_3d = cell_3d[int(raster_slice_amount//2):-int(raster_slice_amount//2),:,:]\n",
    "    \n",
    "    return cell_3d"
   ]
  },
  {
   "cell_type": "code",
   "execution_count": 205,
   "id": "ba682ff8-63b8-4202-89a5-8ac422c52bd7",
   "metadata": {
    "tags": []
   },
   "outputs": [],
   "source": [
    "def raster_cell_3d(raster_cell_length, raster_cell_width, raster_slice_amount):\n",
    "\n",
    "    cell_1 = raster_cell(length=round(raster_cell_length/2)*2, width=round(raster_cell_width/2)*2, additional_width=raster_additional_width)\n",
    "\n",
    "    cell_1_3d = convert_to_3D(cell_1)\n",
    "    \n",
    "    cell_3d = cell_1_3d \n",
    "    \n",
    "    if raster_slice_amount:\n",
    "        \n",
    "        cell_3d = cell_3d[int(raster_slice_amount//2):-int(raster_slice_amount//2),:,:]\n",
    "    \n",
    "    return cell_3d"
   ]
  },
  {
   "cell_type": "code",
   "execution_count": 206,
   "id": "256e092d-0fa2-4d71-851d-34def1b34672",
   "metadata": {
    "tags": []
   },
   "outputs": [],
   "source": [
    "\n",
    "def generate_FL_cell(cell_length, cell_width , slice_amount, pad_amount, ID):\n",
    "    \n",
    "    raster_cell_length = cell_length/pix_mic_conv * resize_amount\n",
    "    raster_cell_width = cell_width/pix_mic_conv * resize_amount\n",
    "    raster_additional_width = additional_width/pix_mic_conv * resize_amount\n",
    "    raster_slice_amount = slice_amount/pix_mic_conv * resize_amount\n",
    "    \n",
    "    \n",
    "    cell = raster_cell_3d(raster_cell_length,raster_cell_width, raster_slice_amount)\n",
    "    name_depth, name_length, name_width = cell.shape\n",
    "\n",
    "    cell = cell.mean(axis=0)\n",
    "\n",
    "\n",
    "    FL_cell = np.pad(cell,pad_amount).astype(np.float32) \n",
    "    \n",
    "    FL_cells = []\n",
    "    for wavelength in wavelengths:\n",
    "        raster_cell_length = cell_length/pix_mic_conv * resize_amount\n",
    "        raster_cell_width = cell_width/pix_mic_conv * resize_amount\n",
    "        raster_additional_width = additional_width/pix_mic_conv * resize_amount\n",
    "        raster_slice_amount = slice_amount/pix_mic_conv * resize_amount\n",
    "        cell_3d = raster_cell_3d(raster_cell_length,raster_cell_width, raster_slice_amount)\n",
    "        cell = cell_3d.mean(axis=0)\n",
    "\n",
    "        name_depth, name_length, name_width = cell_3d.shape\n",
    "        \n",
    "        FL_cell = np.pad(cell,pad_amount).astype(np.float32)   \n",
    "        \n",
    "        if wavelength:\n",
    "            FL_PSF = PSFs[wavelength]\n",
    "            FL_cell_conv = convolve_rescale(image=FL_cell, kernel=FL_PSF.kernel, rescale_factor=1/resize_amount, rescale_int = False)\n",
    "\n",
    "        else:\n",
    "            FL_cell_conv = convolve_rescale(image=FL_cell, kernel=zero_wavelength_PSF, rescale_factor=1/resize_amount, rescale_int = False)\n",
    "        np.save(f\"A_B_single_cells_slice_projection_short_cells//{ID}_FL_{name_length}_{name_width}_{name_depth}_{raster_additional_width}_{wavelength}.npy\", FL_cell_conv)\n",
    "\n",
    "\n",
    "    \n",
    "def generate_membrane_cell(cell_length, cell_width, slice_amount, pad_amount, ID, return_array = False):\n",
    "    \n",
    "    raster_cell_length = cell_length/pix_mic_conv * resize_amount\n",
    "    raster_cell_width = cell_width/pix_mic_conv * resize_amount\n",
    "    raster_slice_amount = slice_amount/pix_mic_conv * resize_amount\n",
    "\n",
    "    membrane_cell = raster_membrane_cell_3d(raster_cell_length, raster_cell_width, raster_slice_amount)\n",
    "\n",
    "    name_depth, name_length, name_width = membrane_cell.shape\n",
    "\n",
    "    membrane_cell = membrane_cell.mean(axis=0)\n",
    "\n",
    "    membrane_cell = np.pad(membrane_cell,pad_amount).astype(np.float32) \n",
    "    \n",
    "    \n",
    "    \n",
    "    \n",
    "    #for wavelength in wavelengths:\n",
    "    def parallel_render(wavelength):\n",
    "        \n",
    "        if wavelength:\n",
    "            FL_PSF = PSF_generator(\n",
    "                    radius = radius,\n",
    "                    wavelength = wavelength,\n",
    "                    NA = NA,\n",
    "                    n = n,\n",
    "                    resize_amount = resize_amount,\n",
    "                    pix_mic_conv = pix_mic_conv,\n",
    "                    apo_sigma = apo_sigma,\n",
    "                    mode=\"3d fluo\",\n",
    "                    condenser = \"Ph3\",\n",
    "                    z_height = int(round(raster_cell_width)),\n",
    "                    pz = 0.5,\n",
    "                    working_distance = 170\n",
    "                )\n",
    "            FL_PSF.calculate_PSF()\n",
    "            FL_PSF.kernel = np.sum(FL_PSF.kernel, axis=0)\n",
    "            membrane_cell_conv = convolve_rescale(image=membrane_cell, kernel=FL_PSF.kernel, rescale_factor=1/resize_amount, rescale_int = False)\n",
    "        else:\n",
    "\n",
    "            membrane_cell = membrane_cell.mean(axis=0)\n",
    "        \n",
    "            membrane_cell = np.pad(membrane_cell,pad_amount).astype(np.float32) \n",
    "            membrane_cell_conv = convolve_rescale(image=membrane_cell, kernel=zero_wavelength_PSF, rescale_factor=1/resize_amount, rescale_int = False)\n",
    "        if return_array:\n",
    "            return membrane_cell_conv\n",
    "\n",
    "            \n",
    "        np.save(f\"A_B_single_cells_slice_projection_short_cells/{ID}_membrane_{name_length}_{name_width}_{name_depth}_{raster_additional_width}_{wavelength}.npy\", membrane_cell_conv)\n",
    "    _ = Parallel(n_jobs=1)(delayed(parallel_render)(wavelength) for wavelength in wavelengths)    \n",
    "    \n",
    "def generate_binary_cell(cell_length, cell_width, slice_amount, pad_amount, ID):\n",
    "    raster_cell_length = cell_length/pix_mic_conv * resize_amount\n",
    "    raster_cell_width = cell_width/pix_mic_conv * resize_amount\n",
    "    raster_additional_width = additional_width/pix_mic_conv * resize_amount\n",
    "    raster_slice_amount = slice_amount/pix_mic_conv * resize_amount\n",
    "    cell_3d = raster_cell_3d(raster_cell_length,raster_cell_width, raster_slice_amount)\n",
    "    cell = cell_3d.mean(axis=0)\n",
    "    binary_image = np.pad(cell, pad_amount) > 0\n",
    "    binary_image = rescale(binary_image, 1/resize_amount, anti_aliasing=False) > 0\n",
    "    \n",
    "    \n",
    "    raster_depth, raster_cell_length, raster_cell_width = cell_3d.shape\n",
    "        \n",
    "    Image.fromarray(img_as_uint(binary_image)).save(f\"A_B_single_cells_slice_projection_short_cells/{ID}_binary_{raster_cell_length}_{raster_cell_width}_{raster_depth}_{raster_additional_width}_0.6.png\")\n",
    "    \n",
    "    #return binary_image"
   ]
  },
  {
   "cell_type": "code",
   "execution_count": 207,
   "id": "22dd5041-e745-401c-b139-809404d7e133",
   "metadata": {
    "tags": []
   },
   "outputs": [],
   "source": [
    "wavelengths = [0, 0.476, 0.515, 0.595, 0.7]\n",
    "\n",
    "pad_amount = 100\n",
    "\n",
    "radius = 200\n",
    "NA = 1.45\n",
    "n = 1.518\n",
    "resize_amount = 1\n",
    "apo_sigma = 11"
   ]
  },
  {
   "cell_type": "code",
   "execution_count": 208,
   "id": "76644b3f-34f0-4438-a4f6-f71a1477e4f9",
   "metadata": {},
   "outputs": [
    {
     "data": {
      "text/plain": [
       "<matplotlib.image.AxesImage at 0x7fea669a5ab0>"
      ]
     },
     "execution_count": 208,
     "metadata": {},
     "output_type": "execute_result"
    },
    {
     "data": {
      "image/png": "[encoded data removed]",
      "text/plain": [
       "<Figure size 640x480 with 1 Axes>"
      ]
     },
     "metadata": {},
     "output_type": "display_data"
    }
   ],
   "source": [
    "a = raster_membrane_cell_3d(4/pix_mic_conv,3/pix_mic_conv,0)\n",
    "a = np.pad(a,((0,0),(pad_amount,pad_amount),(pad_amount,pad_amount)))\n",
    "plt.imshow(a.sum(axis=0))"
   ]
  },
  {
   "cell_type": "code",
   "execution_count": 209,
   "id": "cbb6fb52-8aa8-4e9c-861f-7b6d63794a4c",
   "metadata": {},
   "outputs": [
    {
     "data": {
      "text/plain": [
       "(198, 800, 400)"
      ]
     },
     "execution_count": 209,
     "metadata": {},
     "output_type": "execute_result"
    },
    {
     "data": {
      "image/png": "[encoded data removed]",
      "text/plain": [
       "<Figure size 640x480 with 1 Axes>"
      ]
     },
     "metadata": {},
     "output_type": "display_data"
    }
   ],
   "source": [
    "a = raster_cell_3d(600,200,0)\n",
    "a = np.pad(a,((0,0),(pad_amount,pad_amount),(pad_amount,pad_amount)))\n",
    "plt.imshow(a.sum(axis=0))\n",
    "a.shape"
   ]
  },
  {
   "cell_type": "code",
   "execution_count": 210,
   "id": "fcdfa264-b2e4-4a0a-8981-0c4668857cd3",
   "metadata": {},
   "outputs": [
    {
     "data": {
      "text/plain": [
       "136"
      ]
     },
     "execution_count": 210,
     "metadata": {},
     "output_type": "execute_result"
    }
   ],
   "source": [
    "PSF_centre = PSFs[0.595].shape[0]//2\n",
    "PSF_centre"
   ]
  },
  {
   "cell_type": "code",
   "execution_count": 211,
   "id": "ce551615-6250-4ae5-bef3-5dac2dd050c0",
   "metadata": {},
   "outputs": [],
   "source": [
    "cell_centre = a.shape[0]//2"
   ]
  },
  {
   "cell_type": "code",
   "execution_count": 212,
   "id": "fe91e3a4-3744-460e-8d69-e2a8ebd2820f",
   "metadata": {},
   "outputs": [],
   "source": [
    "cell_conv_idxs = np.arange(a.shape[0])\n",
    "PSF_conv_idxs = np.arange(PSF_centre-cell_centre,PSF_centre+cell_centre)"
   ]
  },
  {
   "cell_type": "code",
   "execution_count": 213,
   "id": "3ff56373-58b3-408a-bee4-7fc2562014d6",
   "metadata": {},
   "outputs": [],
   "source": []
  },
  {
   "cell_type": "code",
   "execution_count": 214,
   "id": "265ad81d-61aa-486f-a550-98b6bb5b6a36",
   "metadata": {},
   "outputs": [
    {
     "data": {
      "application/vnd.jupyter.widget-view+json": {
       "model_id": "6ef36765a2104086b0afb5c20ce0d6fa",
       "version_major": 2,
       "version_minor": 0
      },
      "text/plain": [
       "  0%|          | 0/198 [00:00<?, ?it/s]"
      ]
     },
     "metadata": {},
     "output_type": "display_data"
    }
   ],
   "source": [
    "convs = np.array(Parallel(n_jobs=-1)(delayed(convolve_rescale)(a[cell_conv_idx].astype(float), PSFs[0.595][PSF_conv_idx], 1, False) for cell_conv_idx, PSF_conv_idx in zip(cell_conv_idxs, tqdm(PSF_conv_idxs))))"
   ]
  },
  {
   "cell_type": "code",
   "execution_count": 218,
   "id": "67a04836-4d22-4fe4-8cce-1433c5a9caec",
   "metadata": {},
   "outputs": [],
   "source": [
    "post_conv_layer_scaling = PSFs[0.595].sum(axis=(1,2))\n",
    "conv_3D_rescale = np.array([x*y for x, y in zip(convs, post_conv_layer_scaling)])\n",
    "conv_rescale_2d = conv_3D_rescale.sum(axis=0)"
   ]
  },
  {
   "cell_type": "code",
   "execution_count": 219,
   "id": "cd3ac622-07ae-4fb8-b64d-eac84a391f59",
   "metadata": {},
   "outputs": [
    {
     "data": {
      "text/plain": [
       "<matplotlib.image.AxesImage at 0x7fe79d39a7a0>"
      ]
     },
     "execution_count": 219,
     "metadata": {},
     "output_type": "execute_result"
    },
    {
     "data": {
      "image/png": "[encoded data removed]",
      "text/plain": [
       "<Figure size 640x480 with 1 Axes>"
      ]
     },
     "metadata": {},
     "output_type": "display_data"
    }
   ],
   "source": [
    "plt.imshow(conv_rescale_2d)"
   ]
  },
  {
   "cell_type": "code",
   "execution_count": 41,
   "id": "2b434eff-c0d8-4deb-a662-ab4166a1f1be",
   "metadata": {
    "tags": []
   },
   "outputs": [
    {
     "name": "stdout",
     "output_type": "stream",
     "text": [
      "574\n"
     ]
    }
   ],
   "source": [
    "cell_length = (3,)\n",
    "grid_size = 30\n",
    "max_width = 3.1\n",
    "cell_width = np.linspace(0.5, max_width, grid_size)\n",
    "slice_amounts = np.arange(0, 3, np.diff(cell_width)[0]).tolist() \n",
    "slice_amounts = slice_amounts + [0]\n",
    "tolerance = 0.1\n",
    "param_space = []\n",
    "widths = []\n",
    "ID = 0\n",
    "for length in cell_length:\n",
    "    for width in cell_width:\n",
    "        if length >= width:\n",
    "            for slice_amount in slice_amounts:\n",
    "                if slice_amount < width:\n",
    "                    param_space.append([length, width, slice_amount, ID])\n",
    "                    ID += 1\n",
    "#param_space = param_space[:16]\n",
    "print(len(param_space))\n"
   ]
  },
  {
   "cell_type": "code",
   "execution_count": 47,
   "id": "1ced1a63-3606-46f5-b8b4-d21779875edc",
   "metadata": {
    "tags": []
   },
   "outputs": [],
   "source": [
    "try:\n",
    "    os.mkdir(\"A_B_single_cells_slice_projection_short_cells/\")\n",
    "except:\n",
    "    pass"
   ]
  },
  {
   "cell_type": "code",
   "execution_count": 21,
   "id": "50402657-3448-4dc2-a828-9e0be82a86fb",
   "metadata": {
    "tags": []
   },
   "outputs": [
    {
     "data": {
      "application/vnd.jupyter.widget-view+json": {
       "model_id": "5e3e6f2a9b05421fbe1f21eee36ab933",
       "version_major": 2,
       "version_minor": 0
      },
      "text/plain": [
       "  0%|          | 0/574 [00:00<?, ?it/s]"
      ]
     },
     "metadata": {},
     "output_type": "display_data"
    }
   ],
   "source": [
    "_ = Parallel(n_jobs=-1)(delayed(generate_binary_cell)(length, width, slice_amount,  pad_amount, ID) for length, width, slice_amount, ID in tqdm(param_space))"
   ]
  },
  {
   "cell_type": "code",
   "execution_count": 22,
   "id": "4366e2a4-4d58-4012-8aab-645d37d02912",
   "metadata": {
    "tags": []
   },
   "outputs": [
    {
     "data": {
      "application/vnd.jupyter.widget-view+json": {
       "model_id": "454a4bf892524a5ca13611a73f757d44",
       "version_major": 2,
       "version_minor": 0
      },
      "text/plain": [
       "  0%|          | 0/574 [00:00<?, ?it/s]"
      ]
     },
     "metadata": {},
     "output_type": "display_data"
    },
    {
     "name": "stderr",
     "output_type": "stream",
     "text": [
      "/home/gh464/miniconda3/envs/symbac/lib/python3.10/site-packages/joblib/externals/loky/process_executor.py:700: UserWarning: A worker stopped while some jobs were given to the executor. This can be caused by a too short worker timeout or by a memory leak.\n",
      "  warnings.warn(\n"
     ]
    }
   ],
   "source": [
    "_ = Parallel(n_jobs=-1)(delayed(generate_membrane_cell)(length, width, additional_width,  pad_amount, ID) for length, width, additional_width, ID in tqdm(param_space))"
   ]
  },
  {
   "cell_type": "code",
   "execution_count": 23,
   "id": "f1d845a8-4640-43bb-9aa3-e010cc3a4085",
   "metadata": {
    "tags": []
   },
   "outputs": [
    {
     "data": {
      "application/vnd.jupyter.widget-view+json": {
       "model_id": "83f9dbb8f44e41c4ac2aec6c0697e84d",
       "version_major": 2,
       "version_minor": 0
      },
      "text/plain": [
       "  0%|          | 0/574 [00:00<?, ?it/s]"
      ]
     },
     "metadata": {},
     "output_type": "display_data"
    }
   ],
   "source": [
    "timeout = 999999999\n",
    "_ = Parallel(n_jobs=-1, timeout = timeout)(delayed(generate_FL_cell)(length, width, additional_width,  pad_amount, ID) for length, width, additional_width, ID in tqdm(param_space))"
   ]
  },
  {
   "cell_type": "code",
   "execution_count": 25,
   "id": "fe1c4bf1-ef69-4d98-ac37-36bb482c4ea9",
   "metadata": {
    "tags": []
   },
   "outputs": [],
   "source": [
    "idx = np.array((sorted([int(x.split(\"/\")[-1].split(\"_\")[0]) for x in glob(\"A_B_single_cells_slice_projection/*FL*\")])))"
   ]
  },
  {
   "cell_type": "code",
   "execution_count": 133,
   "id": "117f98b8-1dc9-40ce-abb2-f031484540e2",
   "metadata": {
    "collapsed": true,
    "jupyter": {
     "outputs_hidden": true
    },
    "tags": []
   },
   "outputs": [
    {
     "name": "stdout",
     "output_type": "stream",
     "text": [
      "2\n",
      "3\n",
      "4\n",
      "5\n",
      "7\n",
      "8\n",
      "9\n",
      "10\n",
      "11\n",
      "13\n",
      "14\n",
      "15\n",
      "16\n",
      "17\n",
      "19\n",
      "20\n",
      "21\n",
      "22\n",
      "23\n",
      "25\n",
      "26\n",
      "27\n",
      "28\n",
      "29\n",
      "31\n",
      "32\n",
      "33\n",
      "34\n",
      "35\n",
      "37\n",
      "38\n",
      "39\n",
      "40\n",
      "41\n",
      "43\n",
      "44\n",
      "45\n",
      "46\n",
      "47\n",
      "49\n",
      "50\n",
      "51\n",
      "52\n",
      "53\n",
      "55\n",
      "56\n",
      "57\n",
      "58\n",
      "59\n",
      "61\n",
      "62\n",
      "63\n",
      "65\n",
      "66\n",
      "68\n",
      "70\n",
      "71\n",
      "73\n",
      "74\n",
      "75\n",
      "76\n",
      "77\n",
      "79\n",
      "80\n",
      "81\n",
      "82\n",
      "83\n",
      "85\n",
      "86\n",
      "87\n",
      "88\n",
      "89\n",
      "91\n",
      "92\n",
      "93\n",
      "94\n",
      "95\n",
      "97\n",
      "98\n",
      "99\n",
      "100\n",
      "101\n",
      "103\n",
      "104\n",
      "105\n",
      "106\n",
      "107\n",
      "109\n",
      "110\n",
      "111\n",
      "112\n",
      "113\n",
      "115\n",
      "116\n",
      "117\n",
      "118\n",
      "119\n",
      "121\n",
      "122\n",
      "123\n",
      "124\n",
      "125\n",
      "127\n",
      "128\n",
      "129\n",
      "130\n",
      "131\n",
      "133\n",
      "134\n",
      "135\n",
      "136\n",
      "137\n",
      "139\n",
      "140\n",
      "141\n",
      "142\n",
      "143\n",
      "145\n",
      "146\n",
      "147\n",
      "148\n",
      "149\n",
      "151\n",
      "152\n",
      "153\n",
      "154\n",
      "155\n",
      "157\n",
      "158\n",
      "159\n",
      "160\n",
      "161\n",
      "163\n",
      "164\n",
      "165\n",
      "166\n",
      "167\n",
      "169\n",
      "170\n",
      "171\n",
      "172\n",
      "173\n",
      "175\n",
      "176\n",
      "177\n",
      "178\n",
      "179\n",
      "181\n",
      "182\n",
      "183\n",
      "184\n",
      "185\n",
      "187\n",
      "188\n",
      "189\n",
      "190\n",
      "191\n",
      "193\n",
      "194\n",
      "195\n",
      "196\n",
      "197\n",
      "199\n",
      "200\n",
      "201\n",
      "202\n",
      "203\n",
      "205\n",
      "206\n",
      "207\n",
      "208\n",
      "209\n",
      "211\n",
      "212\n",
      "213\n",
      "214\n",
      "215\n",
      "217\n",
      "218\n",
      "219\n",
      "220\n",
      "221\n",
      "223\n",
      "224\n",
      "225\n",
      "226\n",
      "227\n",
      "229\n",
      "230\n",
      "231\n",
      "232\n",
      "233\n",
      "235\n",
      "236\n",
      "237\n",
      "238\n",
      "239\n",
      "241\n",
      "242\n",
      "243\n",
      "244\n",
      "245\n",
      "247\n",
      "248\n",
      "249\n",
      "250\n",
      "252\n",
      "253\n",
      "254\n",
      "255\n",
      "257\n",
      "258\n",
      "259\n",
      "260\n",
      "261\n",
      "263\n",
      "264\n",
      "265\n",
      "266\n",
      "267\n",
      "269\n",
      "270\n",
      "271\n",
      "272\n",
      "273\n",
      "275\n",
      "276\n",
      "277\n",
      "278\n",
      "279\n",
      "281\n",
      "282\n",
      "283\n",
      "284\n",
      "285\n",
      "287\n",
      "288\n",
      "289\n",
      "290\n",
      "291\n",
      "293\n",
      "294\n",
      "295\n",
      "296\n",
      "297\n",
      "299\n",
      "300\n",
      "301\n",
      "302\n",
      "303\n",
      "305\n",
      "306\n",
      "307\n",
      "308\n",
      "309\n",
      "311\n",
      "312\n",
      "313\n",
      "314\n",
      "315\n",
      "317\n",
      "318\n",
      "319\n",
      "320\n",
      "321\n",
      "323\n",
      "324\n",
      "325\n",
      "326\n",
      "327\n",
      "329\n",
      "330\n",
      "331\n",
      "332\n",
      "333\n",
      "335\n",
      "336\n",
      "337\n",
      "338\n",
      "339\n",
      "341\n",
      "342\n",
      "343\n",
      "344\n",
      "345\n",
      "347\n",
      "348\n",
      "349\n",
      "350\n",
      "351\n",
      "353\n",
      "354\n",
      "355\n",
      "356\n",
      "357\n",
      "359\n",
      "360\n",
      "361\n",
      "362\n",
      "363\n",
      "365\n",
      "366\n",
      "367\n",
      "368\n",
      "369\n",
      "371\n",
      "372\n",
      "373\n",
      "374\n",
      "375\n",
      "377\n",
      "378\n",
      "379\n",
      "380\n",
      "381\n",
      "383\n",
      "384\n",
      "385\n",
      "386\n",
      "387\n",
      "389\n",
      "390\n",
      "391\n",
      "392\n",
      "393\n",
      "395\n",
      "396\n",
      "397\n",
      "398\n",
      "399\n",
      "401\n",
      "402\n",
      "403\n",
      "404\n",
      "405\n",
      "407\n",
      "408\n",
      "409\n",
      "410\n",
      "411\n",
      "413\n",
      "414\n",
      "415\n",
      "416\n",
      "417\n",
      "419\n",
      "420\n",
      "421\n",
      "422\n",
      "423\n",
      "425\n",
      "426\n",
      "427\n",
      "428\n",
      "429\n",
      "431\n",
      "432\n",
      "433\n",
      "434\n",
      "435\n",
      "437\n",
      "438\n",
      "439\n",
      "440\n",
      "441\n",
      "443\n",
      "444\n",
      "445\n",
      "446\n",
      "447\n",
      "449\n",
      "450\n",
      "451\n",
      "452\n",
      "453\n",
      "455\n",
      "456\n",
      "457\n",
      "458\n",
      "459\n",
      "461\n",
      "462\n",
      "463\n",
      "464\n",
      "465\n",
      "467\n",
      "468\n",
      "469\n",
      "470\n",
      "471\n",
      "473\n",
      "474\n",
      "475\n",
      "476\n",
      "477\n",
      "479\n",
      "480\n",
      "481\n",
      "482\n",
      "483\n",
      "485\n",
      "486\n",
      "487\n",
      "488\n",
      "489\n",
      "491\n",
      "492\n",
      "493\n",
      "494\n",
      "495\n",
      "497\n",
      "498\n",
      "499\n",
      "500\n",
      "501\n",
      "503\n",
      "504\n",
      "505\n",
      "506\n",
      "507\n",
      "509\n",
      "510\n",
      "511\n",
      "512\n",
      "513\n",
      "515\n",
      "516\n",
      "517\n",
      "518\n",
      "519\n",
      "521\n",
      "522\n",
      "523\n",
      "524\n",
      "525\n",
      "527\n",
      "528\n",
      "529\n",
      "530\n",
      "531\n",
      "533\n",
      "534\n",
      "535\n",
      "536\n",
      "537\n",
      "539\n",
      "540\n",
      "541\n",
      "542\n",
      "543\n",
      "545\n",
      "546\n",
      "547\n",
      "548\n",
      "549\n",
      "551\n",
      "552\n",
      "553\n",
      "554\n",
      "555\n",
      "557\n",
      "558\n",
      "559\n",
      "560\n",
      "561\n",
      "563\n",
      "564\n",
      "565\n",
      "566\n",
      "567\n",
      "569\n",
      "570\n",
      "571\n",
      "572\n",
      "573\n",
      "575\n",
      "576\n",
      "577\n",
      "578\n",
      "579\n",
      "581\n",
      "582\n",
      "583\n",
      "584\n",
      "585\n",
      "587\n",
      "588\n",
      "589\n",
      "590\n",
      "591\n",
      "593\n",
      "594\n",
      "595\n",
      "596\n",
      "597\n",
      "599\n",
      "600\n",
      "601\n",
      "602\n",
      "603\n",
      "605\n",
      "606\n",
      "607\n",
      "608\n",
      "609\n",
      "611\n",
      "612\n",
      "613\n",
      "614\n",
      "615\n",
      "617\n",
      "618\n",
      "619\n",
      "620\n",
      "621\n",
      "623\n",
      "624\n",
      "625\n",
      "626\n",
      "627\n",
      "629\n",
      "630\n",
      "631\n",
      "632\n",
      "633\n",
      "635\n",
      "636\n",
      "637\n",
      "638\n",
      "639\n",
      "641\n",
      "642\n",
      "643\n"
     ]
    }
   ],
   "source": [
    "counter = 0\n",
    "current_num = 0\n",
    "for x in idx:\n",
    "    \n",
    "    should_be = current_num*5\n",
    "    if counter < 5:\n",
    "        current_num += x\n",
    "        counter += 1\n",
    "    else: \n",
    "        if current_num != should_be:\n",
    "            print(x)\n",
    "        counter = 0\n",
    "        current_num = x+1"
   ]
  },
  {
   "cell_type": "code",
   "execution_count": 136,
   "id": "c6d0c65a-fc6e-4fab-8b76-f01983100a0e",
   "metadata": {
    "tags": []
   },
   "outputs": [
    {
     "data": {
      "text/plain": [
       "[]"
      ]
     },
     "execution_count": 136,
     "metadata": {},
     "output_type": "execute_result"
    }
   ],
   "source": [
    "[item for item in range(idx[0], idx[-1]+1) if item not in np.unique(idx)]"
   ]
  },
  {
   "cell_type": "code",
   "execution_count": 151,
   "id": "3ea2214d-1633-46aa-87e6-02522b975e4b",
   "metadata": {
    "tags": []
   },
   "outputs": [
    {
     "data": {
      "text/plain": [
       "3220"
      ]
     },
     "execution_count": 151,
     "metadata": {},
     "output_type": "execute_result"
    }
   ],
   "source": [
    "len(glob(\"A_B_single_cells_slice_projection/*FL*\"))"
   ]
  },
  {
   "cell_type": "code",
   "execution_count": null,
   "id": "09117fda-01aa-45dd-828e-bf92ad29aa17",
   "metadata": {},
   "outputs": [],
   "source": []
  }
 ],
 "metadata": {
  "kernelspec": {
   "display_name": "Python [conda env:symbac]",
   "language": "python",
   "name": "conda-env-symbac-py"
  },
  "language_info": {
   "codemirror_mode": {
    "name": "ipython",
    "version": 3
   },
   "file_extension": ".py",
   "mimetype": "text/x-python",
   "name": "python",
   "nbconvert_exporter": "python",
   "pygments_lexer": "ipython3",
   "version": "3.10.9"
  },
  "widgets": {
   "application/vnd.jupyter.widget-state+json": {
    "state": {},
    "version_major": 2,
    "version_minor": 0
   }
  }
 },
 "nbformat": 4,
 "nbformat_minor": 5
}
