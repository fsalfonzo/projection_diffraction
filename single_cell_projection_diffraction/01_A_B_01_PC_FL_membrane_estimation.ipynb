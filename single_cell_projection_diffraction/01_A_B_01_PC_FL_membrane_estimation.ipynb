{
 "cells": [
  {
   "cell_type": "code",
   "execution_count": 1,
   "id": "5f036cbd-3872-4eaa-8f8a-ab0bc496ba3e",
   "metadata": {
    "tags": []
   },
   "outputs": [],
   "source": [
    "%load_ext autoreload\n",
    "%autoreload 2"
   ]
  },
  {
   "cell_type": "code",
   "execution_count": 2,
   "id": "fae98f5c-72a5-4021-b860-5c45f5259e36",
   "metadata": {
    "tags": []
   },
   "outputs": [],
   "source": [
    "import sys\n",
    "sys.path.insert(1, '/home/georgeos/Documents/GitHub/SyMBac/') # Not needed if you installed SyMBac using pip\n",
    "sys.path.insert(1, '/home/georgeos/Documents/Github/SyMBac/') # Not needed if you installed SyMBac using pip\n",
    "\n",
    "import ray\n",
    "from SyMBac.drawing import raster_cell, OPL_to_FL\n",
    "from SyMBac.PSF import PSF_generator\n",
    "from SyMBac.renderer import convolve_rescale\n",
    "import matplotlib.pyplot as plt\n",
    "import numpy as np\n",
    "from tqdm.auto import tqdm\n",
    "from PIL import Image\n",
    "from skimage.util import img_as_uint\n",
    "import os\n",
    "from joblib import Parallel, delayed\n",
    "from glob import glob\n",
    "from SyMBac.colony_renderer import ColonyRenderer\n",
    "import noise\n",
    "from skimage.filters import threshold_otsu\n",
    "from skimage.transform import rescale, resize, downscale_local_mean\n",
    "from scipy.signal import find_peaks\n",
    "import pandas as pd"
   ]
  },
  {
   "cell_type": "code",
   "execution_count": 3,
   "id": "6f29f6c0-2149-4636-8354-7ef1b0a830e0",
   "metadata": {
    "tags": []
   },
   "outputs": [],
   "source": [
    "def perlin_generator(shape, resize_amount, scale = 5, octaves = 10, persistence = 1.9, lacunarity = 1.8):\n",
    "\n",
    "        y, x = np.round(shape[0] / resize_amount).astype(int), np.round(shape[1] / resize_amount).astype(int)\n",
    "\n",
    "        world = np.zeros((x, y))\n",
    "\n",
    "        # make coordinate grid on [0,1]^2\n",
    "        x_idx = np.linspace(0, 1, y)\n",
    "        y_idx = np.linspace(0, 1, x)\n",
    "        world_x, world_y = np.meshgrid(x_idx, y_idx)\n",
    "\n",
    "        # apply perlin noise, instead of np.vectorize, consider using itertools.starmap()\n",
    "        world = np.vectorize(noise.pnoise2)(world_x / scale,\n",
    "                                            world_y / scale,\n",
    "                                            octaves=octaves,\n",
    "                                            persistence=persistence,\n",
    "                                            lacunarity=lacunarity)\n",
    "\n",
    "        # here was the error: one needs to normalize the image first. Could be done without copying the array, though\n",
    "        img = np.floor((world + .5) * 255).astype(np.uint8)  # <- Normalize world first\n",
    "        return img\n"
   ]
  },
  {
   "cell_type": "code",
   "execution_count": 4,
   "id": "6f768335-3697-40d2-ad4c-f642c3ae9949",
   "metadata": {
    "tags": []
   },
   "outputs": [],
   "source": [
    "def raster_cell(length, width, separation = 0, additional_width = 0, pinching=True):\n",
    "    \"\"\"\n",
    "    Produces a rasterised image of a cell with the intensiity of each pixel corresponding to the optical path length\n",
    "    (thickness) of the cell at that point.\n",
    "\n",
    "    :param int length: Cell length in pixels\n",
    "    :param int width: Cell width in pixels\n",
    "    :param int separation: An int between (0, `width`) controlling how much pinching is happening.\n",
    "    :param bool pinching: Controls whether pinching is happening\n",
    "\n",
    "    Returns\n",
    "    -------\n",
    "\n",
    "    cell : np.array\n",
    "       A numpy array which contains an OPL image of the cell. Can be converted to a mask by just taking ``cell > 0``.\n",
    "\n",
    "    \"\"\"\n",
    "\n",
    "    L = int(np.rint(length))\n",
    "    W = int(np.rint(width))\n",
    "    new_cell = np.zeros((L, W))\n",
    "    R = (W - 1) / 2\n",
    "\n",
    "    x_cyl = np.arange(0, 2 * R + 1, 1)\n",
    "    I_cyl = np.sqrt(R ** 2 - (x_cyl - R) ** 2)\n",
    "    L_cyl = L - W\n",
    "    new_cell[int(W / 2):-int(W / 2), :] = I_cyl\n",
    "\n",
    "    x_sphere = np.arange(0, int(W / 2), 1)\n",
    "    sphere_Rs = np.sqrt((R) ** 2 - (x_sphere - R) ** 2)\n",
    "    sphere_Rs = np.rint(sphere_Rs).astype(int)\n",
    "\n",
    "    for c in range(len(sphere_Rs)):\n",
    "        R_ = sphere_Rs[c]\n",
    "        x_cyl = np.arange(0, R_, 1)\n",
    "        I_cyl = np.sqrt(R_ ** 2 - (x_cyl - R_) ** 2)\n",
    "        new_cell[c, int(W / 2) - sphere_Rs[c]:int(W / 2) + sphere_Rs[c]] = np.concatenate((I_cyl, I_cyl[::-1]))\n",
    "        new_cell[L - c - 1, int(W / 2) - sphere_Rs[c]:int(W / 2) + sphere_Rs[c]] = np.concatenate((I_cyl, I_cyl[::-1]))\n",
    "\n",
    "    if separation > 2 and pinching:\n",
    "        S = int(np.rint(separation))\n",
    "        new_cell[int((L - S) / 2) + 1:-int((L - S) / 2) - 1, :] = 0\n",
    "        for c in range(int((S+1) / 2)):\n",
    "            R__ = sphere_Rs[-c - 1]\n",
    "            x_cyl_ = np.arange(0, R__, 1)\n",
    "            I_cyl_ = np.sqrt(R__ ** 2 - (x_cyl_ - R__) ** 2)\n",
    "            new_cell[int((L-S) / 2) + c + 1, int(W / 2) - R__:int(W / 2) + R__] = np.concatenate((I_cyl_, I_cyl_[::-1]))\n",
    "            new_cell[-int((L-S) / 2) - c - 1, int(W / 2) - R__:int(W / 2) + R__] = np.concatenate((I_cyl_, I_cyl_[::-1]))\n",
    "    new_cell = new_cell.astype(int)\n",
    "            \n",
    "    \n",
    "    if additional_width>=1:\n",
    "        additional_width = int(additional_width)\n",
    "        wide_cell = np.zeros((new_cell.shape[0], int(new_cell.shape[1] + additional_width)))\n",
    "        wide_cell[:,:new_cell.shape[1]//2] = new_cell[:,:new_cell.shape[1]//2]\n",
    "        wide_cell[:,new_cell.shape[1]//2 + additional_width:] = new_cell[:,new_cell.shape[1]//2:]\n",
    "        wide_cell[:,new_cell.shape[1]//2:new_cell.shape[1]//2 + additional_width] = np.repeat(new_cell[:,new_cell.shape[1]//2].reshape(-1,1), additional_width, axis=1)\n",
    "        return wide_cell\n",
    "    \n",
    "    if additional_width<=1:\n",
    "        new_cell[np.where(new_cell)] += int(abs(additional_width))\n",
    "    \n",
    "    return new_cell"
   ]
  },
  {
   "cell_type": "code",
   "execution_count": 5,
   "id": "030a769f-a5fe-4d87-9bdf-b5dd6c461be8",
   "metadata": {
    "tags": []
   },
   "outputs": [
    {
     "data": {
      "text/plain": [
       "(200, 140)"
      ]
     },
     "execution_count": 5,
     "metadata": {},
     "output_type": "execute_result"
    }
   ],
   "source": [
    "raster_cell(200, 100, additional_width=40).shape"
   ]
  },
  {
   "cell_type": "code",
   "execution_count": 7,
   "id": "256e092d-0fa2-4d71-851d-34def1b34672",
   "metadata": {
    "tags": []
   },
   "outputs": [],
   "source": [
    "wavelengths = [0, 0.4, 0.5, 0.6, 0.7]\n",
    "def generate_PC_cell(cell_length, cell_width, additional_width, pad_amount, ID):\n",
    "    raster_cell_length = cell_length/pix_mic_conv * resize_amount\n",
    "    raster_cell_width = cell_width/pix_mic_conv * resize_amount\n",
    "    raster_additional_width = additional_width/pix_mic_conv * resize_amount\n",
    "\n",
    "    if not glob(f\"A_B_single_cells/PC_{raster_cell_length}_{raster_cell_width}_{raster_additional_width}_0.6.png\"):\n",
    "        cell = raster_cell(length=raster_cell_length, width=raster_cell_width, additional_width=raster_additional_width)\n",
    "        PC_cell = np.pad(cell, pad_amount).astype(np.float32)\n",
    "        PC_cell += np.rot90(perlin_generator(PC_cell.shape, 1, scale = 20))/300\n",
    "        PC_cell_conv = convolve_rescale(image = PC_cell, kernel = PC_PSF.kernel, rescale_factor=1/resize_amount, rescale_int=True)\n",
    "        \n",
    "        raster_depth = np.max(cell)\n",
    "        raster_cell_length, raster_cell_width = cell.shape\n",
    "        Image.fromarray(img_as_uint(PC_cell_conv)).save(f\"A_B_single_cells/{ID}_PC_{raster_cell_length}_{raster_cell_width}_{raster_depth}_{raster_additional_width}_0.6.png\")\n",
    "\n",
    "def generate_FL_cell(cell_length, cell_width , additional_width, pad_amount, ID):\n",
    "    \n",
    "    raster_cell_length = cell_length/pix_mic_conv * resize_amount\n",
    "    raster_cell_width = cell_width/pix_mic_conv * resize_amount\n",
    "    raster_additional_width = additional_width/pix_mic_conv * resize_amount\n",
    "    \n",
    "    FL_cells = []\n",
    "    for wavelength in wavelengths:\n",
    "        raster_cell_length = cell_length/pix_mic_conv * resize_amount\n",
    "        raster_cell_width = cell_width/pix_mic_conv * resize_amount\n",
    "        raster_additional_width = additional_width/pix_mic_conv * resize_amount\n",
    "        cell = raster_cell(length=raster_cell_length, width=raster_cell_width, additional_width=raster_additional_width)\n",
    "        raster_depth = np.max(cell)\n",
    "        raster_cell_length, raster_cell_width = cell.shape\n",
    "        \n",
    "        FL_cell = np.pad(cell,pad_amount).astype(np.float32)   \n",
    "        \n",
    "        if not glob(f\"A_B_single_cells/{ID}_FL_{raster_cell_length}_{raster_cell_width}_{raster_depth}_{raster_additional_width}_{wavelength}.png\"):\n",
    "            if wavelength:\n",
    "                FL_PSF = PSF_generator(\n",
    "                    radius = radius,\n",
    "                    wavelength = wavelength,\n",
    "                    NA = NA,\n",
    "                    n = n,\n",
    "                    resize_amount = resize_amount,\n",
    "                    pix_mic_conv = pix_mic_conv,\n",
    "                    apo_sigma = apo_sigma,\n",
    "                    mode=\"3d fluo\",\n",
    "                    condenser = \"Ph3\",\n",
    "                    z_height = FL_cell.shape[0],\n",
    "                    pz = 0.5,\n",
    "                    working_distance = 170\n",
    "                )\n",
    "                FL_PSF.calculate_PSF()\n",
    "                FL_PSF.kernel = np.sum(FL_PSF.kernel, axis=0)\n",
    "                FL_cell_conv = convolve_rescale(image=FL_cell, kernel=FL_PSF.kernel, rescale_factor=1/resize_amount, rescale_int = False)\n",
    "                \n",
    "            else:\n",
    "                FL_cell_conv = convolve_rescale(image=FL_cell, kernel=zero_wavelength_PSF, rescale_factor=1/resize_amount, rescale_int = False)\n",
    "            np.save(f\"A_B_single_cells/{ID}_FL_{raster_cell_length}_{raster_cell_width}_{raster_depth}_{raster_additional_width}_{wavelength}.npy\", FL_cell_conv)\n",
    "            #Image.fromarray(img_as_uint(FL_cell_conv)).save(f\"A_B_single_cells/{ID}_FL_{raster_cell_length}_{raster_cell_width}_{raster_depth}_{raster_additional_width}_{wavelength}.png\")\n",
    "\n",
    "\n",
    "    \n",
    "def generate_membrane_cell(cell_length, cell_width, additional_width, pad_amount, ID):\n",
    "    \n",
    "\n",
    "    membrane_cells = []\n",
    "    for wavelength in wavelengths:\n",
    "        \n",
    "        raster_cell_length = cell_length/pix_mic_conv * resize_amount\n",
    "        raster_cell_width = cell_width/pix_mic_conv * resize_amount\n",
    "        raster_additional_width = additional_width/pix_mic_conv * resize_amount\n",
    "        \n",
    "        \n",
    "        membrane_thickness = 0.1 #micron\n",
    "        raster_membrane_thickness = membrane_thickness/pix_mic_conv * resize_amount\n",
    "        cell_1 = raster_cell(length=round(raster_cell_length/2)*2, width=round(raster_cell_width/2)*2, additional_width=raster_additional_width)\n",
    "        cell_2 = raster_cell(length=round((raster_cell_length - raster_membrane_thickness)/2)*2, width=round((raster_cell_width - raster_membrane_thickness)/2)*2, additional_width=raster_additional_width)\n",
    "\n",
    "        pad_1 = int((cell_1.shape[0] - cell_2.shape[0])/2)\n",
    "        pad_2 = int((cell_1.shape[1] - cell_2.shape[1])/2)\n",
    "        cell_2 = np.pad(cell_2, ((pad_1,pad_1), (pad_2, pad_2)))\n",
    "        membrane_cell = cell_1 - cell_2\n",
    "\n",
    "        raster_depth = np.max(cell_1)\n",
    "        raster_cell_length, raster_cell_width = membrane_cell.shape\n",
    "        \n",
    "        membrane_cell = np.pad(membrane_cell,pad_amount).astype(np.float32) \n",
    "        \n",
    "\n",
    "        \n",
    "        if not glob(f\"A_B_single_cells/{ID}_membrane_{raster_cell_length}_{raster_cell_width}_{raster_depth}_{raster_additional_width}_{wavelength}.png\"):\n",
    "            if wavelength:\n",
    "                FL_PSF = PSF_generator(\n",
    "                        radius = radius,\n",
    "                        wavelength = wavelength,\n",
    "                        NA = NA,\n",
    "                        n = n,\n",
    "                        resize_amount = resize_amount,\n",
    "                        pix_mic_conv = pix_mic_conv,\n",
    "                        apo_sigma = apo_sigma,\n",
    "                        mode=\"3d fluo\",\n",
    "                        condenser = \"Ph3\",\n",
    "                        z_height = membrane_cell.shape[0],\n",
    "                        pz = 0.5,\n",
    "                        working_distance = 170\n",
    "                    )\n",
    "                FL_PSF.calculate_PSF()\n",
    "                FL_PSF.kernel = np.sum(FL_PSF.kernel, axis=0)\n",
    "                membrane_cell_conv = convolve_rescale(image=membrane_cell, kernel=FL_PSF.kernel, rescale_factor=1/resize_amount, rescale_int = False)\n",
    "            else:\n",
    "                membrane_cell_conv = convolve_rescale(image=membrane_cell, kernel=zero_wavelength_PSF, rescale_factor=1/resize_amount, rescale_int = False)\n",
    "            \n",
    "            np.save(f\"A_B_single_cells/{ID}_membrane_{raster_cell_length}_{raster_cell_width}_{raster_depth}_{raster_additional_width}_{wavelength}.npy\", membrane_cell_conv)\n",
    "\n",
    "def generate_binary_cell(cell_length, cell_width, additional_width, pad_amount, ID):\n",
    "    raster_cell_length = cell_length/pix_mic_conv * resize_amount\n",
    "    raster_cell_width = cell_width/pix_mic_conv * resize_amount\n",
    "    raster_additional_width = additional_width/pix_mic_conv * resize_amount\n",
    "    cell = raster_cell(length=raster_cell_length, width=raster_cell_width, additional_width=raster_additional_width)\n",
    "    binary_image = np.pad(cell, pad_amount) > 0\n",
    "    binary_image = rescale(binary_image, 1/resize_amount, anti_aliasing=False) > 0\n",
    "    \n",
    "    \n",
    "    raster_cell_length, raster_cell_width = cell.shape\n",
    "    raster_depth = np.max(cell)\n",
    "        \n",
    "    Image.fromarray(img_as_uint(binary_image)).save(f\"A_B_single_cells/{ID}_binary_{raster_cell_length}_{raster_cell_width}_{raster_depth}_{raster_additional_width}_0.6.png\")\n",
    "    \n",
    "    #return binary_image"
   ]
  },
  {
   "cell_type": "code",
   "execution_count": 8,
   "id": "22dd5041-e745-401c-b139-809404d7e133",
   "metadata": {
    "tags": []
   },
   "outputs": [
    {
     "data": {
      "image/png": "[encoded data removed]",
      "text/plain": [
       "<Figure size 640x480 with 1 Axes>"
      ]
     },
     "metadata": {},
     "output_type": "display_data"
    }
   ],
   "source": [
    "zero_wavelength_PSF = np.array([[0,0,0],[0,1,0],[0,0,0]])\n",
    "pad_amount = 400\n",
    "\n",
    "radius = 200\n",
    "wavelength = 0.65\n",
    "NA = 1.45\n",
    "n = 1.518\n",
    "resize_amount = 1\n",
    "pix_mic_conv = 0.065 / 17\n",
    "apo_sigma = 11\n",
    "\n",
    "PC_PSF = PSF_generator(\n",
    "    radius = radius,\n",
    "    wavelength = wavelength,\n",
    "    NA = NA,\n",
    "    n = n,\n",
    "    resize_amount = resize_amount,\n",
    "    pix_mic_conv = pix_mic_conv,\n",
    "    apo_sigma = apo_sigma,\n",
    "    mode=\"phase contrast\",\n",
    "    condenser = \"Ph3\",\n",
    "    offset=0.00000000225\n",
    ")\n",
    "PC_PSF.calculate_PSF()\n",
    "PC_PSF.plot_PSF()"
   ]
  },
  {
   "cell_type": "code",
   "execution_count": 9,
   "id": "2b434eff-c0d8-4deb-a662-ab4166a1f1be",
   "metadata": {
    "tags": []
   },
   "outputs": [
    {
     "name": "stdout",
     "output_type": "stream",
     "text": [
      "1140\n"
     ]
    }
   ],
   "source": [
    "cell_length = (6,)\n",
    "grid_size = 30\n",
    "max_width = 3.1\n",
    "cell_width = np.linspace(0.5, max_width, grid_size)\n",
    "additional_widths = np.arange(0, 3, np.diff(cell_width)[0]).tolist() + (-np.arange(0, 3, np.diff(cell_width)[0])).tolist()\n",
    "additional_widths = additional_widths + [0]\n",
    "tolerance = 0.1\n",
    "param_space = []\n",
    "widths = []\n",
    "ID = 0\n",
    "for length in cell_length:\n",
    "    for width in cell_width:\n",
    "        if length >= width:\n",
    "            for additional_width in additional_widths:\n",
    "                if (width + abs(additional_width)) <= (max_width + max_width * tolerance):\n",
    "                    param_space.append([length, width, additional_width, ID])\n",
    "                    ID += 1\n",
    "print(len(param_space))"
   ]
  },
  {
   "cell_type": "code",
   "execution_count": 10,
   "id": "1ced1a63-3606-46f5-b8b4-d21779875edc",
   "metadata": {
    "tags": []
   },
   "outputs": [],
   "source": [
    "try:\n",
    "    os.mkdir(\"A_B_single_cells_thick_membrane/\")\n",
    "except:\n",
    "    pass"
   ]
  },
  {
   "cell_type": "code",
   "execution_count": 11,
   "id": "50402657-3448-4dc2-a828-9e0be82a86fb",
   "metadata": {
    "tags": []
   },
   "outputs": [
    {
     "data": {
      "application/vnd.jupyter.widget-view+json": {
       "model_id": "9f670cbedb7046bab9052d44e161693b",
       "version_major": 2,
       "version_minor": 0
      },
      "text/plain": [
       "  0%|          | 0/1140 [00:00<?, ?it/s]"
      ]
     },
     "metadata": {},
     "output_type": "display_data"
    }
   ],
   "source": [
    "_ = Parallel(n_jobs=-1)(delayed(generate_binary_cell)(length, width, additional_width,  pad_amount, ID) for length, width, additional_width, ID in tqdm(param_space))"
   ]
  },
  {
   "cell_type": "code",
   "execution_count": 12,
   "id": "f1d845a8-4640-43bb-9aa3-e010cc3a4085",
   "metadata": {
    "tags": []
   },
   "outputs": [
    {
     "data": {
      "application/vnd.jupyter.widget-view+json": {
       "model_id": "9ef2597eb2ac4613994c3d53de1557aa",
       "version_major": 2,
       "version_minor": 0
      },
      "text/plain": [
       "  0%|          | 0/1140 [00:00<?, ?it/s]"
      ]
     },
     "metadata": {},
     "output_type": "display_data"
    },
    {
     "name": "stderr",
     "output_type": "stream",
     "text": [
      "/home/georgeos/miniconda3/lib/python3.10/site-packages/joblib/externals/loky/process_executor.py:700: UserWarning: A worker stopped while some jobs were given to the executor. This can be caused by a too short worker timeout or by a memory leak.\n",
      "  warnings.warn(\n"
     ]
    }
   ],
   "source": [
    "timeout = 999999999\n",
    "_ = Parallel(n_jobs=-1, timeout = timeout)(delayed(generate_FL_cell)(length, width, additional_width,  pad_amount, ID) for length, width, additional_width, ID in tqdm(param_space))"
   ]
  },
  {
   "cell_type": "code",
   "execution_count": 13,
   "id": "4366e2a4-4d58-4012-8aab-645d37d02912",
   "metadata": {
    "tags": []
   },
   "outputs": [
    {
     "data": {
      "application/vnd.jupyter.widget-view+json": {
       "model_id": "31e76b6620204010bd16d4f696d960f7",
       "version_major": 2,
       "version_minor": 0
      },
      "text/plain": [
       "  0%|          | 0/1140 [00:00<?, ?it/s]"
      ]
     },
     "metadata": {},
     "output_type": "display_data"
    }
   ],
   "source": [
    "_ = Parallel(n_jobs=14)(delayed(generate_membrane_cell)(length, width, additional_width,  pad_amount, ID) for length, width, additional_width, ID in tqdm(param_space))"
   ]
  },
  {
   "cell_type": "code",
   "execution_count": 14,
   "id": "c1f64650-aa9f-407b-8d4c-a4823d6f3ce7",
   "metadata": {
    "tags": []
   },
   "outputs": [],
   "source": [
    "#_ = Parallel(n_jobs=-1)(delayed(generate_PC_cell)(length, width, additional_width,  pad_amount, ID) for length, width, additional_width, ID in tqdm(param_space))"
   ]
  },
  {
   "cell_type": "code",
   "execution_count": null,
   "id": "3123921d-320f-4f9a-81b7-7fe1e326c242",
   "metadata": {},
   "outputs": [],
   "source": []
  }
 ],
 "metadata": {
  "kernelspec": {
   "display_name": "Python 3 (ipykernel)",
   "language": "python",
   "name": "python3"
  },
  "language_info": {
   "codemirror_mode": {
    "name": "ipython",
    "version": 3
   },
   "file_extension": ".py",
   "mimetype": "text/x-python",
   "name": "python",
   "nbconvert_exporter": "python",
   "pygments_lexer": "ipython3",
   "version": "3.10.9"
  },
  "widgets": {
   "application/vnd.jupyter.widget-state+json": {
    "state": {},
    "version_major": 2,
    "version_minor": 0
   }
  }
 },
 "nbformat": 4,
 "nbformat_minor": 5
}
