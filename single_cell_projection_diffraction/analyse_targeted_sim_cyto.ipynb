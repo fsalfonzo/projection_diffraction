{
 "cells": [
  {
   "cell_type": "code",
   "execution_count": 1,
   "id": "e99cc82c-ea9d-4869-bb4e-43321d036c9c",
   "metadata": {},
   "outputs": [],
   "source": [
    "%matplotlib inline\n",
    "%load_ext autoreload\n",
    "%matplotlib inline\n",
    "%config InlineBackend.print_figure_kwargs = {'bbox_inches':None}\n",
    "%autoreload 2\n",
    "import sys\n",
    "sys.path.insert(1, '../SyMBac/') # Not needed if you installed SyMBac using pip\n",
    "\n",
    "import ray\n",
    "from SyMBac.drawing import  OPL_to_FL\n",
    "from SyMBac.PSF import PSF_generator\n",
    "from SyMBac.renderer import convolve_rescale\n",
    "import matplotlib.pyplot as plt\n",
    "import numpy as np\n",
    "from tqdm.auto import tqdm\n",
    "from PIL import Image\n",
    "from skimage.util import img_as_uint\n",
    "from joblib import Parallel, delayed\n",
    "from glob import glob\n",
    "from SyMBac.colony_renderer import ColonyRenderer\n",
    "import noise\n",
    "from skimage.filters import threshold_otsu\n",
    "from skimage.transform import rescale, resize, downscale_local_mean\n",
    "from scipy.signal import find_peaks\n",
    "import pandas as pd\n",
    "from numba import njit\n",
    "import tifffile\n",
    "from glob import glob\n",
    "import pickle\n",
    "from scipy.signal import find_peaks\n",
    "import swifter\n",
    "import scienceplots\n",
    "import matplotlib\n",
    "plt.style.use('nature')\n",
    "\n",
    "matplotlib.rcParams[\"xtick.minor.bottom\"]=False\n",
    "matplotlib.rcParams[\"xtick.top\"]=False\n",
    "matplotlib.rcParams[\"ytick.minor.left\"]=False\n",
    "matplotlib.rcParams[\"ytick.right\"]=False\n",
    "matplotlib.rcParams[\"font.size\"] = 6\n",
    "#matplotlib.rcParams[\"axes.labelpad\"] = 0\n",
    "matplotlib.rcParams[\"axes.spines.right\"] = False\n",
    "matplotlib.rcParams[\"axes.spines.top\"] = False\n",
    "matplotlib.rcParams[\"xtick.minor.visible\"] = False\n",
    "matplotlib.rcParams[\"ytick.minor.visible\"] = False\n",
    "matplotlib.rcParams[\"xtick.direction\"] = \"out\"\n",
    "matplotlib.rcParams[\"ytick.direction\"] = \"out\"\n",
    "matplotlib.rcParams[\"legend.fontsize\"] = 6\n",
    "matplotlib.rcParams[\"svg.fonttype\"] = \"none\"\n",
    "matplotlib.rcParams[\"xtick.labelsize\"] = 6\n",
    "matplotlib.rcParams[\"ytick.labelsize\"] = 6\n",
    "matplotlib.rcParams[\"axes.titlesize\"] = 6\n",
    "matplotlib.rcParams[\"axes.labelsize\"] = 6\n",
    "matplotlib.rcParams[\"grid.alpha\"] = 0\n",
    "matplotlib.rcParams[\"savefig.transparent\"] = True"
   ]
  },
  {
   "cell_type": "code",
   "execution_count": 12,
   "id": "efe8dac6-0748-4720-8194-ed6f3316c2de",
   "metadata": {},
   "outputs": [],
   "source": [
    "tqdm.pandas()"
   ]
  },
  {
   "cell_type": "code",
   "execution_count": 2,
   "id": "b3396ade-934e-4803-b838-9927f628e5b2",
   "metadata": {},
   "outputs": [],
   "source": [
    "def raster_cell(length, width, separation = 0, additional_width = 0, pinching=True):\n",
    "    \"\"\"\n",
    "    Produces a rasterised image of a cell with the intensiity of each pixel corresponding to the optical path length\n",
    "    (thickness) of the cell at that point.\n",
    "\n",
    "    :param int length: Cell length in pixels\n",
    "    :param int width: Cell width in pixels\n",
    "    :param int separation: An int between (0, `width`) controlling how much pinching is happening.\n",
    "    :param bool pinching: Controls whether pinching is happening\n",
    "\n",
    "    Returns\n",
    "    -------\n",
    "\n",
    "    cell : np.array\n",
    "       A numpy array which contains an OPL image of the cell. Can be converted to a mask by just taking ``cell > 0``.\n",
    "\n",
    "    \"\"\"\n",
    "\n",
    "    L = int(np.rint(length))\n",
    "    W = int(np.rint(width))\n",
    "    new_cell = np.zeros((L, W))\n",
    "    R = (W - 1) / 2\n",
    "\n",
    "    x_cyl = np.arange(0, 2 * R + 1, 1)\n",
    "    I_cyl = np.sqrt(R ** 2 - (x_cyl - R) ** 2)\n",
    "    L_cyl = L - W\n",
    "    new_cell[int(W / 2):-int(W / 2), :] = I_cyl\n",
    "\n",
    "    x_sphere = np.arange(0, int(W / 2), 1)\n",
    "    sphere_Rs = np.sqrt((R) ** 2 - (x_sphere - R) ** 2)\n",
    "    sphere_Rs = np.rint(sphere_Rs).astype(int)\n",
    "\n",
    "    for c in range(len(sphere_Rs)):\n",
    "        R_ = sphere_Rs[c]\n",
    "        x_cyl = np.arange(0, R_, 1)\n",
    "        I_cyl = np.sqrt(R_ ** 2 - (x_cyl - R_) ** 2)\n",
    "        new_cell[c, int(W / 2) - sphere_Rs[c]:int(W / 2) + sphere_Rs[c]] = np.concatenate((I_cyl, I_cyl[::-1]))\n",
    "        new_cell[L - c - 1, int(W / 2) - sphere_Rs[c]:int(W / 2) + sphere_Rs[c]] = np.concatenate((I_cyl, I_cyl[::-1]))\n",
    "\n",
    "    if separation > 2 and pinching:\n",
    "        S = int(np.rint(separation))\n",
    "        new_cell[int((L - S) / 2) + 1:-int((L - S) / 2) - 1, :] = 0\n",
    "        for c in range(int((S+1) / 2)):\n",
    "            R__ = sphere_Rs[-c - 1]\n",
    "            x_cyl_ = np.arange(0, R__, 1)\n",
    "            I_cyl_ = np.sqrt(R__ ** 2 - (x_cyl_ - R__) ** 2)\n",
    "            new_cell[int((L-S) / 2) + c + 1, int(W / 2) - R__:int(W / 2) + R__] = np.concatenate((I_cyl_, I_cyl_[::-1]))\n",
    "            new_cell[-int((L-S) / 2) - c - 1, int(W / 2) - R__:int(W / 2) + R__] = np.concatenate((I_cyl_, I_cyl_[::-1]))\n",
    "    new_cell = new_cell.astype(int)\n",
    "            \n",
    "    \n",
    "    if additional_width>=1:\n",
    "        additional_width = int(additional_width)\n",
    "        wide_cell = np.zeros((new_cell.shape[0], int(new_cell.shape[1] + additional_width)))\n",
    "        wide_cell[:,:new_cell.shape[1]//2] = new_cell[:,:new_cell.shape[1]//2]\n",
    "        wide_cell[:,new_cell.shape[1]//2 + additional_width:] = new_cell[:,new_cell.shape[1]//2:]\n",
    "        wide_cell[:,new_cell.shape[1]//2:new_cell.shape[1]//2 + additional_width] = np.repeat(new_cell[:,new_cell.shape[1]//2].reshape(-1,1), additional_width, axis=1)\n",
    "        return wide_cell\n",
    "    \n",
    "    if additional_width<=1:\n",
    "        new_cell[np.where(new_cell)] += int(abs(additional_width))\n",
    "    \n",
    "    return new_cell\n",
    "\n",
    "@njit\n",
    "def generate_deviation_from_CL(centreline, thickness):\n",
    "    return np.arange(thickness) + centreline - int(np.ceil(thickness ))\n",
    "\n",
    "@njit\n",
    "def gen_3D_coords_from_2D(test_cells, centreline, thickness):\n",
    "    return np.where(test_cells == thickness) + (generate_deviation_from_CL(centreline, thickness),)\n",
    "\n",
    "@njit\n",
    "def convert_to_3D_numba(cell):\n",
    "    expanded_scene = cell\n",
    "    volume_shape = expanded_scene.shape[0:] + (int(expanded_scene.max()*2),)\n",
    "    test_cells = rounder(expanded_scene)\n",
    "    centreline = int(expanded_scene.max() )\n",
    "    cells_3D = np.zeros(volume_shape,dtype = np.ubyte)\n",
    "    for t in range(int(expanded_scene.max() *2 )):\n",
    "        test_coords = gen_3D_coords_from_2D(test_cells, centreline, t)\n",
    "        for x, y in zip(test_coords[0], (test_coords[1])):\n",
    "            for z in test_coords[2]:\n",
    "                cells_3D[x, y, z] = 1\n",
    "    return cells_3D\n",
    "\n",
    "def convert_to_3D(cell):\n",
    "    cells_3D = convert_to_3D_numba(cell)\n",
    "    cells_3D = np.moveaxis(cells_3D, -1, 0)\n",
    "    cells_3D[cells_3D.shape[0]//2:,:, :] = cells_3D[:cells_3D.shape[0]//2,:, :][::-1]\n",
    "    return cells_3D\n",
    "    #cells_3D = np.pad(cells_3D, ((100,100), (50,50), (50,50)))\n",
    "#cells_3D.shape\n",
    "\n",
    "@njit\n",
    "def rounder(x):\n",
    "    out = np.empty_like(x)\n",
    "    np.round(x, 0, out)\n",
    "    return out\n",
    "\n",
    "def raster_membrane_cell_3d(raster_cell_length, raster_cell_width, raster_slice_amount):\n",
    "\n",
    "\n",
    "    membrane_thickness = 0.05 #micron\n",
    "    raster_membrane_thickness = membrane_thickness/pix_mic_conv * resize_amount\n",
    "    cell_1 = raster_cell(length=round(raster_cell_length/2)*2, width=round(raster_cell_width/2)*2, additional_width=raster_additional_width)\n",
    "    cell_2 = raster_cell(length=round((raster_cell_length - raster_membrane_thickness)/2)*2, width=round((raster_cell_width - raster_membrane_thickness)/2)*2, additional_width=raster_additional_width)\n",
    "\n",
    "    cell_1_3d = convert_to_3D(cell_1)\n",
    "    cell_2_3d = convert_to_3D(cell_2)\n",
    "\n",
    "    \n",
    "    pad_1 = int((cell_1_3d.shape[0] - cell_2_3d.shape[0])/2)\n",
    "    pad_2 = int((cell_1_3d.shape[1] - cell_2_3d.shape[1])/2)\n",
    "    pad_3 = int((cell_1_3d.shape[2] - cell_2_3d.shape[2])/2)\n",
    "\n",
    "    cell_2_3d = np.pad(cell_2_3d, ((pad_1,pad_1), (pad_2, pad_2), (pad_3, pad_3)))\n",
    "    \n",
    "    cell_3d = cell_1_3d - cell_2_3d\n",
    "    \n",
    "    if raster_slice_amount:\n",
    "        \n",
    "        cell_3d = cell_3d[int(raster_slice_amount//2):-int(raster_slice_amount//2),:,:]\n",
    "    \n",
    "    return cell_3d\n",
    "\n",
    "def raster_cell_3d(raster_cell_length, raster_cell_width, raster_slice_amount):\n",
    "\n",
    "    cell_1 = raster_cell(length=round(raster_cell_length/2)*2, width=round(raster_cell_width/2)*2, additional_width=raster_additional_width)\n",
    "\n",
    "    cell_1_3d = convert_to_3D(cell_1)\n",
    "    \n",
    "    cell_3d = cell_1_3d \n",
    "    \n",
    "    if raster_slice_amount:\n",
    "        \n",
    "        cell_3d = cell_3d[int(raster_slice_amount//2):-int(raster_slice_amount//2),:,:]\n",
    "    \n",
    "    return cell_3d\n",
    "\n",
    "additional_width = 0\n",
    "raster_additional_width = 0"
   ]
  },
  {
   "cell_type": "code",
   "execution_count": 3,
   "id": "f10ed533-bd30-44f7-a374-f8b30fc3c53c",
   "metadata": {},
   "outputs": [],
   "source": [
    "pix_mic_conv = 0.065 / 15"
   ]
  },
  {
   "cell_type": "code",
   "execution_count": 4,
   "id": "14b6489e-6662-4e77-b945-c8b710ddfdc2",
   "metadata": {},
   "outputs": [],
   "source": [
    "files = sorted(glob(\"targeted_simulation_output_cyto/*\"))"
   ]
  },
  {
   "cell_type": "code",
   "execution_count": 5,
   "id": "b87fb7cd-6ab3-4d39-9b5e-df07ea16e3b0",
   "metadata": {},
   "outputs": [],
   "source": [
    "file = files[3]"
   ]
  },
  {
   "cell_type": "code",
   "execution_count": 6,
   "id": "3feab4df-c9fe-4036-adf6-81d26ced6fdb",
   "metadata": {},
   "outputs": [
    {
     "data": {
      "text/plain": [
       "['0.52', 'tPSF', '0.5.tiff']"
      ]
     },
     "execution_count": 6,
     "metadata": {},
     "output_type": "execute_result"
    }
   ],
   "source": [
    "file.split(\"/\")[-1].split(\"_\")"
   ]
  },
  {
   "cell_type": "code",
   "execution_count": 7,
   "id": "691e52ce-8505-4dc3-9be5-f4fccb1d8dfd",
   "metadata": {},
   "outputs": [
    {
     "data": {
      "application/vnd.jupyter.widget-view+json": {
       "model_id": "30b0175efffc4d9b9823cf405d13158a",
       "version_major": 2,
       "version_minor": 0
      },
      "text/plain": [
       "  0%|          | 0/156 [00:00<?, ?it/s]"
      ]
     },
     "metadata": {},
     "output_type": "display_data"
    }
   ],
   "source": [
    "from collections import namedtuple\n",
    "\n",
    "\n",
    "def get_info_and_image(file):\n",
    "    split_string = file.split(\"/\")[-1].split(\"_\")\n",
    "    if len(split_string) == 4:\n",
    "        width, _, PSF_type, colour = split_string\n",
    "    elif len(split_string) == 3:\n",
    "        width, PSF_type, colour = split_string\n",
    "    width = float(width)\n",
    "    colour = colour.split(\".tiff\")[0]\n",
    "    #image = tifffile.imread(file)\n",
    "\n",
    "\n",
    "    \n",
    "    return (width, PSF_type, colour, file)\n",
    "\n",
    "file_info_list = [get_info_and_image(file) for file in tqdm(files)]\n",
    "\n"
   ]
  },
  {
   "cell_type": "code",
   "execution_count": 13,
   "id": "06be624a-c620-4492-b15a-508b3433b29e",
   "metadata": {},
   "outputs": [],
   "source": [
    "columns = ['True Width', 'PSF Type', 'Colour', 'Directory']\n",
    "\n",
    "data = pd.DataFrame(file_info_list, columns=columns)"
   ]
  },
  {
   "cell_type": "code",
   "execution_count": 14,
   "id": "9fcb00a2-83f0-48c2-bbc6-95340c6c6bad",
   "metadata": {},
   "outputs": [],
   "source": [
    "def get_profile(directory):\n",
    "    image = tifffile.imread(directory).sum(axis=0)\n",
    "    y_midpoint = image.shape[0]//2\n",
    "    profile = image[y_midpoint]\n",
    "    profile = profile/profile.max()\n",
    "    return profile"
   ]
  },
  {
   "cell_type": "code",
   "execution_count": 16,
   "id": "a026e856-fe2f-4215-bdad-886a3b85c604",
   "metadata": {},
   "outputs": [
    {
     "data": {
      "application/vnd.jupyter.widget-view+json": {
       "model_id": "205b8438f5ce4cdcaef985741287daef",
       "version_major": 2,
       "version_minor": 0
      },
      "text/plain": [
       "  0%|          | 0/156 [00:00<?, ?it/s]"
      ]
     },
     "metadata": {},
     "output_type": "display_data"
    }
   ],
   "source": [
    "data['Profile'] = data['Directory'].progress_apply(get_profile)"
   ]
  },
  {
   "cell_type": "code",
   "execution_count": 19,
   "id": "ced2e160-56cc-490f-8316-f0dc4d6f5402",
   "metadata": {},
   "outputs": [],
   "source": [
    "def get_profile_0_DoF(directory):\n",
    "    image = tifffile.imread(directory)\n",
    "    z_midpoint = image.shape[0]//2\n",
    "    image = image[z_midpoint]\n",
    "    y_midpoint = image.shape[0]//2\n",
    "    profile = image[y_midpoint]\n",
    "    profile = profile/profile.max()\n",
    "    return profile"
   ]
  },
  {
   "cell_type": "code",
   "execution_count": 20,
   "id": "79e1eeb5-054b-4a63-af55-67a99efea1bf",
   "metadata": {},
   "outputs": [
    {
     "data": {
      "application/vnd.jupyter.widget-view+json": {
       "model_id": "432e541c994d46a1bb996647e0613727",
       "version_major": 2,
       "version_minor": 0
      },
      "text/plain": [
       "  0%|          | 0/156 [00:00<?, ?it/s]"
      ]
     },
     "metadata": {},
     "output_type": "display_data"
    }
   ],
   "source": [
    "data['Profile 0 DoF'] = data['Directory'].progress_apply(get_profile_0_DoF)"
   ]
  },
  {
   "cell_type": "code",
   "execution_count": 52,
   "id": "fd400bad-3cbe-4dda-9492-3b7f0da95057",
   "metadata": {},
   "outputs": [],
   "source": [
    "import numpy as np\n",
    "from scipy.signal import find_peaks\n",
    "from scipy.interpolate import interp1d\n",
    "\n",
    "def get_width(y):\n",
    "    x = np.arange(len(y))\n",
    "    peak_index = np.argmax(y)\n",
    "    half_max = y[peak_index] / 2\n",
    "\n",
    "    # Find index where y first drops below half_max on the left side of the peak\n",
    "    left_idx = np.where(y[:peak_index] < half_max)[0]\n",
    "    if left_idx.size > 0:\n",
    "        left_idx = left_idx[-1]\n",
    "        # Linear interpolation for more accuracy\n",
    "        if left_idx + 1 < len(y):\n",
    "            left_interp = interp1d(y[left_idx:left_idx + 2], x[left_idx:left_idx + 2])\n",
    "            left_interpolated = left_interp(half_max)\n",
    "        else:\n",
    "            left_interpolated = x[left_idx]\n",
    "    else:\n",
    "        left_interpolated = x[0]\n",
    "\n",
    "    # Find index where y first drops below half_max on the right side of the peak\n",
    "    right_idx = np.where(y[peak_index:] < half_max)[0]\n",
    "    if right_idx.size > 0:\n",
    "        right_idx = right_idx[0] + peak_index\n",
    "        # Linear interpolation for more accuracy\n",
    "        if right_idx > 0:\n",
    "            right_interp = interp1d(y[right_idx - 1:right_idx + 1], x[right_idx - 1:right_idx + 1])\n",
    "            right_interpolated = right_interp(half_max)\n",
    "        else:\n",
    "            right_interpolated = x[right_idx]\n",
    "    else:\n",
    "        right_interpolated = x[-1]\n",
    "\n",
    "    # Calculate FWHM\n",
    "    fwhm = right_interpolated - left_interpolated\n",
    "    return fwhm*pix_mic_conv"
   ]
  },
  {
   "cell_type": "code",
   "execution_count": 23,
   "id": "50a91e3c-83bc-42f7-9b96-6160b7c169e0",
   "metadata": {},
   "outputs": [],
   "source": [
    "#def get_width(profile):\n",
    "#    peaks = find_peaks(profile, height = 0.9, prominence=0.05)[0]\n",
    "#    if len(peaks) == 2:\n",
    "#        return np.diff(peaks)[0] * pix_mic_conv\n",
    "#    elif len(peaks) == 1:\n",
    "#        return 0\n",
    "#    elif len(peaks) > 2:\n",
    "#        raise AssertionError"
   ]
  },
  {
   "cell_type": "code",
   "execution_count": 24,
   "id": "5b769a63-85a3-4ed9-9644-a4bce5b842bf",
   "metadata": {},
   "outputs": [],
   "source": [
    "data['Observed Width'] = data['Profile'].apply(get_width)"
   ]
  },
  {
   "cell_type": "code",
   "execution_count": 25,
   "id": "5bf3280b-f9ea-4ae3-baa5-245844d8fe76",
   "metadata": {},
   "outputs": [],
   "source": [
    "data['Observed Width 0 DoF'] = data['Profile 0 DoF'].apply(get_width)"
   ]
  },
  {
   "cell_type": "code",
   "execution_count": 26,
   "id": "78300be0-e8c7-4c89-8fd7-8c5f23757229",
   "metadata": {},
   "outputs": [],
   "source": [
    "def get_wavelength(colour):\n",
    "    if colour == \"darkred\":\n",
    "        return 0.7\n",
    "    elif colour == \"green\":\n",
    "        return 0.5\n",
    "    else:\n",
    "        return colour"
   ]
  },
  {
   "cell_type": "code",
   "execution_count": 27,
   "id": "dbecda60-12ce-482d-9707-645e027ef045",
   "metadata": {},
   "outputs": [],
   "source": [
    "data['Wavelength'] = data['Colour'].apply(get_wavelength)"
   ]
  },
  {
   "cell_type": "code",
   "execution_count": 28,
   "id": "87bf320d-5ec2-4887-a0f2-769b77c3b866",
   "metadata": {},
   "outputs": [],
   "source": [
    "import seaborn as sns"
   ]
  },
  {
   "cell_type": "code",
   "execution_count": 29,
   "id": "50c21234-052d-4c3e-92f4-1f13364c1a1f",
   "metadata": {},
   "outputs": [],
   "source": [
    "data[\"Wavelength\"] = data[\"Wavelength\"].astype(float)"
   ]
  },
  {
   "cell_type": "code",
   "execution_count": 30,
   "id": "a91765f7-aaf6-47e7-a0b2-3e2dc795355b",
   "metadata": {},
   "outputs": [
    {
     "data": {
      "text/plain": [
       "Index(['True Width', 'PSF Type', 'Colour', 'Directory', 'Profile',\n",
       "       'Profile 0 DoF', 'Observed Width', 'Observed Width 0 DoF',\n",
       "       'Wavelength'],\n",
       "      dtype='object')"
      ]
     },
     "execution_count": 30,
     "metadata": {},
     "output_type": "execute_result"
    }
   ],
   "source": [
    "data.columns"
   ]
  },
  {
   "cell_type": "code",
   "execution_count": 33,
   "id": "141b347e-05ba-43c0-b9e8-2fe91826404e",
   "metadata": {},
   "outputs": [
    {
     "data": {
      "text/html": [
       "<div>\n",
       "<style scoped>\n",
       "    .dataframe tbody tr th:only-of-type {\n",
       "        vertical-align: middle;\n",
       "    }\n",
       "\n",
       "    .dataframe tbody tr th {\n",
       "        vertical-align: top;\n",
       "    }\n",
       "\n",
       "    .dataframe thead th {\n",
       "        text-align: right;\n",
       "    }\n",
       "</style>\n",
       "<table border=\"1\" class=\"dataframe\">\n",
       "  <thead>\n",
       "    <tr style=\"text-align: right;\">\n",
       "      <th></th>\n",
       "      <th>True Width</th>\n",
       "      <th>PSF Type</th>\n",
       "      <th>Colour</th>\n",
       "      <th>Directory</th>\n",
       "      <th>Observed Width</th>\n",
       "      <th>Observed Width 0 DoF</th>\n",
       "      <th>Wavelength</th>\n",
       "      <th>Profile type</th>\n",
       "      <th>Profile</th>\n",
       "    </tr>\n",
       "  </thead>\n",
       "  <tbody>\n",
       "    <tr>\n",
       "      <th>0</th>\n",
       "      <td>0.52</td>\n",
       "      <td>ePSF</td>\n",
       "      <td>darkred</td>\n",
       "      <td>targeted_simulation_output_cyto/0.52_iPSF_ePSF...</td>\n",
       "      <td>135.772126</td>\n",
       "      <td>153.261746</td>\n",
       "      <td>0.7</td>\n",
       "      <td>0 DoF</td>\n",
       "      <td>[0.2947565705721415, 0.2982540204683075, 0.301...</td>\n",
       "    </tr>\n",
       "    <tr>\n",
       "      <th>1</th>\n",
       "      <td>0.52</td>\n",
       "      <td>ePSF</td>\n",
       "      <td>green</td>\n",
       "      <td>targeted_simulation_output_cyto/0.52_iPSF_ePSF...</td>\n",
       "      <td>121.498652</td>\n",
       "      <td>134.897260</td>\n",
       "      <td>0.5</td>\n",
       "      <td>0 DoF</td>\n",
       "      <td>[0.17914206135274396, 0.1812870947051215, 0.18...</td>\n",
       "    </tr>\n",
       "    <tr>\n",
       "      <th>2</th>\n",
       "      <td>0.52</td>\n",
       "      <td>tPSF</td>\n",
       "      <td>0.4</td>\n",
       "      <td>targeted_simulation_output_cyto/0.52_tPSF_0.4....</td>\n",
       "      <td>108.622033</td>\n",
       "      <td>119.478155</td>\n",
       "      <td>0.4</td>\n",
       "      <td>0 DoF</td>\n",
       "      <td>[0.0038694068889722558, 0.0039890347498548456,...</td>\n",
       "    </tr>\n",
       "    <tr>\n",
       "      <th>3</th>\n",
       "      <td>0.52</td>\n",
       "      <td>tPSF</td>\n",
       "      <td>0.5</td>\n",
       "      <td>targeted_simulation_output_cyto/0.52_tPSF_0.5....</td>\n",
       "      <td>108.401245</td>\n",
       "      <td>120.310052</td>\n",
       "      <td>0.5</td>\n",
       "      <td>0 DoF</td>\n",
       "      <td>[0.004279060903052279, 0.004410338210370989, 0...</td>\n",
       "    </tr>\n",
       "    <tr>\n",
       "      <th>4</th>\n",
       "      <td>0.52</td>\n",
       "      <td>tPSF</td>\n",
       "      <td>0.6</td>\n",
       "      <td>targeted_simulation_output_cyto/0.52_tPSF_0.6....</td>\n",
       "      <td>108.320200</td>\n",
       "      <td>121.008006</td>\n",
       "      <td>0.6</td>\n",
       "      <td>0 DoF</td>\n",
       "      <td>[0.004961845045253567, 0.005066207440118057, 0...</td>\n",
       "    </tr>\n",
       "  </tbody>\n",
       "</table>\n",
       "</div>"
      ],
      "text/plain": [
       "   True Width PSF Type   Colour  \\\n",
       "0        0.52     ePSF  darkred   \n",
       "1        0.52     ePSF    green   \n",
       "2        0.52     tPSF      0.4   \n",
       "3        0.52     tPSF      0.5   \n",
       "4        0.52     tPSF      0.6   \n",
       "\n",
       "                                           Directory  Observed Width  \\\n",
       "0  targeted_simulation_output_cyto/0.52_iPSF_ePSF...      135.772126   \n",
       "1  targeted_simulation_output_cyto/0.52_iPSF_ePSF...      121.498652   \n",
       "2  targeted_simulation_output_cyto/0.52_tPSF_0.4....      108.622033   \n",
       "3  targeted_simulation_output_cyto/0.52_tPSF_0.5....      108.401245   \n",
       "4  targeted_simulation_output_cyto/0.52_tPSF_0.6....      108.320200   \n",
       "\n",
       "   Observed Width 0 DoF  Wavelength Profile type  \\\n",
       "0            153.261746         0.7        0 DoF   \n",
       "1            134.897260         0.5        0 DoF   \n",
       "2            119.478155         0.4        0 DoF   \n",
       "3            120.310052         0.5        0 DoF   \n",
       "4            121.008006         0.6        0 DoF   \n",
       "\n",
       "                                             Profile  \n",
       "0  [0.2947565705721415, 0.2982540204683075, 0.301...  \n",
       "1  [0.17914206135274396, 0.1812870947051215, 0.18...  \n",
       "2  [0.0038694068889722558, 0.0039890347498548456,...  \n",
       "3  [0.004279060903052279, 0.004410338210370989, 0...  \n",
       "4  [0.004961845045253567, 0.005066207440118057, 0...  "
      ]
     },
     "execution_count": 33,
     "metadata": {},
     "output_type": "execute_result"
    }
   ],
   "source": [
    "# Rename the existing 'Profile' column\n",
    "data = data.rename(columns={'Profile': 'Existing Profile'})\n",
    "\n",
    "# List of columns to retain (all columns except 'Profile 0 DoF' and 'Profile')\n",
    "id_columns = [col for col in data.columns if col not in ['Profile 0 DoF', 'Existing Profile']]\n",
    "\n",
    "# Perform the melting operation\n",
    "melted_data = data.melt(id_vars=id_columns, \n",
    "                        value_vars=['Profile 0 DoF', 'Existing Profile'], \n",
    "                        var_name='Profile type', \n",
    "                        value_name='Profile')\n",
    "\n",
    "# Adjust the 'Profile type' values\n",
    "melted_data['Profile type'] = melted_data['Profile type'].replace({'Profile 0 DoF': '0 DoF', 'Existing Profile': 'Width DoF'})\n",
    "\n",
    "melted_data.head()\n"
   ]
  },
  {
   "cell_type": "code",
   "execution_count": 53,
   "id": "dd21a255-f6e3-4c77-9f1a-5c457b5aa7ac",
   "metadata": {},
   "outputs": [],
   "source": [
    "melted_data['Observed Width'] = melted_data['Profile'].apply(get_width)"
   ]
  },
  {
   "cell_type": "code",
   "execution_count": 54,
   "id": "952153ef-b37f-49c0-920f-03aa87998d72",
   "metadata": {},
   "outputs": [],
   "source": [
    "melted_data[\"Observed Width / True Width\"] = melted_data[\"Observed Width\"] / melted_data[\"True Width\"]"
   ]
  },
  {
   "cell_type": "code",
   "execution_count": 67,
   "id": "87a7e8db-4484-49c2-8e61-250bffc3dceb",
   "metadata": {},
   "outputs": [],
   "source": [
    "melted_data.to_pickle(\"membrane_targeted_simulation_data_cyto.pickle\")"
   ]
  },
  {
   "cell_type": "code",
   "execution_count": 68,
   "id": "db0f607e-bb2e-491d-b44e-7274ec3a2ef9",
   "metadata": {},
   "outputs": [
    {
     "data": {
      "text/html": [
       "<div>\n",
       "<style scoped>\n",
       "    .dataframe tbody tr th:only-of-type {\n",
       "        vertical-align: middle;\n",
       "    }\n",
       "\n",
       "    .dataframe tbody tr th {\n",
       "        vertical-align: top;\n",
       "    }\n",
       "\n",
       "    .dataframe thead th {\n",
       "        text-align: right;\n",
       "    }\n",
       "</style>\n",
       "<table border=\"1\" class=\"dataframe\">\n",
       "  <thead>\n",
       "    <tr style=\"text-align: right;\">\n",
       "      <th></th>\n",
       "      <th>True Width</th>\n",
       "      <th>PSF Type</th>\n",
       "      <th>Colour</th>\n",
       "      <th>Directory</th>\n",
       "      <th>Observed Width</th>\n",
       "      <th>Observed Width 0 DoF</th>\n",
       "      <th>Wavelength</th>\n",
       "      <th>Profile type</th>\n",
       "      <th>Profile</th>\n",
       "      <th>Observed Width / True Width</th>\n",
       "    </tr>\n",
       "  </thead>\n",
       "  <tbody>\n",
       "    <tr>\n",
       "      <th>186</th>\n",
       "      <td>1.02</td>\n",
       "      <td>ePSF</td>\n",
       "      <td>darkred</td>\n",
       "      <td>targeted_simulation_output_cyto/1.019999999999...</td>\n",
       "      <td>1.035158</td>\n",
       "      <td>274.069026</td>\n",
       "      <td>0.7</td>\n",
       "      <td>Width DoF</td>\n",
       "      <td>[0.2729451492537979, 0.2751580685761608, 0.277...</td>\n",
       "      <td>1.014861</td>\n",
       "    </tr>\n",
       "    <tr>\n",
       "      <th>187</th>\n",
       "      <td>1.02</td>\n",
       "      <td>ePSF</td>\n",
       "      <td>green</td>\n",
       "      <td>targeted_simulation_output_cyto/1.019999999999...</td>\n",
       "      <td>0.989502</td>\n",
       "      <td>248.607414</td>\n",
       "      <td>0.5</td>\n",
       "      <td>Width DoF</td>\n",
       "      <td>[0.19592056292507928, 0.19797597522894034, 0.2...</td>\n",
       "      <td>0.970100</td>\n",
       "    </tr>\n",
       "    <tr>\n",
       "      <th>188</th>\n",
       "      <td>1.02</td>\n",
       "      <td>tPSF</td>\n",
       "      <td>0.4</td>\n",
       "      <td>targeted_simulation_output_cyto/1.019999999999...</td>\n",
       "      <td>0.954547</td>\n",
       "      <td>234.612298</td>\n",
       "      <td>0.4</td>\n",
       "      <td>Width DoF</td>\n",
       "      <td>[0.003988646627405657, 0.004158390337740272, 0...</td>\n",
       "      <td>0.935831</td>\n",
       "    </tr>\n",
       "    <tr>\n",
       "      <th>189</th>\n",
       "      <td>1.02</td>\n",
       "      <td>tPSF</td>\n",
       "      <td>0.5</td>\n",
       "      <td>targeted_simulation_output_cyto/1.019999999999...</td>\n",
       "      <td>0.947284</td>\n",
       "      <td>234.816679</td>\n",
       "      <td>0.5</td>\n",
       "      <td>Width DoF</td>\n",
       "      <td>[0.004299476802379675, 0.004477740403718901, 0...</td>\n",
       "      <td>0.928709</td>\n",
       "    </tr>\n",
       "    <tr>\n",
       "      <th>190</th>\n",
       "      <td>1.02</td>\n",
       "      <td>tPSF</td>\n",
       "      <td>0.6</td>\n",
       "      <td>targeted_simulation_output_cyto/1.019999999999...</td>\n",
       "      <td>0.941189</td>\n",
       "      <td>235.139427</td>\n",
       "      <td>0.6</td>\n",
       "      <td>Width DoF</td>\n",
       "      <td>[0.004680596061466006, 0.00486772690112046, 0....</td>\n",
       "      <td>0.922734</td>\n",
       "    </tr>\n",
       "    <tr>\n",
       "      <th>191</th>\n",
       "      <td>1.02</td>\n",
       "      <td>tPSF</td>\n",
       "      <td>0.7</td>\n",
       "      <td>targeted_simulation_output_cyto/1.019999999999...</td>\n",
       "      <td>0.935309</td>\n",
       "      <td>235.427770</td>\n",
       "      <td>0.7</td>\n",
       "      <td>Width DoF</td>\n",
       "      <td>[0.005056502344679773, 0.005266809708698223, 0...</td>\n",
       "      <td>0.916969</td>\n",
       "    </tr>\n",
       "  </tbody>\n",
       "</table>\n",
       "</div>"
      ],
      "text/plain": [
       "     True Width PSF Type   Colour  \\\n",
       "186        1.02     ePSF  darkred   \n",
       "187        1.02     ePSF    green   \n",
       "188        1.02     tPSF      0.4   \n",
       "189        1.02     tPSF      0.5   \n",
       "190        1.02     tPSF      0.6   \n",
       "191        1.02     tPSF      0.7   \n",
       "\n",
       "                                             Directory  Observed Width  \\\n",
       "186  targeted_simulation_output_cyto/1.019999999999...        1.035158   \n",
       "187  targeted_simulation_output_cyto/1.019999999999...        0.989502   \n",
       "188  targeted_simulation_output_cyto/1.019999999999...        0.954547   \n",
       "189  targeted_simulation_output_cyto/1.019999999999...        0.947284   \n",
       "190  targeted_simulation_output_cyto/1.019999999999...        0.941189   \n",
       "191  targeted_simulation_output_cyto/1.019999999999...        0.935309   \n",
       "\n",
       "     Observed Width 0 DoF  Wavelength Profile type  \\\n",
       "186            274.069026         0.7    Width DoF   \n",
       "187            248.607414         0.5    Width DoF   \n",
       "188            234.612298         0.4    Width DoF   \n",
       "189            234.816679         0.5    Width DoF   \n",
       "190            235.139427         0.6    Width DoF   \n",
       "191            235.427770         0.7    Width DoF   \n",
       "\n",
       "                                               Profile  \\\n",
       "186  [0.2729451492537979, 0.2751580685761608, 0.277...   \n",
       "187  [0.19592056292507928, 0.19797597522894034, 0.2...   \n",
       "188  [0.003988646627405657, 0.004158390337740272, 0...   \n",
       "189  [0.004299476802379675, 0.004477740403718901, 0...   \n",
       "190  [0.004680596061466006, 0.00486772690112046, 0....   \n",
       "191  [0.005056502344679773, 0.005266809708698223, 0...   \n",
       "\n",
       "     Observed Width / True Width  \n",
       "186                     1.014861  \n",
       "187                     0.970100  \n",
       "188                     0.935831  \n",
       "189                     0.928709  \n",
       "190                     0.922734  \n",
       "191                     0.916969  "
      ]
     },
     "execution_count": 68,
     "metadata": {},
     "output_type": "execute_result"
    }
   ],
   "source": [
    "melted_data.query(\"`True Width` < 1.05 & `True Width` > 1 & `Profile type` == 'Width DoF'\")"
   ]
  },
  {
   "cell_type": "code",
   "execution_count": 69,
   "id": "41005d05-504a-4da9-95d3-87bafa5a9368",
   "metadata": {},
   "outputs": [],
   "source": [
    "pix_mic_conv = 0.065 / 15\n",
    "resize_amount = 1\n",
    "sim_width = melted_data.query(\"`True Width` < 1.05 & `True Width` > 1 & `Profile type` == 'Width DoF' & Wavelength == 0.7 & `PSF Type` == 'ePSF'\")[\"True Width\"].iloc[0]"
   ]
  },
  {
   "cell_type": "code",
   "execution_count": 70,
   "id": "80c19d99-a350-4b46-b52d-6ba2e82cb9a1",
   "metadata": {},
   "outputs": [],
   "source": [
    "a_cell = np.pad(raster_cell_3d(3/pix_mic_conv, sim_width/pix_mic_conv, 0), ((0,0), (50, 50), (50,50)))\n",
    "unconv_profile = a_cell.sum(axis=0)[a_cell.shape[1]//2]\n",
    "unconv_profile = unconv_profile/unconv_profile.max()"
   ]
  },
  {
   "cell_type": "code",
   "execution_count": 71,
   "id": "cd64bc54-136c-40ff-8ceb-f479799af2c5",
   "metadata": {},
   "outputs": [],
   "source": [
    "plot_profile_red = melted_data.query(\"`True Width` < 1.05 & `True Width` > 1 & `Profile type` == 'Width DoF' & Wavelength == 0.7 & `PSF Type` == 'ePSF'\")[\"Profile\"].iloc[0]\n",
    "plot_profile_red = plot_profile_red/plot_profile_red.max()\n",
    "\n",
    "plot_profile_green = melted_data.query(\"`True Width` < 1.05 & `True Width` > 1 & `Profile type` == 'Width DoF' & Wavelength == 0.5 & `PSF Type` == 'ePSF'\")[\"Profile\"].iloc[0]\n",
    "plot_profile_green = plot_profile_green/plot_profile_green.max()\n",
    "\n",
    "plot_profile_green_tPSF = melted_data.query(\"`True Width` < 1.05 & `True Width` > 1 & `Profile type` == 'Width DoF' & Wavelength == 0.5 & `PSF Type` == 'tPSF'\")[\"Profile\"].iloc[0]\n",
    "plot_profile_green_tPSF = plot_profile_green_tPSF/plot_profile_green_tPSF.max()"
   ]
  },
  {
   "cell_type": "code",
   "execution_count": 72,
   "id": "c34cb7cc-72ac-461c-be9c-abf0a5b5f373",
   "metadata": {},
   "outputs": [
    {
     "data": {
      "text/plain": [
       "(-0.7, 0.7)"
      ]
     },
     "execution_count": 72,
     "metadata": {},
     "output_type": "execute_result"
    },
    {
     "data": {
      "image/png": "[encoded data removed]",
      "text/plain": [
       "<Figure size 480x480 with 1 Axes>"
      ]
     },
     "metadata": {},
     "output_type": "display_data"
    }
   ],
   "source": [
    "fig, ax = plt.subplots(1,1, figsize=(2.4,2.4), dpi = 200)\n",
    "plt.xlabel(\"Distance ($\\mu m$)\")\n",
    "plt.ylabel(\"Intensity (AU)\")\n",
    "plt.subplots_adjust(left=0.3, bottom=0.22)\n",
    "\n",
    "x_axis = np.arange(-len(unconv_profile)/2,len(unconv_profile)/2) * pix_mic_conv\n",
    "plt.plot(x_axis,unconv_profile, c = \"grey\")\n",
    "plt.plot(x_axis,plot_profile_red, c = \"red\")\n",
    "left_border = np.nonzero(unconv_profile)[0][0]\n",
    "right_border = np.nonzero(unconv_profile)[0][-1]\n",
    "plt.plot([-sim_width/2, -sim_width/2],[0,1], c = \"k\", linestyle = \":\")\n",
    "plt.plot([sim_width/2, sim_width/2],[0,1], c = \"k\", linestyle = \":\")\n",
    "plt.xlim(-0.7,0.7)"
   ]
  },
  {
   "cell_type": "code",
   "execution_count": 73,
   "id": "9ba1ee50-2023-486a-ba87-954e1aea8954",
   "metadata": {},
   "outputs": [
    {
     "data": {
      "text/plain": [
       "(0.3, 0.7)"
      ]
     },
     "execution_count": 73,
     "metadata": {},
     "output_type": "execute_result"
    },
    {
     "data": {
      "image/png": "[encoded data removed]",
      "text/plain": [
       "<Figure size 480x480 with 1 Axes>"
      ]
     },
     "metadata": {},
     "output_type": "display_data"
    }
   ],
   "source": [
    "fig, ax = plt.subplots(1,1, figsize=(2.4,2.4), dpi = 200)\n",
    "plt.xlabel(\"Distance ($\\mu m$)\")\n",
    "plt.ylabel(\"Intensity (AU)\")\n",
    "plt.subplots_adjust(left=0.3, bottom=0.22)\n",
    "x_axis = np.arange(-len(unconv_profile)/2,len(unconv_profile)/2) * pix_mic_conv\n",
    "tPSF_x_axis = np.arange(-len(plot_profile_green_tPSF)/2,len(plot_profile_green_tPSF)/2) * pix_mic_conv\n",
    "plt.plot(x_axis,unconv_profile, c = \"grey\")\n",
    "plt.plot(x_axis,plot_profile_red, c = \"red\")\n",
    "plt.plot(x_axis,plot_profile_green, c = \"green\")\n",
    "plt.plot(tPSF_x_axis,plot_profile_green_tPSF, c = \"green\", linestyle = \":\")\n",
    "\n",
    "left_border = np.nonzero(unconv_profile)[0][0]\n",
    "right_border = np.nonzero(unconv_profile)[0][-1]\n",
    "plt.plot([-sim_width/2, -sim_width/2],[0,1], c = \"k\", linestyle = \":\")\n",
    "plt.plot([sim_width/2, sim_width/2],[0,1], c = \"k\", linestyle = \":\")\n",
    "plt.xlim(0.3,0.7)\n"
   ]
  },
  {
   "cell_type": "code",
   "execution_count": 74,
   "id": "bd5acb25-3dfb-47ce-b734-f9abbd195a34",
   "metadata": {},
   "outputs": [
    {
     "data": {
      "text/plain": [
       "Text(0, 0.5, 'Observed / True width')"
      ]
     },
     "execution_count": 74,
     "metadata": {},
     "output_type": "execute_result"
    },
    {
     "data": {
      "image/png": "[encoded data removed]",
      "text/plain": [
       "<Figure size 480x240 with 1 Axes>"
      ]
     },
     "metadata": {},
     "output_type": "display_data"
    }
   ],
   "source": [
    "fig, ax = plt.subplots(1,1, figsize=(2.4,1.2), dpi = 200)\n",
    "sns.barplot(melted_data.query(\"`True Width` < 1.05 & `True Width` > 1 & `Profile type` == 'Width DoF'\"), x = \"Wavelength\", y = \"Observed Width / True Width\", hue = \"PSF Type\", palette=\"Set2\")\n",
    "plt.subplots_adjust(left=0.31, bottom=0.43)\n",
    "plt.xlabel(\"Wavelength ($\\mu m$)\")\n",
    "plt.ylabel(\"Observed / True width\")"
   ]
  },
  {
   "cell_type": "code",
   "execution_count": 75,
   "id": "8061d275-9da3-4b18-8b47-8ad6f8a62fa5",
   "metadata": {},
   "outputs": [
    {
     "data": {
      "image/png": "[encoded data removed]",
      "text/plain": [
       "<Figure size 480x240 with 1 Axes>"
      ]
     },
     "metadata": {},
     "output_type": "display_data"
    }
   ],
   "source": [
    "fig, ax = plt.subplots(1,1, figsize=(2.4,1.2), dpi = 200)\n",
    "sns.lineplot(melted_data.query(\"`PSF Type` == 'ePSF'\"), x = \"True Width\", y = \"Observed Width / True Width\", hue = \"Wavelength\", style=\"Profile type\", palette=\"Set2\")\n",
    "plt.subplots_adjust(left=0.31, bottom=0.43)\n"
   ]
  },
  {
   "cell_type": "code",
   "execution_count": null,
   "id": "5e5c947d-6ae2-4a51-9270-ae17dad2af0d",
   "metadata": {},
   "outputs": [],
   "source": []
  }
 ],
 "metadata": {
  "kernelspec": {
   "display_name": "Python [conda env:symbac]",
   "language": "python",
   "name": "conda-env-symbac-py"
  },
  "language_info": {
   "codemirror_mode": {
    "name": "ipython",
    "version": 3
   },
   "file_extension": ".py",
   "mimetype": "text/x-python",
   "name": "python",
   "nbconvert_exporter": "python",
   "pygments_lexer": "ipython3",
   "version": "3.10.9"
  }
 },
 "nbformat": 4,
 "nbformat_minor": 5
}
