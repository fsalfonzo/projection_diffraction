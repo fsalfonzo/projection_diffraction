{
 "cells": [
  {
   "cell_type": "code",
   "execution_count": 1,
   "id": "5f036cbd-3872-4eaa-8f8a-ab0bc496ba3e",
   "metadata": {
    "tags": []
   },
   "outputs": [],
   "source": [
    "%load_ext autoreload\n",
    "%autoreload 2"
   ]
  },
  {
   "cell_type": "code",
   "execution_count": 2,
   "id": "fae98f5c-72a5-4021-b860-5c45f5259e36",
   "metadata": {
    "tags": []
   },
   "outputs": [],
   "source": [
    "import sys\n",
    "sys.path.insert(1, '../SyMBac/') # Not needed if you installed SyMBac using pip\n",
    "sys.path.insert(1, '../SyMBac/') # Not needed if you installed SyMBac using pip\n",
    "\n",
    "import ray\n",
    "from SyMBac.drawing import raster_cell, OPL_to_FL\n",
    "from SyMBac.PSF import PSF_generator\n",
    "from SyMBac.renderer import convolve_rescale\n",
    "import matplotlib.pyplot as plt\n",
    "import numpy as np\n",
    "from tqdm.auto import tqdm\n",
    "from PIL import Image\n",
    "from skimage.util import img_as_uint\n",
    "import os\n",
    "from joblib import Parallel, delayed\n",
    "from glob import glob\n",
    "from SyMBac.colony_renderer import ColonyRenderer\n",
    "import noise\n",
    "from skimage.filters import threshold_otsu\n",
    "from skimage.transform import rescale, resize, downscale_local_mean\n",
    "from scipy.signal import find_peaks\n",
    "import pandas as pd"
   ]
  },
  {
   "cell_type": "code",
   "execution_count": 3,
   "id": "6f29f6c0-2149-4636-8354-7ef1b0a830e0",
   "metadata": {
    "tags": []
   },
   "outputs": [],
   "source": [
    "def perlin_generator(shape, resize_amount, scale = 5, octaves = 10, persistence = 1.9, lacunarity = 1.8):\n",
    "\n",
    "        y, x = np.round(shape[0] / resize_amount).astype(int), np.round(shape[1] / resize_amount).astype(int)\n",
    "\n",
    "        world = np.zeros((x, y))\n",
    "\n",
    "        # make coordinate grid on [0,1]^2\n",
    "        x_idx = np.linspace(0, 1, y)\n",
    "        y_idx = np.linspace(0, 1, x)\n",
    "        world_x, world_y = np.meshgrid(x_idx, y_idx)\n",
    "\n",
    "        # apply perlin noise, instead of np.vectorize, consider using itertools.starmap()\n",
    "        world = np.vectorize(noise.pnoise2)(world_x / scale,\n",
    "                                            world_y / scale,\n",
    "                                            octaves=octaves,\n",
    "                                            persistence=persistence,\n",
    "                                            lacunarity=lacunarity)\n",
    "\n",
    "        # here was the error: one needs to normalize the image first. Could be done without copying the array, though\n",
    "        img = np.floor((world + .5) * 255).astype(np.uint8)  # <- Normalize world first\n",
    "        return img\n"
   ]
  },
  {
   "cell_type": "code",
   "execution_count": 4,
   "id": "4d0200b4-70b5-4b48-8cc6-963b0b3446c1",
   "metadata": {
    "tags": []
   },
   "outputs": [],
   "source": [
    "from numba import njit"
   ]
  },
  {
   "cell_type": "code",
   "execution_count": 5,
   "id": "6f768335-3697-40d2-ad4c-f642c3ae9949",
   "metadata": {
    "tags": []
   },
   "outputs": [],
   "source": [
    "def raster_cell(length, width, separation = 0, additional_width = 0, pinching=True):\n",
    "    \"\"\"\n",
    "    Produces a rasterised image of a cell with the intensiity of each pixel corresponding to the optical path length\n",
    "    (thickness) of the cell at that point.\n",
    "\n",
    "    :param int length: Cell length in pixels\n",
    "    :param int width: Cell width in pixels\n",
    "    :param int separation: An int between (0, `width`) controlling how much pinching is happening.\n",
    "    :param bool pinching: Controls whether pinching is happening\n",
    "\n",
    "    Returns\n",
    "    -------\n",
    "\n",
    "    cell : np.array\n",
    "       A numpy array which contains an OPL image of the cell. Can be converted to a mask by just taking ``cell > 0``.\n",
    "\n",
    "    \"\"\"\n",
    "\n",
    "    L = int(np.rint(length))\n",
    "    W = int(np.rint(width))\n",
    "    new_cell = np.zeros((L, W))\n",
    "    R = (W - 1) / 2\n",
    "\n",
    "    x_cyl = np.arange(0, 2 * R + 1, 1)\n",
    "    I_cyl = np.sqrt(R ** 2 - (x_cyl - R) ** 2)\n",
    "    L_cyl = L - W\n",
    "    new_cell[int(W / 2):-int(W / 2), :] = I_cyl\n",
    "\n",
    "    x_sphere = np.arange(0, int(W / 2), 1)\n",
    "    sphere_Rs = np.sqrt((R) ** 2 - (x_sphere - R) ** 2)\n",
    "    sphere_Rs = np.rint(sphere_Rs).astype(int)\n",
    "\n",
    "    for c in range(len(sphere_Rs)):\n",
    "        R_ = sphere_Rs[c]\n",
    "        x_cyl = np.arange(0, R_, 1)\n",
    "        I_cyl = np.sqrt(R_ ** 2 - (x_cyl - R_) ** 2)\n",
    "        new_cell[c, int(W / 2) - sphere_Rs[c]:int(W / 2) + sphere_Rs[c]] = np.concatenate((I_cyl, I_cyl[::-1]))\n",
    "        new_cell[L - c - 1, int(W / 2) - sphere_Rs[c]:int(W / 2) + sphere_Rs[c]] = np.concatenate((I_cyl, I_cyl[::-1]))\n",
    "\n",
    "    if separation > 2 and pinching:\n",
    "        S = int(np.rint(separation))\n",
    "        new_cell[int((L - S) / 2) + 1:-int((L - S) / 2) - 1, :] = 0\n",
    "        for c in range(int((S+1) / 2)):\n",
    "            R__ = sphere_Rs[-c - 1]\n",
    "            x_cyl_ = np.arange(0, R__, 1)\n",
    "            I_cyl_ = np.sqrt(R__ ** 2 - (x_cyl_ - R__) ** 2)\n",
    "            new_cell[int((L-S) / 2) + c + 1, int(W / 2) - R__:int(W / 2) + R__] = np.concatenate((I_cyl_, I_cyl_[::-1]))\n",
    "            new_cell[-int((L-S) / 2) - c - 1, int(W / 2) - R__:int(W / 2) + R__] = np.concatenate((I_cyl_, I_cyl_[::-1]))\n",
    "    new_cell = new_cell.astype(int)\n",
    "            \n",
    "    \n",
    "    if additional_width>=1:\n",
    "        additional_width = int(additional_width)\n",
    "        wide_cell = np.zeros((new_cell.shape[0], int(new_cell.shape[1] + additional_width)))\n",
    "        wide_cell[:,:new_cell.shape[1]//2] = new_cell[:,:new_cell.shape[1]//2]\n",
    "        wide_cell[:,new_cell.shape[1]//2 + additional_width:] = new_cell[:,new_cell.shape[1]//2:]\n",
    "        wide_cell[:,new_cell.shape[1]//2:new_cell.shape[1]//2 + additional_width] = np.repeat(new_cell[:,new_cell.shape[1]//2].reshape(-1,1), additional_width, axis=1)\n",
    "        return wide_cell\n",
    "    \n",
    "    if additional_width<=1:\n",
    "        new_cell[np.where(new_cell)] += int(abs(additional_width))\n",
    "    \n",
    "    return new_cell"
   ]
  },
  {
   "cell_type": "code",
   "execution_count": 6,
   "id": "bd534d78-2011-406c-b7ea-8b0e08098eae",
   "metadata": {
    "tags": []
   },
   "outputs": [],
   "source": [
    "@njit\n",
    "def generate_deviation_from_CL(centreline, thickness):\n",
    "    return np.arange(thickness) + centreline - int(np.ceil(thickness ))\n",
    "\n",
    "@njit\n",
    "def gen_3D_coords_from_2D(test_cells, centreline, thickness):\n",
    "    return np.where(test_cells == thickness) + (generate_deviation_from_CL(centreline, thickness),)\n",
    "\n",
    "@njit\n",
    "def convert_to_3D_numba(cell):\n",
    "    expanded_scene = cell\n",
    "    volume_shape = expanded_scene.shape[0:] + (int(expanded_scene.max()*2),)\n",
    "    test_cells = rounder(expanded_scene)\n",
    "    centreline = int(expanded_scene.max() )\n",
    "    cells_3D = np.zeros(volume_shape,dtype = np.ubyte)\n",
    "    for t in range(int(expanded_scene.max() *2 )):\n",
    "        test_coords = gen_3D_coords_from_2D(test_cells, centreline, t)\n",
    "        for x, y in zip(test_coords[0], (test_coords[1])):\n",
    "            for z in test_coords[2]:\n",
    "                cells_3D[x, y, z] = 1\n",
    "    return cells_3D\n",
    "\n",
    "def convert_to_3D(cell):\n",
    "    cells_3D = convert_to_3D_numba(cell)\n",
    "    cells_3D = np.moveaxis(cells_3D, -1, 0)\n",
    "    cells_3D[cells_3D.shape[0]//2:,:, :] = cells_3D[:cells_3D.shape[0]//2,:, :][::-1]\n",
    "    return cells_3D\n",
    "    #cells_3D = np.pad(cells_3D, ((100,100), (50,50), (50,50)))\n",
    "#cells_3D.shape"
   ]
  },
  {
   "cell_type": "code",
   "execution_count": 7,
   "id": "620bdd67-e39b-4a6a-8fb2-4ad5a0c5d33f",
   "metadata": {
    "tags": []
   },
   "outputs": [],
   "source": [
    "@njit\n",
    "def rounder(x):\n",
    "    out = np.empty_like(x)\n",
    "    np.round(x, 0, out)\n",
    "    return out"
   ]
  },
  {
   "cell_type": "code",
   "execution_count": 8,
   "id": "f5620a83-0cd5-4556-b3d0-e301ec991bc8",
   "metadata": {
    "tags": []
   },
   "outputs": [],
   "source": [
    "additional_width = 0\n",
    "raster_additional_width = 0"
   ]
  },
  {
   "cell_type": "code",
   "execution_count": 9,
   "id": "a1adfe0c-a998-48a1-b711-88be9231c55a",
   "metadata": {
    "tags": []
   },
   "outputs": [],
   "source": [
    "def raster_membrane_cell_3d(raster_cell_length, raster_cell_width, raster_slice_amount):\n",
    "\n",
    "\n",
    "    membrane_thickness = 0.1 #micron\n",
    "    raster_membrane_thickness = membrane_thickness/pix_mic_conv * resize_amount\n",
    "    cell_1 = raster_cell(length=round(raster_cell_length/2)*2, width=round(raster_cell_width/2)*2, additional_width=raster_additional_width)\n",
    "    cell_2 = raster_cell(length=round((raster_cell_length - raster_membrane_thickness)/2)*2, width=round((raster_cell_width - raster_membrane_thickness)/2)*2, additional_width=raster_additional_width)\n",
    "\n",
    "    cell_1_3d = convert_to_3D(cell_1)\n",
    "    cell_2_3d = convert_to_3D(cell_2)\n",
    "\n",
    "    \n",
    "    pad_1 = int((cell_1_3d.shape[0] - cell_2_3d.shape[0])/2)\n",
    "    pad_2 = int((cell_1_3d.shape[1] - cell_2_3d.shape[1])/2)\n",
    "    pad_3 = int((cell_1_3d.shape[2] - cell_2_3d.shape[2])/2)\n",
    "\n",
    "    cell_2_3d = np.pad(cell_2_3d, ((pad_1,pad_1), (pad_2, pad_2), (pad_3, pad_3)))\n",
    "    \n",
    "    cell_3d = cell_1_3d - cell_2_3d\n",
    "    \n",
    "    if raster_slice_amount:\n",
    "        \n",
    "        cell_3d = cell_3d[int(raster_slice_amount//2):-int(raster_slice_amount//2),:,:]\n",
    "    \n",
    "    return cell_3d"
   ]
  },
  {
   "cell_type": "code",
   "execution_count": 10,
   "id": "ba682ff8-63b8-4202-89a5-8ac422c52bd7",
   "metadata": {
    "tags": []
   },
   "outputs": [],
   "source": [
    "def raster_cell_3d(raster_cell_length, raster_cell_width, raster_slice_amount):\n",
    "\n",
    "    cell_1 = raster_cell(length=round(raster_cell_length/2)*2, width=round(raster_cell_width/2)*2, additional_width=raster_additional_width)\n",
    "\n",
    "    cell_1_3d = convert_to_3D(cell_1)\n",
    "    \n",
    "    cell_3d = cell_1_3d \n",
    "    \n",
    "    if raster_slice_amount:\n",
    "        \n",
    "        cell_3d = cell_3d[int(raster_slice_amount//2):-int(raster_slice_amount//2),:,:]\n",
    "    \n",
    "    return cell_3d"
   ]
  },
  {
   "cell_type": "code",
   "execution_count": 11,
   "id": "256e092d-0fa2-4d71-851d-34def1b34672",
   "metadata": {
    "tags": []
   },
   "outputs": [],
   "source": [
    "wavelengths = [0, 0.4, 0.5, 0.6, 0.7]\n",
    "\n",
    "def generate_FL_cell(cell_length, cell_width , slice_amount, pad_amount, ID):\n",
    "    \n",
    "    raster_cell_length = cell_length/pix_mic_conv * resize_amount\n",
    "    raster_cell_width = cell_width/pix_mic_conv * resize_amount\n",
    "    raster_additional_width = additional_width/pix_mic_conv * resize_amount\n",
    "    raster_slice_amount = slice_amount/pix_mic_conv * resize_amount\n",
    "    \n",
    "    \n",
    "    cell = raster_cell_3d(raster_cell_length,raster_cell_width, raster_slice_amount)\n",
    "    name_depth, name_length, name_width = cell.shape\n",
    "\n",
    "    #cell = cell.mean(axis=0)\n",
    "\n",
    "\n",
    "    FL_cell = np.pad(cell,((0,0),(pad_amount,pad_amount),(pad_amount,pad_amount))).astype(np.float32) \n",
    "    \n",
    "    FL_cells = []\n",
    "    for wavelength in wavelengths:\n",
    "        raster_cell_length = cell_length/pix_mic_conv * resize_amount\n",
    "        raster_cell_width = cell_width/pix_mic_conv * resize_amount\n",
    "        raster_additional_width = additional_width/pix_mic_conv * resize_amount\n",
    "        raster_slice_amount = slice_amount/pix_mic_conv * resize_amount\n",
    "        cell_3d = raster_cell_3d(raster_cell_length,raster_cell_width, raster_slice_amount)\n",
    "        cell = cell_3d\n",
    "\n",
    "        name_depth, name_length, name_width = cell_3d.shape\n",
    "        \n",
    "        FL_cell = np.pad(cell,((0,0),(pad_amount,pad_amount),(pad_amount,pad_amount))).astype(np.float32) \n",
    "        \n",
    "        if wavelength:\n",
    "            FL_PSF = PSF_generator(\n",
    "                radius = radius,\n",
    "                wavelength = wavelength,\n",
    "                NA = NA,\n",
    "                n = n,\n",
    "                resize_amount = resize_amount,\n",
    "                pix_mic_conv = pix_mic_conv,\n",
    "                apo_sigma = apo_sigma,\n",
    "                mode=\"3d fluo\",\n",
    "                condenser = \"Ph3\",\n",
    "                z_height = int(round(raster_cell_width)),\n",
    "                pz = 0.5,\n",
    "                working_distance = 170\n",
    "            )\n",
    "            FL_PSF.calculate_PSF()\n",
    "            #FL_PSF.kernel = np.sum(FL_PSF.kernel, axis=0)\n",
    "            \n",
    "        \n",
    "            #FL_cell_conv = convolve_rescale(image=FL_cell, kernel=FL_PSF.kernel, rescale_factor=1/resize_amount, rescale_int = False)\n",
    "            PSF_centre = FL_PSF.kernel.shape[0]//2\n",
    "            cell_centre = FL_cell.shape[0]//2\n",
    "            cell_conv_idxs = np.arange(FL_cell.shape[0])\n",
    "            PSF_conv_idxs = np.arange(PSF_centre-cell_centre,PSF_centre+cell_centre)\n",
    "            FL_cell_conv = np.array(Parallel(n_jobs=1)(delayed(convolve_rescale)(FL_cell[cell_conv_idx].astype(float), FL_PSF.kernel[PSF_conv_idx], 1, False) for cell_conv_idx, PSF_conv_idx in zip(cell_conv_idxs, (PSF_conv_idxs))))\n",
    "        else:\n",
    "            \n",
    "            FL_cell_conv = FL_cell# convolve_rescale(image=FL_cell, kernel=zero_wavelength_PSF, rescale_factor=1/resize_amount, rescale_int = False)\n",
    "        FL_cell_conv = FL_cell_conv.sum(axis=0)\n",
    "        np.save(f\"single_cells_projection_3d//{ID}_FL_{name_length}_{name_width}_{name_depth}_{raster_additional_width}_{wavelength}.npy\", FL_cell_conv)\n",
    "\n",
    "    \n",
    "def generate_membrane_cell(cell_length, cell_width, slice_amount, pad_amount, ID, return_array = False):\n",
    "    \n",
    "    raster_cell_length = cell_length/pix_mic_conv * resize_amount\n",
    "    raster_cell_width = cell_width/pix_mic_conv * resize_amount\n",
    "    raster_slice_amount = slice_amount/pix_mic_conv * resize_amount\n",
    "\n",
    "    membrane_cell = raster_membrane_cell_3d(raster_cell_length, raster_cell_width, raster_slice_amount)\n",
    "\n",
    "    name_depth, name_length, name_width = membrane_cell.shape\n",
    "\n",
    "\n",
    "    membrane_cell = np.pad(membrane_cell,((0,0), (pad_amount, pad_amount), (pad_amount, pad_amount))).astype(np.float32) \n",
    "    \n",
    "    \n",
    "    \n",
    "    \n",
    "    #for wavelength in wavelengths:\n",
    "    def parallel_render(wavelength):\n",
    "        \n",
    "        if wavelength:\n",
    "            FL_PSF = PSF_generator(\n",
    "                    radius = radius,\n",
    "                    wavelength = wavelength,\n",
    "                    NA = NA,\n",
    "                    n = n,\n",
    "                    resize_amount = resize_amount,\n",
    "                    pix_mic_conv = pix_mic_conv,\n",
    "                    apo_sigma = apo_sigma,\n",
    "                    mode=\"3d fluo\",\n",
    "                    condenser = \"Ph3\",\n",
    "                    z_height = int(round(raster_cell_width)),\n",
    "                    pz = 0.5,\n",
    "                    working_distance = 170\n",
    "                )\n",
    "            FL_PSF.calculate_PSF()\n",
    "            #FL_PSF.kernel = np.sum(FL_PSF.kernel, axis=0)\n",
    "\n",
    "            #FL_cell_conv = convolve_rescale(image=FL_cell, kernel=FL_PSF.kernel, rescale_factor=1/resize_amount, rescale_int = False)\n",
    "            PSF_centre = FL_PSF.kernel.shape[0]//2\n",
    "            cell_centre = membrane_cell.shape[0]//2\n",
    "            cell_conv_idxs = np.arange(membrane_cell.shape[0])\n",
    "            PSF_conv_idxs = np.arange(PSF_centre-cell_centre,PSF_centre+cell_centre)\n",
    "            membrane_cell_conv = np.array(Parallel(n_jobs=1)(delayed(convolve_rescale)(membrane_cell[cell_conv_idx].astype(float), FL_PSF.kernel[PSF_conv_idx], 1, False) for cell_conv_idx, PSF_conv_idx in zip(cell_conv_idxs, (PSF_conv_idxs))))\n",
    " \n",
    "            \n",
    "            #membrane_cell_conv = convolve_rescale(image=membrane_cell, kernel=FL_PSF.kernel, rescale_factor=1/resize_amount, rescale_int = False)\n",
    "        else:\n",
    "            membrane_cell_conv = membrane_cell # convolve_rescale(image=membrane_cell, kernel=zero_wavelength_PSF, rescale_factor=1/resize_amount, rescale_int = False)\n",
    "        if return_array:\n",
    "            return membrane_cell_conv\n",
    "        membrane_cell_conv = membrane_cell_conv.sum(axis=0)\n",
    "        np.save(f\"single_cells_projection_3d/{ID}_membrane_{name_length}_{name_width}_{name_depth}_{raster_additional_width}_{wavelength}.npy\", membrane_cell_conv)\n",
    "    _ = Parallel(n_jobs=1)(delayed(parallel_render)(wavelength) for wavelength in wavelengths)    \n",
    "    \n",
    "def generate_binary_cell(cell_length, cell_width, slice_amount, pad_amount, ID):\n",
    "    raster_cell_length = cell_length/pix_mic_conv * resize_amount\n",
    "    raster_cell_width = cell_width/pix_mic_conv * resize_amount\n",
    "    raster_additional_width = additional_width/pix_mic_conv * resize_amount\n",
    "    raster_slice_amount = slice_amount/pix_mic_conv * resize_amount\n",
    "    cell_3d = raster_cell_3d(raster_cell_length,raster_cell_width, raster_slice_amount)\n",
    "    cell = cell_3d.mean(axis=0)\n",
    "    binary_image = np.pad(cell, pad_amount) > 0\n",
    "    binary_image = rescale(binary_image, 1/resize_amount, anti_aliasing=False) > 0\n",
    "    \n",
    "    \n",
    "    raster_depth, raster_cell_length, raster_cell_width = cell_3d.shape\n",
    "        \n",
    "    Image.fromarray(img_as_uint(binary_image)).save(f\"single_cells_projection_3d/{ID}_binary_{raster_cell_length}_{raster_cell_width}_{raster_depth}_{raster_additional_width}_0.6.png\")\n",
    "    \n",
    "    #return binary_image"
   ]
  },
  {
   "cell_type": "code",
   "execution_count": 12,
   "id": "22dd5041-e745-401c-b139-809404d7e133",
   "metadata": {
    "tags": []
   },
   "outputs": [],
   "source": [
    "zero_wavelength_PSF = np.array([[0,0,0],[0,1,0],[0,0,0]])\n",
    "pad_amount = 100\n",
    "\n",
    "radius = 175\n",
    "wavelength = 0.65\n",
    "NA = 1.45\n",
    "n = 1.518\n",
    "resize_amount = 1\n",
    "pix_mic_conv = 0.065 / 6\n",
    "apo_sigma = 10\n"
   ]
  },
  {
   "cell_type": "code",
   "execution_count": 13,
   "id": "2b434eff-c0d8-4deb-a662-ab4166a1f1be",
   "metadata": {
    "tags": []
   },
   "outputs": [
    {
     "name": "stdout",
     "output_type": "stream",
     "text": [
      "507\n"
     ]
    }
   ],
   "source": [
    "cell_length = (3,)\n",
    "grid_size = 28\n",
    "max_width = 3.1\n",
    "cell_width = np.linspace(0.5, max_width, grid_size)\n",
    "slice_amounts = np.arange(0, 3, np.diff(cell_width)[0]).tolist() \n",
    "slice_amounts = slice_amounts + [0]\n",
    "tolerance = 0.1\n",
    "param_space = []\n",
    "widths = []\n",
    "ID = 0\n",
    "for length in cell_length:\n",
    "    for width in cell_width:\n",
    "        if length >= width:\n",
    "            for slice_amount in slice_amounts:\n",
    "                if slice_amount < width:\n",
    "                    param_space.append([length, width, slice_amount, ID])\n",
    "                    ID += 1\n",
    "#param_space = param_space[:16]\n",
    "print(len(param_space))\n"
   ]
  },
  {
   "cell_type": "code",
   "execution_count": 14,
   "id": "1ced1a63-3606-46f5-b8b4-d21779875edc",
   "metadata": {
    "tags": []
   },
   "outputs": [],
   "source": [
    "try:\n",
    "    os.mkdir(\"single_cells_projection_3d/\")\n",
    "except:\n",
    "    pass"
   ]
  },
  {
   "cell_type": "code",
   "execution_count": 15,
   "id": "82ad10f4-13f4-4484-b269-83983a1a0420",
   "metadata": {},
   "outputs": [
    {
     "data": {
      "text/plain": [
       "8"
      ]
     },
     "execution_count": 15,
     "metadata": {},
     "output_type": "execute_result"
    }
   ],
   "source": [
    "8"
   ]
  },
  {
   "cell_type": "code",
   "execution_count": null,
   "id": "f1d845a8-4640-43bb-9aa3-e010cc3a4085",
   "metadata": {
    "tags": []
   },
   "outputs": [
    {
     "data": {
      "application/vnd.jupyter.widget-view+json": {
       "model_id": "412fefec816a4dc486624cf288f23b7e",
       "version_major": 2,
       "version_minor": 0
      },
      "text/plain": [
       "  0%|          | 0/507 [00:00<?, ?it/s]"
      ]
     },
     "metadata": {},
     "output_type": "display_data"
    }
   ],
   "source": [
    "timeout = 999999999\n",
    "_ = Parallel(n_jobs=-1, timeout = timeout)(delayed(generate_FL_cell)(length, width, additional_width,  pad_amount, ID) for length, width, additional_width, ID in tqdm(param_space))"
   ]
  },
  {
   "cell_type": "code",
   "execution_count": 81,
   "id": "50402657-3448-4dc2-a828-9e0be82a86fb",
   "metadata": {
    "collapsed": true,
    "jupyter": {
     "outputs_hidden": true
    },
    "tags": []
   },
   "outputs": [
    {
     "data": {
      "application/vnd.jupyter.widget-view+json": {
       "model_id": "521d0972f9ac4202886109b4b8ed233b",
       "version_major": 2,
       "version_minor": 0
      },
      "text/plain": [
       "  0%|          | 0/507 [00:00<?, ?it/s]"
      ]
     },
     "metadata": {},
     "output_type": "display_data"
    },
    {
     "name": "stderr",
     "output_type": "stream",
     "text": [
      "/tmp/ipykernel_948525/3654680368.py:123: RuntimeWarning: Mean of empty slice.\n",
      "/home/gh464/miniconda3/envs/symbac/lib/python3.10/site-packages/numpy/core/_methods.py:121: RuntimeWarning: invalid value encountered in divide\n",
      "  ret = um.true_divide(\n",
      "/tmp/ipykernel_948525/3654680368.py:123: RuntimeWarning: Mean of empty slice.\n",
      "/home/gh464/miniconda3/envs/symbac/lib/python3.10/site-packages/numpy/core/_methods.py:121: RuntimeWarning: invalid value encountered in divide\n",
      "  ret = um.true_divide(\n",
      "/tmp/ipykernel_948525/3654680368.py:123: RuntimeWarning: Mean of empty slice.\n",
      "/tmp/ipykernel_948525/3654680368.py:123: RuntimeWarning: Mean of empty slice.\n",
      "/tmp/ipykernel_948525/3654680368.py:123: RuntimeWarning: Mean of empty slice.\n",
      "/home/gh464/miniconda3/envs/symbac/lib/python3.10/site-packages/numpy/core/_methods.py:121: RuntimeWarning: invalid value encountered in divide\n",
      "  ret = um.true_divide(\n",
      "/tmp/ipykernel_948525/3654680368.py:123: RuntimeWarning: Mean of empty slice.\n",
      "/tmp/ipykernel_948525/3654680368.py:123: RuntimeWarning: Mean of empty slice.\n",
      "/tmp/ipykernel_948525/3654680368.py:123: RuntimeWarning: Mean of empty slice.\n",
      "/home/gh464/miniconda3/envs/symbac/lib/python3.10/site-packages/numpy/core/_methods.py:121: RuntimeWarning: invalid value encountered in divide\n",
      "  ret = um.true_divide(\n",
      "/tmp/ipykernel_948525/3654680368.py:123: RuntimeWarning: Mean of empty slice.\n",
      "/home/gh464/miniconda3/envs/symbac/lib/python3.10/site-packages/numpy/core/_methods.py:121: RuntimeWarning: invalid value encountered in divide\n",
      "  ret = um.true_divide(\n",
      "/tmp/ipykernel_948525/3654680368.py:123: RuntimeWarning: Mean of empty slice.\n",
      "/home/gh464/miniconda3/envs/symbac/lib/python3.10/site-packages/numpy/core/_methods.py:121: RuntimeWarning: invalid value encountered in divide\n",
      "  ret = um.true_divide(\n",
      "/tmp/ipykernel_948525/3654680368.py:123: RuntimeWarning: Mean of empty slice.\n",
      "/tmp/ipykernel_948525/3654680368.py:123: RuntimeWarning: Mean of empty slice.\n",
      "/home/gh464/miniconda3/envs/symbac/lib/python3.10/site-packages/numpy/core/_methods.py:121: RuntimeWarning: invalid value encountered in divide\n",
      "  ret = um.true_divide(\n",
      "/tmp/ipykernel_948525/3654680368.py:123: RuntimeWarning: Mean of empty slice.\n",
      "/tmp/ipykernel_948525/3654680368.py:123: RuntimeWarning: Mean of empty slice.\n",
      "/home/gh464/miniconda3/envs/symbac/lib/python3.10/site-packages/numpy/core/_methods.py:121: RuntimeWarning: invalid value encountered in divide\n",
      "  ret = um.true_divide(\n",
      "/tmp/ipykernel_948525/3654680368.py:123: RuntimeWarning: Mean of empty slice.\n",
      "/tmp/ipykernel_948525/3654680368.py:123: RuntimeWarning: Mean of empty slice.\n",
      "/home/gh464/miniconda3/envs/symbac/lib/python3.10/site-packages/numpy/core/_methods.py:121: RuntimeWarning: invalid value encountered in divide\n",
      "  ret = um.true_divide(\n",
      "/tmp/ipykernel_948525/3654680368.py:123: RuntimeWarning: Mean of empty slice.\n",
      "/tmp/ipykernel_948525/3654680368.py:123: RuntimeWarning: Mean of empty slice.\n",
      "/home/gh464/miniconda3/envs/symbac/lib/python3.10/site-packages/numpy/core/_methods.py:121: RuntimeWarning: invalid value encountered in divide\n",
      "  ret = um.true_divide(\n"
     ]
    }
   ],
   "source": [
    "_ = Parallel(n_jobs=-1)(delayed(generate_binary_cell)(length, width, slice_amount,  pad_amount, ID) for length, width, slice_amount, ID in tqdm(param_space))"
   ]
  },
  {
   "cell_type": "code",
   "execution_count": 17,
   "id": "4366e2a4-4d58-4012-8aab-645d37d02912",
   "metadata": {
    "tags": []
   },
   "outputs": [
    {
     "data": {
      "application/vnd.jupyter.widget-view+json": {
       "model_id": "d8337d75a61e4a3bbb858ed377711224",
       "version_major": 2,
       "version_minor": 0
      },
      "text/plain": [
       "  0%|          | 0/507 [00:00<?, ?it/s]"
      ]
     },
     "metadata": {},
     "output_type": "display_data"
    },
    {
     "ename": "KeyboardInterrupt",
     "evalue": "",
     "output_type": "error",
     "traceback": [
      "\u001b[0;31m---------------------------------------------------------------------------\u001b[0m",
      "\u001b[0;31mKeyboardInterrupt\u001b[0m                         Traceback (most recent call last)",
      "Cell \u001b[0;32mIn[17], line 1\u001b[0m\n\u001b[0;32m----> 1\u001b[0m _ \u001b[38;5;241m=\u001b[39m \u001b[43mParallel\u001b[49m\u001b[43m(\u001b[49m\u001b[43mn_jobs\u001b[49m\u001b[38;5;241;43m=\u001b[39;49m\u001b[38;5;241;43m10\u001b[39;49m\u001b[43m)\u001b[49m\u001b[43m(\u001b[49m\u001b[43mdelayed\u001b[49m\u001b[43m(\u001b[49m\u001b[43mgenerate_membrane_cell\u001b[49m\u001b[43m)\u001b[49m\u001b[43m(\u001b[49m\u001b[43mlength\u001b[49m\u001b[43m,\u001b[49m\u001b[43m \u001b[49m\u001b[43mwidth\u001b[49m\u001b[43m,\u001b[49m\u001b[43m \u001b[49m\u001b[43madditional_width\u001b[49m\u001b[43m,\u001b[49m\u001b[43m  \u001b[49m\u001b[43mpad_amount\u001b[49m\u001b[43m,\u001b[49m\u001b[43m \u001b[49m\u001b[43mID\u001b[49m\u001b[43m)\u001b[49m\u001b[43m \u001b[49m\u001b[38;5;28;43;01mfor\u001b[39;49;00m\u001b[43m \u001b[49m\u001b[43mlength\u001b[49m\u001b[43m,\u001b[49m\u001b[43m \u001b[49m\u001b[43mwidth\u001b[49m\u001b[43m,\u001b[49m\u001b[43m \u001b[49m\u001b[43madditional_width\u001b[49m\u001b[43m,\u001b[49m\u001b[43m \u001b[49m\u001b[43mID\u001b[49m\u001b[43m \u001b[49m\u001b[38;5;129;43;01min\u001b[39;49;00m\u001b[43m \u001b[49m\u001b[43mtqdm\u001b[49m\u001b[43m(\u001b[49m\u001b[43mparam_space\u001b[49m\u001b[43m)\u001b[49m\u001b[43m)\u001b[49m\n",
      "File \u001b[0;32m~/miniconda3/envs/symbac/lib/python3.10/site-packages/joblib/parallel.py:1098\u001b[0m, in \u001b[0;36mParallel.__call__\u001b[0;34m(self, iterable)\u001b[0m\n\u001b[1;32m   1095\u001b[0m     \u001b[38;5;28mself\u001b[39m\u001b[38;5;241m.\u001b[39m_iterating \u001b[38;5;241m=\u001b[39m \u001b[38;5;28;01mFalse\u001b[39;00m\n\u001b[1;32m   1097\u001b[0m \u001b[38;5;28;01mwith\u001b[39;00m \u001b[38;5;28mself\u001b[39m\u001b[38;5;241m.\u001b[39m_backend\u001b[38;5;241m.\u001b[39mretrieval_context():\n\u001b[0;32m-> 1098\u001b[0m     \u001b[38;5;28;43mself\u001b[39;49m\u001b[38;5;241;43m.\u001b[39;49m\u001b[43mretrieve\u001b[49m\u001b[43m(\u001b[49m\u001b[43m)\u001b[49m\n\u001b[1;32m   1099\u001b[0m \u001b[38;5;66;03m# Make sure that we get a last message telling us we are done\u001b[39;00m\n\u001b[1;32m   1100\u001b[0m elapsed_time \u001b[38;5;241m=\u001b[39m time\u001b[38;5;241m.\u001b[39mtime() \u001b[38;5;241m-\u001b[39m \u001b[38;5;28mself\u001b[39m\u001b[38;5;241m.\u001b[39m_start_time\n",
      "File \u001b[0;32m~/miniconda3/envs/symbac/lib/python3.10/site-packages/joblib/parallel.py:975\u001b[0m, in \u001b[0;36mParallel.retrieve\u001b[0;34m(self)\u001b[0m\n\u001b[1;32m    973\u001b[0m \u001b[38;5;28;01mtry\u001b[39;00m:\n\u001b[1;32m    974\u001b[0m     \u001b[38;5;28;01mif\u001b[39;00m \u001b[38;5;28mgetattr\u001b[39m(\u001b[38;5;28mself\u001b[39m\u001b[38;5;241m.\u001b[39m_backend, \u001b[38;5;124m'\u001b[39m\u001b[38;5;124msupports_timeout\u001b[39m\u001b[38;5;124m'\u001b[39m, \u001b[38;5;28;01mFalse\u001b[39;00m):\n\u001b[0;32m--> 975\u001b[0m         \u001b[38;5;28mself\u001b[39m\u001b[38;5;241m.\u001b[39m_output\u001b[38;5;241m.\u001b[39mextend(\u001b[43mjob\u001b[49m\u001b[38;5;241;43m.\u001b[39;49m\u001b[43mget\u001b[49m\u001b[43m(\u001b[49m\u001b[43mtimeout\u001b[49m\u001b[38;5;241;43m=\u001b[39;49m\u001b[38;5;28;43mself\u001b[39;49m\u001b[38;5;241;43m.\u001b[39;49m\u001b[43mtimeout\u001b[49m\u001b[43m)\u001b[49m)\n\u001b[1;32m    976\u001b[0m     \u001b[38;5;28;01melse\u001b[39;00m:\n\u001b[1;32m    977\u001b[0m         \u001b[38;5;28mself\u001b[39m\u001b[38;5;241m.\u001b[39m_output\u001b[38;5;241m.\u001b[39mextend(job\u001b[38;5;241m.\u001b[39mget())\n",
      "File \u001b[0;32m~/miniconda3/envs/symbac/lib/python3.10/site-packages/joblib/_parallel_backends.py:567\u001b[0m, in \u001b[0;36mLokyBackend.wrap_future_result\u001b[0;34m(future, timeout)\u001b[0m\n\u001b[1;32m    564\u001b[0m \u001b[38;5;250m\u001b[39m\u001b[38;5;124;03m\"\"\"Wrapper for Future.result to implement the same behaviour as\u001b[39;00m\n\u001b[1;32m    565\u001b[0m \u001b[38;5;124;03mAsyncResults.get from multiprocessing.\"\"\"\u001b[39;00m\n\u001b[1;32m    566\u001b[0m \u001b[38;5;28;01mtry\u001b[39;00m:\n\u001b[0;32m--> 567\u001b[0m     \u001b[38;5;28;01mreturn\u001b[39;00m \u001b[43mfuture\u001b[49m\u001b[38;5;241;43m.\u001b[39;49m\u001b[43mresult\u001b[49m\u001b[43m(\u001b[49m\u001b[43mtimeout\u001b[49m\u001b[38;5;241;43m=\u001b[39;49m\u001b[43mtimeout\u001b[49m\u001b[43m)\u001b[49m\n\u001b[1;32m    568\u001b[0m \u001b[38;5;28;01mexcept\u001b[39;00m CfTimeoutError \u001b[38;5;28;01mas\u001b[39;00m e:\n\u001b[1;32m    569\u001b[0m     \u001b[38;5;28;01mraise\u001b[39;00m \u001b[38;5;167;01mTimeoutError\u001b[39;00m \u001b[38;5;28;01mfrom\u001b[39;00m \u001b[38;5;21;01me\u001b[39;00m\n",
      "File \u001b[0;32m~/miniconda3/envs/symbac/lib/python3.10/concurrent/futures/_base.py:453\u001b[0m, in \u001b[0;36mFuture.result\u001b[0;34m(self, timeout)\u001b[0m\n\u001b[1;32m    450\u001b[0m \u001b[38;5;28;01melif\u001b[39;00m \u001b[38;5;28mself\u001b[39m\u001b[38;5;241m.\u001b[39m_state \u001b[38;5;241m==\u001b[39m FINISHED:\n\u001b[1;32m    451\u001b[0m     \u001b[38;5;28;01mreturn\u001b[39;00m \u001b[38;5;28mself\u001b[39m\u001b[38;5;241m.\u001b[39m__get_result()\n\u001b[0;32m--> 453\u001b[0m \u001b[38;5;28;43mself\u001b[39;49m\u001b[38;5;241;43m.\u001b[39;49m\u001b[43m_condition\u001b[49m\u001b[38;5;241;43m.\u001b[39;49m\u001b[43mwait\u001b[49m\u001b[43m(\u001b[49m\u001b[43mtimeout\u001b[49m\u001b[43m)\u001b[49m\n\u001b[1;32m    455\u001b[0m \u001b[38;5;28;01mif\u001b[39;00m \u001b[38;5;28mself\u001b[39m\u001b[38;5;241m.\u001b[39m_state \u001b[38;5;129;01min\u001b[39;00m [CANCELLED, CANCELLED_AND_NOTIFIED]:\n\u001b[1;32m    456\u001b[0m     \u001b[38;5;28;01mraise\u001b[39;00m CancelledError()\n",
      "File \u001b[0;32m~/miniconda3/envs/symbac/lib/python3.10/threading.py:320\u001b[0m, in \u001b[0;36mCondition.wait\u001b[0;34m(self, timeout)\u001b[0m\n\u001b[1;32m    318\u001b[0m \u001b[38;5;28;01mtry\u001b[39;00m:    \u001b[38;5;66;03m# restore state no matter what (e.g., KeyboardInterrupt)\u001b[39;00m\n\u001b[1;32m    319\u001b[0m     \u001b[38;5;28;01mif\u001b[39;00m timeout \u001b[38;5;129;01mis\u001b[39;00m \u001b[38;5;28;01mNone\u001b[39;00m:\n\u001b[0;32m--> 320\u001b[0m         \u001b[43mwaiter\u001b[49m\u001b[38;5;241;43m.\u001b[39;49m\u001b[43macquire\u001b[49m\u001b[43m(\u001b[49m\u001b[43m)\u001b[49m\n\u001b[1;32m    321\u001b[0m         gotit \u001b[38;5;241m=\u001b[39m \u001b[38;5;28;01mTrue\u001b[39;00m\n\u001b[1;32m    322\u001b[0m     \u001b[38;5;28;01melse\u001b[39;00m:\n",
      "\u001b[0;31mKeyboardInterrupt\u001b[0m: "
     ]
    }
   ],
   "source": [
    "_ = Parallel(n_jobs=10)(delayed(generate_membrane_cell)(length, width, additional_width,  pad_amount, ID) for length, width, additional_width, ID in tqdm(param_space))"
   ]
  },
  {
   "cell_type": "code",
   "execution_count": null,
   "id": "dd26cbb3-c033-4ab9-969b-9531cd9b6e42",
   "metadata": {},
   "outputs": [],
   "source": []
  }
 ],
 "metadata": {
  "kernelspec": {
   "display_name": "Python [conda env:symbac]",
   "language": "python",
   "name": "conda-env-symbac-py"
  },
  "language_info": {
   "codemirror_mode": {
    "name": "ipython",
    "version": 3
   },
   "file_extension": ".py",
   "mimetype": "text/x-python",
   "name": "python",
   "nbconvert_exporter": "python",
   "pygments_lexer": "ipython3",
   "version": "3.10.9"
  },
  "widgets": {
   "application/vnd.jupyter.widget-state+json": {
    "state": {},
    "version_major": 2,
    "version_minor": 0
   }
  }
 },
 "nbformat": 4,
 "nbformat_minor": 5
}
