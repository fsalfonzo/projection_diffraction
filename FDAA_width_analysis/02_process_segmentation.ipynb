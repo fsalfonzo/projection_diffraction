{
 "cells": [
  {
   "cell_type": "code",
   "execution_count": 8,
   "id": "96c8dac7-51ff-4b58-b2d9-c7cfef1d4040",
   "metadata": {
    "tags": []
   },
   "outputs": [
    {
     "name": "stdout",
     "output_type": "stream",
     "text": [
      "2023-05-11 02:09:29,800 [INFO] OpenGL_accelerate module loaded\n",
      "2023-05-11 02:09:29,803 [INFO] Using accelerated ArrayDatatype\n",
      ">>> GPU activated? 0\n"
     ]
    }
   ],
   "source": [
    "\n",
    "\n",
    "# make local editable packages automatically reload\n",
    "%load_ext autoreload\n",
    "%autoreload 2\n",
    "\n",
    "# Import dependencies\n",
    "import numpy as np\n",
    "\n",
    "# This checks to see if you have set up your GPU properly.\n",
    "# CPU performance is a lot slower, but not a problem if you \n",
    "# are only processing a few images.\n",
    "use_GPU = False #core.use_gpu()\n",
    "print('>>> GPU activated? %d'%use_GPU)\n",
    "\n",
    "# for plotting\n",
    "import matplotlib as mpl\n",
    "import matplotlib.pyplot as plt\n",
    "mpl.rcParams['figure.dpi'] = 300\n",
    "plt.style.use('dark_background')\n",
    "%matplotlib inline\n",
    "\n",
    "import tifffile\n",
    "from skimage.measure import regionprops_table\n",
    "from skimage.morphology import binary_dilation\n",
    "from skimage.transform import rotate\n",
    "import pandas as pd\n",
    "from scipy.signal import find_peaks\n"
   ]
  },
  {
   "cell_type": "code",
   "execution_count": 12,
   "id": "185e36fb-cb1c-44ca-95c1-c0021cd0333f",
   "metadata": {
    "tags": []
   },
   "outputs": [],
   "source": [
    "from tqdm.auto import tqdm\n",
    "from joblib import Parallel, delayed"
   ]
  },
  {
   "cell_type": "code",
   "execution_count": 31,
   "id": "5d73488d-5ffe-43cf-80af-205659a098aa",
   "metadata": {
    "tags": []
   },
   "outputs": [],
   "source": [
    "masks = tifffile.imread(\"segmentation_output/masks.tif\")\n",
    "image = tifffile.imread(\"segmentation_output/image.tif\")\n",
    "mask_labels = np.unique(masks)\n",
    "def n_dilate(bin_image, n):\n",
    "    for _ in range(n):\n",
    "        bin_image = binary_dilation(bin_image)\n",
    "    return bin_image\n",
    "\n",
    "def smallestbox(a, b):\n",
    "    r = a.any(1)\n",
    "    if r.any():\n",
    "        m,n = a.shape\n",
    "        c = a.any(0)\n",
    "        out = a[r.argmax():m-r[::-1].argmax(), c.argmax():n-c[::-1].argmax()]\n",
    "        b  = b[:,r.argmax():m-r[::-1].argmax(), c.argmax():n-c[::-1].argmax()]\n",
    "    else:\n",
    "        out = np.empty((0,0),dtype=bool)\n",
    "    return out, b\n",
    "\n",
    "def get_interpeak(z, mask_label):\n",
    "    b1, b2 = smallestbox(n_dilate(masks == mask_label,10), image)\n",
    "    _ = smallestbox((masks == mask_label), image)[0]\n",
    "    orientation = pd.DataFrame(regionprops_table(_*1, properties=[\"orientation\"]))[\"orientation\"][0]\n",
    "    b1, b2 = rotate(b1, -orientation * 180/np.pi + 90), np.array([rotate(_, -orientation * 180/np.pi + 90) for _ in b2])\n",
    "    centroid = regionprops_table(b1*1, properties=[\"centroid\"])\n",
    "    width = int(b2.shape[1]/10)\n",
    "    \n",
    "    \n",
    "    centreline1 = b2[1,:,int(centroid[\"centroid-1\"])-width:int(centroid[\"centroid-1\"])+width].mean(axis=1)\n",
    "    centreline2 = b2[3,:,int(centroid[\"centroid-1\"])-width:int(centroid[\"centroid-1\"])+width].mean(axis=1)\n",
    "    \n",
    "    \n",
    "    centreline1_peaks = find_peaks(centreline1, prominence=0.006)[0]\n",
    "    centreline2_peaks = find_peaks(centreline2, prominence=0.006)[0]\n",
    "\n",
    "    if (len(centreline1_peaks) == 2) and (len(centreline2_peaks) == 2):\n",
    "        fig, (ax1, ax2, ax3) = plt.subplots(1, 3)\n",
    "        ax1.plot(centreline1,c=\"r\")\n",
    "        ax1.scatter(centreline1_peaks, centreline1[centreline1_peaks], c = \"r\")\n",
    "        ax1.plot(centreline2,c=\"b\")\n",
    "        ax1.scatter(centreline2_peaks, centreline2[centreline2_peaks], c = \"b\")\n",
    "        #ax1.legend([\"red\", \"blue\"])\n",
    "        ax2.imshow(b2[1])\n",
    "        ax3.imshow(b2[3])\n",
    "        plt.tight_layout()\n",
    "        plt.savefig(f\"plots/{str(z).zfill(4)}.png\")\n",
    "        plt.close()\n",
    "        #print(\"Red interpeak distance:\", np.diff(centreline1_peaks))\n",
    "        #print(\"Blue interpeak distance:\", np.diff(centreline2_peaks))\n",
    "        return [z, np.diff(centreline1_peaks)[0], np.diff(centreline2_peaks)[0]]\n",
    "    "
   ]
  },
  {
   "cell_type": "code",
   "execution_count": 22,
   "id": "e59e2604-7e41-4a8e-a216-a9d5017ab20a",
   "metadata": {
    "tags": []
   },
   "outputs": [
    {
     "data": {
      "application/vnd.jupyter.widget-view+json": {
       "model_id": "113f22b5893e4894913bbd2d3e968e8f",
       "version_major": 2,
       "version_minor": 0
      },
      "text/plain": [
       "  0%|          | 0/822 [00:00<?, ?it/s]"
      ]
     },
     "metadata": {},
     "output_type": "display_data"
    }
   ],
   "source": [
    "interpeak_distances = Parallel(n_jobs=-1)(delayed(get_interpeak)(z, mask_label) for z, mask_label in enumerate(tqdm(mask_labels[1:])))"
   ]
  },
  {
   "cell_type": "code",
   "execution_count": 23,
   "id": "2e1cbcc7-f729-4c16-86c3-5dd0143295d3",
   "metadata": {
    "tags": []
   },
   "outputs": [],
   "source": [
    "interpeak_distances = pd.DataFrame([x for x in interpeak_distances if x is not None])\n",
    "interpeak_distances.columns = [\"idx\", \"RADA\", \"HADA\"]\n",
    "bad_idxs = [18, 34, 40, 55, 142, 150, 168, 177, 181, 185, 210, 222, 258, 264, 293, 301, 304, 307, 328, 355, 371, 378, 390, 391, 396, 427, 447, 472, 480, 481, 494, 501, 521, 524, 527, 542, 585, 601, 606, 609, 611, 615, 645, 647, 700, 708, 711, 714, 715, 747, 772]\n",
    "interpeak_distances = interpeak_distances[~interpeak_distances[\"idx\"].isin(bad_idxs)]"
   ]
  },
  {
   "cell_type": "code",
   "execution_count": 24,
   "id": "1d9ea241-e8fd-4791-8d8b-494a75d5b095",
   "metadata": {
    "tags": []
   },
   "outputs": [
    {
     "data": {
      "text/html": [
       "<div>\n",
       "<style scoped>\n",
       "    .dataframe tbody tr th:only-of-type {\n",
       "        vertical-align: middle;\n",
       "    }\n",
       "\n",
       "    .dataframe tbody tr th {\n",
       "        vertical-align: top;\n",
       "    }\n",
       "\n",
       "    .dataframe thead th {\n",
       "        text-align: right;\n",
       "    }\n",
       "</style>\n",
       "<table border=\"1\" class=\"dataframe\">\n",
       "  <thead>\n",
       "    <tr style=\"text-align: right;\">\n",
       "      <th></th>\n",
       "      <th>idx</th>\n",
       "      <th>RADA</th>\n",
       "      <th>HADA</th>\n",
       "    </tr>\n",
       "  </thead>\n",
       "  <tbody>\n",
       "    <tr>\n",
       "      <th>1</th>\n",
       "      <td>20</td>\n",
       "      <td>8</td>\n",
       "      <td>10</td>\n",
       "    </tr>\n",
       "    <tr>\n",
       "      <th>2</th>\n",
       "      <td>27</td>\n",
       "      <td>14</td>\n",
       "      <td>18</td>\n",
       "    </tr>\n",
       "    <tr>\n",
       "      <th>3</th>\n",
       "      <td>29</td>\n",
       "      <td>14</td>\n",
       "      <td>17</td>\n",
       "    </tr>\n",
       "    <tr>\n",
       "      <th>5</th>\n",
       "      <td>39</td>\n",
       "      <td>15</td>\n",
       "      <td>18</td>\n",
       "    </tr>\n",
       "    <tr>\n",
       "      <th>7</th>\n",
       "      <td>41</td>\n",
       "      <td>16</td>\n",
       "      <td>18</td>\n",
       "    </tr>\n",
       "    <tr>\n",
       "      <th>...</th>\n",
       "      <td>...</td>\n",
       "      <td>...</td>\n",
       "      <td>...</td>\n",
       "    </tr>\n",
       "    <tr>\n",
       "      <th>199</th>\n",
       "      <td>800</td>\n",
       "      <td>11</td>\n",
       "      <td>14</td>\n",
       "    </tr>\n",
       "    <tr>\n",
       "      <th>200</th>\n",
       "      <td>801</td>\n",
       "      <td>10</td>\n",
       "      <td>11</td>\n",
       "    </tr>\n",
       "    <tr>\n",
       "      <th>201</th>\n",
       "      <td>805</td>\n",
       "      <td>8</td>\n",
       "      <td>11</td>\n",
       "    </tr>\n",
       "    <tr>\n",
       "      <th>202</th>\n",
       "      <td>812</td>\n",
       "      <td>8</td>\n",
       "      <td>10</td>\n",
       "    </tr>\n",
       "    <tr>\n",
       "      <th>203</th>\n",
       "      <td>814</td>\n",
       "      <td>9</td>\n",
       "      <td>12</td>\n",
       "    </tr>\n",
       "  </tbody>\n",
       "</table>\n",
       "<p>153 rows × 3 columns</p>\n",
       "</div>"
      ],
      "text/plain": [
       "     idx  RADA  HADA\n",
       "1     20     8    10\n",
       "2     27    14    18\n",
       "3     29    14    17\n",
       "5     39    15    18\n",
       "7     41    16    18\n",
       "..   ...   ...   ...\n",
       "199  800    11    14\n",
       "200  801    10    11\n",
       "201  805     8    11\n",
       "202  812     8    10\n",
       "203  814     9    12\n",
       "\n",
       "[153 rows x 3 columns]"
      ]
     },
     "execution_count": 24,
     "metadata": {},
     "output_type": "execute_result"
    }
   ],
   "source": [
    "interpeak_distances"
   ]
  },
  {
   "cell_type": "code",
   "execution_count": 25,
   "id": "8280d4e0-6eb2-4e24-b5ac-b53bbc0d2169",
   "metadata": {
    "tags": []
   },
   "outputs": [],
   "source": [
    "interpeak_distances[\"Average width\"] = interpeak_distances[[\"RADA\", \"HADA\"]].mean(axis=1)"
   ]
  },
  {
   "cell_type": "code",
   "execution_count": 26,
   "id": "08049567-c70b-466d-9365-759af39a4d00",
   "metadata": {
    "tags": []
   },
   "outputs": [],
   "source": [
    "interpeak_distances[\"RADA - HADA\"] = interpeak_distances[\"RADA\"] - interpeak_distances[\"HADA\"]"
   ]
  },
  {
   "cell_type": "code",
   "execution_count": 30,
   "id": "7d210a77-5ee5-4286-957d-23816ed9759e",
   "metadata": {
    "tags": []
   },
   "outputs": [],
   "source": [
    "interpeak_distances.to_pickle(\"output.pickle\")"
   ]
  },
  {
   "cell_type": "code",
   "execution_count": null,
   "id": "38f5d4c8-2f56-4b9d-a30c-d1ea4073d459",
   "metadata": {},
   "outputs": [],
   "source": []
  }
 ],
 "metadata": {
  "kernelspec": {
   "display_name": "Python 3 (ipykernel)",
   "language": "python",
   "name": "python3"
  },
  "language_info": {
   "codemirror_mode": {
    "name": "ipython",
    "version": 3
   },
   "file_extension": ".py",
   "mimetype": "text/x-python",
   "name": "python",
   "nbconvert_exporter": "python",
   "pygments_lexer": "ipython3",
   "version": "3.10.9"
  }
 },
 "nbformat": 4,
 "nbformat_minor": 5
}
