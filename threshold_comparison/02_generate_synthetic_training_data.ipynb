{
 "cells": [
  {
   "cell_type": "code",
   "execution_count": 1,
   "id": "8d0d2b60-2d38-4594-be98-ba39279219d0",
   "metadata": {
    "tags": []
   },
   "outputs": [],
   "source": [
    "%load_ext autoreload\n",
    "%autoreload 2"
   ]
  },
  {
   "cell_type": "code",
   "execution_count": 2,
   "id": "309c16d0-3254-4469-82b9-eb28cf988f0e",
   "metadata": {
    "tags": []
   },
   "outputs": [],
   "source": [
    "import sys\n",
    "sys.path.insert(1, '/home/georgeos/Documents/GitHub/SyMBac/') # Not needed if you installed SyMBac using pip\n",
    "sys.path.insert(1, '/home/georgeos/Documents/Github/SyMBac/') # Not needed if you installed SyMBac using pip\n",
    "\n",
    "\n",
    "from SyMBac.drawing import raster_cell, OPL_to_FL\n",
    "from SyMBac.PSF import PSF_generator\n",
    "from SyMBac.renderer import convolve_rescale\n",
    "import matplotlib.pyplot as plt\n",
    "import numpy as np\n",
    "from tqdm.auto import tqdm\n",
    "from PIL import Image\n",
    "from skimage.util import img_as_uint\n",
    "import os\n",
    "import zarr\n",
    "from numcodecs import Blosc\n",
    "from joblib import Parallel, delayed\n",
    "from glob import glob\n",
    "from natsort import natsorted\n",
    "from skimage.util import img_as_uint\n",
    "from skimage.measure import label"
   ]
  },
  {
   "cell_type": "code",
   "execution_count": 3,
   "id": "3813e1db-0030-49b8-a231-e79a7975e620",
   "metadata": {
    "tags": []
   },
   "outputs": [],
   "source": [
    "def file_to_dict(filename):\n",
    "    length, width, wavelength, name, NA, n =  filename.split(\"/\")[1].split(\"_\")\n",
    "    length, width, wavelength, NA, n = float(length), float(width), float(wavelength), float(NA), float(n.split(\".zarr\")[0])\n",
    "\n",
    "    data = {\n",
    "        \"length\" : length,\n",
    "        \"width\" : width,\n",
    "        \"wavelength\" : wavelength,\n",
    "        \"NA\": NA,\n",
    "        \"n\" : n,\n",
    "        \"name\" : name,\n",
    "        \"data\" : zarr.open(filename)\n",
    "           }\n",
    "    \n",
    "    return data"
   ]
  },
  {
   "cell_type": "code",
   "execution_count": 4,
   "id": "817a0e3e-1356-473b-8896-7207487efec5",
   "metadata": {
    "tags": []
   },
   "outputs": [],
   "source": [
    "try:\n",
    "    os.mkdir(\"synthetic_training_data\")\n",
    "except:\n",
    "    pass"
   ]
  },
  {
   "cell_type": "code",
   "execution_count": 5,
   "id": "9a9e52a2-26a5-458f-a1d8-e34b30667a03",
   "metadata": {
    "tags": []
   },
   "outputs": [],
   "source": [
    "data_dirs = natsorted(glob(\"convolutions/*\"))"
   ]
  },
  {
   "cell_type": "code",
   "execution_count": null,
   "id": "adca1dc6-989c-4373-b134-181f7448fbb1",
   "metadata": {
    "tags": []
   },
   "outputs": [],
   "source": []
  },
  {
   "cell_type": "code",
   "execution_count": 6,
   "id": "2539e4e3-7433-48c3-8ba7-4c89e76ac5ec",
   "metadata": {
    "tags": []
   },
   "outputs": [],
   "source": [
    "def generate_mask_data_pair(data_dir):\n",
    "    data = file_to_dict(data_dir)\n",
    "    \n",
    "    image = np.concatenate(data[\"data\"], axis=1)\n",
    "\n",
    "    cell_length = data[\"length\"]\n",
    "    cell_width = data[\"width\"]\n",
    "    resize_amount = 1\n",
    "    pix_mic_conv = 0.065 #micron/pix\n",
    "    raster_cell_length = cell_length/pix_mic_conv * resize_amount\n",
    "    raster_cell_width = cell_width/pix_mic_conv * resize_amount\n",
    "    densities = np.linspace(1,100, 10)\n",
    "\n",
    "    cell = np.pad(raster_cell(raster_cell_length, raster_cell_width, separation=0), ((100,100),(200,200)))\n",
    "    cell_mask = cell > 0\n",
    "    \n",
    "    mask = np.concatenate([cell_mask]*len(densities), axis=1)\n",
    "    return img_as_uint(image), mask"
   ]
  },
  {
   "cell_type": "code",
   "execution_count": 13,
   "id": "dafc6b6b-3c8f-4323-887e-977ff88c9a7b",
   "metadata": {
    "tags": []
   },
   "outputs": [],
   "source": [
    "aspect_ratios = np.unique([\"_\".join(x.split(\"/\")[-1].split(\"_\")[:2]) for x in data_dirs])\n",
    "def training_data_generator(aspect_ratio, a):\n",
    "    one_aspect_ratio = glob(f\"convolutions/{aspect_ratio}_*\")\n",
    "    images, masks = [], []\n",
    "    for data_dir in one_aspect_ratio:\n",
    "        if np.random.rand() > 0.85:\n",
    "            image, mask = generate_mask_data_pair(data_dir)\n",
    "            images.append(image)\n",
    "            masks.append(mask)\n",
    "            \n",
    "    image = np.vstack(images)\n",
    "    mask = label(np.vstack(masks))\n",
    "    image = Image.fromarray(image)\n",
    "    mask = Image.fromarray(mask)\n",
    "    image.save(f\"synthetic_training_data/train_{str(a).zfill(4)}.png\")\n",
    "    mask.save(f\"synthetic_training_data/train_{str(a).zfill(4)}_masks.png\")\n",
    "    \n"
   ]
  },
  {
   "cell_type": "code",
   "execution_count": 14,
   "id": "508c9777-28b1-4c78-bff2-adc0755fcce6",
   "metadata": {
    "tags": []
   },
   "outputs": [
    {
     "data": {
      "application/vnd.jupyter.widget-view+json": {
       "model_id": "93bd1cb942104a5488f9687665e06edc",
       "version_major": 2,
       "version_minor": 0
      },
      "text/plain": [
       "  0%|          | 0/55 [00:00<?, ?it/s]"
      ]
     },
     "metadata": {},
     "output_type": "display_data"
    },
    {
     "data": {
      "text/plain": [
       "[None,\n",
       " None,\n",
       " None,\n",
       " None,\n",
       " None,\n",
       " None,\n",
       " None,\n",
       " None,\n",
       " None,\n",
       " None,\n",
       " None,\n",
       " None,\n",
       " None,\n",
       " None,\n",
       " None,\n",
       " None,\n",
       " None,\n",
       " None,\n",
       " None,\n",
       " None,\n",
       " None,\n",
       " None,\n",
       " None,\n",
       " None,\n",
       " None,\n",
       " None,\n",
       " None,\n",
       " None,\n",
       " None,\n",
       " None,\n",
       " None,\n",
       " None,\n",
       " None,\n",
       " None,\n",
       " None,\n",
       " None,\n",
       " None,\n",
       " None,\n",
       " None,\n",
       " None,\n",
       " None,\n",
       " None,\n",
       " None,\n",
       " None,\n",
       " None,\n",
       " None,\n",
       " None,\n",
       " None,\n",
       " None,\n",
       " None,\n",
       " None,\n",
       " None,\n",
       " None,\n",
       " None,\n",
       " None]"
      ]
     },
     "execution_count": 14,
     "metadata": {},
     "output_type": "execute_result"
    }
   ],
   "source": [
    "Parallel(n_jobs=-1)(delayed(training_data_generator)(aspect_ratio, a) for aspect_ratio, a in tqdm(zip(aspect_ratios, range(len(aspect_ratios))), total=len(aspect_ratios)))"
   ]
  },
  {
   "cell_type": "code",
   "execution_count": null,
   "id": "f3997542-e702-42cc-b5a7-129aedcf491d",
   "metadata": {
    "collapsed": true,
    "jupyter": {
     "outputs_hidden": true
    },
    "tags": []
   },
   "outputs": [],
   "source": [
    "a = 0\n",
    "\n",
    "def training_data_generator(data_dir, a):\n",
    "    image, mask = generate_mask_data_pair(data_dir)\n",
    "    image = Image.fromarray(img_as_uint(image))\n",
    "    mask = Image.fromarray(mask)\n",
    "    image.save(f\"synthetic_training_data/train_{str(a).zfill(4)}.png\")\n",
    "    mask.save(f\"synthetic_training_data/train_{str(a).zfill(4)}_masks.png\")\n",
    "    \n",
    "Parallel(n_jobs=-1)(delayed(training_data_generator)(data_dir, a) for data_dir, a in tqdm(zip(data_dirs, range(len(data_dirs))), total=len(data_dirs)))"
   ]
  }
 ],
 "metadata": {
  "kernelspec": {
   "display_name": "Python 3 (ipykernel)",
   "language": "python",
   "name": "python3"
  },
  "language_info": {
   "codemirror_mode": {
    "name": "ipython",
    "version": 3
   },
   "file_extension": ".py",
   "mimetype": "text/x-python",
   "name": "python",
   "nbconvert_exporter": "python",
   "pygments_lexer": "ipython3",
   "version": "3.10.8"
  },
  "widgets": {
   "application/vnd.jupyter.widget-state+json": {
    "state": {},
    "version_major": 2,
    "version_minor": 0
   }
  }
 },
 "nbformat": 4,
 "nbformat_minor": 5
}
