{
 "cells": [
  {
   "cell_type": "code",
   "execution_count": 1,
   "id": "1cd0b59f-44e6-4409-9f81-3d89469e2c6d",
   "metadata": {
    "tags": []
   },
   "outputs": [],
   "source": [
    "import sys\n",
    "sys.path.insert(1, '../SyMBac/')\n",
    "\n",
    "from SyMBac.drawing import raster_cell\n",
    "from SyMBac.PSF import PSF_generator\n",
    "from SyMBac.renderer import convolve_rescale\n",
    "import numpy as np\n",
    "from tqdm.auto import tqdm\n",
    "from PIL import Image\n",
    "from skimage.util import img_as_uint\n",
    "import os\n",
    "from joblib import Parallel, delayed\n",
    "from skimage.transform import rotate\n",
    "from SyMBac.PSF import Camera"
   ]
  },
  {
   "cell_type": "code",
   "execution_count": 2,
   "id": "c621347b-6ff6-4f57-aceb-b5b8191a8238",
   "metadata": {
    "tags": []
   },
   "outputs": [],
   "source": [
    "pad_amount = 200\n",
    "\n",
    "radius = 150\n",
    "wavelength = 0.6\n",
    "NA = 1.45\n",
    "n = 1.518\n",
    "resize_amount = 1\n",
    "pix_scaler = 1\n",
    "pix_mic_conv = 0.065 / pix_scaler\n",
    "apo_sigma = 11\n",
    "\n",
    "FL_PSF = PSF_generator(\n",
    "    radius = radius,\n",
    "    wavelength = wavelength,\n",
    "    NA = NA,\n",
    "    n = n,\n",
    "    resize_amount = resize_amount,\n",
    "    pix_mic_conv = pix_mic_conv,\n",
    "    apo_sigma = apo_sigma,\n",
    "    mode=\"3d fluo\",\n",
    "    condenser = \"Ph3\",\n",
    "    z_height = 22, \n",
    "    pz = 0.5,\n",
    "    working_distance=170\n",
    ")\n",
    "FL_PSF.calculate_PSF()\n",
    "FL_PSF.kernel = np.sum(FL_PSF.kernel, axis=0)"
   ]
  },
  {
   "cell_type": "code",
   "execution_count": 3,
   "id": "760cc3df-2265-449f-b82a-bef8c96e745a",
   "metadata": {
    "tags": []
   },
   "outputs": [],
   "source": [
    "def generate_agar_pad_image(border, img_size, density, iter_threshold, min_length, max_length, min_width, max_width):\n",
    "    image = np.zeros((int(img_size*pix_scaler * border), int(img_size*pix_scaler * border)))\n",
    "    mask = np.zeros((int(img_size*pix_scaler * border), int(img_size*pix_scaler * border)))\n",
    "    mask_labaled = np.zeros((int(img_size*pix_scaler * border), int(img_size*pix_scaler * border))).astype(np.uint)\n",
    "     #DENSITY In cells per square micron\n",
    "    n_cells = int(density * ((pix_mic_conv * img_size) ** 2))\n",
    "    mask_counter = 0\n",
    "    iterations = 0\n",
    "    stop_condition = int(n_cells*iter_threshold)\n",
    "    #pbar = tqdm(total=stop_condition)\n",
    "    cell_info = []\n",
    "    while (mask_counter != n_cells) and (iterations != stop_condition):\n",
    "\n",
    "        cell_length = np.random.uniform(min_length, max_length)\n",
    "        cell_width = np.random.uniform(min_width, max_width)\n",
    "\n",
    "        raster_cell_length = cell_length/pix_mic_conv * resize_amount\n",
    "        raster_cell_width = cell_width/pix_mic_conv * resize_amount\n",
    "\n",
    "        cell = raster_cell(length=raster_cell_length, width=raster_cell_width, separation=0)\n",
    "        cell = rotate(cell, angle=np.random.uniform(0,365), resize=True, order = 0, preserve_range = True)\n",
    "        cell *= int(np.random.uniform(1300,1400))\n",
    "        #\n",
    "\n",
    "        cell = cell.astype(int)\n",
    "        cell_mask = cell > 0\n",
    "        pos_x_start = int(np.random.uniform(0, image.shape[1] - cell.shape[1]))\n",
    "        pos_y_start = int(np.random.uniform(0, image.shape[0] - cell.shape[0]))\n",
    "        if mask[pos_y_start + cell.shape[0]//2, pos_x_start + cell.shape[1]//2]:\n",
    "            pass\n",
    "        else:\n",
    "\n",
    "            mask[pos_y_start:pos_y_start+cell.shape[0], pos_x_start:pos_x_start+cell.shape[1]] += cell_mask\n",
    "            if np.sum(mask > 1) > 0:\n",
    "                mask[pos_y_start:pos_y_start+cell.shape[0], pos_x_start:pos_x_start+cell.shape[1]] -= cell_mask\n",
    "            else:\n",
    "                image[pos_y_start:pos_y_start+cell.shape[0], pos_x_start:pos_x_start+cell.shape[1]] += cell\n",
    "                mask_labaled[pos_y_start:pos_y_start+cell.shape[0], pos_x_start:pos_x_start+cell.shape[1]] += (cell_mask * mask_counter).astype(np.uint)\n",
    "                cell_info.append([mask_counter, cell_length, cell_width])\n",
    "                mask_counter += 1\n",
    "                \n",
    "        iterations += 1\n",
    "        #pbar.update(1)\n",
    "    #pbar.close()\n",
    "\n",
    "    return image, mask_labaled, cell_info"
   ]
  },
  {
   "cell_type": "code",
   "execution_count": 4,
   "id": "8e7eade4-5059-4e95-9006-a6677a9b150a",
   "metadata": {
    "tags": []
   },
   "outputs": [],
   "source": [
    "densities = [0.15]*200 #fix the density of FPs in cells this time"
   ]
  },
  {
   "cell_type": "code",
   "execution_count": 5,
   "id": "8bd2027a-6332-4198-9be9-4e55b7e7d127",
   "metadata": {
    "tags": []
   },
   "outputs": [],
   "source": [
    "try:\n",
    "    os.mkdir(\"data\")\n",
    "except:\n",
    "    pass\n",
    "min_max_cell_length = [ (1.5,3), (2,4), (3,6), (4,8), (5,10), (6,12) ]\n",
    "min_max_cell_width = [ (0.7,0.7), (0.8,0.8), (0.9,0.9), (1,1), (1.1,1.1), (1.2,1.2) ]\n"
   ]
  },
  {
   "cell_type": "code",
   "execution_count": 6,
   "id": "fac1b20b-3da2-4b2c-b56b-87539543e5f8",
   "metadata": {
    "tags": []
   },
   "outputs": [
    {
     "data": {
      "text/plain": [
       "[((1.5, 3), (0.7, 0.7)),\n",
       " ((2, 4), (0.8, 0.8)),\n",
       " ((3, 6), (0.9, 0.9)),\n",
       " ((4, 8), (1, 1)),\n",
       " ((5, 10), (1.1, 1.1)),\n",
       " ((6, 12), (1.2, 1.2))]"
      ]
     },
     "execution_count": 6,
     "metadata": {},
     "output_type": "execute_result"
    }
   ],
   "source": [
    "list(zip(min_max_cell_length, min_max_cell_width))"
   ]
  },
  {
   "cell_type": "code",
   "execution_count": 7,
   "id": "d6016ab6-42c2-4a63-9596-4613760c16db",
   "metadata": {
    "collapsed": true,
    "jupyter": {
     "outputs_hidden": true
    },
    "tags": []
   },
   "outputs": [
    {
     "data": {
      "application/vnd.jupyter.widget-view+json": {
       "model_id": "b51c7376570b43c19fee28542c1fce9e",
       "version_major": 2,
       "version_minor": 0
      },
      "text/plain": [
       "  0%|          | 0/200 [00:00<?, ?it/s]"
      ]
     },
     "metadata": {},
     "output_type": "display_data"
    },
    {
     "data": {
      "application/vnd.jupyter.widget-view+json": {
       "model_id": "25d34fb9a87e4a598424ec50931e711e",
       "version_major": 2,
       "version_minor": 0
      },
      "text/plain": [
       "  0%|          | 0/200 [00:00<?, ?it/s]"
      ]
     },
     "metadata": {},
     "output_type": "display_data"
    },
    {
     "name": "stderr",
     "output_type": "stream",
     "text": [
      "/home/gh464/miniconda3/envs/symbac/lib/python3.10/site-packages/skimage/util/dtype.py:501: UserWarning: Downcasting uint64 to uint16 without scaling because max value 404 fits in uint16\n",
      "  return _convert(image, np.uint16, force_copy)\n"
     ]
    },
    {
     "data": {
      "application/vnd.jupyter.widget-view+json": {
       "model_id": "d2f5e73f4af444f5a0b9b6fc741d03ae",
       "version_major": 2,
       "version_minor": 0
      },
      "text/plain": [
       "  0%|          | 0/200 [00:00<?, ?it/s]"
      ]
     },
     "metadata": {},
     "output_type": "display_data"
    },
    {
     "data": {
      "application/vnd.jupyter.widget-view+json": {
       "model_id": "7ebe5765395a46f0bc9bc350f96a6daf",
       "version_major": 2,
       "version_minor": 0
      },
      "text/plain": [
       "  0%|          | 0/200 [00:00<?, ?it/s]"
      ]
     },
     "metadata": {},
     "output_type": "display_data"
    },
    {
     "name": "stderr",
     "output_type": "stream",
     "text": [
      "/home/gh464/miniconda3/envs/symbac/lib/python3.10/site-packages/skimage/util/dtype.py:501: UserWarning: Downcasting uint64 to uint16 without scaling because max value 325 fits in uint16\n",
      "  return _convert(image, np.uint16, force_copy)\n",
      "/home/gh464/miniconda3/envs/symbac/lib/python3.10/site-packages/skimage/util/dtype.py:501: UserWarning: Downcasting uint64 to uint16 without scaling because max value 334 fits in uint16\n",
      "  return _convert(image, np.uint16, force_copy)\n",
      "/home/gh464/miniconda3/envs/symbac/lib/python3.10/site-packages/skimage/util/dtype.py:501: UserWarning: Downcasting uint64 to uint16 without scaling because max value 321 fits in uint16\n",
      "  return _convert(image, np.uint16, force_copy)\n",
      "/home/gh464/miniconda3/envs/symbac/lib/python3.10/site-packages/skimage/util/dtype.py:501: UserWarning: Downcasting uint64 to uint16 without scaling because max value 324 fits in uint16\n",
      "  return _convert(image, np.uint16, force_copy)\n",
      "/home/gh464/miniconda3/envs/symbac/lib/python3.10/site-packages/skimage/util/dtype.py:501: UserWarning: Downcasting uint64 to uint16 without scaling because max value 318 fits in uint16\n",
      "  return _convert(image, np.uint16, force_copy)\n",
      "/home/gh464/miniconda3/envs/symbac/lib/python3.10/site-packages/skimage/util/dtype.py:501: UserWarning: Downcasting uint64 to uint16 without scaling because max value 341 fits in uint16\n",
      "  return _convert(image, np.uint16, force_copy)\n",
      "/home/gh464/miniconda3/envs/symbac/lib/python3.10/site-packages/skimage/util/dtype.py:501: UserWarning: Downcasting uint64 to uint16 without scaling because max value 336 fits in uint16\n",
      "  return _convert(image, np.uint16, force_copy)\n",
      "/home/gh464/miniconda3/envs/symbac/lib/python3.10/site-packages/skimage/util/dtype.py:501: UserWarning: Downcasting uint64 to uint16 without scaling because max value 333 fits in uint16\n",
      "  return _convert(image, np.uint16, force_copy)\n",
      "/home/gh464/miniconda3/envs/symbac/lib/python3.10/site-packages/skimage/util/dtype.py:501: UserWarning: Downcasting uint64 to uint16 without scaling because max value 327 fits in uint16\n",
      "  return _convert(image, np.uint16, force_copy)\n",
      "/home/gh464/miniconda3/envs/symbac/lib/python3.10/site-packages/skimage/util/dtype.py:501: UserWarning: Downcasting uint64 to uint16 without scaling because max value 335 fits in uint16\n",
      "  return _convert(image, np.uint16, force_copy)\n",
      "/home/gh464/miniconda3/envs/symbac/lib/python3.10/site-packages/skimage/util/dtype.py:501: UserWarning: Downcasting uint64 to uint16 without scaling because max value 319 fits in uint16\n",
      "  return _convert(image, np.uint16, force_copy)\n",
      "/home/gh464/miniconda3/envs/symbac/lib/python3.10/site-packages/skimage/util/dtype.py:501: UserWarning: Downcasting uint64 to uint16 without scaling because max value 332 fits in uint16\n",
      "  return _convert(image, np.uint16, force_copy)\n",
      "/home/gh464/miniconda3/envs/symbac/lib/python3.10/site-packages/skimage/util/dtype.py:501: UserWarning: Downcasting uint64 to uint16 without scaling because max value 340 fits in uint16\n",
      "  return _convert(image, np.uint16, force_copy)\n",
      "/home/gh464/miniconda3/envs/symbac/lib/python3.10/site-packages/skimage/util/dtype.py:501: UserWarning: Downcasting uint64 to uint16 without scaling because max value 320 fits in uint16\n",
      "  return _convert(image, np.uint16, force_copy)\n",
      "/home/gh464/miniconda3/envs/symbac/lib/python3.10/site-packages/skimage/util/dtype.py:501: UserWarning: Downcasting uint64 to uint16 without scaling because max value 330 fits in uint16\n",
      "  return _convert(image, np.uint16, force_copy)\n",
      "/home/gh464/miniconda3/envs/symbac/lib/python3.10/site-packages/skimage/util/dtype.py:501: UserWarning: Downcasting uint64 to uint16 without scaling because max value 339 fits in uint16\n",
      "  return _convert(image, np.uint16, force_copy)\n",
      "/home/gh464/miniconda3/envs/symbac/lib/python3.10/site-packages/skimage/util/dtype.py:501: UserWarning: Downcasting uint64 to uint16 without scaling because max value 329 fits in uint16\n",
      "  return _convert(image, np.uint16, force_copy)\n",
      "/home/gh464/miniconda3/envs/symbac/lib/python3.10/site-packages/skimage/util/dtype.py:501: UserWarning: Downcasting uint64 to uint16 without scaling because max value 328 fits in uint16\n",
      "  return _convert(image, np.uint16, force_copy)\n",
      "/home/gh464/miniconda3/envs/symbac/lib/python3.10/site-packages/skimage/util/dtype.py:501: UserWarning: Downcasting uint64 to uint16 without scaling because max value 326 fits in uint16\n",
      "  return _convert(image, np.uint16, force_copy)\n",
      "/home/gh464/miniconda3/envs/symbac/lib/python3.10/site-packages/skimage/util/dtype.py:501: UserWarning: Downcasting uint64 to uint16 without scaling because max value 322 fits in uint16\n",
      "  return _convert(image, np.uint16, force_copy)\n",
      "/home/gh464/miniconda3/envs/symbac/lib/python3.10/site-packages/skimage/util/dtype.py:501: UserWarning: Downcasting uint64 to uint16 without scaling because max value 317 fits in uint16\n",
      "  return _convert(image, np.uint16, force_copy)\n",
      "/home/gh464/miniconda3/envs/symbac/lib/python3.10/site-packages/skimage/util/dtype.py:501: UserWarning: Downcasting uint64 to uint16 without scaling because max value 314 fits in uint16\n",
      "  return _convert(image, np.uint16, force_copy)\n",
      "/home/gh464/miniconda3/envs/symbac/lib/python3.10/site-packages/skimage/util/dtype.py:501: UserWarning: Downcasting uint64 to uint16 without scaling because max value 331 fits in uint16\n",
      "  return _convert(image, np.uint16, force_copy)\n",
      "/home/gh464/miniconda3/envs/symbac/lib/python3.10/site-packages/skimage/util/dtype.py:501: UserWarning: Downcasting uint64 to uint16 without scaling because max value 342 fits in uint16\n",
      "  return _convert(image, np.uint16, force_copy)\n",
      "/home/gh464/miniconda3/envs/symbac/lib/python3.10/site-packages/skimage/util/dtype.py:501: UserWarning: Downcasting uint64 to uint16 without scaling because max value 350 fits in uint16\n",
      "  return _convert(image, np.uint16, force_copy)\n",
      "/home/gh464/miniconda3/envs/symbac/lib/python3.10/site-packages/skimage/util/dtype.py:501: UserWarning: Downcasting uint64 to uint16 without scaling because max value 323 fits in uint16\n",
      "  return _convert(image, np.uint16, force_copy)\n",
      "/home/gh464/miniconda3/envs/symbac/lib/python3.10/site-packages/skimage/util/dtype.py:501: UserWarning: Downcasting uint64 to uint16 without scaling because max value 307 fits in uint16\n",
      "  return _convert(image, np.uint16, force_copy)\n",
      "/home/gh464/miniconda3/envs/symbac/lib/python3.10/site-packages/skimage/util/dtype.py:501: UserWarning: Downcasting uint64 to uint16 without scaling because max value 345 fits in uint16\n",
      "  return _convert(image, np.uint16, force_copy)\n",
      "/home/gh464/miniconda3/envs/symbac/lib/python3.10/site-packages/skimage/util/dtype.py:501: UserWarning: Downcasting uint64 to uint16 without scaling because max value 338 fits in uint16\n",
      "  return _convert(image, np.uint16, force_copy)\n",
      "/home/gh464/miniconda3/envs/symbac/lib/python3.10/site-packages/skimage/util/dtype.py:501: UserWarning: Downcasting uint64 to uint16 without scaling because max value 316 fits in uint16\n",
      "  return _convert(image, np.uint16, force_copy)\n",
      "/home/gh464/miniconda3/envs/symbac/lib/python3.10/site-packages/skimage/util/dtype.py:501: UserWarning: Downcasting uint64 to uint16 without scaling because max value 337 fits in uint16\n",
      "  return _convert(image, np.uint16, force_copy)\n",
      "/home/gh464/miniconda3/envs/symbac/lib/python3.10/site-packages/skimage/util/dtype.py:501: UserWarning: Downcasting uint64 to uint16 without scaling because max value 309 fits in uint16\n",
      "  return _convert(image, np.uint16, force_copy)\n",
      "/home/gh464/miniconda3/envs/symbac/lib/python3.10/site-packages/skimage/util/dtype.py:501: UserWarning: Downcasting uint64 to uint16 without scaling because max value 313 fits in uint16\n",
      "  return _convert(image, np.uint16, force_copy)\n",
      "/home/gh464/miniconda3/envs/symbac/lib/python3.10/site-packages/skimage/util/dtype.py:501: UserWarning: Downcasting uint64 to uint16 without scaling because max value 343 fits in uint16\n",
      "  return _convert(image, np.uint16, force_copy)\n",
      "/home/gh464/miniconda3/envs/symbac/lib/python3.10/site-packages/skimage/util/dtype.py:501: UserWarning: Downcasting uint64 to uint16 without scaling because max value 315 fits in uint16\n",
      "  return _convert(image, np.uint16, force_copy)\n",
      "/home/gh464/miniconda3/envs/symbac/lib/python3.10/site-packages/skimage/util/dtype.py:501: UserWarning: Downcasting uint64 to uint16 without scaling because max value 310 fits in uint16\n",
      "  return _convert(image, np.uint16, force_copy)\n"
     ]
    },
    {
     "data": {
      "application/vnd.jupyter.widget-view+json": {
       "model_id": "ac52c4294bbd4ae6a6e64a8684472439",
       "version_major": 2,
       "version_minor": 0
      },
      "text/plain": [
       "  0%|          | 0/200 [00:00<?, ?it/s]"
      ]
     },
     "metadata": {},
     "output_type": "display_data"
    },
    {
     "data": {
      "application/vnd.jupyter.widget-view+json": {
       "model_id": "28585416c77144c0b49bbb7dd099e14b",
       "version_major": 2,
       "version_minor": 0
      },
      "text/plain": [
       "  0%|          | 0/200 [00:00<?, ?it/s]"
      ]
     },
     "metadata": {},
     "output_type": "display_data"
    },
    {
     "name": "stderr",
     "output_type": "stream",
     "text": [
      "/home/gh464/miniconda3/envs/symbac/lib/python3.10/site-packages/skimage/util/dtype.py:501: UserWarning: Downcasting uint64 to uint16 without scaling because max value 204 fits in uint16\n",
      "  return _convert(image, np.uint16, force_copy)\n",
      "/home/gh464/miniconda3/envs/symbac/lib/python3.10/site-packages/skimage/util/dtype.py:501: UserWarning: Downcasting uint64 to uint16 without scaling because max value 201 fits in uint16\n",
      "  return _convert(image, np.uint16, force_copy)\n",
      "/home/gh464/miniconda3/envs/symbac/lib/python3.10/site-packages/skimage/util/dtype.py:501: UserWarning: Downcasting uint64 to uint16 without scaling because max value 197 fits in uint16\n",
      "  return _convert(image, np.uint16, force_copy)\n",
      "/home/gh464/miniconda3/envs/symbac/lib/python3.10/site-packages/skimage/util/dtype.py:501: UserWarning: Downcasting uint64 to uint16 without scaling because max value 214 fits in uint16\n",
      "  return _convert(image, np.uint16, force_copy)\n",
      "/home/gh464/miniconda3/envs/symbac/lib/python3.10/site-packages/skimage/util/dtype.py:501: UserWarning: Downcasting uint64 to uint16 without scaling because max value 206 fits in uint16\n",
      "  return _convert(image, np.uint16, force_copy)\n",
      "/home/gh464/miniconda3/envs/symbac/lib/python3.10/site-packages/skimage/util/dtype.py:501: UserWarning: Downcasting uint64 to uint16 without scaling because max value 211 fits in uint16\n",
      "  return _convert(image, np.uint16, force_copy)\n",
      "/home/gh464/miniconda3/envs/symbac/lib/python3.10/site-packages/skimage/util/dtype.py:501: UserWarning: Downcasting uint64 to uint16 without scaling because max value 224 fits in uint16\n",
      "  return _convert(image, np.uint16, force_copy)\n",
      "/home/gh464/miniconda3/envs/symbac/lib/python3.10/site-packages/skimage/util/dtype.py:501: UserWarning: Downcasting uint64 to uint16 without scaling because max value 192 fits in uint16\n",
      "  return _convert(image, np.uint16, force_copy)\n",
      "/home/gh464/miniconda3/envs/symbac/lib/python3.10/site-packages/skimage/util/dtype.py:501: UserWarning: Downcasting uint64 to uint16 without scaling because max value 208 fits in uint16\n",
      "  return _convert(image, np.uint16, force_copy)\n",
      "/home/gh464/miniconda3/envs/symbac/lib/python3.10/site-packages/skimage/util/dtype.py:501: UserWarning: Downcasting uint64 to uint16 without scaling because max value 198 fits in uint16\n",
      "  return _convert(image, np.uint16, force_copy)\n",
      "/home/gh464/miniconda3/envs/symbac/lib/python3.10/site-packages/skimage/util/dtype.py:501: UserWarning: Downcasting uint64 to uint16 without scaling because max value 209 fits in uint16\n",
      "  return _convert(image, np.uint16, force_copy)\n",
      "/home/gh464/miniconda3/envs/symbac/lib/python3.10/site-packages/skimage/util/dtype.py:501: UserWarning: Downcasting uint64 to uint16 without scaling because max value 200 fits in uint16\n",
      "  return _convert(image, np.uint16, force_copy)\n",
      "/home/gh464/miniconda3/envs/symbac/lib/python3.10/site-packages/skimage/util/dtype.py:501: UserWarning: Downcasting uint64 to uint16 without scaling because max value 203 fits in uint16\n",
      "  return _convert(image, np.uint16, force_copy)\n",
      "/home/gh464/miniconda3/envs/symbac/lib/python3.10/site-packages/skimage/util/dtype.py:501: UserWarning: Downcasting uint64 to uint16 without scaling because max value 207 fits in uint16\n",
      "  return _convert(image, np.uint16, force_copy)\n",
      "/home/gh464/miniconda3/envs/symbac/lib/python3.10/site-packages/skimage/util/dtype.py:501: UserWarning: Downcasting uint64 to uint16 without scaling because max value 212 fits in uint16\n",
      "  return _convert(image, np.uint16, force_copy)\n",
      "/home/gh464/miniconda3/envs/symbac/lib/python3.10/site-packages/skimage/util/dtype.py:501: UserWarning: Downcasting uint64 to uint16 without scaling because max value 215 fits in uint16\n",
      "  return _convert(image, np.uint16, force_copy)\n",
      "/home/gh464/miniconda3/envs/symbac/lib/python3.10/site-packages/skimage/util/dtype.py:501: UserWarning: Downcasting uint64 to uint16 without scaling because max value 210 fits in uint16\n",
      "  return _convert(image, np.uint16, force_copy)\n",
      "/home/gh464/miniconda3/envs/symbac/lib/python3.10/site-packages/skimage/util/dtype.py:501: UserWarning: Downcasting uint64 to uint16 without scaling because max value 202 fits in uint16\n",
      "  return _convert(image, np.uint16, force_copy)\n",
      "/home/gh464/miniconda3/envs/symbac/lib/python3.10/site-packages/skimage/util/dtype.py:501: UserWarning: Downcasting uint64 to uint16 without scaling because max value 205 fits in uint16\n",
      "  return _convert(image, np.uint16, force_copy)\n",
      "/home/gh464/miniconda3/envs/symbac/lib/python3.10/site-packages/skimage/util/dtype.py:501: UserWarning: Downcasting uint64 to uint16 without scaling because max value 199 fits in uint16\n",
      "  return _convert(image, np.uint16, force_copy)\n",
      "/home/gh464/miniconda3/envs/symbac/lib/python3.10/site-packages/skimage/util/dtype.py:501: UserWarning: Downcasting uint64 to uint16 without scaling because max value 195 fits in uint16\n",
      "  return _convert(image, np.uint16, force_copy)\n",
      "/home/gh464/miniconda3/envs/symbac/lib/python3.10/site-packages/skimage/util/dtype.py:501: UserWarning: Downcasting uint64 to uint16 without scaling because max value 194 fits in uint16\n",
      "  return _convert(image, np.uint16, force_copy)\n",
      "/home/gh464/miniconda3/envs/symbac/lib/python3.10/site-packages/skimage/util/dtype.py:501: UserWarning: Downcasting uint64 to uint16 without scaling because max value 218 fits in uint16\n",
      "  return _convert(image, np.uint16, force_copy)\n",
      "/home/gh464/miniconda3/envs/symbac/lib/python3.10/site-packages/skimage/util/dtype.py:501: UserWarning: Downcasting uint64 to uint16 without scaling because max value 196 fits in uint16\n",
      "  return _convert(image, np.uint16, force_copy)\n",
      "/home/gh464/miniconda3/envs/symbac/lib/python3.10/site-packages/skimage/util/dtype.py:501: UserWarning: Downcasting uint64 to uint16 without scaling because max value 213 fits in uint16\n",
      "  return _convert(image, np.uint16, force_copy)\n",
      "/home/gh464/miniconda3/envs/symbac/lib/python3.10/site-packages/skimage/util/dtype.py:501: UserWarning: Downcasting uint64 to uint16 without scaling because max value 216 fits in uint16\n",
      "  return _convert(image, np.uint16, force_copy)\n",
      "/home/gh464/miniconda3/envs/symbac/lib/python3.10/site-packages/skimage/util/dtype.py:501: UserWarning: Downcasting uint64 to uint16 without scaling because max value 188 fits in uint16\n",
      "  return _convert(image, np.uint16, force_copy)\n",
      "/home/gh464/miniconda3/envs/symbac/lib/python3.10/site-packages/skimage/util/dtype.py:501: UserWarning: Downcasting uint64 to uint16 without scaling because max value 193 fits in uint16\n",
      "  return _convert(image, np.uint16, force_copy)\n",
      "/home/gh464/miniconda3/envs/symbac/lib/python3.10/site-packages/skimage/util/dtype.py:501: UserWarning: Downcasting uint64 to uint16 without scaling because max value 217 fits in uint16\n",
      "  return _convert(image, np.uint16, force_copy)\n",
      "/home/gh464/miniconda3/envs/symbac/lib/python3.10/site-packages/skimage/util/dtype.py:501: UserWarning: Downcasting uint64 to uint16 without scaling because max value 222 fits in uint16\n",
      "  return _convert(image, np.uint16, force_copy)\n"
     ]
    },
    {
     "data": {
      "application/vnd.jupyter.widget-view+json": {
       "model_id": "f953c98500df425ea6a482c9da74b6f8",
       "version_major": 2,
       "version_minor": 0
      },
      "text/plain": [
       "  0%|          | 0/200 [00:00<?, ?it/s]"
      ]
     },
     "metadata": {},
     "output_type": "display_data"
    },
    {
     "data": {
      "application/vnd.jupyter.widget-view+json": {
       "model_id": "8a6ae69d0f13443f883f7ae1d43b7b0b",
       "version_major": 2,
       "version_minor": 0
      },
      "text/plain": [
       "  0%|          | 0/200 [00:00<?, ?it/s]"
      ]
     },
     "metadata": {},
     "output_type": "display_data"
    },
    {
     "name": "stderr",
     "output_type": "stream",
     "text": [
      "/home/gh464/miniconda3/envs/symbac/lib/python3.10/site-packages/skimage/util/dtype.py:501: UserWarning: Downcasting uint64 to uint16 without scaling because max value 142 fits in uint16\n",
      "  return _convert(image, np.uint16, force_copy)\n",
      "/home/gh464/miniconda3/envs/symbac/lib/python3.10/site-packages/skimage/util/dtype.py:501: UserWarning: Downcasting uint64 to uint16 without scaling because max value 146 fits in uint16\n",
      "  return _convert(image, np.uint16, force_copy)\n",
      "/home/gh464/miniconda3/envs/symbac/lib/python3.10/site-packages/skimage/util/dtype.py:501: UserWarning: Downcasting uint64 to uint16 without scaling because max value 138 fits in uint16\n",
      "  return _convert(image, np.uint16, force_copy)\n",
      "/home/gh464/miniconda3/envs/symbac/lib/python3.10/site-packages/skimage/util/dtype.py:501: UserWarning: Downcasting uint64 to uint16 without scaling because max value 140 fits in uint16\n",
      "  return _convert(image, np.uint16, force_copy)\n",
      "/home/gh464/miniconda3/envs/symbac/lib/python3.10/site-packages/skimage/util/dtype.py:501: UserWarning: Downcasting uint64 to uint16 without scaling because max value 141 fits in uint16\n",
      "  return _convert(image, np.uint16, force_copy)\n",
      "/home/gh464/miniconda3/envs/symbac/lib/python3.10/site-packages/skimage/util/dtype.py:501: UserWarning: Downcasting uint64 to uint16 without scaling because max value 137 fits in uint16\n",
      "  return _convert(image, np.uint16, force_copy)\n",
      "/home/gh464/miniconda3/envs/symbac/lib/python3.10/site-packages/skimage/util/dtype.py:501: UserWarning: Downcasting uint64 to uint16 without scaling because max value 143 fits in uint16\n",
      "  return _convert(image, np.uint16, force_copy)\n",
      "/home/gh464/miniconda3/envs/symbac/lib/python3.10/site-packages/skimage/util/dtype.py:501: UserWarning: Downcasting uint64 to uint16 without scaling because max value 139 fits in uint16\n",
      "  return _convert(image, np.uint16, force_copy)\n",
      "/home/gh464/miniconda3/envs/symbac/lib/python3.10/site-packages/skimage/util/dtype.py:501: UserWarning: Downcasting uint64 to uint16 without scaling because max value 132 fits in uint16\n",
      "  return _convert(image, np.uint16, force_copy)\n",
      "/home/gh464/miniconda3/envs/symbac/lib/python3.10/site-packages/skimage/util/dtype.py:501: UserWarning: Downcasting uint64 to uint16 without scaling because max value 144 fits in uint16\n",
      "  return _convert(image, np.uint16, force_copy)\n",
      "/home/gh464/miniconda3/envs/symbac/lib/python3.10/site-packages/skimage/util/dtype.py:501: UserWarning: Downcasting uint64 to uint16 without scaling because max value 131 fits in uint16\n",
      "  return _convert(image, np.uint16, force_copy)\n",
      "/home/gh464/miniconda3/envs/symbac/lib/python3.10/site-packages/skimage/util/dtype.py:501: UserWarning: Downcasting uint64 to uint16 without scaling because max value 150 fits in uint16\n",
      "  return _convert(image, np.uint16, force_copy)\n",
      "/home/gh464/miniconda3/envs/symbac/lib/python3.10/site-packages/skimage/util/dtype.py:501: UserWarning: Downcasting uint64 to uint16 without scaling because max value 145 fits in uint16\n",
      "  return _convert(image, np.uint16, force_copy)\n",
      "/home/gh464/miniconda3/envs/symbac/lib/python3.10/site-packages/skimage/util/dtype.py:501: UserWarning: Downcasting uint64 to uint16 without scaling because max value 136 fits in uint16\n",
      "  return _convert(image, np.uint16, force_copy)\n",
      "/home/gh464/miniconda3/envs/symbac/lib/python3.10/site-packages/skimage/util/dtype.py:501: UserWarning: Downcasting uint64 to uint16 without scaling because max value 148 fits in uint16\n",
      "  return _convert(image, np.uint16, force_copy)\n",
      "/home/gh464/miniconda3/envs/symbac/lib/python3.10/site-packages/skimage/util/dtype.py:501: UserWarning: Downcasting uint64 to uint16 without scaling because max value 147 fits in uint16\n",
      "  return _convert(image, np.uint16, force_copy)\n",
      "/home/gh464/miniconda3/envs/symbac/lib/python3.10/site-packages/skimage/util/dtype.py:501: UserWarning: Downcasting uint64 to uint16 without scaling because max value 156 fits in uint16\n",
      "  return _convert(image, np.uint16, force_copy)\n",
      "/home/gh464/miniconda3/envs/symbac/lib/python3.10/site-packages/skimage/util/dtype.py:501: UserWarning: Downcasting uint64 to uint16 without scaling because max value 151 fits in uint16\n",
      "  return _convert(image, np.uint16, force_copy)\n",
      "/home/gh464/miniconda3/envs/symbac/lib/python3.10/site-packages/skimage/util/dtype.py:501: UserWarning: Downcasting uint64 to uint16 without scaling because max value 135 fits in uint16\n",
      "  return _convert(image, np.uint16, force_copy)\n",
      "/home/gh464/miniconda3/envs/symbac/lib/python3.10/site-packages/skimage/util/dtype.py:501: UserWarning: Downcasting uint64 to uint16 without scaling because max value 149 fits in uint16\n",
      "  return _convert(image, np.uint16, force_copy)\n",
      "/home/gh464/miniconda3/envs/symbac/lib/python3.10/site-packages/skimage/util/dtype.py:501: UserWarning: Downcasting uint64 to uint16 without scaling because max value 134 fits in uint16\n",
      "  return _convert(image, np.uint16, force_copy)\n",
      "/home/gh464/miniconda3/envs/symbac/lib/python3.10/site-packages/skimage/util/dtype.py:501: UserWarning: Downcasting uint64 to uint16 without scaling because max value 152 fits in uint16\n",
      "  return _convert(image, np.uint16, force_copy)\n",
      "/home/gh464/miniconda3/envs/symbac/lib/python3.10/site-packages/skimage/util/dtype.py:501: UserWarning: Downcasting uint64 to uint16 without scaling because max value 155 fits in uint16\n",
      "  return _convert(image, np.uint16, force_copy)\n",
      "/home/gh464/miniconda3/envs/symbac/lib/python3.10/site-packages/skimage/util/dtype.py:501: UserWarning: Downcasting uint64 to uint16 without scaling because max value 129 fits in uint16\n",
      "  return _convert(image, np.uint16, force_copy)\n",
      "/home/gh464/miniconda3/envs/symbac/lib/python3.10/site-packages/skimage/util/dtype.py:501: UserWarning: Downcasting uint64 to uint16 without scaling because max value 154 fits in uint16\n",
      "  return _convert(image, np.uint16, force_copy)\n"
     ]
    },
    {
     "data": {
      "application/vnd.jupyter.widget-view+json": {
       "model_id": "35a02cbda971444194c42c2728978217",
       "version_major": 2,
       "version_minor": 0
      },
      "text/plain": [
       "  0%|          | 0/200 [00:00<?, ?it/s]"
      ]
     },
     "metadata": {},
     "output_type": "display_data"
    },
    {
     "data": {
      "application/vnd.jupyter.widget-view+json": {
       "model_id": "174b768b566c42589e42ae72c561f20b",
       "version_major": 2,
       "version_minor": 0
      },
      "text/plain": [
       "  0%|          | 0/200 [00:00<?, ?it/s]"
      ]
     },
     "metadata": {},
     "output_type": "display_data"
    },
    {
     "name": "stderr",
     "output_type": "stream",
     "text": [
      "/home/gh464/miniconda3/envs/symbac/lib/python3.10/site-packages/skimage/util/dtype.py:501: UserWarning: Downcasting uint64 to uint16 without scaling because max value 100 fits in uint16\n",
      "  return _convert(image, np.uint16, force_copy)\n",
      "/home/gh464/miniconda3/envs/symbac/lib/python3.10/site-packages/skimage/util/dtype.py:501: UserWarning: Downcasting uint64 to uint16 without scaling because max value 106 fits in uint16\n",
      "  return _convert(image, np.uint16, force_copy)\n",
      "/home/gh464/miniconda3/envs/symbac/lib/python3.10/site-packages/skimage/util/dtype.py:501: UserWarning: Downcasting uint64 to uint16 without scaling because max value 102 fits in uint16\n",
      "  return _convert(image, np.uint16, force_copy)\n",
      "/home/gh464/miniconda3/envs/symbac/lib/python3.10/site-packages/skimage/util/dtype.py:501: UserWarning: Downcasting uint64 to uint16 without scaling because max value 104 fits in uint16\n",
      "  return _convert(image, np.uint16, force_copy)\n",
      "/home/gh464/miniconda3/envs/symbac/lib/python3.10/site-packages/skimage/util/dtype.py:501: UserWarning: Downcasting uint64 to uint16 without scaling because max value 105 fits in uint16\n",
      "  return _convert(image, np.uint16, force_copy)\n",
      "/home/gh464/miniconda3/envs/symbac/lib/python3.10/site-packages/skimage/util/dtype.py:501: UserWarning: Downcasting uint64 to uint16 without scaling because max value 95 fits in uint16\n",
      "  return _convert(image, np.uint16, force_copy)\n",
      "/home/gh464/miniconda3/envs/symbac/lib/python3.10/site-packages/skimage/util/dtype.py:501: UserWarning: Downcasting uint64 to uint16 without scaling because max value 109 fits in uint16\n",
      "  return _convert(image, np.uint16, force_copy)\n",
      "/home/gh464/miniconda3/envs/symbac/lib/python3.10/site-packages/skimage/util/dtype.py:501: UserWarning: Downcasting uint64 to uint16 without scaling because max value 108 fits in uint16\n",
      "  return _convert(image, np.uint16, force_copy)\n",
      "/home/gh464/miniconda3/envs/symbac/lib/python3.10/site-packages/skimage/util/dtype.py:501: UserWarning: Downcasting uint64 to uint16 without scaling because max value 97 fits in uint16\n",
      "  return _convert(image, np.uint16, force_copy)\n",
      "/home/gh464/miniconda3/envs/symbac/lib/python3.10/site-packages/skimage/util/dtype.py:501: UserWarning: Downcasting uint64 to uint16 without scaling because max value 111 fits in uint16\n",
      "  return _convert(image, np.uint16, force_copy)\n",
      "/home/gh464/miniconda3/envs/symbac/lib/python3.10/site-packages/skimage/util/dtype.py:501: UserWarning: Downcasting uint64 to uint16 without scaling because max value 110 fits in uint16\n",
      "  return _convert(image, np.uint16, force_copy)\n",
      "/home/gh464/miniconda3/envs/symbac/lib/python3.10/site-packages/skimage/util/dtype.py:501: UserWarning: Downcasting uint64 to uint16 without scaling because max value 107 fits in uint16\n",
      "  return _convert(image, np.uint16, force_copy)\n",
      "/home/gh464/miniconda3/envs/symbac/lib/python3.10/site-packages/skimage/util/dtype.py:501: UserWarning: Downcasting uint64 to uint16 without scaling because max value 103 fits in uint16\n",
      "  return _convert(image, np.uint16, force_copy)\n",
      "/home/gh464/miniconda3/envs/symbac/lib/python3.10/site-packages/skimage/util/dtype.py:501: UserWarning: Downcasting uint64 to uint16 without scaling because max value 101 fits in uint16\n",
      "  return _convert(image, np.uint16, force_copy)\n",
      "/home/gh464/miniconda3/envs/symbac/lib/python3.10/site-packages/skimage/util/dtype.py:501: UserWarning: Downcasting uint64 to uint16 without scaling because max value 114 fits in uint16\n",
      "  return _convert(image, np.uint16, force_copy)\n",
      "/home/gh464/miniconda3/envs/symbac/lib/python3.10/site-packages/skimage/util/dtype.py:501: UserWarning: Downcasting uint64 to uint16 without scaling because max value 112 fits in uint16\n",
      "  return _convert(image, np.uint16, force_copy)\n",
      "/home/gh464/miniconda3/envs/symbac/lib/python3.10/site-packages/skimage/util/dtype.py:501: UserWarning: Downcasting uint64 to uint16 without scaling because max value 99 fits in uint16\n",
      "  return _convert(image, np.uint16, force_copy)\n",
      "/home/gh464/miniconda3/envs/symbac/lib/python3.10/site-packages/skimage/util/dtype.py:501: UserWarning: Downcasting uint64 to uint16 without scaling because max value 96 fits in uint16\n",
      "  return _convert(image, np.uint16, force_copy)\n",
      "/home/gh464/miniconda3/envs/symbac/lib/python3.10/site-packages/skimage/util/dtype.py:501: UserWarning: Downcasting uint64 to uint16 without scaling because max value 98 fits in uint16\n",
      "  return _convert(image, np.uint16, force_copy)\n",
      "/home/gh464/miniconda3/envs/symbac/lib/python3.10/site-packages/skimage/util/dtype.py:501: UserWarning: Downcasting uint64 to uint16 without scaling because max value 113 fits in uint16\n",
      "  return _convert(image, np.uint16, force_copy)\n",
      "/home/gh464/miniconda3/envs/symbac/lib/python3.10/site-packages/skimage/util/dtype.py:501: UserWarning: Downcasting uint64 to uint16 without scaling because max value 115 fits in uint16\n",
      "  return _convert(image, np.uint16, force_copy)\n",
      "/home/gh464/miniconda3/envs/symbac/lib/python3.10/site-packages/skimage/util/dtype.py:501: UserWarning: Downcasting uint64 to uint16 without scaling because max value 94 fits in uint16\n",
      "  return _convert(image, np.uint16, force_copy)\n",
      "/home/gh464/miniconda3/envs/symbac/lib/python3.10/site-packages/skimage/util/dtype.py:501: UserWarning: Downcasting uint64 to uint16 without scaling because max value 116 fits in uint16\n",
      "  return _convert(image, np.uint16, force_copy)\n",
      "/home/gh464/miniconda3/envs/symbac/lib/python3.10/site-packages/skimage/util/dtype.py:501: UserWarning: Downcasting uint64 to uint16 without scaling because max value 118 fits in uint16\n",
      "  return _convert(image, np.uint16, force_copy)\n"
     ]
    },
    {
     "data": {
      "application/vnd.jupyter.widget-view+json": {
       "model_id": "2fb70e1d1ff844d8944b501d631a4dc5",
       "version_major": 2,
       "version_minor": 0
      },
      "text/plain": [
       "  0%|          | 0/200 [00:00<?, ?it/s]"
      ]
     },
     "metadata": {},
     "output_type": "display_data"
    },
    {
     "data": {
      "application/vnd.jupyter.widget-view+json": {
       "model_id": "71bbc779502e44b6b4194faabd15dc2b",
       "version_major": 2,
       "version_minor": 0
      },
      "text/plain": [
       "  0%|          | 0/200 [00:00<?, ?it/s]"
      ]
     },
     "metadata": {},
     "output_type": "display_data"
    },
    {
     "name": "stderr",
     "output_type": "stream",
     "text": [
      "/home/gh464/miniconda3/envs/symbac/lib/python3.10/site-packages/skimage/util/dtype.py:501: UserWarning: Downcasting uint64 to uint16 without scaling because max value 78 fits in uint16\n",
      "  return _convert(image, np.uint16, force_copy)\n",
      "/home/gh464/miniconda3/envs/symbac/lib/python3.10/site-packages/skimage/util/dtype.py:501: UserWarning: Downcasting uint64 to uint16 without scaling because max value 84 fits in uint16\n",
      "  return _convert(image, np.uint16, force_copy)\n",
      "/home/gh464/miniconda3/envs/symbac/lib/python3.10/site-packages/skimage/util/dtype.py:501: UserWarning: Downcasting uint64 to uint16 without scaling because max value 91 fits in uint16\n",
      "  return _convert(image, np.uint16, force_copy)\n",
      "/home/gh464/miniconda3/envs/symbac/lib/python3.10/site-packages/skimage/util/dtype.py:501: UserWarning: Downcasting uint64 to uint16 without scaling because max value 80 fits in uint16\n",
      "  return _convert(image, np.uint16, force_copy)\n",
      "/home/gh464/miniconda3/envs/symbac/lib/python3.10/site-packages/skimage/util/dtype.py:501: UserWarning: Downcasting uint64 to uint16 without scaling because max value 81 fits in uint16\n",
      "  return _convert(image, np.uint16, force_copy)\n",
      "/home/gh464/miniconda3/envs/symbac/lib/python3.10/site-packages/skimage/util/dtype.py:501: UserWarning: Downcasting uint64 to uint16 without scaling because max value 86 fits in uint16\n",
      "  return _convert(image, np.uint16, force_copy)\n",
      "/home/gh464/miniconda3/envs/symbac/lib/python3.10/site-packages/skimage/util/dtype.py:501: UserWarning: Downcasting uint64 to uint16 without scaling because max value 88 fits in uint16\n",
      "  return _convert(image, np.uint16, force_copy)\n",
      "/home/gh464/miniconda3/envs/symbac/lib/python3.10/site-packages/skimage/util/dtype.py:501: UserWarning: Downcasting uint64 to uint16 without scaling because max value 82 fits in uint16\n",
      "  return _convert(image, np.uint16, force_copy)\n",
      "/home/gh464/miniconda3/envs/symbac/lib/python3.10/site-packages/skimage/util/dtype.py:501: UserWarning: Downcasting uint64 to uint16 without scaling because max value 83 fits in uint16\n",
      "  return _convert(image, np.uint16, force_copy)\n",
      "/home/gh464/miniconda3/envs/symbac/lib/python3.10/site-packages/skimage/util/dtype.py:501: UserWarning: Downcasting uint64 to uint16 without scaling because max value 79 fits in uint16\n",
      "  return _convert(image, np.uint16, force_copy)\n",
      "/home/gh464/miniconda3/envs/symbac/lib/python3.10/site-packages/skimage/util/dtype.py:501: UserWarning: Downcasting uint64 to uint16 without scaling because max value 85 fits in uint16\n",
      "  return _convert(image, np.uint16, force_copy)\n",
      "/home/gh464/miniconda3/envs/symbac/lib/python3.10/site-packages/skimage/util/dtype.py:501: UserWarning: Downcasting uint64 to uint16 without scaling because max value 73 fits in uint16\n",
      "  return _convert(image, np.uint16, force_copy)\n",
      "/home/gh464/miniconda3/envs/symbac/lib/python3.10/site-packages/skimage/util/dtype.py:501: UserWarning: Downcasting uint64 to uint16 without scaling because max value 77 fits in uint16\n",
      "  return _convert(image, np.uint16, force_copy)\n",
      "/home/gh464/miniconda3/envs/symbac/lib/python3.10/site-packages/skimage/util/dtype.py:501: UserWarning: Downcasting uint64 to uint16 without scaling because max value 76 fits in uint16\n",
      "  return _convert(image, np.uint16, force_copy)\n",
      "/home/gh464/miniconda3/envs/symbac/lib/python3.10/site-packages/skimage/util/dtype.py:501: UserWarning: Downcasting uint64 to uint16 without scaling because max value 90 fits in uint16\n",
      "  return _convert(image, np.uint16, force_copy)\n",
      "/home/gh464/miniconda3/envs/symbac/lib/python3.10/site-packages/skimage/util/dtype.py:501: UserWarning: Downcasting uint64 to uint16 without scaling because max value 75 fits in uint16\n",
      "  return _convert(image, np.uint16, force_copy)\n",
      "/home/gh464/miniconda3/envs/symbac/lib/python3.10/site-packages/skimage/util/dtype.py:501: UserWarning: Downcasting uint64 to uint16 without scaling because max value 89 fits in uint16\n",
      "  return _convert(image, np.uint16, force_copy)\n",
      "/home/gh464/miniconda3/envs/symbac/lib/python3.10/site-packages/skimage/util/dtype.py:501: UserWarning: Downcasting uint64 to uint16 without scaling because max value 74 fits in uint16\n",
      "  return _convert(image, np.uint16, force_copy)\n",
      "/home/gh464/miniconda3/envs/symbac/lib/python3.10/site-packages/skimage/util/dtype.py:501: UserWarning: Downcasting uint64 to uint16 without scaling because max value 87 fits in uint16\n",
      "  return _convert(image, np.uint16, force_copy)\n"
     ]
    }
   ],
   "source": [
    "for (min_length, max_length), (min_width, max_width) in zip(min_max_cell_length, min_max_cell_width):\n",
    "    try:\n",
    "        os.mkdir(f\"data/\")\n",
    "    except:\n",
    "        pass\n",
    "    try:\n",
    "        os.mkdir(f\"data/{min_length}_{max_length}\")\n",
    "    except:\n",
    "        pass\n",
    "    try:\n",
    "        os.mkdir(f\"data/{min_length}_{max_length}/training_data\")\n",
    "    except:\n",
    "        pass\n",
    "    try:\n",
    "        os.mkdir(f\"data/{min_length}_{max_length}/test_data\")\n",
    "    except:\n",
    "        pass\n",
    "    try:\n",
    "        os.mkdir(f\"data/{min_length}_{max_length}/raw_train\")\n",
    "    except:\n",
    "        pass\n",
    "    try:\n",
    "        os.mkdir(f\"data/{min_length}_{max_length}/raw_test\")\n",
    "    except:\n",
    "        pass\n",
    "    img_mask_pairs = Parallel(n_jobs=-1)(delayed(generate_agar_pad_image)(1, 800, density, 2, min_length, max_length, min_width, max_width) for density in tqdm(densities))\n",
    "\n",
    "    \n",
    "    conv_imgs = []\n",
    "    for a, (image, mask, cell_info) in enumerate(tqdm(img_mask_pairs)):\n",
    "        my_camera = Camera(baseline=100, sensitivity=2.9, dark_noise=8)\n",
    "        dark_image = my_camera.render_dark_image(size=image.shape, plot=False);\n",
    "        conv_image = convolve_rescale(image, FL_PSF.kernel, rescale_factor=1/pix_scaler, rescale_int=True)\n",
    "        conv_image = (dark_image + conv_image * 1000)\n",
    "        conv_image /= conv_image.max()\n",
    "        if a < 20:\n",
    "            Image.fromarray(img_as_uint(conv_image/conv_image.max())).save(f\"data/{min_length}_{max_length}/training_data/{str(a).zfill(4)}.png\")\n",
    "            Image.fromarray(img_as_uint(mask)).save(f\"data/{min_length}_{max_length}/training_data/{str(a).zfill(4)}_masks.png\")\n",
    "            Image.fromarray(img_as_uint(image/image.max())).save(f\"data/{min_length}_{max_length}/raw_train/{str(a).zfill(4)}.png\")\n",
    "        else:\n",
    "            Image.fromarray(img_as_uint(conv_image/conv_image.max())).save(f\"data/{min_length}_{max_length}/test_data/{str(a).zfill(4)}.png\")\n",
    "            Image.fromarray(img_as_uint(mask)).save(f\"data/{min_length}_{max_length}/test_data/{str(a).zfill(4)}_masks.png\")\n",
    "            Image.fromarray(img_as_uint(image/image.max())).save(f\"data/{min_length}_{max_length}/raw_test/{str(a).zfill(4)}.png\")"
   ]
  },
  {
   "cell_type": "code",
   "execution_count": null,
   "id": "06b8e715-f185-433e-804e-b48bb26f3b10",
   "metadata": {},
   "outputs": [],
   "source": []
  }
 ],
 "metadata": {
  "kernelspec": {
   "display_name": "Python 3 (ipykernel)",
   "language": "python",
   "name": "python3"
  },
  "language_info": {
   "codemirror_mode": {
    "name": "ipython",
    "version": 3
   },
   "file_extension": ".py",
   "mimetype": "text/x-python",
   "name": "python",
   "nbconvert_exporter": "python",
   "pygments_lexer": "ipython3",
   "version": "3.10.9"
  }
 },
 "nbformat": 4,
 "nbformat_minor": 5
}
