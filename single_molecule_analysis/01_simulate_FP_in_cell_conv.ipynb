{
 "cells": [
  {
   "cell_type": "code",
   "execution_count": 41,
   "id": "260e85ab-c21e-4f36-8839-5e6744a7f400",
   "metadata": {
    "tags": []
   },
   "outputs": [],
   "source": [
    "import sys\n",
    "sys.path.insert(0, \"/home/gh464/Documents/GitHub/SyMBac/\") \n",
    "from SyMBac.drawing import raster_cell, OPL_to_FL, convert_to_3D\n",
    "import matplotlib.pyplot as plt\n",
    "import numpy as np\n",
    "from skimage.morphology import dilation, disk\n",
    "from skimage.measure import label\n",
    "from joblib import Parallel, delayed\n",
    "from tqdm.auto import tqdm\n",
    "import seaborn as sns\n",
    "import pandas as pd\n",
    "from SyMBac.drawing import raster_cell, OPL_to_FL\n",
    "from SyMBac.PSF import PSF_generator\n",
    "from SyMBac.renderer import convolve_rescale\n",
    "from SyMBac.PSF import PSF_generator\n",
    "import tifffile\n",
    "from skimage.util import img_as_uint\n",
    "from skimage.transform import resize\n",
    "import os"
   ]
  },
  {
   "cell_type": "code",
   "execution_count": 42,
   "id": "ec377492-d695-416c-bfec-89b7219c604d",
   "metadata": {
    "tags": []
   },
   "outputs": [],
   "source": [
    "pixel_size = 0.05\n",
    "scale = 1\n",
    "pixel_size = pixel_size/scale\n",
    "def simulate_molecule_counting(N_molecules, length, width):\n",
    "    OPL_cell = raster_cell(length/pixel_size,width/pixel_size,separation=False)\n",
    "    volume = np.sum(OPL_cell)\n",
    "    density = N_molecules/volume\n",
    "    FL_cell = OPL_to_FL(OPL_cell, density = density)\n",
    "    true_N_molecules = np.sum(FL_cell)\n",
    "    return FL_cell, true_N_molecules"
   ]
  },
  {
   "cell_type": "code",
   "execution_count": 43,
   "id": "af2cea91-d7f5-4773-9cbf-e2f2ec8e7c85",
   "metadata": {
    "tags": []
   },
   "outputs": [],
   "source": [
    "length = 5\n",
    "width = 1\n",
    "OPL_cell = raster_cell(length/pixel_size,width/pixel_size,separation=False)"
   ]
  },
  {
   "cell_type": "code",
   "execution_count": 44,
   "id": "04b200a6-51c4-47f7-9d58-bb96a7febe98",
   "metadata": {
    "tags": []
   },
   "outputs": [],
   "source": [
    "OPL_cell_3D = convert_to_3D(OPL_cell)\n",
    "OPL_cell_3D = np.pad(OPL_cell_3D, ((0,0),(10,10),(10,10)))"
   ]
  },
  {
   "cell_type": "code",
   "execution_count": 383,
   "id": "eb86d424-0d90-4ba6-bc85-1659b0c45fee",
   "metadata": {
    "tags": []
   },
   "outputs": [],
   "source": [
    "my_kernel = PSF_generator(\n",
    "    radius = 30, \n",
    "    wavelength = 0.55, \n",
    "    NA=1.49, \n",
    "    n = 1.518, \n",
    "    resize_amount=1, \n",
    "    pix_mic_conv=pixel_size, \n",
    "    apo_sigma = 10, \n",
    "    mode=\"3d fluo\", \n",
    "    condenser=\"Ph3\", \n",
    "    z_height = OPL_cell_3D.shape[0],\n",
    "    pz = 0.5,\n",
    "    working_distance = 170\n",
    ")\n",
    "my_kernel.calculate_PSF()\n",
    "my_kernel.kernel /= np.sum(my_kernel.kernel)"
   ]
  },
  {
   "cell_type": "code",
   "execution_count": 416,
   "id": "0445dae2-cc66-4db6-b1be-c100d1d760d3",
   "metadata": {
    "tags": []
   },
   "outputs": [],
   "source": [
    "def generate_convolved_cell(N_molecules, OPL_cell_3D, kernel):\n",
    "    \n",
    "    SNR = 5\n",
    "    \n",
    "    weights = [np.sum(x) for x in OPL_cell_3D]\n",
    "    weights = np.array(weights)/sum(weights)\n",
    "    layers = np.arange(len(OPL_cell_3D))\n",
    "    layer_distribution = np.random.choice(layers, p = weights, size = N_molecules)\n",
    "\n",
    "    \n",
    "    FL_cell_3D = np.zeros_like(OPL_cell_3D)\n",
    "    for i in layer_distribution:\n",
    "        FL_cell_3D[i] += OPL_to_FL(OPL_cell_3D[i], density = 1/np.sum(OPL_cell_3D[i])).astype(np.uint8)\n",
    "    FL_cell_3D = FL_cell_3D.astype(np.float32)\n",
    "    \n",
    "    \n",
    "    \n",
    "    while np.sum(FL_cell_3D) != N_molecules:\n",
    "        \n",
    "        weights = [np.sum(x) for x in OPL_cell_3D]\n",
    "        weights = np.array(weights)/sum(weights)\n",
    "        layers = np.arange(len(OPL_cell_3D))\n",
    "        layer_distribution = np.random.choice(layers, p = weights, size = N_molecules)\n",
    "        \n",
    "        FL_cell_3D = np.zeros_like(OPL_cell_3D)\n",
    "        for i in layer_distribution:\n",
    "            FL_cell_3D[i] += OPL_to_FL(OPL_cell_3D[i], density = 1/np.sum(OPL_cell_3D[i])).astype(np.uint8)\n",
    "        FL_cell_3D = FL_cell_3D.astype(np.float32)\n",
    "        \n",
    "        \n",
    "\n",
    "        \n",
    "        \n",
    "    \n",
    "    localisation_data = pd.DataFrame(np.argwhere(FL_cell_3D)[:,1:] * (pixel_size * 1000))\n",
    "    localisation_data.columns = [\"y [nm]\", \"x [nm]\"]\n",
    "    localisation_data[\"Photon #\"] = 2250\n",
    "    \n",
    "    conv_FL_cell_3D = np.array([convolve_rescale(cell_layer, PSF_layer, 1, False) for cell_layer, PSF_layer in zip(FL_cell_3D, kernel)])\n",
    "    \n",
    "    \n",
    "    conv_FL_cell = conv_FL_cell_3D.sum(axis=0)\n",
    "    conv_FL_cell = conv_FL_cell * 135000 * SNR\n",
    "    conv_FL_cell = np.random.poisson(conv_FL_cell).astype(np.float64)\n",
    "    bg_noise = np.random.normal(500, 120, conv_FL_cell.shape)\n",
    "    conv_FL_cell += np.where(bg_noise > 0, bg_noise, 0)\n",
    "    \n",
    "    conv_FL_cell = conv_FL_cell/(conv_FL_cell.max())\n",
    "    conv_FL_cell = img_as_uint(conv_FL_cell)\n",
    "    return conv_FL_cell, localisation_data\n",
    "    #plt.imshow(conv_FL_cell, cmap=\"Greys_r\")"
   ]
  },
  {
   "cell_type": "code",
   "execution_count": 417,
   "id": "864c2a2e-dcb9-432f-8f53-e9cb661f9138",
   "metadata": {
    "tags": []
   },
   "outputs": [
    {
     "name": "stdout",
     "output_type": "stream",
     "text": [
      "5.048494726381183\n"
     ]
    },
    {
     "data": {
      "text/plain": [
       "<matplotlib.image.AxesImage at 0x7f9b1cd72110>"
      ]
     },
     "execution_count": 417,
     "metadata": {},
     "output_type": "execute_result"
    },
    {
     "data": {
      "image/png": "[encoded data removed]",
      "text/plain": [
       "<Figure size 640x480 with 1 Axes>"
      ]
     },
     "metadata": {},
     "output_type": "display_data"
    }
   ],
   "source": [
    "## Check SNR for brightest molecule \n",
    "SNRs = []\n",
    "for _ in range(100):\n",
    "    frame_data = generate_convolved_cell(N_molecules=1, OPL_cell_3D=OPL_cell_3D, kernel = np.array([my_kernel.kernel[9]]*my_kernel.kernel.shape[0]))[0]\n",
    "    SNRs.append(frame_data.max() / frame_data.mean())\n",
    "    \n",
    "print(np.mean(SNRs))\n",
    "plt.title(f\"Bottom of cell molecule, SNR = {np.mean(SNRs):.1f}\")\n",
    "plt.imshow(frame_data, cmap=\"Greys_r\")"
   ]
  },
  {
   "cell_type": "code",
   "execution_count": 363,
   "id": "78b31ce0-70a5-4ccd-80e1-8081213dcddb",
   "metadata": {
    "tags": []
   },
   "outputs": [
    {
     "data": {
      "application/vnd.jupyter.widget-view+json": {
       "model_id": "1235d65962e544adb749dc280fb2b10e",
       "version_major": 2,
       "version_minor": 0
      },
      "text/plain": [
       "  0%|          | 0/6000 [00:00<?, ?it/s]"
      ]
     },
     "metadata": {},
     "output_type": "display_data"
    },
    {
     "name": "stderr",
     "output_type": "stream",
     "text": [
      "/tmp/ipykernel_1142076/461161085.py:2: VisibleDeprecationWarning: Creating an ndarray from ragged nested sequences (which is a list-or-tuple of lists-or-tuples-or ndarrays with different lengths or shapes) is deprecated. If you meant to do this, you must specify 'dtype=object' when creating the ndarray.\n",
      "  training_data = np.array([generate_convolved_cell(N_molecules=N, OPL_cell_3D=OPL_cell_3D, kernel = my_kernel.kernel) for N in tqdm(N_molecules_sample)])\n",
      "/tmp/ipykernel_1142076/461161085.py:5: VisibleDeprecationWarning: Creating an ndarray from ragged nested sequences (which is a list-or-tuple of lists-or-tuples-or ndarrays with different lengths or shapes) is deprecated. If you meant to do this, you must specify 'dtype=object' when creating the ndarray.\n",
      "  locallisation_data = np.array([x[1] for x in training_data])\n"
     ]
    }
   ],
   "source": [
    "N_molecules_sample = np.repeat(np.arange(1,31), 200)\n",
    "training_data = np.array([generate_convolved_cell(N_molecules=N, OPL_cell_3D=OPL_cell_3D, kernel = my_kernel.kernel) for N in tqdm(N_molecules_sample)])\n",
    "all_cells = np.array([x[0] for x in training_data])\n",
    "\n",
    "locallisation_data = np.array([x[1] for x in training_data])\n",
    "\n",
    "for i, data in enumerate(locallisation_data):\n",
    "    data[\"frame\"] = i+1\n",
    "directory = \"DEEPSTORM_training_data\"\n",
    "try:\n",
    "    os.mkdir(directory)\n",
    "except:\n",
    "    pass\n",
    "\n",
    "coordinates = pd.concat(locallisation_data).reset_index(drop=True)\n",
    "coordinates.index += 1\n",
    "coordinates.to_csv(f\"{directory}/SimulatedDataset.csv\")\n",
    "\n",
    "tifffile.imwrite(f\"{directory}/SimulatedDataset.tif\", all_cells)"
   ]
  },
  {
   "cell_type": "code",
   "execution_count": 364,
   "id": "33430e41-e3ea-43a1-a147-11dde27843d0",
   "metadata": {
    "tags": []
   },
   "outputs": [
    {
     "data": {
      "application/vnd.jupyter.widget-view+json": {
       "model_id": "662ca26b80ec4a9bbcaecd87e3676644",
       "version_major": 2,
       "version_minor": 0
      },
      "text/plain": [
       "  0%|          | 0/3000 [00:00<?, ?it/s]"
      ]
     },
     "metadata": {},
     "output_type": "display_data"
    },
    {
     "name": "stderr",
     "output_type": "stream",
     "text": [
      "/tmp/ipykernel_1142076/379019051.py:2: VisibleDeprecationWarning: Creating an ndarray from ragged nested sequences (which is a list-or-tuple of lists-or-tuples-or ndarrays with different lengths or shapes) is deprecated. If you meant to do this, you must specify 'dtype=object' when creating the ndarray.\n",
      "  test_data = np.array([generate_convolved_cell(N_molecules=N, OPL_cell_3D=OPL_cell_3D, kernel = my_kernel.kernel) for N in tqdm(N_molecules_sample)])\n",
      "/tmp/ipykernel_1142076/379019051.py:5: VisibleDeprecationWarning: Creating an ndarray from ragged nested sequences (which is a list-or-tuple of lists-or-tuples-or ndarrays with different lengths or shapes) is deprecated. If you meant to do this, you must specify 'dtype=object' when creating the ndarray.\n",
      "  locallisation_data = np.array([x[1] for x in test_data])\n"
     ]
    }
   ],
   "source": [
    "N_molecules_sample = np.repeat(np.arange(1,31), 100)\n",
    "test_data = np.array([generate_convolved_cell(N_molecules=N, OPL_cell_3D=OPL_cell_3D, kernel = my_kernel.kernel) for N in tqdm(N_molecules_sample)])\n",
    "all_cells = np.array([x[0] for x in test_data])\n",
    "\n",
    "locallisation_data = np.array([x[1] for x in test_data])\n",
    "\n",
    "for i, data in enumerate(locallisation_data):\n",
    "    data[\"frame\"] = i+1\n",
    "directory = \"DEEPSTORM_test_data\"\n",
    "try:\n",
    "    os.mkdir(directory)\n",
    "except:\n",
    "    pass\n",
    "\n",
    "coordinates = pd.concat(locallisation_data).reset_index(drop=True)\n",
    "coordinates.index += 1\n",
    "coordinates.to_csv(f\"{directory}/SimulatedDataset.csv\")\n",
    "\n",
    "_ = [tifffile.imwrite(f\"{directory}/{str(i+1).zfill(4)}_test.tif\", np.array([cell])) for i, cell in enumerate(all_cells)]"
   ]
  },
  {
   "cell_type": "code",
   "execution_count": 365,
   "id": "8769deb6-add8-4a3c-93ac-00d394265d4b",
   "metadata": {
    "tags": []
   },
   "outputs": [
    {
     "data": {
      "application/vnd.jupyter.widget-view+json": {
       "model_id": "451baaecfd0e4b9ab82bac64de81c6c0",
       "version_major": 2,
       "version_minor": 0
      },
      "text/plain": [
       "  0%|          | 0/3000 [00:00<?, ?it/s]"
      ]
     },
     "metadata": {},
     "output_type": "display_data"
    },
    {
     "name": "stderr",
     "output_type": "stream",
     "text": [
      "/tmp/ipykernel_1142076/1718035975.py:2: VisibleDeprecationWarning: Creating an ndarray from ragged nested sequences (which is a list-or-tuple of lists-or-tuples-or ndarrays with different lengths or shapes) is deprecated. If you meant to do this, you must specify 'dtype=object' when creating the ndarray.\n",
      "  test_data = np.array([generate_convolved_cell(N_molecules=N, OPL_cell_3D=OPL_cell_3D, kernel = np.array([my_kernel.kernel[8]]*my_kernel.kernel.shape[0])) for N in tqdm(N_molecules_sample)])\n",
      "/tmp/ipykernel_1142076/1718035975.py:5: VisibleDeprecationWarning: Creating an ndarray from ragged nested sequences (which is a list-or-tuple of lists-or-tuples-or ndarrays with different lengths or shapes) is deprecated. If you meant to do this, you must specify 'dtype=object' when creating the ndarray.\n",
      "  locallisation_data = np.array([x[1] for x in test_data])\n"
     ]
    }
   ],
   "source": [
    "N_molecules_sample = np.repeat(np.arange(1,31), 100)\n",
    "test_data = np.array([generate_convolved_cell(N_molecules=N, OPL_cell_3D=OPL_cell_3D, kernel = np.array([my_kernel.kernel[8]]*my_kernel.kernel.shape[0])) for N in tqdm(N_molecules_sample)])\n",
    "all_cells = np.array([x[0] for x in test_data])\n",
    "\n",
    "locallisation_data = np.array([x[1] for x in test_data])\n",
    "\n",
    "for i, data in enumerate(locallisation_data):\n",
    "    data[\"frame\"] = i+1\n",
    "directory = \"DEEPSTORM_test_data_no_DoF\"\n",
    "try:\n",
    "    os.mkdir(directory)\n",
    "except:\n",
    "    pass\n",
    "\n",
    "coordinates = pd.concat(locallisation_data).reset_index(drop=True)\n",
    "coordinates.index += 1\n",
    "coordinates.to_csv(f\"{directory}/SimulatedDataset.csv\")\n",
    "\n",
    "_ = [tifffile.imwrite(f\"{directory}/{str(i+1).zfill(4)}_test.tif\", np.array([cell])) for i, cell in enumerate(all_cells)]"
   ]
  },
  {
   "cell_type": "code",
   "execution_count": 367,
   "id": "4d3791bd-d2ac-484c-abfb-d0259c9d8226",
   "metadata": {
    "tags": []
   },
   "outputs": [],
   "source": [
    "def generate_convolved_cell_infinite_SNR(N_molecules, OPL_cell_3D, kernel):\n",
    "        \n",
    "    weights = [np.sum(x) for x in OPL_cell_3D]\n",
    "    weights = np.array(weights)/sum(weights)\n",
    "    layers = np.arange(len(OPL_cell_3D))\n",
    "    layer_distribution = np.random.choice(layers, p = weights, size = N_molecules)\n",
    "\n",
    "    \n",
    "    FL_cell_3D = np.zeros_like(OPL_cell_3D)\n",
    "    for i in layer_distribution:\n",
    "        FL_cell_3D[i] += OPL_to_FL(OPL_cell_3D[i], density = 1/np.sum(OPL_cell_3D[i])).astype(np.uint8)\n",
    "    FL_cell_3D = FL_cell_3D.astype(np.float32)\n",
    "    \n",
    "    \n",
    "    \n",
    "    while np.sum(FL_cell_3D) != N_molecules:\n",
    "        \n",
    "        weights = [np.sum(x) for x in OPL_cell_3D]\n",
    "        weights = np.array(weights)/sum(weights)\n",
    "        layers = np.arange(len(OPL_cell_3D))\n",
    "        layer_distribution = np.random.choice(layers, p = weights, size = N_molecules)\n",
    "        \n",
    "        FL_cell_3D = np.zeros_like(OPL_cell_3D)\n",
    "        for i in layer_distribution:\n",
    "            FL_cell_3D[i] += OPL_to_FL(OPL_cell_3D[i], density = 1/np.sum(OPL_cell_3D[i])).astype(np.uint8)\n",
    "        FL_cell_3D = FL_cell_3D.astype(np.float32)\n",
    "        \n",
    "        \n",
    "\n",
    "        \n",
    "    \n",
    "    localisation_data = pd.DataFrame(np.argwhere(FL_cell_3D)[:,1:] * (pixel_size * 1000))\n",
    "    localisation_data.columns = [\"y [nm]\", \"x [nm]\"]\n",
    "    localisation_data[\"Photon #\"] = 2250\n",
    "    \n",
    "    conv_FL_cell_3D = np.array([convolve_rescale(cell_layer, PSF_layer, 1, False) for cell_layer, PSF_layer in zip(FL_cell_3D, kernel)])\n",
    "    \n",
    "    \n",
    "    conv_FL_cell = conv_FL_cell_3D.sum(axis=0)\n",
    "    \n",
    "    conv_FL_cell = conv_FL_cell/(conv_FL_cell.max())\n",
    "    conv_FL_cell = img_as_uint(conv_FL_cell)\n",
    "    return conv_FL_cell, localisation_data\n",
    "    #plt.imshow(conv_FL_cell, cmap=\"Greys_r\")"
   ]
  },
  {
   "cell_type": "code",
   "execution_count": 420,
   "id": "d4740658-742c-4a35-9110-f9ef1298875e",
   "metadata": {
    "tags": []
   },
   "outputs": [
    {
     "data": {
      "application/vnd.jupyter.widget-view+json": {
       "model_id": "5c72d4c2efd441e88285c9e5500cbc30",
       "version_major": 2,
       "version_minor": 0
      },
      "text/plain": [
       "  0%|          | 0/6000 [00:00<?, ?it/s]"
      ]
     },
     "metadata": {},
     "output_type": "display_data"
    },
    {
     "name": "stderr",
     "output_type": "stream",
     "text": [
      "/tmp/ipykernel_1142076/3255458557.py:2: VisibleDeprecationWarning: Creating an ndarray from ragged nested sequences (which is a list-or-tuple of lists-or-tuples-or ndarrays with different lengths or shapes) is deprecated. If you meant to do this, you must specify 'dtype=object' when creating the ndarray.\n",
      "  training_data = np.array([generate_convolved_cell_infinite_SNR(N_molecules=N, OPL_cell_3D=OPL_cell_3D, kernel = my_kernel.kernel) for N in tqdm(N_molecules_sample)])\n",
      "/tmp/ipykernel_1142076/3255458557.py:5: VisibleDeprecationWarning: Creating an ndarray from ragged nested sequences (which is a list-or-tuple of lists-or-tuples-or ndarrays with different lengths or shapes) is deprecated. If you meant to do this, you must specify 'dtype=object' when creating the ndarray.\n",
      "  locallisation_data = np.array([x[1] for x in training_data])\n"
     ]
    }
   ],
   "source": [
    "N_molecules_sample = np.repeat(np.arange(1,31), 200)\n",
    "training_data = np.array([generate_convolved_cell_infinite_SNR(N_molecules=N, OPL_cell_3D=OPL_cell_3D, kernel = my_kernel.kernel) for N in tqdm(N_molecules_sample)])\n",
    "all_cells = np.array([x[0] for x in training_data])\n",
    "\n",
    "locallisation_data = np.array([x[1] for x in training_data])\n",
    "\n",
    "for i, data in enumerate(locallisation_data):\n",
    "    data[\"frame\"] = i+1\n",
    "directory = \"DEEPSTORM_training_data_infinite_SNR\"\n",
    "try:\n",
    "    os.mkdir(directory)\n",
    "except:\n",
    "    pass\n",
    "\n",
    "coordinates = pd.concat(locallisation_data).reset_index(drop=True)\n",
    "coordinates.index += 1\n",
    "coordinates.to_csv(f\"{directory}/SimulatedDataset.csv\")\n",
    "\n",
    "tifffile.imwrite(f\"{directory}/SimulatedDataset.tif\", all_cells)"
   ]
  },
  {
   "cell_type": "code",
   "execution_count": 375,
   "id": "6af51de2-14e5-4d02-95d5-8271d88a0269",
   "metadata": {
    "tags": []
   },
   "outputs": [
    {
     "data": {
      "application/vnd.jupyter.widget-view+json": {
       "model_id": "a7915f29742244498815b7973980da05",
       "version_major": 2,
       "version_minor": 0
      },
      "text/plain": [
       "  0%|          | 0/3000 [00:00<?, ?it/s]"
      ]
     },
     "metadata": {},
     "output_type": "display_data"
    },
    {
     "name": "stderr",
     "output_type": "stream",
     "text": [
      "/tmp/ipykernel_1142076/935041661.py:2: VisibleDeprecationWarning: Creating an ndarray from ragged nested sequences (which is a list-or-tuple of lists-or-tuples-or ndarrays with different lengths or shapes) is deprecated. If you meant to do this, you must specify 'dtype=object' when creating the ndarray.\n",
      "  test_data = np.array([generate_convolved_cell_infinite_SNR(N_molecules=N, OPL_cell_3D=OPL_cell_3D, kernel = np.array([my_kernel.kernel[8]]*my_kernel.kernel.shape[0])) for N in tqdm(N_molecules_sample)])\n",
      "/tmp/ipykernel_1142076/935041661.py:5: VisibleDeprecationWarning: Creating an ndarray from ragged nested sequences (which is a list-or-tuple of lists-or-tuples-or ndarrays with different lengths or shapes) is deprecated. If you meant to do this, you must specify 'dtype=object' when creating the ndarray.\n",
      "  locallisation_data = np.array([x[1] for x in test_data])\n"
     ]
    }
   ],
   "source": [
    "N_molecules_sample = np.repeat(np.arange(1,31), 100)\n",
    "test_data = np.array([generate_convolved_cell_infinite_SNR(N_molecules=N, OPL_cell_3D=OPL_cell_3D, kernel = np.array([my_kernel.kernel[8]]*my_kernel.kernel.shape[0])) for N in tqdm(N_molecules_sample)])\n",
    "all_cells = np.array([x[0] for x in test_data])\n",
    "\n",
    "locallisation_data = np.array([x[1] for x in test_data])\n",
    "\n",
    "for i, data in enumerate(locallisation_data):\n",
    "    data[\"frame\"] = i+1\n",
    "directory = \"DEEPSTORM_test_data_infinite_SNR\"\n",
    "try:\n",
    "    os.mkdir(directory)\n",
    "except:\n",
    "    pass\n",
    "\n",
    "coordinates = pd.concat(locallisation_data).reset_index(drop=True)\n",
    "coordinates.index += 1\n",
    "coordinates.to_csv(f\"{directory}/SimulatedDataset.csv\")\n",
    "\n",
    "_ = [tifffile.imwrite(f\"{directory}/{str(i+1).zfill(4)}_test.tif\", np.array([cell])) for i, cell in enumerate(all_cells)]"
   ]
  },
  {
   "cell_type": "code",
   "execution_count": null,
   "id": "0eab0eea-892c-469d-88d5-0962374f6725",
   "metadata": {},
   "outputs": [],
   "source": []
  }
 ],
 "metadata": {
  "kernelspec": {
   "display_name": "Python 3 (ipykernel)",
   "language": "python",
   "name": "python3"
  },
  "language_info": {
   "codemirror_mode": {
    "name": "ipython",
    "version": 3
   },
   "file_extension": ".py",
   "mimetype": "text/x-python",
   "name": "python",
   "nbconvert_exporter": "python",
   "pygments_lexer": "ipython3",
   "version": "3.10.9"
  }
 },
 "nbformat": 4,
 "nbformat_minor": 5
}
