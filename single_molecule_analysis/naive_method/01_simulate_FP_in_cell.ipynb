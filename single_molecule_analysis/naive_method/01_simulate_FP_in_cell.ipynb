{
 "cells": [
  {
   "cell_type": "code",
   "execution_count": 5,
   "id": "b34128fd-5f85-43cf-9f9c-711e45acd615",
   "metadata": {
    "tags": []
   },
   "outputs": [],
   "source": [
    "from SyMBac.drawing import raster_cell, OPL_to_FL\n",
    "import matplotlib.pyplot as plt\n",
    "import numpy as np\n",
    "from skimage.morphology import dilation, disk\n",
    "from skimage.measure import label\n",
    "from joblib import Parallel, delayed\n",
    "from tqdm.auto import tqdm\n",
    "import seaborn as sns\n",
    "import pandas as pd\n",
    "import sys\n",
    "sys.path.insert(0, \"../\") \n",
    "from SyMBac.drawing import raster_cell, OPL_to_FL\n",
    "from SyMBac.PSF import PSF_generator\n",
    "from SyMBac.renderer import convolve_rescale"
   ]
  },
  {
   "cell_type": "code",
   "execution_count": 21,
   "id": "d9a8022e-b9de-4803-86a3-ea6ac284f183",
   "metadata": {
    "tags": []
   },
   "outputs": [],
   "source": [
    "def calculate_diffraction_limit(wavelength, NA, criterion):\n",
    "    if criterion == \"Rayleigh\":\n",
    "        return 0.61*wavelength/NA\n",
    "    if criterion == \"Abbe\":\n",
    "        return 0.5*wavelength/NA\n",
    "    if criterion == \"Sparrow\":\n",
    "        return 0.47*wavelength/NA"
   ]
  },
  {
   "cell_type": "code",
   "execution_count": 42,
   "id": "79102853-56fd-48ad-b18d-ff931ee19cb0",
   "metadata": {
    "tags": []
   },
   "outputs": [],
   "source": [
    "pixel_size = 0.0655\n",
    "scale = 20\n",
    "pixel_size = pixel_size/scale\n",
    "NA = 1.49"
   ]
  },
  {
   "cell_type": "code",
   "execution_count": 43,
   "id": "6562a916-7989-4f6d-986a-a77a8f493cf3",
   "metadata": {
    "tags": []
   },
   "outputs": [],
   "source": [
    "N_molecules = np.arange(1, 30)+0.1\n",
    "diffraction_limits = [\"Rayleigh\", \"Abbe\", \"Sparrow\"]\n",
    "lengths = np.arange(1,11,1)\n",
    "widths = np.arange(1,11,1)\n",
    "imaging_properties = ((0.0655, 1.45))\n",
    "wavelengths = (0.4, 0.5, 0.6, 0.7) #Blue, cyan, green, yellow, orange, red, far red"
   ]
  },
  {
   "cell_type": "code",
   "execution_count": 44,
   "id": "3d3549ef-34e2-40d3-9ec4-9e46f5bffa3e",
   "metadata": {
    "tags": []
   },
   "outputs": [],
   "source": [
    "def simulate_molecule_counting(N_molecules, length, width, diffraction_criterion, wavelength, ID, imaging_properties=imaging_properties):\n",
    "    pixel_size, NA = imaging_properties\n",
    "    diffraction_limit = calculate_diffraction_limit(wavelength,NA, diffraction_criterion)/pixel_size\n",
    "    OPL_cell = raster_cell(length/pixel_size,width/pixel_size,separation=False)\n",
    "    volume = np.sum(OPL_cell)\n",
    "    density = N_molecules/volume\n",
    "    FL_cell = OPL_to_FL(OPL_cell, density = density)\n",
    "    diffraction_limited_cell = dilation(FL_cell, disk(diffraction_limit/2))\n",
    "    true_N_molecules = np.sum(FL_cell)\n",
    "    observed_N_molecules = len(np.unique(label(diffraction_limited_cell)))-1\n",
    "    if (true_N_molecules < observed_N_molecules) or (observed_N_molecules == 0):\n",
    "        raise Exception(f\"{N_molecules}, {length}, {width}, {diffraction_criterion},{pixel_size}\")\n",
    "    return true_N_molecules, observed_N_molecules, np.sum(OPL_cell), ID"
   ]
  },
  {
   "cell_type": "code",
   "execution_count": 45,
   "id": "65856abd-a682-49e6-9f43-c1f218871433",
   "metadata": {
    "tags": []
   },
   "outputs": [],
   "source": [
    "wavelength = 0.55\n",
    "diffraction_criterion = \"Rayleigh\"\n",
    "length = 5\n",
    "width = 1\n",
    "N_molecules = 10\n",
    "\n",
    "diffraction_limit = calculate_diffraction_limit(wavelength,NA, diffraction_criterion)/pixel_size\n",
    "OPL_cell = raster_cell(length/pixel_size,width/pixel_size,separation=False)\n",
    "volume = np.sum(OPL_cell)\n",
    "density = N_molecules/volume\n",
    "FL_cell = OPL_to_FL(OPL_cell, density = density)\n",
    "diffraction_limited_cell = dilation(FL_cell, disk(diffraction_limit/2))\n",
    "true_N_molecules = np.sum(FL_cell)\n",
    "observed_N_molecules = len(np.unique(label(diffraction_limited_cell)))-1"
   ]
  },
  {
   "cell_type": "code",
   "execution_count": 46,
   "id": "8f23ab19-af1e-475e-8d43-63a607b3bdf4",
   "metadata": {
    "tags": []
   },
   "outputs": [
    {
     "data": {
      "text/plain": [
       "<matplotlib.image.AxesImage at 0x7f505ff65570>"
      ]
     },
     "execution_count": 46,
     "metadata": {},
     "output_type": "execute_result"
    },
    {
     "data": {
      "image/png": "[encoded data removed]",
      "text/plain": [
       "<Figure size 640x480 with 1 Axes>"
      ]
     },
     "metadata": {},
     "output_type": "display_data"
    }
   ],
   "source": [
    "plt.imshow(OPL_cell)"
   ]
  },
  {
   "cell_type": "code",
   "execution_count": 17,
   "id": "888b7650-f216-4362-afde-579a0635e957",
   "metadata": {
    "tags": []
   },
   "outputs": [],
   "source": [
    "sim_params_unID = [\n",
    "    (x, y, z, w, v) \n",
    "    for x in N_molecules \n",
    "    for y in lengths \n",
    "    for z in widths if z<=y \n",
    "    for w in diffraction_limits \n",
    "    for v in wavelengths]#*10"
   ]
  },
  {
   "cell_type": "code",
   "execution_count": 18,
   "id": "7460bc45-6d27-4531-bad5-5ba6558dc786",
   "metadata": {
    "tags": []
   },
   "outputs": [
    {
     "data": {
      "text/plain": [
       "9570000"
      ]
     },
     "execution_count": 18,
     "metadata": {},
     "output_type": "execute_result"
    }
   ],
   "source": [
    "sim_params = []\n",
    "for i, sim_param in enumerate(sim_params_unID):\n",
    "    sim_params.append(sim_param + (i,))\n",
    "    \n",
    "sim_params = sim_params*500\n",
    "len(sim_params)"
   ]
  },
  {
   "cell_type": "code",
   "execution_count": 19,
   "id": "dc1e8384-8e85-4f1d-a0be-1183cb203b54",
   "metadata": {
    "tags": []
   },
   "outputs": [
    {
     "data": {
      "text/plain": [
       "34.8"
      ]
     },
     "execution_count": 19,
     "metadata": {},
     "output_type": "execute_result"
    }
   ],
   "source": [
    "9570000/275000"
   ]
  },
  {
   "cell_type": "code",
   "execution_count": 20,
   "id": "8c85b240-b8ba-4ba0-ba5f-dd5974490691",
   "metadata": {
    "collapsed": true,
    "jupyter": {
     "outputs_hidden": true
    },
    "tags": []
   },
   "outputs": [
    {
     "data": {
      "application/vnd.jupyter.widget-view+json": {
       "model_id": "b78d2d262a034afdac380eec84ff3f44",
       "version_major": 2,
       "version_minor": 0
      },
      "text/plain": [
       "  0%|          | 0/9570000 [00:00<?, ?it/s]"
      ]
     },
     "metadata": {},
     "output_type": "display_data"
    },
    {
     "ename": "KeyboardInterrupt",
     "evalue": "",
     "output_type": "error",
     "traceback": [
      "\u001b[0;31m---------------------------------------------------------------------------\u001b[0m",
      "\u001b[0;31mKeyboardInterrupt\u001b[0m                         Traceback (most recent call last)",
      "Cell \u001b[0;32mIn[20], line 1\u001b[0m\n\u001b[0;32m----> 1\u001b[0m true, obs, volume, ID \u001b[38;5;241m=\u001b[39m \u001b[38;5;28mzip\u001b[39m(\u001b[38;5;241m*\u001b[39m\u001b[43mParallel\u001b[49m\u001b[43m(\u001b[49m\u001b[43mn_jobs\u001b[49m\u001b[38;5;241;43m=\u001b[39;49m\u001b[38;5;241;43m6\u001b[39;49m\u001b[43m)\u001b[49m\u001b[43m(\u001b[49m\u001b[43mdelayed\u001b[49m\u001b[43m(\u001b[49m\u001b[43msimulate_molecule_counting\u001b[49m\u001b[43m)\u001b[49m\u001b[43m(\u001b[49m\u001b[38;5;241;43m*\u001b[39;49m\u001b[43mx\u001b[49m\u001b[43m)\u001b[49m\u001b[43m \u001b[49m\u001b[38;5;28;43;01mfor\u001b[39;49;00m\u001b[43m \u001b[49m\u001b[43mx\u001b[49m\u001b[43m \u001b[49m\u001b[38;5;129;43;01min\u001b[39;49;00m\u001b[43m \u001b[49m\u001b[43mtqdm\u001b[49m\u001b[43m(\u001b[49m\u001b[43msim_params\u001b[49m\u001b[43m)\u001b[49m\u001b[43m)\u001b[49m)\n\u001b[1;32m      2\u001b[0m sim_output \u001b[38;5;241m=\u001b[39m pd\u001b[38;5;241m.\u001b[39mDataFrame(sim_params)\n\u001b[1;32m      3\u001b[0m sim_output\u001b[38;5;241m.\u001b[39mdrop(columns\u001b[38;5;241m=\u001b[39m\u001b[38;5;241m0\u001b[39m, inplace\u001b[38;5;241m=\u001b[39m\u001b[38;5;28;01mTrue\u001b[39;00m)\n",
      "File \u001b[0;32m~/miniconda3/envs/symbac/lib/python3.10/site-packages/joblib/parallel.py:1098\u001b[0m, in \u001b[0;36mParallel.__call__\u001b[0;34m(self, iterable)\u001b[0m\n\u001b[1;32m   1095\u001b[0m     \u001b[38;5;28mself\u001b[39m\u001b[38;5;241m.\u001b[39m_iterating \u001b[38;5;241m=\u001b[39m \u001b[38;5;28;01mFalse\u001b[39;00m\n\u001b[1;32m   1097\u001b[0m \u001b[38;5;28;01mwith\u001b[39;00m \u001b[38;5;28mself\u001b[39m\u001b[38;5;241m.\u001b[39m_backend\u001b[38;5;241m.\u001b[39mretrieval_context():\n\u001b[0;32m-> 1098\u001b[0m     \u001b[38;5;28;43mself\u001b[39;49m\u001b[38;5;241;43m.\u001b[39;49m\u001b[43mretrieve\u001b[49m\u001b[43m(\u001b[49m\u001b[43m)\u001b[49m\n\u001b[1;32m   1099\u001b[0m \u001b[38;5;66;03m# Make sure that we get a last message telling us we are done\u001b[39;00m\n\u001b[1;32m   1100\u001b[0m elapsed_time \u001b[38;5;241m=\u001b[39m time\u001b[38;5;241m.\u001b[39mtime() \u001b[38;5;241m-\u001b[39m \u001b[38;5;28mself\u001b[39m\u001b[38;5;241m.\u001b[39m_start_time\n",
      "File \u001b[0;32m~/miniconda3/envs/symbac/lib/python3.10/site-packages/joblib/parallel.py:975\u001b[0m, in \u001b[0;36mParallel.retrieve\u001b[0;34m(self)\u001b[0m\n\u001b[1;32m    973\u001b[0m \u001b[38;5;28;01mtry\u001b[39;00m:\n\u001b[1;32m    974\u001b[0m     \u001b[38;5;28;01mif\u001b[39;00m \u001b[38;5;28mgetattr\u001b[39m(\u001b[38;5;28mself\u001b[39m\u001b[38;5;241m.\u001b[39m_backend, \u001b[38;5;124m'\u001b[39m\u001b[38;5;124msupports_timeout\u001b[39m\u001b[38;5;124m'\u001b[39m, \u001b[38;5;28;01mFalse\u001b[39;00m):\n\u001b[0;32m--> 975\u001b[0m         \u001b[38;5;28mself\u001b[39m\u001b[38;5;241m.\u001b[39m_output\u001b[38;5;241m.\u001b[39mextend(\u001b[43mjob\u001b[49m\u001b[38;5;241;43m.\u001b[39;49m\u001b[43mget\u001b[49m\u001b[43m(\u001b[49m\u001b[43mtimeout\u001b[49m\u001b[38;5;241;43m=\u001b[39;49m\u001b[38;5;28;43mself\u001b[39;49m\u001b[38;5;241;43m.\u001b[39;49m\u001b[43mtimeout\u001b[49m\u001b[43m)\u001b[49m)\n\u001b[1;32m    976\u001b[0m     \u001b[38;5;28;01melse\u001b[39;00m:\n\u001b[1;32m    977\u001b[0m         \u001b[38;5;28mself\u001b[39m\u001b[38;5;241m.\u001b[39m_output\u001b[38;5;241m.\u001b[39mextend(job\u001b[38;5;241m.\u001b[39mget())\n",
      "File \u001b[0;32m~/miniconda3/envs/symbac/lib/python3.10/site-packages/joblib/_parallel_backends.py:567\u001b[0m, in \u001b[0;36mLokyBackend.wrap_future_result\u001b[0;34m(future, timeout)\u001b[0m\n\u001b[1;32m    564\u001b[0m \u001b[38;5;250m\u001b[39m\u001b[38;5;124;03m\"\"\"Wrapper for Future.result to implement the same behaviour as\u001b[39;00m\n\u001b[1;32m    565\u001b[0m \u001b[38;5;124;03mAsyncResults.get from multiprocessing.\"\"\"\u001b[39;00m\n\u001b[1;32m    566\u001b[0m \u001b[38;5;28;01mtry\u001b[39;00m:\n\u001b[0;32m--> 567\u001b[0m     \u001b[38;5;28;01mreturn\u001b[39;00m \u001b[43mfuture\u001b[49m\u001b[38;5;241;43m.\u001b[39;49m\u001b[43mresult\u001b[49m\u001b[43m(\u001b[49m\u001b[43mtimeout\u001b[49m\u001b[38;5;241;43m=\u001b[39;49m\u001b[43mtimeout\u001b[49m\u001b[43m)\u001b[49m\n\u001b[1;32m    568\u001b[0m \u001b[38;5;28;01mexcept\u001b[39;00m CfTimeoutError \u001b[38;5;28;01mas\u001b[39;00m e:\n\u001b[1;32m    569\u001b[0m     \u001b[38;5;28;01mraise\u001b[39;00m \u001b[38;5;167;01mTimeoutError\u001b[39;00m \u001b[38;5;28;01mfrom\u001b[39;00m \u001b[38;5;21;01me\u001b[39;00m\n",
      "File \u001b[0;32m~/miniconda3/envs/symbac/lib/python3.10/concurrent/futures/_base.py:453\u001b[0m, in \u001b[0;36mFuture.result\u001b[0;34m(self, timeout)\u001b[0m\n\u001b[1;32m    450\u001b[0m \u001b[38;5;28;01melif\u001b[39;00m \u001b[38;5;28mself\u001b[39m\u001b[38;5;241m.\u001b[39m_state \u001b[38;5;241m==\u001b[39m FINISHED:\n\u001b[1;32m    451\u001b[0m     \u001b[38;5;28;01mreturn\u001b[39;00m \u001b[38;5;28mself\u001b[39m\u001b[38;5;241m.\u001b[39m__get_result()\n\u001b[0;32m--> 453\u001b[0m \u001b[38;5;28;43mself\u001b[39;49m\u001b[38;5;241;43m.\u001b[39;49m\u001b[43m_condition\u001b[49m\u001b[38;5;241;43m.\u001b[39;49m\u001b[43mwait\u001b[49m\u001b[43m(\u001b[49m\u001b[43mtimeout\u001b[49m\u001b[43m)\u001b[49m\n\u001b[1;32m    455\u001b[0m \u001b[38;5;28;01mif\u001b[39;00m \u001b[38;5;28mself\u001b[39m\u001b[38;5;241m.\u001b[39m_state \u001b[38;5;129;01min\u001b[39;00m [CANCELLED, CANCELLED_AND_NOTIFIED]:\n\u001b[1;32m    456\u001b[0m     \u001b[38;5;28;01mraise\u001b[39;00m CancelledError()\n",
      "File \u001b[0;32m~/miniconda3/envs/symbac/lib/python3.10/threading.py:320\u001b[0m, in \u001b[0;36mCondition.wait\u001b[0;34m(self, timeout)\u001b[0m\n\u001b[1;32m    318\u001b[0m \u001b[38;5;28;01mtry\u001b[39;00m:    \u001b[38;5;66;03m# restore state no matter what (e.g., KeyboardInterrupt)\u001b[39;00m\n\u001b[1;32m    319\u001b[0m     \u001b[38;5;28;01mif\u001b[39;00m timeout \u001b[38;5;129;01mis\u001b[39;00m \u001b[38;5;28;01mNone\u001b[39;00m:\n\u001b[0;32m--> 320\u001b[0m         \u001b[43mwaiter\u001b[49m\u001b[38;5;241;43m.\u001b[39;49m\u001b[43macquire\u001b[49m\u001b[43m(\u001b[49m\u001b[43m)\u001b[49m\n\u001b[1;32m    321\u001b[0m         gotit \u001b[38;5;241m=\u001b[39m \u001b[38;5;28;01mTrue\u001b[39;00m\n\u001b[1;32m    322\u001b[0m     \u001b[38;5;28;01melse\u001b[39;00m:\n",
      "\u001b[0;31mKeyboardInterrupt\u001b[0m: "
     ]
    }
   ],
   "source": [
    "true, obs, volume, ID = zip(*Parallel(n_jobs=6)(delayed(simulate_molecule_counting)(*x) for x in tqdm(sim_params)))\n",
    "sim_output = pd.DataFrame(sim_params)\n",
    "sim_output.drop(columns=0, inplace=True)\n",
    "sim_output.columns = [\"Length (micron)\", \"Width (micron)\", \"Diffraction Criterion\" ,\"Wavelength (um)\", \"ID\"]\n",
    "sim_output[\"N molecules\"] = true\n",
    "sim_output[\"Observed molecules\"] = obs\n",
    "sim_output[\"% error\"] = sim_output.apply(lambda x: abs(perc_diff(x[\"Observed molecules\"], x[\"N molecules\"])), axis=1)\n",
    "sim_output[\"Aspect ratio\"] = sim_output[\"Length (micron)\"]/sim_output[\"Width (micron)\"]\n",
    "sim_output[\"Cell volume (micron^3)\"] = volume\n",
    "sim_output.to_pickle(f\"sim_output_NEW.pickle\")"
   ]
  },
  {
   "cell_type": "markdown",
   "id": "ef0017c0-9b1a-40b6-b503-9e254eed293d",
   "metadata": {},
   "source": [
    "Restricted subset for higher sampling for figure"
   ]
  },
  {
   "cell_type": "code",
   "execution_count": 65,
   "id": "6db03132-9c75-4c37-b42c-4bd67c7b7517",
   "metadata": {},
   "outputs": [
    {
     "data": {
      "text/plain": [
       "5500000"
      ]
     },
     "execution_count": 65,
     "metadata": {},
     "output_type": "execute_result"
    }
   ],
   "source": [
    "N_molecules = np.arange(1, 21)+0.1\n",
    "diffraction_limits = [\"Rayleigh\"]\n",
    "lengths = np.arange(1,11,1)\n",
    "widths = np.arange(1,11,1)\n",
    "imaging_properties = ((0.0655, 1.45))\n",
    "wavelengths = (0.4, ) \n",
    "sim_params_unID = [\n",
    "    (x, y, z, w, v) \n",
    "    for x in N_molecules \n",
    "    for y in lengths \n",
    "    for z in widths if z<=y \n",
    "    for w in diffraction_limits \n",
    "    for v in wavelengths]#*10\n",
    "sim_params = []\n",
    "for i, sim_param in enumerate(sim_params_unID):\n",
    "    sim_params.append(sim_param + (i,))\n",
    "    \n",
    "sim_params = sim_params*5000\n",
    "len(sim_params)"
   ]
  },
  {
   "cell_type": "code",
   "execution_count": 40,
   "id": "2fa07ed9-fa59-4d16-890c-7aa091a2d44e",
   "metadata": {
    "tags": []
   },
   "outputs": [
    {
     "data": {
      "application/vnd.jupyter.widget-view+json": {
       "model_id": "754dafe891dd4b0a87b865ff20914b0c",
       "version_major": 2,
       "version_minor": 0
      },
      "text/plain": [
       "  0%|          | 0/5500000 [00:00<?, ?it/s]"
      ]
     },
     "metadata": {},
     "output_type": "display_data"
    }
   ],
   "source": [
    "true, obs, volume, ID = zip(*Parallel(n_jobs=12)(delayed(simulate_molecule_counting)(*x) for x in tqdm(sim_params)))\n",
    "sim_output = pd.DataFrame(sim_params)\n",
    "sim_output.drop(columns=0, inplace=True)\n",
    "sim_output.columns = [\"Length (micron)\", \"Width (micron)\", \"Diffraction Criterion\" ,\"Wavelength (um)\", \"ID\"]\n",
    "sim_output[\"N molecules\"] = true\n",
    "sim_output[\"Observed molecules\"] = obs\n",
    "sim_output[\"% error\"] = sim_output.apply(lambda x: abs(perc_diff(x[\"Observed molecules\"], x[\"N molecules\"])), axis=1)\n",
    "sim_output[\"Aspect ratio\"] = sim_output[\"Length (micron)\"]/sim_output[\"Width (micron)\"]\n",
    "sim_output[\"Cell volume (micron^3)\"] = volume\n",
    "sim_output.to_pickle(f\"sim_output_for_figure.pickle\")"
   ]
  },
  {
   "cell_type": "code",
   "execution_count": 15,
   "id": "dd27ea2e-4053-489a-ba76-b7f75e4863b7",
   "metadata": {
    "tags": []
   },
   "outputs": [],
   "source": [
    "FL_PSF = PSF_generator(\n",
    "    radius = 150,\n",
    "    wavelength = 0.5,\n",
    "    NA = 1.49,\n",
    "    n = 1.518,\n",
    "    resize_amount = 1,\n",
    "    pix_mic_conv = pixel_size,\n",
    "    apo_sigma = 2,\n",
    "    mode=\"3d fluo\",\n",
    "    condenser = \"Ph3\",\n",
    "    z_height = 100\n",
    ")\n",
    "FL_PSF.calculate_PSF()\n",
    "FL_PSF.kernel = np.sum(FL_PSF.kernel, axis=0)"
   ]
  },
  {
   "cell_type": "markdown",
   "id": "02f585ac-daf5-45f6-9f06-d486286c5e61",
   "metadata": {},
   "source": [
    "For figure"
   ]
  },
  {
   "cell_type": "code",
   "execution_count": 57,
   "id": "61c40f5d-36a5-4769-9b4f-00ea59dede87",
   "metadata": {
    "tags": []
   },
   "outputs": [
    {
     "data": {
      "image/png": "[encoded data removed]",
      "text/plain": [
       "<Figure size 640x480 with 1 Axes>"
      ]
     },
     "metadata": {},
     "output_type": "display_data"
    },
    {
     "data": {
      "image/png": "[encoded data removed]",
      "text/plain": [
       "<Figure size 640x480 with 1 Axes>"
      ]
     },
     "metadata": {},
     "output_type": "display_data"
    }
   ],
   "source": [
    "length = 2\n",
    "width = 1\n",
    "OPL_cell = raster_cell(length/pixel_size,width/pixel_size,separation=False)\n",
    "volume = np.sum(OPL_cell)\n",
    "density = 8/volume\n",
    "FL_cell = OPL_to_FL(OPL_cell, density = density)\n",
    "plt.imshow(OPL_cell > 0, cmap=\"Greys_r\")\n",
    "plt.imshow(FL_cell, alpha = 0.5, cmap=\"Greys_r\")\n",
    "plt.axis(\"off\")\n",
    "plt.show()\n",
    "\n",
    "FL_cell_conv = convolve_rescale(FL_cell, FL_PSF.kernel, 1, rescale_int = True)\n",
    "plt.imshow(OPL_cell > 0, cmap=\"Greys_r\")\n",
    "plt.imshow(FL_cell_conv,alpha=0.5, cmap=\"Greys_r\")\n",
    "plt.axis(\"off\")\n",
    "plt.show()"
   ]
  },
  {
   "cell_type": "code",
   "execution_count": 53,
   "id": "17fd310c-6f1f-472b-af1b-d0c460efc3b8",
   "metadata": {},
   "outputs": [
    {
     "data": {
      "image/png": "[encoded data removed]",
      "text/plain": [
       "<Figure size 640x480 with 1 Axes>"
      ]
     },
     "metadata": {},
     "output_type": "display_data"
    },
    {
     "data": {
      "image/png": "[encoded data removed]",
      "text/plain": [
       "<Figure size 640x480 with 1 Axes>"
      ]
     },
     "metadata": {},
     "output_type": "display_data"
    },
    {
     "data": {
      "image/png": "[encoded data removed]",
      "text/plain": [
       "<Figure size 640x480 with 1 Axes>"
      ]
     },
     "metadata": {},
     "output_type": "display_data"
    }
   ],
   "source": [
    "length = 2\n",
    "width = 1\n",
    "FL_cells = []\n",
    "FL_cell_convs = []\n",
    "OPL_cell = raster_cell(length/pixel_size,width/pixel_size,separation=False)\n",
    "OPL_cells = [OPL_cell * (OPL_cell>15), OPL_cell, OPL_cell * (OPL_cell>15)]\n",
    "for OPL_cell in OPL_cells:\n",
    "    \n",
    "    volume = np.sum(OPL_cell)\n",
    "    density = 3/volume\n",
    "\n",
    "    FL_cell = OPL_to_FL(OPL_cell, density = density)\n",
    "    FL_cells.append(FL_cell)\n",
    "    \n",
    "    FL_cell_conv = convolve_rescale(FL_cell, FL_PSF.kernel, 1, rescale_int = True)\n",
    "    FL_cell_convs.append(FL_cell_conv)\n",
    "    \n",
    "for FL_cell_conv, OPL_cell in zip(FL_cell_convs, OPL_cells):\n",
    "    plt.imshow(OPL_cell > 0, cmap=\"Greys_r\")\n",
    "    plt.imshow(FL_cell_conv, alpha = 0.8, cmap=\"Greys_r\")\n",
    "    plt.axis(\"off\")\n",
    "    plt.show()\n",
    "\n"
   ]
  },
  {
   "cell_type": "code",
   "execution_count": 54,
   "id": "56bbbbc7-a29f-4a7c-94a0-ff9202d9c9fe",
   "metadata": {
    "tags": []
   },
   "outputs": [],
   "source": [
    "FL_cell = np.sum(FL_cell_convs, axis=0)"
   ]
  },
  {
   "cell_type": "code",
   "execution_count": 55,
   "id": "495c5529-bd7a-476c-81f9-b309713c0e03",
   "metadata": {
    "tags": []
   },
   "outputs": [
    {
     "data": {
      "image/png": "[encoded data removed]",
      "text/plain": [
       "<Figure size 640x480 with 1 Axes>"
      ]
     },
     "metadata": {},
     "output_type": "display_data"
    }
   ],
   "source": [
    "FL_cell = np.sum(FL_cell_convs, axis=0)\n",
    "plt.imshow(OPL_cells[1] > 0, cmap=\"Greys_r\")\n",
    "plt.imshow(FL_cell, alpha = 0.8, cmap=\"Greys_r\")\n",
    "plt.axis(\"off\")\n",
    "plt.show()"
   ]
  },
  {
   "cell_type": "code",
   "execution_count": null,
   "id": "3c072685-f1d2-4f0b-81d2-300b8322657e",
   "metadata": {},
   "outputs": [],
   "source": []
  }
 ],
 "metadata": {
  "kernelspec": {
   "display_name": "Python 3 (ipykernel)",
   "language": "python",
   "name": "python3"
  },
  "language_info": {
   "codemirror_mode": {
    "name": "ipython",
    "version": 3
   },
   "file_extension": ".py",
   "mimetype": "text/x-python",
   "name": "python",
   "nbconvert_exporter": "python",
   "pygments_lexer": "ipython3",
   "version": "3.10.9"
  },
  "widgets": {
   "application/vnd.jupyter.widget-state+json": {
    "state": {},
    "version_major": 2,
    "version_minor": 0
   }
  }
 },
 "nbformat": 4,
 "nbformat_minor": 5
}
