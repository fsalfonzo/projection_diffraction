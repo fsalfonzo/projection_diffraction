{
 "cells": [
  {
   "cell_type": "code",
   "execution_count": 1,
   "id": "0e593f49-9b34-4d71-8e0d-43319128ae11",
   "metadata": {
    "tags": []
   },
   "outputs": [],
   "source": [
    "import napari\n",
    "import zarr\n",
    "import nd2\n",
    "from glob import glob\n",
    "import numpy as np\n",
    "from PIL import Image\n",
    "from natsort import natsorted"
   ]
  },
  {
   "cell_type": "code",
   "execution_count": 2,
   "id": "0d964747-3503-40dc-ad17-79594998cf56",
   "metadata": {
    "tags": []
   },
   "outputs": [],
   "source": [
    "file = \"100x_SB5_dilute002\"\n",
    "nd2_image = nd2.imread(file+\".nd2\")"
   ]
  },
  {
   "cell_type": "code",
   "execution_count": 3,
   "id": "c84b15e8-7e21-473c-be3a-e07f93547bdf",
   "metadata": {
    "tags": []
   },
   "outputs": [],
   "source": [
    "segmentation = np.array([np.array(Image.open(x)) for x in natsorted(glob(f\"../{file}_segmented/*\"))])"
   ]
  },
  {
   "cell_type": "code",
   "execution_count": 4,
   "id": "cf47ab71-8728-465b-aaf9-ec03bd692a6d",
   "metadata": {
    "tags": []
   },
   "outputs": [
    {
     "name": "stdout",
     "output_type": "stream",
     "text": [
      "Opening existing file\n"
     ]
    }
   ],
   "source": [
    "if glob(f\"{file}_curation.zarr\"):\n",
    "    print(\"Opening existing file\")\n",
    "    curation_position = zarr.open(f\"{file}_curation.zarr\", mode=\"r+\")\n",
    "else:\n",
    "    print(\"Creating new file\")\n",
    "    curation_position = zarr.open(f\"{file}_curation.zarr\", mode='w', shape=(nd2_image.shape[0], nd2_image.shape[2], nd2_image.shape[3]), chunks=(1, nd2_image.shape[2], nd2_image.shape[3]), dtype=np.ubyte)"
   ]
  },
  {
   "cell_type": "code",
   "execution_count": 5,
   "id": "fdc5cbb5-6f42-436c-b33b-957082adf282",
   "metadata": {
    "tags": []
   },
   "outputs": [],
   "source": [
    "viewer = napari.view_image(nd2_image[:,0,:,:], rgb=False)\n",
    "viewer.add_image(nd2_image[:,1,:,:], rgb=False)\n",
    "labels_layer_2 = viewer.add_labels(segmentation, name = \"segmentation\")\n",
    "labels_layer = viewer.add_labels(curation_position, name='curation')\n"
   ]
  },
  {
   "cell_type": "code",
   "execution_count": 6,
   "id": "2a779403",
   "metadata": {},
   "outputs": [
    {
     "data": {
      "text/plain": [
       "3"
      ]
     },
     "execution_count": 6,
     "metadata": {},
     "output_type": "execute_result"
    }
   ],
   "source": [
    "3"
   ]
  },
  {
   "cell_type": "code",
   "execution_count": null,
   "id": "6ce798c0",
   "metadata": {},
   "outputs": [],
   "source": []
  }
 ],
 "metadata": {
  "kernelspec": {
   "display_name": "Python 3 (ipykernel)",
   "language": "python",
   "name": "python3"
  },
  "language_info": {
   "codemirror_mode": {
    "name": "ipython",
    "version": 3
   },
   "file_extension": ".py",
   "mimetype": "text/x-python",
   "name": "python",
   "nbconvert_exporter": "python",
   "pygments_lexer": "ipython3",
   "version": "3.10.9"
  }
 },
 "nbformat": 4,
 "nbformat_minor": 5
}
