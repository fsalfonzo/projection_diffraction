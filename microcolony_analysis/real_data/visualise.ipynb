{
 "cells": [
  {
   "cell_type": "code",
   "execution_count": null,
   "id": "d1f14176-b2fa-44e5-8bc0-e2c1d2efe161",
   "metadata": {
    "tags": []
   },
   "outputs": [],
   "source": [
    "import nd2\n",
    "import napari\n",
    "from PIL import Image\n",
    "from glob import glob\n",
    "from natsort import natsorted\n",
    "import numpy as np"
   ]
  },
  {
   "cell_type": "code",
   "execution_count": null,
   "id": "dcc23018-b534-4cd8-8803-ae1d980f2f8b",
   "metadata": {
    "tags": []
   },
   "outputs": [],
   "source": [
    "data = nd2.imread('agar_pads/40x_SB5_dilute001.nd2')\n",
    "data0 = data[:,0,:,:]\n",
    "data1 = data[:,1,:,:]\n",
    "segmentation = np.array([np.array(Image.open(x)) for x in natsorted(glob(\"40x_SB5_dilute001_segmented/*\"))])"
   ]
  },
  {
   "cell_type": "code",
   "execution_count": null,
   "id": "6ea8a55d-3898-4df0-91e0-8216d06d4e6c",
   "metadata": {
    "tags": []
   },
   "outputs": [],
   "source": [
    "viewer = napari.view_image(data0, name='layer 1 ')\n",
    "viewer.add_image(data1, name='layer 2')\n",
    "\n",
    "labels_layer = viewer.add_labels(segmentation, name='segmentation')"
   ]
  }
 ],
 "metadata": {
  "kernelspec": {
   "display_name": "Python 3 (ipykernel)",
   "language": "python",
   "name": "python3"
  },
  "language_info": {
   "codemirror_mode": {
    "name": "ipython",
    "version": 3
   },
   "file_extension": ".py",
   "mimetype": "text/x-python",
   "name": "python",
   "nbconvert_exporter": "python",
   "pygments_lexer": "ipython3",
   "version": "3.10.9"
  }
 },
 "nbformat": 4,
 "nbformat_minor": 5
}
