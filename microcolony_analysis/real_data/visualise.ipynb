{
 "cells": [
  {
   "cell_type": "code",
   "execution_count": 5,
   "id": "d1f14176-b2fa-44e5-8bc0-e2c1d2efe161",
   "metadata": {
    "tags": []
   },
   "outputs": [],
   "source": [
    "import nd2\n",
    "import napari\n",
    "from PIL import Image\n",
    "from glob import glob\n",
    "from natsort import natsorted\n",
    "import numpy as np"
   ]
  },
  {
   "cell_type": "code",
   "execution_count": 6,
   "id": "dcc23018-b534-4cd8-8803-ae1d980f2f8b",
   "metadata": {
    "tags": []
   },
   "outputs": [],
   "source": [
    "data = nd2.imread('agar_pads/40x_SB5_dilute001.nd2')\n",
    "data0 = data[:,0,:,:]\n",
    "data1 = data[:,1,:,:]\n",
    "segmentation = np.array([np.array(Image.open(x)) for x in natsorted(glob(\"40x_SB5_dilute001_segmented/*\"))])"
   ]
  },
  {
   "cell_type": "code",
   "execution_count": 3,
   "id": "6ea8a55d-3898-4df0-91e0-8216d06d4e6c",
   "metadata": {
    "tags": []
   },
   "outputs": [
    {
     "ename": "NameError",
     "evalue": "name 'napari' is not defined",
     "output_type": "error",
     "traceback": [
      "\u001b[0;31m---------------------------------------------------------------------------\u001b[0m",
      "\u001b[0;31mNameError\u001b[0m                                 Traceback (most recent call last)",
      "Cell \u001b[0;32mIn[3], line 1\u001b[0m\n\u001b[0;32m----> 1\u001b[0m viewer \u001b[38;5;241m=\u001b[39m \u001b[43mnapari\u001b[49m\u001b[38;5;241m.\u001b[39mview_image(data0, name\u001b[38;5;241m=\u001b[39m\u001b[38;5;124m'\u001b[39m\u001b[38;5;124mlayer 1 \u001b[39m\u001b[38;5;124m'\u001b[39m)\n\u001b[1;32m      2\u001b[0m viewer\u001b[38;5;241m.\u001b[39madd_image(data1, name\u001b[38;5;241m=\u001b[39m\u001b[38;5;124m'\u001b[39m\u001b[38;5;124mlayer 2\u001b[39m\u001b[38;5;124m'\u001b[39m)\n\u001b[1;32m      4\u001b[0m labels_layer \u001b[38;5;241m=\u001b[39m viewer\u001b[38;5;241m.\u001b[39madd_labels(segmentation, name\u001b[38;5;241m=\u001b[39m\u001b[38;5;124m'\u001b[39m\u001b[38;5;124msegmentation\u001b[39m\u001b[38;5;124m'\u001b[39m)\n",
      "\u001b[0;31mNameError\u001b[0m: name 'napari' is not defined"
     ]
    }
   ],
   "source": [
    "viewer = napari.view_image(data0, name='layer 1 ')\n",
    "viewer.add_image(data1, name='layer 2')\n",
    "\n",
    "labels_layer = viewer.add_labels(segmentation, name='segmentation')"
   ]
  },
  {
   "cell_type": "code",
   "execution_count": 4,
   "id": "f359be47-76d3-4e4e-88b7-bf28e1b2eb12",
   "metadata": {},
   "outputs": [
    {
     "name": "stdout",
     "output_type": "stream",
     "text": [
      "Collecting nd2\n",
      "  Downloading nd2-0.10.0-py3-none-any.whl.metadata (25 kB)\n",
      "Requirement already satisfied: numpy in /home/gh464/miniconda3/envs/SyMBac/lib/python3.12/site-packages (from nd2) (1.26.4)\n",
      "Collecting ome-types>=0.5.1 (from nd2)\n",
      "  Downloading ome_types-0.5.1.post1-py3-none-any.whl.metadata (10 kB)\n",
      "Collecting resource-backed-dask-array (from nd2)\n",
      "  Downloading resource_backed_dask_array-0.1.0-py2.py3-none-any.whl.metadata (6.5 kB)\n",
      "Requirement already satisfied: typing-extensions in /home/gh464/miniconda3/envs/SyMBac/lib/python3.12/site-packages (from nd2) (4.10.0)\n",
      "Requirement already satisfied: pydantic-compat>=0.1.0 in /home/gh464/miniconda3/envs/SyMBac/lib/python3.12/site-packages (from ome-types>=0.5.1->nd2) (0.1.2)\n",
      "Requirement already satisfied: pydantic>=1.9.0 in /home/gh464/miniconda3/envs/SyMBac/lib/python3.12/site-packages (from ome-types>=0.5.1->nd2) (2.6.3)\n",
      "Collecting xsdata<24.4,>=23.6 (from ome-types>=0.5.1->nd2)\n",
      "  Downloading xsdata-24.3.1-py3-none-any.whl.metadata (6.3 kB)\n",
      "Requirement already satisfied: dask[array] in /home/gh464/miniconda3/envs/SyMBac/lib/python3.12/site-packages (from resource-backed-dask-array->nd2) (2024.2.1)\n",
      "Requirement already satisfied: annotated-types>=0.4.0 in /home/gh464/miniconda3/envs/SyMBac/lib/python3.12/site-packages (from pydantic>=1.9.0->ome-types>=0.5.1->nd2) (0.6.0)\n",
      "Requirement already satisfied: pydantic-core==2.16.3 in /home/gh464/miniconda3/envs/SyMBac/lib/python3.12/site-packages (from pydantic>=1.9.0->ome-types>=0.5.1->nd2) (2.16.3)\n",
      "Requirement already satisfied: click>=8.1 in /home/gh464/miniconda3/envs/SyMBac/lib/python3.12/site-packages (from dask[array]->resource-backed-dask-array->nd2) (8.1.7)\n",
      "Requirement already satisfied: cloudpickle>=1.5.0 in /home/gh464/miniconda3/envs/SyMBac/lib/python3.12/site-packages (from dask[array]->resource-backed-dask-array->nd2) (3.0.0)\n",
      "Requirement already satisfied: fsspec>=2021.09.0 in /home/gh464/miniconda3/envs/SyMBac/lib/python3.12/site-packages (from dask[array]->resource-backed-dask-array->nd2) (2024.2.0)\n",
      "Requirement already satisfied: packaging>=20.0 in /home/gh464/miniconda3/envs/SyMBac/lib/python3.12/site-packages (from dask[array]->resource-backed-dask-array->nd2) (23.2)\n",
      "Requirement already satisfied: partd>=1.2.0 in /home/gh464/miniconda3/envs/SyMBac/lib/python3.12/site-packages (from dask[array]->resource-backed-dask-array->nd2) (1.4.1)\n",
      "Requirement already satisfied: pyyaml>=5.3.1 in /home/gh464/miniconda3/envs/SyMBac/lib/python3.12/site-packages (from dask[array]->resource-backed-dask-array->nd2) (6.0.1)\n",
      "Requirement already satisfied: toolz>=0.10.0 in /home/gh464/miniconda3/envs/SyMBac/lib/python3.12/site-packages (from dask[array]->resource-backed-dask-array->nd2) (0.12.1)\n",
      "Requirement already satisfied: importlib-metadata>=4.13.0 in /home/gh464/miniconda3/envs/SyMBac/lib/python3.12/site-packages (from dask[array]->resource-backed-dask-array->nd2) (7.0.1)\n",
      "Requirement already satisfied: zipp>=0.5 in /home/gh464/miniconda3/envs/SyMBac/lib/python3.12/site-packages (from importlib-metadata>=4.13.0->dask[array]->resource-backed-dask-array->nd2) (3.17.0)\n",
      "Requirement already satisfied: locket in /home/gh464/miniconda3/envs/SyMBac/lib/python3.12/site-packages (from partd>=1.2.0->dask[array]->resource-backed-dask-array->nd2) (1.0.0)\n",
      "Downloading nd2-0.10.0-py3-none-any.whl (81 kB)\n",
      "\u001b[2K   \u001b[38;2;114;156;31m━━━━━━━━━━━━━━━━━━━━━━━━━━━━━━━━━━━━━━━━\u001b[0m \u001b[32m81.0/81.0 kB\u001b[0m \u001b[31m5.7 MB/s\u001b[0m eta \u001b[36m0:00:00\u001b[0m\n",
      "\u001b[?25hDownloading ome_types-0.5.1.post1-py3-none-any.whl (248 kB)\n",
      "\u001b[2K   \u001b[38;2;114;156;31m━━━━━━━━━━━━━━━━━━━━━━━━━━━━━━━━━━━━━━━━\u001b[0m \u001b[32m248.2/248.2 kB\u001b[0m \u001b[31m16.9 MB/s\u001b[0m eta \u001b[36m0:00:00\u001b[0m\n",
      "\u001b[?25hDownloading resource_backed_dask_array-0.1.0-py2.py3-none-any.whl (8.0 kB)\n",
      "Downloading xsdata-24.3.1-py3-none-any.whl (224 kB)\n",
      "\u001b[2K   \u001b[38;2;114;156;31m━━━━━━━━━━━━━━━━━━━━━━━━━━━━━━━━━━━━━━━━\u001b[0m \u001b[32m224.1/224.1 kB\u001b[0m \u001b[31m15.0 MB/s\u001b[0m eta \u001b[36m0:00:00\u001b[0m\n",
      "\u001b[?25hInstalling collected packages: xsdata, resource-backed-dask-array, ome-types, nd2\n",
      "Successfully installed nd2-0.10.0 ome-types-0.5.1.post1 resource-backed-dask-array-0.1.0 xsdata-24.3.1\n",
      "Note: you may need to restart the kernel to use updated packages.\n"
     ]
    }
   ],
   "source": [
    "pip install nd2"
   ]
  },
  {
   "cell_type": "code",
   "execution_count": null,
   "id": "ce44e3b7-f3f6-4e5b-8354-3162c3b3e9e5",
   "metadata": {},
   "outputs": [],
   "source": []
  }
 ],
 "metadata": {
  "kernelspec": {
   "display_name": "Python [conda env:SyMBac]",
   "language": "python",
   "name": "conda-env-SyMBac-py"
  },
  "language_info": {
   "codemirror_mode": {
    "name": "ipython",
    "version": 3
   },
   "file_extension": ".py",
   "mimetype": "text/x-python",
   "name": "python",
   "nbconvert_exporter": "python",
   "pygments_lexer": "ipython3",
   "version": "3.12.2"
  }
 },
 "nbformat": 4,
 "nbformat_minor": 5
}
