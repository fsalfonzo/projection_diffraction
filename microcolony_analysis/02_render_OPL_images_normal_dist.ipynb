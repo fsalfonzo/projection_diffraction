{
 "cells": [
  {
   "cell_type": "code",
   "execution_count": 1,
   "id": "66c5a9bd-1f0a-4084-a9eb-8f54392126af",
   "metadata": {
    "tags": []
   },
   "outputs": [],
   "source": [
    "%load_ext autoreload\n",
    "%autoreload 2"
   ]
  },
  {
   "cell_type": "code",
   "execution_count": 2,
   "id": "30b40292-8b88-4924-8c5d-b768aa66b356",
   "metadata": {
    "tags": []
   },
   "outputs": [
    {
     "name": "stderr",
     "output_type": "stream",
     "text": [
      "/home/gh464/Documents/GitHub/SyMBac/SyMBac/colony_simulation.py:8: TqdmExperimentalWarning: Using `tqdm.autonotebook.tqdm` in notebook mode. Use `tqdm.tqdm` instead to force console mode (e.g. in jupyter console)\n",
      "  from tqdm.autonotebook import tqdm\n"
     ]
    }
   ],
   "source": [
    "import os\n",
    "os.environ[\"CUDA_VISIBLE_DEVICES\"] = \"1\"\n",
    "import sys\n",
    "#sys.path.insert(1, '/home/georgeos/Documents/GitHub/SyMBac//') # Not needed if you installed SyMBac using pip\n",
    "sys.path.insert(1, '../SyMBac/')\n",
    "\n",
    "from SyMBac.drawing import raster_cell, OPL_to_FL, convert_to_3D\n",
    "from SyMBac.colony_simulation import ColonySimulation\n",
    "import matplotlib.pyplot as plt\n",
    "import numpy as np\n",
    "from tqdm.autonotebook import tqdm\n",
    "from glob import glob\n",
    "import shutil\n",
    "from skimage.transform import rotate\n"
   ]
  },
  {
   "cell_type": "code",
   "execution_count": 3,
   "id": "b120ef15-60c8-4b83-8ce1-0d5d3140b6e3",
   "metadata": {
    "tags": []
   },
   "outputs": [],
   "source": [
    "import global_params"
   ]
  },
  {
   "cell_type": "code",
   "execution_count": 4,
   "id": "c770a123-d23a-4381-9167-926bef4fed56",
   "metadata": {
    "tags": []
   },
   "outputs": [
    {
     "name": "stdout",
     "output_type": "stream",
     "text": [
      "['data/test/1', 'data/test/2', 'data/test/3', 'data/test/4', 'data/test/5', 'data/test/6', 'data/test/7', 'data/test/8', 'data/test/9', 'data/test/10']\n"
     ]
    },
    {
     "data": {
      "text/plain": [
       "<matplotlib.collections.PathCollection at 0x7f30ba20ca30>"
      ]
     },
     "execution_count": 4,
     "metadata": {},
     "output_type": "execute_result"
    },
    {
     "data": {
      "image/png": "[encoded data removed]",
      "text/plain": [
       "<Figure size 640x480 with 1 Axes>"
      ]
     },
     "metadata": {},
     "output_type": "display_data"
    }
   ],
   "source": [
    "colonysim = ColonySimulation(\n",
    "    cellmodeller_model= global_params.cellmodeller_model,\n",
    "    max_cells = global_params.max_cells,\n",
    "    pix_mic_conv = global_params.pix_mic_conv,\n",
    "    resize_amount = global_params.resize_amount,\n",
    "    save_dir = \"test/\"\n",
    ")\n",
    "print(colonysim.get_simulation_dirs())\n",
    "_ = (colonysim.get_simulation_pickles())\n",
    "colonysim.get_max_scene_size()\n",
    "\n",
    "\n",
    "mean_density_modifier = 10\n",
    "\n",
    "n_CVs = 11\n",
    "stds = np.linspace(0,2.5, n_CVs)\n",
    "\n",
    "\n",
    "CVs = stds/mean_density_modifier\n",
    "plt.scatter(range(len(CVs)), CVs)"
   ]
  },
  {
   "cell_type": "code",
   "execution_count": 5,
   "id": "b9fa5206-9044-46be-ba6f-7c629de66495",
   "metadata": {
    "tags": []
   },
   "outputs": [],
   "source": [
    "#for std in tqdm(stds):\n",
    "#    colonysim.draw_simulation_OPL(n_jobs = -1, FL=True, density = 0.1, random_distribution = \"normal\", distribution_args = (mean_density_modifier, std), as_3D = True, crop=True, crop_pad=50)"
   ]
  },
  {
   "cell_type": "code",
   "execution_count": 6,
   "id": "19137070-aef3-4f6a-aa04-8f5ec312ba74",
   "metadata": {
    "tags": []
   },
   "outputs": [],
   "source": [
    "from SyMBac.colony_renderer import ColonyRenderer"
   ]
  },
  {
   "cell_type": "code",
   "execution_count": 7,
   "id": "38b15ff9-7e08-4e8a-9a3e-81973fc4959d",
   "metadata": {
    "tags": []
   },
   "outputs": [],
   "source": [
    "from SyMBac.PSF import PSF_generator\n",
    "from SyMBac.renderer import convolve_rescale\n",
    "from skimage.util import random_noise\n",
    "from scipy.ndimage import gaussian_filter\n",
    "\n",
    "from skimage.exposure import rescale_intensity\n"
   ]
  },
  {
   "cell_type": "code",
   "execution_count": 8,
   "id": "1ae512a4-d068-42ca-867e-4cf885c43248",
   "metadata": {
    "tags": []
   },
   "outputs": [],
   "source": [
    "try:\n",
    "    os.mkdir(\"simulated_colonies_normal\")\n",
    "except:\n",
    "    pass"
   ]
  },
  {
   "cell_type": "code",
   "execution_count": 9,
   "id": "5bb68bdd-8741-423f-becd-7e6f22132155",
   "metadata": {
    "tags": []
   },
   "outputs": [],
   "source": [
    "## Large simulation space, narrowed down for final analysis\n",
    "#NAs = np.linspace(0.5, 1.49, 5)\n",
    "#ns = np.linspace(1, 1.518, 5)\n",
    "#wavelengths = [0.45, 0.5, 0.575,  0.65]\n",
    "#names = [\"blue\", \"green\", \"orange\", \"far red\"]\n",
    "\n",
    "#NAs = list(reversed([1.49, 0.95, 0.75]))\n",
    "#ns = list(reversed([1.518, 1.0, 1.0]))\n",
    "#working_distances = list(reversed([170, 570, 1000]))\n",
    "#wavelengths = list(reversed([0.4, 0.55,  0.7]))\n",
    "#names = list(reversed([\"blue\", \"green\", \"orange\", \"far red\"]))\n",
    "#cell_depth = 1 #micron\n",
    "\n",
    "\n",
    "NAs = list(reversed([1.49, 0.95]))\n",
    "ns = list(reversed([1.518, 1.0]))\n",
    "working_distances = list(reversed([170, 570]))\n",
    "wavelengths = list(reversed([0.4, 0.55,  0.7]))\n",
    "names = list(reversed([\"blue\", \"green\", \"red\"]))\n",
    "cell_depth = 1 #micron"
   ]
  },
  {
   "cell_type": "code",
   "execution_count": 10,
   "id": "1cb57765-a532-4017-af3b-4d1f8bccc9be",
   "metadata": {
    "tags": []
   },
   "outputs": [
    {
     "data": {
      "text/plain": [
       "6"
      ]
     },
     "execution_count": 10,
     "metadata": {},
     "output_type": "execute_result"
    }
   ],
   "source": [
    "sim_params = [\n",
    "    (v, u, t) \n",
    "    for v, u in zip(NAs, ns)\n",
    "    for t in wavelengths]\n",
    "len(sim_params)"
   ]
  },
  {
   "cell_type": "code",
   "execution_count": 11,
   "id": "54a5633d-9c3c-4cc1-bce2-2371dce69e6a",
   "metadata": {
    "tags": []
   },
   "outputs": [],
   "source": [
    "pbar = tqdm(total = len(sim_params))\n",
    "for wavelength, name in zip(wavelengths, names):\n",
    "    for NA, n, working_distance in zip(NAs, ns, working_distances):\n",
    "        if glob(f\"simulated_colonies_normal/training_data_100x_{wavelength}_{name}_{NA}_{n}\"):\n",
    "            pass\n",
    "        else:\n",
    "            print(NA, n, working_distance, wavelength)\n",
    "            my_kernel = PSF_generator(\n",
    "                radius = 250, \n",
    "                wavelength = wavelength, \n",
    "                NA=NA, \n",
    "                n = n, \n",
    "                resize_amount=global_params.resize_amount, \n",
    "                pix_mic_conv=global_params.pix_mic_conv, \n",
    "                apo_sigma = 10, \n",
    "                mode=\"3d fluo\", \n",
    "                condenser=\"Ph3\", \n",
    "                z_height = int(round(1/global_params.pix_mic_conv)),\n",
    "                pz = 0.5,\n",
    "                working_distance = working_distance\n",
    "            )\n",
    "            my_kernel.calculate_PSF()\n",
    "            my_kernel.kernel /= np.sum(my_kernel.kernel) # normalise so kernel sums to 1\n",
    "            my_kernel.plot_PSF()\n",
    "            # Commented out kernel offset and offset apodisation as difficult to justify other than \"images seem more realistic\"\n",
    "            #my_kernel.kernel += 0.006\n",
    "            #my_kernel.kernel *= PSF_generator.gaussian_2D(300, 70)\n",
    "            my_renderer = ColonyRenderer(colonysim, my_kernel, force_2D = True)\n",
    "            \n",
    "            print(len(my_renderer.OPL_dirs))\n",
    "            my_renderer.generate_random_samples(len(my_renderer.OPL_dirs), 0, f\"simulated_colonies_normal/training_data_100x_{wavelength}_{name}_{NA}_{n}\", GPUs=[1], n_jobs = 2, gpu_fraction=0.5, batch_size = 50)\n",
    "            pbar.update()\n",
    "pbar.close()"
   ]
  },
  {
   "cell_type": "code",
   "execution_count": 11,
   "id": "da3f6da4-3f6c-4978-8462-7a570c2aea4e",
   "metadata": {
    "tags": []
   },
   "outputs": [],
   "source": [
    "try:\n",
    "    os.mkdir(\"simulated_colonies_empirical_PSF_corrected\")\n",
    "except:\n",
    "    pass"
   ]
  },
  {
   "cell_type": "code",
   "execution_count": 14,
   "id": "f53f7f30-e482-4d02-b879-439232c9526c",
   "metadata": {
    "tags": []
   },
   "outputs": [
    {
     "data": {
      "text/plain": [
       "<matplotlib.image.AxesImage at 0x7f31508f6890>"
      ]
     },
     "execution_count": 14,
     "metadata": {},
     "output_type": "execute_result"
    },
    {
     "data": {
      "image/png": "[encoded data removed]",
      "text/plain": [
       "<Figure size 640x480 with 1 Axes>"
      ]
     },
     "metadata": {},
     "output_type": "display_data"
    }
   ],
   "source": [
    "import tifffile\n",
    "from skimage.transform import rescale\n",
    "real_PSF = tifffile.imread(\"single_100x_PSF_postmag.tif\").astype(np.float32)\n",
    "c = int((real_PSF.shape[-1] - 200)/2)\n",
    "x_offset = 2\n",
    "y_offset = 3.5\n",
    "real_PSF_slice = 44\n",
    "real_PSF = real_PSF[real_PSF_slice-10:real_PSF_slice+10,2].sum(axis=0) # 0.05micron z step\n",
    "real_PSF -= np.round(np.sort(real_PSF.flatten())[0:int(len(real_PSF.flatten())*.05)].mean()).astype(np.uint)\n",
    "real_PSF = real_PSF[c-int(np.floor(y_offset)):-c-int(np.ceil(y_offset)),c-int(np.floor(x_offset)):-c+1-int(np.ceil(x_offset))]\n",
    "real_PSF = rescale(real_PSF, (0.0655/1.5) / global_params.pix_mic_conv  , anti_aliasing=True)\n",
    "real_PSF = real_PSF/real_PSF.sum()\n",
    "plt.imshow(real_PSF)"
   ]
  },
  {
   "cell_type": "code",
   "execution_count": 13,
   "id": "50d0ab4f-05fd-4134-b97d-30b4a7556acf",
   "metadata": {
    "tags": []
   },
   "outputs": [
    {
     "name": "stdout",
     "output_type": "stream",
     "text": [
      "3476\n"
     ]
    },
    {
     "name": "stderr",
     "output_type": "stream",
     "text": [
      "2023-05-12 08:26:09,565\tINFO worker.py:1544 -- Started a local Ray instance. View the dashboard at \u001b[1m\u001b[32m127.0.0.1:8265 \u001b[39m\u001b[22m\n"
     ]
    },
    {
     "name": "stdout",
     "output_type": "stream",
     "text": [
      "\u001b[2m\u001b[1m\u001b[36m(autoscaler +26s)\u001b[0m Tip: use `ray status` to view detailed cluster status. To disable these messages, set RAY_SCHEDULER_EVENTS=0.\n",
      "\u001b[2m\u001b[1m\u001b[33m(autoscaler +26s)\u001b[0m Warning: The following resource request cannot be scheduled right now: {'GPU': 0.5, 'CPU': 1.0}. This is likely due to all cluster resources being claimed by actors. Consider creating fewer actors or adding more nodes to this Ray cluster.\n"
     ]
    }
   ],
   "source": [
    "my_kernel = PSF_generator(\n",
    "    radius = 250, \n",
    "    wavelength = 0.55, \n",
    "    NA=1.49, \n",
    "    n = 1.518, \n",
    "    resize_amount=global_params.resize_amount, \n",
    "    pix_mic_conv=global_params.pix_mic_conv, \n",
    "    apo_sigma = 10, \n",
    "    mode=\"3d fluo\", \n",
    "    condenser=\"Ph3\", \n",
    "    z_height = 22,\n",
    "    pz = 0.5,\n",
    "    working_distance = 170\n",
    ")\n",
    "my_kernel.kernel = np.array([real_PSF]*22)\n",
    "my_renderer = ColonyRenderer(colonysim, my_kernel, force_2D = True)\n",
    "\n",
    "print(len(my_renderer.OPL_dirs))\n",
    "my_renderer.generate_random_samples(len(my_renderer.OPL_dirs), 0, f\"simulated_colonies_empirical_PSF_corrected/training_data_100x_0.55_green_1.49_1.518\", GPUs=[1], n_jobs = 2, gpu_fraction=0.5, batch_size = 50)"
   ]
  },
  {
   "cell_type": "code",
   "execution_count": 15,
   "id": "c094b6cb-783f-43a9-a942-74aad53a8686",
   "metadata": {
    "tags": []
   },
   "outputs": [
    {
     "data": {
      "text/plain": [
       "(22, 174, 176)"
      ]
     },
     "execution_count": 15,
     "metadata": {},
     "output_type": "execute_result"
    }
   ],
   "source": [
    "my_kernel.kernel.shape"
   ]
  },
  {
   "cell_type": "code",
   "execution_count": null,
   "id": "7e553236-a75a-4be3-b846-228859ba597d",
   "metadata": {
    "tags": []
   },
   "outputs": [],
   "source": []
  },
  {
   "cell_type": "code",
   "execution_count": null,
   "id": "153b86c0-499f-47b4-9e8d-1332cdc6ff2a",
   "metadata": {},
   "outputs": [],
   "source": []
  }
 ],
 "metadata": {
  "kernelspec": {
   "display_name": "Python 3 (ipykernel)",
   "language": "python",
   "name": "python3"
  },
  "language_info": {
   "codemirror_mode": {
    "name": "ipython",
    "version": 3
   },
   "file_extension": ".py",
   "mimetype": "text/x-python",
   "name": "python",
   "nbconvert_exporter": "python",
   "pygments_lexer": "ipython3",
   "version": "3.10.9"
  },
  "widgets": {
   "application/vnd.jupyter.widget-state+json": {
    "state": {},
    "version_major": 2,
    "version_minor": 0
   }
  }
 },
 "nbformat": 4,
 "nbformat_minor": 5
}
