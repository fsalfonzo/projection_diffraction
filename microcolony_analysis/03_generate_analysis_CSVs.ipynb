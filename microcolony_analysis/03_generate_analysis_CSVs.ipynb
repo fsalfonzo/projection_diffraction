{
 "cells": [
  {
   "cell_type": "code",
   "execution_count": 1,
   "id": "fdf5040e-14d9-4e40-a357-9de24c25d426",
   "metadata": {
    "tags": []
   },
   "outputs": [],
   "source": [
    "%load_ext autoreload\n",
    "%autoreload 2\n",
    "import sys\n",
    "from numba import njit\n",
    "from glob import glob\n",
    "from natsort import natsorted\n",
    "from joblib import Parallel, delayed\n",
    "sys.path.insert(0, \"../\") \n",
    "import tifffile\n",
    "from helpers import *\n",
    "\n",
    "import global_params"
   ]
  },
  {
   "cell_type": "code",
   "execution_count": 2,
   "id": "e9f3965e-b86f-4358-b186-55ba75b76821",
   "metadata": {
    "tags": []
   },
   "outputs": [],
   "source": [
    "def load_img_mask_pair(img_dir, mask_dir, normalise = False):\n",
    "    suffix = img_dir.split(\".\")[-1]\n",
    "    if \"png\" in suffix:\n",
    "        img = np.array(Image.open(img_dir))\n",
    "    elif \"tif\" in suffix:\n",
    "        img = tifffile.imread(img_dir)\n",
    "        if len(img.shape) == 3:\n",
    "            img = img.sum(axis=0)\n",
    "    if normalise:\n",
    "        img = rescale_intensity(img, out_range=(0,1))\n",
    "    mask = np.array(Image.open(mask_dir)) #Masks are always PNG\n",
    "    return img, mask\n",
    "\n",
    "@njit\n",
    "def get_intensities(img, mask, mask_labels, img_2 = None):\n",
    "    \"\"\"\n",
    "    Returns intensities of objects in the order provided by mask_labels\n",
    "    \"\"\"\n",
    "    total_intensities = np.zeros(len(mask_labels))\n",
    "    for l, mask_label in enumerate(mask_labels):\n",
    "        idxs = np.where(mask == mask_label)\n",
    "        if len(idxs[0]) > 100:\n",
    "            pixel_intensities = np.zeros(len(idxs[0]))\n",
    "            for k, (i, j) in enumerate(zip(idxs[0], idxs[1])):\n",
    "                pixel_intensities[k] = img[i,j]\n",
    "            total_intensity = np.sum(pixel_intensities)\n",
    "            total_intensities[l] = total_intensity\n",
    "    total_intensities_2 = np.zeros(len(mask_labels))\n",
    "\n",
    "    if img_2 is not None:\n",
    "        total_intensities_2 = np.zeros(len(mask_labels))\n",
    "        for l, mask_label in enumerate(mask_labels):\n",
    "            idxs = np.where(mask == mask_label)\n",
    "            if len(idxs[0]) > 100:\n",
    "                pixel_intensities = np.zeros(len(idxs[0]))\n",
    "                for k, (i, j) in enumerate(zip(idxs[0], idxs[1])):\n",
    "                    pixel_intensities[k] = img_2[i,j]\n",
    "                total_intensity = np.sum(pixel_intensities)\n",
    "                total_intensities_2[l] = total_intensity\n",
    "    return total_intensities, total_intensities_2\n",
    "\n",
    "def get_colony_diameter(mask):\n",
    "    colony_regionprop = regionprops((mask > 0)*1)[0]\n",
    "    return colony_regionprop.feret_diameter_max\n",
    "\n",
    "\n",
    "def get_colony_centroid(mask):\n",
    "    colony_regionprop = regionprops((mask > 0)*1)[0]\n",
    "    #colony_centroid = colony_regionprop.centroid\n",
    "    return colony_regionprop.centroid\n",
    "\n",
    "def get_cell_pos(mask, mask_labels):\n",
    "    cell_ys = np.zeros(len(mask_labels))\n",
    "    cell_xs = np.zeros(len(mask_labels))\n",
    "    for i, mask_label in enumerate(mask_labels):\n",
    "        single_cell = (mask == mask_label) * 1\n",
    "        cell_ys[i], cell_xs[i] = regionprops(single_cell)[0].centroid\n",
    "    return cell_ys, cell_xs\n",
    "#get_colony_size(mask)\n",
    "\n",
    "def get_cell_n_neighbours(mask,mask_labels):\n",
    "    radius = 5\n",
    "    dilated = dilation(mask, skimage.morphology.disk(radius))\n",
    "    rag = graph.RAG(dilated)\n",
    "    rag.remove_node(0)\n",
    "\n",
    "    n_neighbours = []\n",
    "    for mask_label in mask_labels:\n",
    "        n_neighbours.append(len(list(rag.neighbors(mask_label))))\n",
    "    return n_neighbours\n",
    "\n",
    "def get_cell_areas(mask, mask_labels):\n",
    "    areas = np.zeros(len(mask_labels))\n",
    "    for i, mask_label in enumerate(mask_labels):\n",
    "        areas[i] = np.sum(mask == mask_label)\n",
    "    return areas\n",
    "    \n",
    "#def get_dist_from_centre(mask, mask_labels):\n",
    "#    dists = []\n",
    "#    col_y, col_x = get_colony_centroid(mask)\n",
    "#    print(\"Colony:\", col_y, col_x)\n",
    "#    for i, mask_label in enumerate(mask_labels):\n",
    "#        single_cell = (mask == mask_label) * 1\n",
    "#        cell_y, cell_x = regionprops(single_cell)[0].centroid\n",
    "#        dist = np.sqrt( (cell_y - col_y)**2 + (cell_x - col_x)**2 )\n",
    "#        print(f\"Cell {mask_label}\", cell_y, cell_x, dist)\n",
    "#        #dists.append(dist)\n",
    "#    return dists\n",
    "#get_colony_size(mask)"
   ]
  },
  {
   "cell_type": "code",
   "execution_count": 3,
   "id": "c9cc77c0-2b40-49b5-9134-7fb5b56402b1",
   "metadata": {
    "tags": []
   },
   "outputs": [],
   "source": [
    "wavelengths = [0.4,0.55,0.7]"
   ]
  },
  {
   "cell_type": "code",
   "execution_count": 4,
   "id": "88cb84bb-1024-47aa-9d5e-68428ac44ed7",
   "metadata": {
    "tags": []
   },
   "outputs": [],
   "source": [
    "PSFs = {}\n",
    "NAs = list(reversed([1.49, 0.95]))\n",
    "ns = list(reversed([1.518, 1.0]))\n",
    "working_distances = list(reversed([170, 570]))\n",
    "for wavelength in wavelengths:\n",
    "    for NA, n, working_distance in zip(NAs, ns, working_distances):\n",
    "        my_kernel = PSF_generator(\n",
    "            radius = 150, \n",
    "            wavelength = 0.45, \n",
    "            NA=1.49, \n",
    "            n = 1.518, \n",
    "            resize_amount=1, \n",
    "            pix_mic_conv=global_params.pix_mic_conv, \n",
    "            apo_sigma = 10, \n",
    "            mode=\"3d fluo\", \n",
    "            condenser=\"Ph3\", \n",
    "            z_height = int(round(1/global_params.pix_mic_conv)),\n",
    "            pz = 0.5, \n",
    "            working_distance=working_distance\n",
    "\n",
    "        )\n",
    "        my_kernel.calculate_PSF()\n",
    "        psf = my_kernel.kernel.sum(axis=0)\n",
    "        psf /= my_kernel.kernel.sum()\n",
    "        PSFs[f\"{wavelength}_{NA}_{n}_{working_distance}\"] = psf"
   ]
  },
  {
   "cell_type": "code",
   "execution_count": 5,
   "id": "97d9ade3-e0b1-4a05-8532-3bf3775ab7dd",
   "metadata": {
    "tags": []
   },
   "outputs": [],
   "source": [
    "#raw_img_dir = \"data/fluorescent_scenes/00010.png\"\n",
    "#synth_img_dir = \"simulated_colonies/training_data_100x_0.5_green_1.49_1.518/synth_imgs/0009.tif\"\n",
    "#mask_dir = \"simulated_colonies/training_data_100x_0.5_green_1.49_1.518/masks/0009.png\"\n",
    "#synth_img, mask = load_img_mask_pair(synth_img_dir, mask_dir, normalise=False)\n",
    "#mask_labels = np.unique(mask)[1:]\n",
    "\n",
    "#raw_img, _ = load_img_mask_pair(raw_img_dir, mask_dir, normalise=False)\n",
    "\n",
    "#img_regionprops = regionprops(mask, intensity_image=img)\n",
    "#synth_regionprops = regionprops(mask, intensity_image=rescaled_synth_img)\n",
    "#plt.imshow(synth_img)\n",
    "#plt.imshow(raw_img, cmap=\"Greys\", alpha=0.4)"
   ]
  },
  {
   "cell_type": "code",
   "execution_count": 6,
   "id": "41b1f7c2-e564-4053-bd36-993f713e53e6",
   "metadata": {
    "tags": []
   },
   "outputs": [],
   "source": [
    "#raw_img_dirs = natsorted(glob(\"data/fluorescent_scenes/*\"))\n",
    "#synth_img_dirs = natsorted(glob(\"simulated_colonies/training_data_100x_0.45_blue_1.49_1.518/synth_imgs/*\"))\n",
    "#mask_dirs = natsorted(glob(\"data/masks/*\"))"
   ]
  },
  {
   "cell_type": "code",
   "execution_count": 7,
   "id": "a6a94fbb-a570-42cf-97d8-186e1f2e8710",
   "metadata": {
    "tags": []
   },
   "outputs": [],
   "source": [
    "#for i, (raw_img_dir, synth_img_dir, mask_dir) in tqdm(enumerate(zip(raw_img_dirs, synth_img_dirs, mask_dirs))):\n",
    "def load_and_calc_params(i, raw_img_dir, synth_img_dir, mask_dir, wavelength, NA, n, working_distance):\n",
    "    raw_img, _ = load_img_mask_pair(raw_img_dir, mask_dir, normalise=False)\n",
    "    synth_img, mask = load_img_mask_pair(synth_img_dir, mask_dir, normalise=False)\n",
    "    mask_labels = np.unique(mask)[1:]\n",
    "\n",
    "    pad_amount = 150\n",
    "    deconv_img = restoration.wiener(np.pad(synth_img,pad_amount), PSFs[f\"{wavelength}_{NA}_{n}_{working_distance}\"], 10**-5, clip=False)[pad_amount:-pad_amount,pad_amount:-pad_amount]\n",
    "\n",
    "    data = pd.DataFrame()\n",
    "\n",
    "    data[\"Label\"] = mask_labels\n",
    "    data[\"True intensity\"], data[\"Observed intensity\"] = get_intensities(raw_img, mask, mask_labels, synth_img)\n",
    "    _, data[\"Deconvolved intensity\"] = get_intensities(raw_img, mask, mask_labels, deconv_img)\n",
    "\n",
    "    data[\"Cell y\"], data[\"Cell x\"] = get_cell_pos(mask, mask_labels)\n",
    "    data[\"Colony diameter\"] = get_colony_diameter(mask)\n",
    "    data[\"Colony centroid y\"], data[\"Colony centroid x\"] = get_colony_centroid(mask)\n",
    "    data[\"N neighbours\"] = get_cell_n_neighbours(mask, mask_labels)\n",
    "    \n",
    "    data[\"Colony N cells\"] = len(mask_labels)\n",
    "    data[\"Colony ID\"] = i\n",
    "    data[\"Wavelength\"] = wavelength\n",
    "    data[\"Area\"] = get_cell_areas(mask, mask_labels)\n",
    "    data[\"NA\"] = NA\n",
    "    data[\"ni\"] = n\n",
    "    return data"
   ]
  },
  {
   "cell_type": "code",
   "execution_count": 14,
   "id": "7e265761-dac6-486a-9683-8861eb238752",
   "metadata": {
    "tags": []
   },
   "outputs": [
    {
     "data": {
      "text/plain": [
       "<matplotlib.image.AxesImage at 0x7fb996cda200>"
      ]
     },
     "execution_count": 14,
     "metadata": {},
     "output_type": "execute_result"
    },
    {
     "data": {
      "image/png": "[encoded data removed]",
      "text/plain": [
       "<Figure size 640x480 with 1 Axes>"
      ]
     },
     "metadata": {},
     "output_type": "display_data"
    }
   ],
   "source": [
    "real_PSF = tifffile.imread(\"single_100x_PSF_postmag.tif\").astype(np.float32)\n",
    "c = int((real_PSF.shape[-1] - 200)/2)\n",
    "x_offset = 2\n",
    "y_offset = 3.5\n",
    "real_PSF_slice = 44\n",
    "real_PSF = real_PSF[real_PSF_slice-10:real_PSF_slice+10,2].sum(axis=0) # 0.05micron z step\n",
    "real_PSF -= np.round(np.sort(real_PSF.flatten())[0:int(len(real_PSF.flatten())*.05)].mean()).astype(np.uint)\n",
    "real_PSF = real_PSF[c-int(np.floor(y_offset)):-c-int(np.ceil(y_offset)),c-int(np.floor(x_offset)):-c+1-int(np.ceil(x_offset))]\n",
    "real_PSF = rescale(real_PSF, (0.0655/1.5) / global_params.pix_mic_conv  , anti_aliasing=True)\n",
    "real_PSF = real_PSF/real_PSF.sum()\n",
    "plt.imshow(real_PSF)"
   ]
  },
  {
   "cell_type": "code",
   "execution_count": 17,
   "id": "84261897-cae4-48fc-b676-1e49a37e2eec",
   "metadata": {
    "tags": []
   },
   "outputs": [],
   "source": [
    "#for i, (raw_img_dir, synth_img_dir, mask_dir) in tqdm(enumerate(zip(raw_img_dirs, synth_img_dirs, mask_dirs))):\n",
    "def load_and_calc_params_empirical_PSF(i, raw_img_dir, synth_img_dir, mask_dir, wavelength, NA, n, working_distance):\n",
    "    raw_img, _ = load_img_mask_pair(raw_img_dir, mask_dir, normalise=False)\n",
    "    synth_img, mask = load_img_mask_pair(synth_img_dir, mask_dir, normalise=False)\n",
    "    mask_labels = np.unique(mask)[1:]\n",
    "\n",
    "    pad_amount = 150\n",
    "    deconv_img = restoration.wiener(np.pad(synth_img,pad_amount), real_PSF, 10**-5, clip=False)[pad_amount:-pad_amount,pad_amount:-pad_amount]\n",
    "\n",
    "    data = pd.DataFrame()\n",
    "\n",
    "    data[\"Label\"] = mask_labels\n",
    "    data[\"True intensity\"], data[\"Observed intensity\"] = get_intensities(raw_img, mask, mask_labels, synth_img)\n",
    "    _, data[\"Deconvolved intensity\"] = get_intensities(raw_img, mask, mask_labels, deconv_img)\n",
    "\n",
    "    data[\"Cell y\"], data[\"Cell x\"] = get_cell_pos(mask, mask_labels)\n",
    "    data[\"Colony diameter\"] = get_colony_diameter(mask)\n",
    "    data[\"Colony centroid y\"], data[\"Colony centroid x\"] = get_colony_centroid(mask)\n",
    "    data[\"N neighbours\"] = get_cell_n_neighbours(mask, mask_labels)\n",
    "    \n",
    "    data[\"Colony N cells\"] = len(mask_labels)\n",
    "    data[\"Colony ID\"] = i\n",
    "    data[\"Wavelength\"] = wavelength\n",
    "    data[\"Area\"] = get_cell_areas(mask, mask_labels)\n",
    "    data[\"NA\"] = NA\n",
    "    data[\"ni\"] = n\n",
    "    return data"
   ]
  },
  {
   "cell_type": "code",
   "execution_count": 18,
   "id": "9c2367f9-4ff4-453e-b85b-68360cb8e41e",
   "metadata": {},
   "outputs": [
    {
     "data": {
      "application/vnd.jupyter.widget-view+json": {
       "model_id": "ba8564af47b2452180d1bf4dcf87ca21",
       "version_major": 2,
       "version_minor": 0
      },
      "text/plain": [
       "  0%|          | 0/3476 [00:00<?, ?it/s]"
      ]
     },
     "metadata": {},
     "output_type": "display_data"
    }
   ],
   "source": [
    "data = []\n",
    "\n",
    "raw_img_dirs = natsorted(glob(\"data/fluorescent_scenes/*\"))\n",
    "synth_img_dirs = natsorted(glob(f\"simulated_colonies_empirical_PSF_corrected//training_data_100x_0.55_green_1.49_1.518/synth_imgs/*\"))\n",
    "#assert len(synth_img_dirs) == len(raw_img_dirs)\n",
    "mask_dirs = natsorted(glob(\"data/masks/*\"))\n",
    "data_ = Parallel(n_jobs=-1)(delayed(load_and_calc_params_empirical_PSF)(i, raw_img_dir, synth_img_dir, mask_dir, 0.55, 1.49, 1.518, 170) for i, (raw_img_dir, synth_img_dir, mask_dir) in  tqdm(enumerate(zip(raw_img_dirs, synth_img_dirs, mask_dirs)), total=len(mask_dirs)))\n",
    "data_ = pd.concat(data_)\n",
    "data_[\"NA\"] = \"Empirical 1.49\"\n",
    "data.append(data_)"
   ]
  },
  {
   "cell_type": "code",
   "execution_count": 20,
   "id": "a4b4c1e4-f8a2-49bc-b7b7-5082a25507eb",
   "metadata": {
    "tags": []
   },
   "outputs": [],
   "source": [
    "def bin_data(bins, column, df, new_column_name):\n",
    "    return pd.cut(df[column], bins=bins, labels=[i for i in sorted([x.mid  for x in pd.cut(df[column], bins=bins).unique()]) ])\n",
    "\n",
    "def bin_data_mid(bins, column, df, new_column_name):\n",
    "    return pd.cut(df[column], bins=bins, labels=[i for i in sorted([x.mid  for x in pd.cut(df[column], bins=bins).unique()]) ])\n",
    "\n",
    "\n",
    "def bin_data_range(bins, column, df, new_column_name):\n",
    "    return pd.cut(df[column], bins=bins, labels=[i for i in ([f\"[{int(x.left+1)}, {int(x.right+1)})\"  for x in pd.cut(df[column], bins=bins).unique()]) ])\n",
    "\n",
    "\n",
    "data = data_\n",
    "data[\"Distance from centre of colony\"] = np.sqrt(\n",
    "    (data[\"Cell y\"] - data[\"Colony centroid y\"])**2 + (data[\"Cell x\"] - data[\"Colony centroid x\"])**2 \n",
    ")\n",
    "data[\"Normalised distance from centre of colony\"] = data[\"Distance from centre of colony\"] / (data[\"Colony diameter\"]/2)\n",
    "data[\"Mean true intensity\"] = data[\"True intensity\"] / data[\"Area\"]\n",
    "data[\"Mean observed intensity\"] = data[\"Observed intensity\"] / data[\"Area\"]\n",
    "data[\"Mean deconvolved intensity\"] = data[\"Deconvolved intensity\"] / data[\"Area\"]\n",
    "colony_groupby = data.groupby([\"Wavelength\", \"Colony ID\", \"Colony N cells\", \"NA\", \"ni\"])[[\"Mean true intensity\", \"Mean observed intensity\", \"Mean deconvolved intensity\"]]\n",
    "CVs = colony_groupby.std() / colony_groupby.mean()\n",
    "CVs.columns = [\"True CV\", \"Observed CV\", \"Deconvolved CV\"]\n",
    "CVs = CVs.reset_index()\n",
    "data = pd.merge(data, CVs, on=[\"Colony ID\", \"Wavelength\", \"Colony N cells\", \"NA\"])\n",
    "data[\"Observed var\"] = (data[\"Mean observed intensity\"] * data[\"Observed CV\"]) **2 \n",
    "data[\"Observed cell intensity / True cell intensity (mean)\"] = data[\"Mean observed intensity\"] / data[\"Mean true intensity\"]\n",
    "data[\"Colony N cells (binned)\"] = bin_data_range(bins = 3, df=data, column=\"Colony N cells\", new_column_name=\"Colony N cells (binned)\")\n",
    "data[\"Normalised distance from centre of colony (binned)\"] = bin_data(bins=10, df = data, column = \"Normalised distance from centre of colony\", new_column_name=None)\n",
    "data[\"Colony N cells (fine-binned)\"] = bin_data(bins = 15, df=data, column=\"Colony N cells\", new_column_name=\"Colony N cells (fine-binned)\")\n",
    "\n",
    "\n",
    "data[\"Colony size\"] = \"Not assigned\"\n",
    "data.loc[data.eval(\"`Colony N cells` < 10\"), \"Colony size\"] = \"Small (<10 cells)\"\n",
    "data.loc[data.eval(\"`Colony N cells` > 200\"), \"Colony size\"] = \"Large (>200 cells)\"\n"
   ]
  },
  {
   "cell_type": "code",
   "execution_count": 9,
   "id": "b501b374-abf2-4ba3-ba90-dd0ffb22281f",
   "metadata": {
    "collapsed": true,
    "jupyter": {
     "outputs_hidden": true
    },
    "tags": []
   },
   "outputs": [
    {
     "data": {
      "application/vnd.jupyter.widget-view+json": {
       "model_id": "67253121248a45fe9b3a880b63880dfd",
       "version_major": 2,
       "version_minor": 0
      },
      "text/plain": [
       "  0%|          | 0/3476 [00:00<?, ?it/s]"
      ]
     },
     "metadata": {},
     "output_type": "display_data"
    },
    {
     "name": "stderr",
     "output_type": "stream",
     "text": [
      "/home/gh464/miniconda3/envs/symbac/lib/python3.10/site-packages/joblib/externals/loky/process_executor.py:700: UserWarning: A worker stopped while some jobs were given to the executor. This can be caused by a too short worker timeout or by a memory leak.\n",
      "  warnings.warn(\n",
      "/home/gh464/miniconda3/envs/symbac/lib/python3.10/site-packages/joblib/externals/loky/process_executor.py:700: UserWarning: A worker stopped while some jobs were given to the executor. This can be caused by a too short worker timeout or by a memory leak.\n",
      "  warnings.warn(\n",
      "/home/gh464/miniconda3/envs/symbac/lib/python3.10/site-packages/joblib/externals/loky/process_executor.py:700: UserWarning: A worker stopped while some jobs were given to the executor. This can be caused by a too short worker timeout or by a memory leak.\n",
      "  warnings.warn(\n",
      "/home/gh464/miniconda3/envs/symbac/lib/python3.10/site-packages/joblib/externals/loky/process_executor.py:700: UserWarning: A worker stopped while some jobs were given to the executor. This can be caused by a too short worker timeout or by a memory leak.\n",
      "  warnings.warn(\n",
      "/home/gh464/miniconda3/envs/symbac/lib/python3.10/site-packages/joblib/externals/loky/process_executor.py:700: UserWarning: A worker stopped while some jobs were given to the executor. This can be caused by a too short worker timeout or by a memory leak.\n",
      "  warnings.warn(\n",
      "/home/gh464/miniconda3/envs/symbac/lib/python3.10/site-packages/joblib/externals/loky/process_executor.py:700: UserWarning: A worker stopped while some jobs were given to the executor. This can be caused by a too short worker timeout or by a memory leak.\n",
      "  warnings.warn(\n",
      "/home/gh464/miniconda3/envs/symbac/lib/python3.10/site-packages/joblib/externals/loky/process_executor.py:700: UserWarning: A worker stopped while some jobs were given to the executor. This can be caused by a too short worker timeout or by a memory leak.\n",
      "  warnings.warn(\n",
      "/home/gh464/miniconda3/envs/symbac/lib/python3.10/site-packages/joblib/externals/loky/process_executor.py:700: UserWarning: A worker stopped while some jobs were given to the executor. This can be caused by a too short worker timeout or by a memory leak.\n",
      "  warnings.warn(\n"
     ]
    },
    {
     "data": {
      "application/vnd.jupyter.widget-view+json": {
       "model_id": "7e09641990f04ce0a5f60090d0ba167d",
       "version_major": 2,
       "version_minor": 0
      },
      "text/plain": [
       "  0%|          | 0/3476 [00:00<?, ?it/s]"
      ]
     },
     "metadata": {},
     "output_type": "display_data"
    },
    {
     "name": "stderr",
     "output_type": "stream",
     "text": [
      "/home/gh464/miniconda3/envs/symbac/lib/python3.10/site-packages/joblib/externals/loky/process_executor.py:700: UserWarning: A worker stopped while some jobs were given to the executor. This can be caused by a too short worker timeout or by a memory leak.\n",
      "  warnings.warn(\n",
      "/home/gh464/miniconda3/envs/symbac/lib/python3.10/site-packages/joblib/externals/loky/process_executor.py:700: UserWarning: A worker stopped while some jobs were given to the executor. This can be caused by a too short worker timeout or by a memory leak.\n",
      "  warnings.warn(\n",
      "/home/gh464/miniconda3/envs/symbac/lib/python3.10/site-packages/joblib/externals/loky/process_executor.py:700: UserWarning: A worker stopped while some jobs were given to the executor. This can be caused by a too short worker timeout or by a memory leak.\n",
      "  warnings.warn(\n",
      "/home/gh464/miniconda3/envs/symbac/lib/python3.10/site-packages/joblib/externals/loky/process_executor.py:700: UserWarning: A worker stopped while some jobs were given to the executor. This can be caused by a too short worker timeout or by a memory leak.\n",
      "  warnings.warn(\n",
      "/home/gh464/miniconda3/envs/symbac/lib/python3.10/site-packages/joblib/externals/loky/process_executor.py:700: UserWarning: A worker stopped while some jobs were given to the executor. This can be caused by a too short worker timeout or by a memory leak.\n",
      "  warnings.warn(\n",
      "/home/gh464/miniconda3/envs/symbac/lib/python3.10/site-packages/joblib/externals/loky/process_executor.py:700: UserWarning: A worker stopped while some jobs were given to the executor. This can be caused by a too short worker timeout or by a memory leak.\n",
      "  warnings.warn(\n",
      "/home/gh464/miniconda3/envs/symbac/lib/python3.10/site-packages/joblib/externals/loky/process_executor.py:700: UserWarning: A worker stopped while some jobs were given to the executor. This can be caused by a too short worker timeout or by a memory leak.\n",
      "  warnings.warn(\n",
      "/home/gh464/miniconda3/envs/symbac/lib/python3.10/site-packages/joblib/externals/loky/process_executor.py:700: UserWarning: A worker stopped while some jobs were given to the executor. This can be caused by a too short worker timeout or by a memory leak.\n",
      "  warnings.warn(\n",
      "/home/gh464/miniconda3/envs/symbac/lib/python3.10/site-packages/joblib/externals/loky/process_executor.py:700: UserWarning: A worker stopped while some jobs were given to the executor. This can be caused by a too short worker timeout or by a memory leak.\n",
      "  warnings.warn(\n",
      "/home/gh464/miniconda3/envs/symbac/lib/python3.10/site-packages/joblib/externals/loky/process_executor.py:700: UserWarning: A worker stopped while some jobs were given to the executor. This can be caused by a too short worker timeout or by a memory leak.\n",
      "  warnings.warn(\n"
     ]
    },
    {
     "data": {
      "application/vnd.jupyter.widget-view+json": {
       "model_id": "545d159bacf24ad7b00ee316a0669e26",
       "version_major": 2,
       "version_minor": 0
      },
      "text/plain": [
       "  0%|          | 0/3476 [00:00<?, ?it/s]"
      ]
     },
     "metadata": {},
     "output_type": "display_data"
    },
    {
     "name": "stderr",
     "output_type": "stream",
     "text": [
      "/home/gh464/miniconda3/envs/symbac/lib/python3.10/site-packages/joblib/externals/loky/process_executor.py:700: UserWarning: A worker stopped while some jobs were given to the executor. This can be caused by a too short worker timeout or by a memory leak.\n",
      "  warnings.warn(\n",
      "/home/gh464/miniconda3/envs/symbac/lib/python3.10/site-packages/joblib/externals/loky/process_executor.py:700: UserWarning: A worker stopped while some jobs were given to the executor. This can be caused by a too short worker timeout or by a memory leak.\n",
      "  warnings.warn(\n"
     ]
    },
    {
     "data": {
      "application/vnd.jupyter.widget-view+json": {
       "model_id": "b5370fe8217c46848c12737c22f121c9",
       "version_major": 2,
       "version_minor": 0
      },
      "text/plain": [
       "  0%|          | 0/3476 [00:00<?, ?it/s]"
      ]
     },
     "metadata": {},
     "output_type": "display_data"
    },
    {
     "name": "stderr",
     "output_type": "stream",
     "text": [
      "/home/gh464/miniconda3/envs/symbac/lib/python3.10/site-packages/joblib/externals/loky/process_executor.py:700: UserWarning: A worker stopped while some jobs were given to the executor. This can be caused by a too short worker timeout or by a memory leak.\n",
      "  warnings.warn(\n",
      "/home/gh464/miniconda3/envs/symbac/lib/python3.10/site-packages/joblib/externals/loky/process_executor.py:700: UserWarning: A worker stopped while some jobs were given to the executor. This can be caused by a too short worker timeout or by a memory leak.\n",
      "  warnings.warn(\n",
      "/home/gh464/miniconda3/envs/symbac/lib/python3.10/site-packages/joblib/externals/loky/process_executor.py:700: UserWarning: A worker stopped while some jobs were given to the executor. This can be caused by a too short worker timeout or by a memory leak.\n",
      "  warnings.warn(\n",
      "/home/gh464/miniconda3/envs/symbac/lib/python3.10/site-packages/joblib/externals/loky/process_executor.py:700: UserWarning: A worker stopped while some jobs were given to the executor. This can be caused by a too short worker timeout or by a memory leak.\n",
      "  warnings.warn(\n",
      "/home/gh464/miniconda3/envs/symbac/lib/python3.10/site-packages/joblib/externals/loky/process_executor.py:700: UserWarning: A worker stopped while some jobs were given to the executor. This can be caused by a too short worker timeout or by a memory leak.\n",
      "  warnings.warn(\n",
      "/home/gh464/miniconda3/envs/symbac/lib/python3.10/site-packages/joblib/externals/loky/process_executor.py:700: UserWarning: A worker stopped while some jobs were given to the executor. This can be caused by a too short worker timeout or by a memory leak.\n",
      "  warnings.warn(\n",
      "/home/gh464/miniconda3/envs/symbac/lib/python3.10/site-packages/joblib/externals/loky/process_executor.py:700: UserWarning: A worker stopped while some jobs were given to the executor. This can be caused by a too short worker timeout or by a memory leak.\n",
      "  warnings.warn(\n",
      "/home/gh464/miniconda3/envs/symbac/lib/python3.10/site-packages/joblib/externals/loky/process_executor.py:700: UserWarning: A worker stopped while some jobs were given to the executor. This can be caused by a too short worker timeout or by a memory leak.\n",
      "  warnings.warn(\n",
      "/home/gh464/miniconda3/envs/symbac/lib/python3.10/site-packages/joblib/externals/loky/process_executor.py:700: UserWarning: A worker stopped while some jobs were given to the executor. This can be caused by a too short worker timeout or by a memory leak.\n",
      "  warnings.warn(\n",
      "/home/gh464/miniconda3/envs/symbac/lib/python3.10/site-packages/joblib/externals/loky/process_executor.py:700: UserWarning: A worker stopped while some jobs were given to the executor. This can be caused by a too short worker timeout or by a memory leak.\n",
      "  warnings.warn(\n",
      "/home/gh464/miniconda3/envs/symbac/lib/python3.10/site-packages/joblib/externals/loky/process_executor.py:700: UserWarning: A worker stopped while some jobs were given to the executor. This can be caused by a too short worker timeout or by a memory leak.\n",
      "  warnings.warn(\n",
      "/home/gh464/miniconda3/envs/symbac/lib/python3.10/site-packages/joblib/externals/loky/process_executor.py:700: UserWarning: A worker stopped while some jobs were given to the executor. This can be caused by a too short worker timeout or by a memory leak.\n",
      "  warnings.warn(\n"
     ]
    },
    {
     "data": {
      "application/vnd.jupyter.widget-view+json": {
       "model_id": "7dd8678e5a8b40a7907b4b9765dc83d7",
       "version_major": 2,
       "version_minor": 0
      },
      "text/plain": [
       "  0%|          | 0/3476 [00:00<?, ?it/s]"
      ]
     },
     "metadata": {},
     "output_type": "display_data"
    },
    {
     "name": "stderr",
     "output_type": "stream",
     "text": [
      "/home/gh464/miniconda3/envs/symbac/lib/python3.10/site-packages/joblib/externals/loky/process_executor.py:700: UserWarning: A worker stopped while some jobs were given to the executor. This can be caused by a too short worker timeout or by a memory leak.\n",
      "  warnings.warn(\n",
      "/home/gh464/miniconda3/envs/symbac/lib/python3.10/site-packages/joblib/externals/loky/process_executor.py:700: UserWarning: A worker stopped while some jobs were given to the executor. This can be caused by a too short worker timeout or by a memory leak.\n",
      "  warnings.warn(\n",
      "/home/gh464/miniconda3/envs/symbac/lib/python3.10/site-packages/joblib/externals/loky/process_executor.py:700: UserWarning: A worker stopped while some jobs were given to the executor. This can be caused by a too short worker timeout or by a memory leak.\n",
      "  warnings.warn(\n",
      "/home/gh464/miniconda3/envs/symbac/lib/python3.10/site-packages/joblib/externals/loky/process_executor.py:700: UserWarning: A worker stopped while some jobs were given to the executor. This can be caused by a too short worker timeout or by a memory leak.\n",
      "  warnings.warn(\n",
      "/home/gh464/miniconda3/envs/symbac/lib/python3.10/site-packages/joblib/externals/loky/process_executor.py:700: UserWarning: A worker stopped while some jobs were given to the executor. This can be caused by a too short worker timeout or by a memory leak.\n",
      "  warnings.warn(\n",
      "/home/gh464/miniconda3/envs/symbac/lib/python3.10/site-packages/joblib/externals/loky/process_executor.py:700: UserWarning: A worker stopped while some jobs were given to the executor. This can be caused by a too short worker timeout or by a memory leak.\n",
      "  warnings.warn(\n",
      "/home/gh464/miniconda3/envs/symbac/lib/python3.10/site-packages/joblib/externals/loky/process_executor.py:700: UserWarning: A worker stopped while some jobs were given to the executor. This can be caused by a too short worker timeout or by a memory leak.\n",
      "  warnings.warn(\n",
      "/home/gh464/miniconda3/envs/symbac/lib/python3.10/site-packages/joblib/externals/loky/process_executor.py:700: UserWarning: A worker stopped while some jobs were given to the executor. This can be caused by a too short worker timeout or by a memory leak.\n",
      "  warnings.warn(\n"
     ]
    },
    {
     "data": {
      "application/vnd.jupyter.widget-view+json": {
       "model_id": "13ec63bad76c4cdd9bdf47ab45ed9613",
       "version_major": 2,
       "version_minor": 0
      },
      "text/plain": [
       "  0%|          | 0/3476 [00:00<?, ?it/s]"
      ]
     },
     "metadata": {},
     "output_type": "display_data"
    },
    {
     "name": "stderr",
     "output_type": "stream",
     "text": [
      "/home/gh464/miniconda3/envs/symbac/lib/python3.10/site-packages/joblib/externals/loky/process_executor.py:700: UserWarning: A worker stopped while some jobs were given to the executor. This can be caused by a too short worker timeout or by a memory leak.\n",
      "  warnings.warn(\n",
      "/home/gh464/miniconda3/envs/symbac/lib/python3.10/site-packages/joblib/externals/loky/process_executor.py:700: UserWarning: A worker stopped while some jobs were given to the executor. This can be caused by a too short worker timeout or by a memory leak.\n",
      "  warnings.warn(\n",
      "/home/gh464/miniconda3/envs/symbac/lib/python3.10/site-packages/joblib/externals/loky/process_executor.py:700: UserWarning: A worker stopped while some jobs were given to the executor. This can be caused by a too short worker timeout or by a memory leak.\n",
      "  warnings.warn(\n"
     ]
    }
   ],
   "source": [
    "for wavelength in wavelengths:\n",
    "    for NA, n, working_distance in zip(NAs, ns, working_distances):\n",
    "        raw_img_dirs = natsorted(glob(\"data/fluorescent_scenes/*\"))\n",
    "        synth_img_dirs = natsorted(glob(f\"simulated_colonies_normal/training_data_100x_{wavelength}_*_{NA}_{n}/synth_imgs/*\"))\n",
    "        #assert len(synth_img_dirs) == len(raw_img_dirs)\n",
    "        mask_dirs = natsorted(glob(\"data/masks/*\"))\n",
    "        data_ = Parallel(n_jobs=-1)(delayed(load_and_calc_params)(i, raw_img_dir, synth_img_dir, mask_dir, wavelength, NA, n, working_distance) for i, (raw_img_dir, synth_img_dir, mask_dir) in  tqdm(enumerate(zip(raw_img_dirs, synth_img_dirs, mask_dirs)), total=len(mask_dirs)))\n",
    "        data.extend(data_)"
   ]
  },
  {
   "cell_type": "code",
   "execution_count": 10,
   "id": "3bd9b729-7c00-45cc-bf3c-1d6c5a7c1ea6",
   "metadata": {
    "tags": []
   },
   "outputs": [],
   "source": [
    "data = pd.concat(data)"
   ]
  },
  {
   "cell_type": "code",
   "execution_count": 11,
   "id": "d89c0149-07b3-4b7b-8f5f-81bfdf3ea893",
   "metadata": {
    "tags": []
   },
   "outputs": [],
   "source": [
    "data.to_pickle(\"cell_data.pickle\")"
   ]
  },
  {
   "cell_type": "code",
   "execution_count": null,
   "id": "ce713788-9df5-4b00-a53e-fde38ba0292c",
   "metadata": {},
   "outputs": [],
   "source": []
  }
 ],
 "metadata": {
  "kernelspec": {
   "display_name": "Python 3 (ipykernel)",
   "language": "python",
   "name": "python3"
  },
  "language_info": {
   "codemirror_mode": {
    "name": "ipython",
    "version": 3
   },
   "file_extension": ".py",
   "mimetype": "text/x-python",
   "name": "python",
   "nbconvert_exporter": "python",
   "pygments_lexer": "ipython3",
   "version": "3.10.9"
  },
  "widgets": {
   "application/vnd.jupyter.widget-state+json": {
    "state": {},
    "version_major": 2,
    "version_minor": 0
   }
  }
 },
 "nbformat": 4,
 "nbformat_minor": 5
}
