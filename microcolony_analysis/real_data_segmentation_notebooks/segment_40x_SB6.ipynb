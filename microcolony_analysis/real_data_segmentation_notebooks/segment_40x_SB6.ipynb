{
 "cells": [
  {
   "cell_type": "code",
   "execution_count": null,
   "id": "c53de0f3-6a2f-42d6-b536-faf0ab1dbacd",
   "metadata": {
    "tags": []
   },
   "outputs": [],
   "source": [
    "# make local editable packages automatically reload\n",
    "%load_ext autoreload\n",
    "%autoreload 2\n",
    "\n",
    "import os\n",
    "os.environ[\"CUDA_VISIBLE_DEVICES\"] = \"0\"\n",
    "\n",
    "import nd2\n",
    "# Import dependencies\n",
    "import numpy as np\n",
    "from cellpose_omni import models, core\n",
    "\n",
    "# This checks to see if you have set up your GPU properly.\n",
    "# CPU performance is a lot slower, but not a problem if you \n",
    "# are only processing a few images.\n",
    "use_GPU = core.use_gpu()\n",
    "print('>>> GPU activated? %d'%use_GPU)\n",
    "\n",
    "# for plotting\n",
    "import matplotlib as mpl\n",
    "import matplotlib.pyplot as plt\n",
    "mpl.rcParams['figure.dpi'] = 300\n",
    "plt.style.use('dark_background')\n",
    "%matplotlib inline"
   ]
  },
  {
   "cell_type": "code",
   "execution_count": null,
   "id": "3889d631-5d1d-432b-823a-464664c7dc47",
   "metadata": {
    "tags": []
   },
   "outputs": [],
   "source": [
    "from cellpose_omni import io, transforms\n",
    "from omnipose.utils import normalize99"
   ]
  },
  {
   "cell_type": "code",
   "execution_count": null,
   "id": "f05f2d46-ddc5-4293-aa05-2be215b9b38f",
   "metadata": {
    "tags": []
   },
   "outputs": [],
   "source": [
    "nd2_file = nd2.imread(\"../real_data/agar_pads/40x_SB6_dilute001.nd2\")"
   ]
  },
  {
   "cell_type": "code",
   "execution_count": null,
   "id": "23187564-e843-48ec-9a7b-8a8147e0148e",
   "metadata": {
    "tags": []
   },
   "outputs": [],
   "source": [
    "imgs = [x[0] for x in nd2_file]"
   ]
  },
  {
   "cell_type": "code",
   "execution_count": null,
   "id": "cfd93279-6dd6-4706-94a1-766385fe3e96",
   "metadata": {
    "tags": []
   },
   "outputs": [],
   "source": [
    "nimg = len(imgs)\n",
    "\n",
    "fig = plt.figure(figsize=[40]*2,frameon=False) # initialize figure\n",
    "for k in range(len(imgs)):\n",
    "    img = transforms.move_min_dim(imgs[k]) # move the channel dimension last\n",
    "    if len(img.shape)>2:\n",
    "        # imgs[k] = img[:,:,1] # could pick out a specific channel\n",
    "        imgs[k] = np.mean(img,axis=-1) # or just turn into grayscale \n",
    "        \n",
    "    imgs[k] = normalize99(imgs[k])\n",
    "    # imgs[k] = np.pad(imgs[k],10,'edge')"
   ]
  },
  {
   "cell_type": "code",
   "execution_count": null,
   "id": "74efd2dc-5284-4b8c-b9d9-0d00ff735241",
   "metadata": {
    "tags": []
   },
   "outputs": [],
   "source": [
    "from cellpose_omni import models\n",
    "from cellpose_omni.models import MODEL_NAMES\n",
    "model_name = 'bact_phase_omni'\n",
    "model = models.CellposeModel(gpu=use_GPU, model_type=model_name)"
   ]
  },
  {
   "cell_type": "code",
   "execution_count": null,
   "id": "5786fbe4-ba15-4396-acf7-d4de71133e83",
   "metadata": {
    "tags": []
   },
   "outputs": [],
   "source": [
    "chans = [0,0] #this means segment based on first channel, no second channel \n",
    "\n",
    "n = [-3] # make a list of integers to select which images you want to segment\n",
    "n = range(nimg) # or just segment them all \n",
    "\n",
    "# define parameters\n",
    "mask_threshold = -1\n",
    "verbose = 0 # turn on if you want to see more output \n",
    "use_gpu = use_GPU #defined above\n",
    "transparency = True # transparency in flow output\n",
    "rescale=None # give this a number if you need to upscale or downscale your images\n",
    "omni = True # we can turn off Omnipose mask reconstruction, not advised \n",
    "flow_threshold = 0 # default is .4, but only needed if there are spurious masks to clean up; slows down output\n",
    "niter = None # None lets Omnipose calculate # of Euler iterations (usually <20) but you can tune it for over/under segmentation \n",
    "resample = True #whether or not to run dynamics on rescaled grid or original grid \n",
    "cluster = True # use DBSCAN clustering\n",
    "augment = False # average the outputs from flipped (augmented) images; slower, usually not needed \n",
    "tile = False # break up image into smaller parts then stitch together\n",
    "affinity_seg = 1 #new feature, stay tuned...\n",
    "\n",
    "masks, flows, styles = model.eval([imgs[i] for i in n],\n",
    "                                  channels=chans,\n",
    "                                  rescale=rescale,\n",
    "                                  mask_threshold=mask_threshold,\n",
    "                                  transparency=transparency,\n",
    "                                  flow_threshold=flow_threshold,\n",
    "                                  niter=niter,\n",
    "                                  omni=omni,\n",
    "                                  cluster=cluster, \n",
    "                                  resample=resample,\n",
    "                                  verbose=verbose, \n",
    "                                  affinity_seg=affinity_seg,\n",
    "                                  tile=tile,\n",
    "                                  augment=augment)"
   ]
  },
  {
   "cell_type": "code",
   "execution_count": null,
   "id": "4e31a270-0a9b-4b4b-a21a-66b0c19ad8ef",
   "metadata": {
    "tags": []
   },
   "outputs": [],
   "source": [
    "from cellpose_omni import plot\n",
    "import omnipose\n",
    "\n",
    "for idx,i in enumerate(n):\n",
    "    maski = masks[idx] # get masks\n",
    "    bdi = flows[idx][-1] # get boundaries\n",
    "    flowi = flows[idx][0] # get RGB flows \n",
    "    fig = plt.figure(figsize=(12,5),frameon=False)\n",
    "    plot.show_segmentation(fig, omnipose.utils.normalize99(imgs[i]), \n",
    "                           maski, flowi, bdi, channels=chans, omni=True, bg_color=0)\n",
    "    plt.tight_layout()\n",
    "    plt.show()\n",
    "    plt.close()"
   ]
  },
  {
   "cell_type": "code",
   "execution_count": null,
   "id": "b48d08e1-6978-4aa9-b56e-bbe35463bf4a",
   "metadata": {
    "tags": []
   },
   "outputs": [],
   "source": [
    "from PIL import Image\n",
    "try:\n",
    "    os.mkdir(\"../real_data/40x_SB6_dilute001_segmented\")\n",
    "except:\n",
    "    pass\n",
    "\n",
    "[Image.fromarray(masks[x]).save(f\"../real_data/40x_SB6_dilute001_segmented/{str(x).zfill(3)}.png\") for x in range(len(imgs))]"
   ]
  },
  {
   "cell_type": "code",
   "execution_count": null,
   "id": "9590525a-7aa6-4846-9d2f-4f0ed4753ba1",
   "metadata": {},
   "outputs": [],
   "source": []
  }
 ],
 "metadata": {
  "kernelspec": {
   "display_name": "Python 3 (ipykernel)",
   "language": "python",
   "name": "python3"
  },
  "language_info": {
   "codemirror_mode": {
    "name": "ipython",
    "version": 3
   },
   "file_extension": ".py",
   "mimetype": "text/x-python",
   "name": "python",
   "nbconvert_exporter": "python",
   "pygments_lexer": "ipython3",
   "version": "3.10.9"
  }
 },
 "nbformat": 4,
 "nbformat_minor": 5
}
