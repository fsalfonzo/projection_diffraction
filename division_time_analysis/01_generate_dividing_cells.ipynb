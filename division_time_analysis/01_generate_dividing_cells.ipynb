{
 "cells": [
  {
   "cell_type": "code",
   "execution_count": null,
   "id": "d04e147f-96f1-4d92-8a5c-b3a1e08ac569",
   "metadata": {
    "tags": []
   },
   "outputs": [],
   "source": [
    "import sys\n",
    "sys.path.insert(1, '../SyMBac/') \n",
    "\n",
    "from SyMBac.drawing import raster_cell\n",
    "from SyMBac.PSF import PSF_generator\n",
    "from SyMBac.renderer import convolve_rescale\n",
    "import numpy as np\n",
    "from tqdm.auto import tqdm\n",
    "from PIL import Image\n",
    "import os\n",
    "\n",
    "from skimage.util import img_as_uint\n",
    "from skimage.measure import label"
   ]
  },
  {
   "cell_type": "code",
   "execution_count": null,
   "id": "8ffdf5c5-ef30-4b3b-84ca-a1ca6bcc4973",
   "metadata": {},
   "outputs": [],
   "source": [
    "def pad_np_arrays_to_largest_and_return_masks(cells):\n",
    "    max_height = cells[-1].shape[0]\n",
    "    new_cells = []\n",
    "    masks = []\n",
    "    for cell in cells:\n",
    "        height_diff = max_height - cell.shape[0]\n",
    "        middle_pad = np.zeros((height_diff, cell.shape[1]))\n",
    "        padded_cell = np.concatenate([cell, middle_pad])\n",
    "        padded_cell = np.pad(padded_cell, additional_pad)\n",
    "        mask = (padded_cell>0)\n",
    "        new_cells.append(padded_cell)\n",
    "        masks.append(mask)\n",
    "    new_cells = np.concatenate(new_cells, axis=1)\n",
    "    return new_cells, np.concatenate(masks, axis=1)"
   ]
  },
  {
   "cell_type": "code",
   "execution_count": null,
   "id": "5041041a-4edf-4d58-8630-6fbfd6f4bad8",
   "metadata": {},
   "outputs": [],
   "source": [
    "try:\n",
    "    os.mkdir(\"synthetic_training_data\")\n",
    "except:\n",
    "    pass"
   ]
  },
  {
   "cell_type": "code",
   "execution_count": null,
   "id": "8c61ee0d-81ba-4fa5-89b5-15a858ee82a7",
   "metadata": {},
   "outputs": [],
   "source": [
    "lengths = np.arange(5,11,1)\n",
    "widths = np.arange(1,11,1)\n",
    "densities = np.linspace(1,100, 10)\n",
    "NAs = [1.45]\n",
    "ns = [1.518]\n",
    "wavelengths = [0.45, 0.5, 0.575,  0.65]\n",
    "names = [\"blue\", \"green\", \"orange\", \"far red\"]\n",
    "\n",
    "a = 0\n",
    "for length in lengths:\n",
    "    for width in widths:\n",
    "        if length >= width*2:\n",
    "             for NA in NAs:\n",
    "                for n in ns:\n",
    "                    if n > NA:\n",
    "                        for wavelength, name in zip(wavelengths, names):\n",
    "                            a+=1"
   ]
  },
  {
   "cell_type": "code",
   "execution_count": null,
   "id": "8f5ba44b-aefe-4451-9367-e01f7fe1608d",
   "metadata": {},
   "outputs": [],
   "source": [
    "resize_amount = 1\n",
    "pix_mic_conv = 0.065 #micron/pix"
   ]
  },
  {
   "cell_type": "code",
   "execution_count": null,
   "id": "0a7d6c33-b60e-4686-a083-3c550fd05d1f",
   "metadata": {},
   "outputs": [],
   "source": [
    "additional_pad = ((60,60),(60,60))"
   ]
  },
  {
   "cell_type": "code",
   "execution_count": null,
   "id": "1d03b7a5-33f7-4c3e-9ca2-e7a49322fa15",
   "metadata": {},
   "outputs": [],
   "source": [
    "for length in tqdm(lengths):\n",
    "    for width in widths:\n",
    "        if length >= width*2:\n",
    "             for NA in NAs:\n",
    "                for n in ns:\n",
    "                    if n > NA:\n",
    "                        for wavelength, name in zip(wavelengths, names):\n",
    "                            cell_length = length #micron\n",
    "                            cell_width = width #micron\n",
    "                            raster_cell_length = cell_length/pix_mic_conv * resize_amount\n",
    "                            raster_cell_width = cell_width/pix_mic_conv * resize_amount\n",
    "\n",
    "                            cells = []\n",
    "                            for separation in np.linspace(0, raster_cell_width-1, 10):\n",
    "                                cell = raster_cell(length=raster_cell_length, width=raster_cell_width, separation=separation, pinching=True)\n",
    "                                cells.append(cell)\n",
    "\n",
    "\n",
    "                            for further_separation in np.linspace(0, raster_cell_width//2, 5):\n",
    "                                further_separation = int(further_separation)\n",
    "                                cell = cells[-1]\n",
    "                                middle_pad = np.zeros((further_separation, cell.shape[1]))\n",
    "                                cell = np.concatenate([cell[:cell.shape[0]//2,:], middle_pad, cell[cell.shape[0]//2:,:]])\n",
    "                                cells.append(cell)\n",
    "\n",
    "                            cells, masks = pad_np_arrays_to_largest_and_return_masks(cells)\n",
    "                            masks = label(masks)\n",
    "\n",
    "                            PSF = PSF_generator(\n",
    "                                radius = 150, \n",
    "                                wavelength = wavelength, \n",
    "                                NA=NA, \n",
    "                                n =n, \n",
    "                                resize_amount=resize_amount, \n",
    "                                pix_mic_conv=pix_mic_conv, \n",
    "                                apo_sigma = 10, \n",
    "                                mode=\"3d fluo\", \n",
    "                                condenser=\"Ph3\", \n",
    "                                z_height = 50\n",
    "                            )\n",
    "                            PSF.calculate_PSF()\n",
    "                            PSF.kernel = np.sum(PSF.kernel, axis=0)\n",
    "\n",
    "                            conv_cell = convolve_rescale(cells, PSF.kernel, 1, True)\n",
    "                            conv_cell = img_as_uint(conv_cell)\n",
    "\n",
    "                            Image.fromarray(conv_cell).save(f\"synthetic_training_data/{length}_{width}_{wavelength}_{NA}_{n}.png\")\n",
    "                            Image.fromarray(masks).save(f\"synthetic_training_data/{length}_{width}_{wavelength}_{NA}_{n}_masks.png\")"
   ]
  },
  {
   "cell_type": "code",
   "execution_count": null,
   "id": "c342f6ed-2698-4e2c-a2ec-9e4ee2d43e60",
   "metadata": {},
   "outputs": [],
   "source": []
  }
 ],
 "metadata": {
  "kernelspec": {
   "display_name": "Python 3 (ipykernel)",
   "language": "python",
   "name": "python3"
  },
  "language_info": {
   "codemirror_mode": {
    "name": "ipython",
    "version": 3
   },
   "file_extension": ".py",
   "mimetype": "text/x-python",
   "name": "python",
   "nbconvert_exporter": "python",
   "pygments_lexer": "ipython3",
   "version": "3.10.9"
  }
 },
 "nbformat": 4,
 "nbformat_minor": 5
}
